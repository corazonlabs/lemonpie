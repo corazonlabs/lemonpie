{
 "cells": [
  {
   "cell_type": "code",
   "execution_count": null,
   "id": "systematic-easter",
   "metadata": {},
   "outputs": [],
   "source": [
    "# default_exp setup"
   ]
  },
  {
   "cell_type": "markdown",
   "id": "together-dollar",
   "metadata": {},
   "source": [
    "# setup\n",
    "\n",
    "> Setup, global vars, etc."
   ]
  },
  {
   "cell_type": "code",
   "execution_count": null,
   "id": "finite-clearing",
   "metadata": {},
   "outputs": [
    {
     "data": {
      "text/html": [
       "<style>.container { width:85% !important; }</style>"
      ],
      "text/plain": [
       "<IPython.core.display.HTML object>"
      ]
     },
     "metadata": {},
     "output_type": "display_data"
    }
   ],
   "source": [
    "#hide\n",
    "from IPython.core.display import display, HTML\n",
    "display(HTML(\"<style>.container { width:85% !important; }</style>\"))"
   ]
  },
  {
   "cell_type": "code",
   "execution_count": null,
   "id": "international-drawing",
   "metadata": {},
   "outputs": [],
   "source": [
    "#hide\n",
    "%reload_ext autoreload\n",
    "%autoreload 2"
   ]
  },
  {
   "cell_type": "code",
   "execution_count": null,
   "id": "tracked-harmony",
   "metadata": {},
   "outputs": [],
   "source": [
    "#export\n",
    "from fastai.imports import * "
   ]
  },
  {
   "cell_type": "code",
   "execution_count": null,
   "id": "negative-heater",
   "metadata": {},
   "outputs": [],
   "source": [
    "#hide\n",
    "from nbdev.showdoc import *"
   ]
  },
  {
   "cell_type": "markdown",
   "id": "golden-waterproof",
   "metadata": {},
   "source": [
    "**Global Vars**"
   ]
  },
  {
   "cell_type": "code",
   "execution_count": null,
   "id": "characteristic-width",
   "metadata": {},
   "outputs": [],
   "source": [
    "#exports\n",
    "def get_device():\n",
    "    use_cuda = torch.cuda.is_available()\n",
    "    if use_cuda:\n",
    "        assert torch.backends.cudnn.enabled == True\n",
    "        torch.backends.cudnn.benchmark = True #Enable cuDNN auto-tuner - perf benefit for convs\n",
    "        device = torch.device(\"cuda\")\n",
    "    else:\n",
    "        device = torch.device(\"cpu\")\n",
    "    return device"
   ]
  },
  {
   "cell_type": "code",
   "execution_count": null,
   "id": "nominated-sphere",
   "metadata": {},
   "outputs": [],
   "source": [
    "#exports\n",
    "DATA_STORE  = f'{Path.home()}/code/datasets'\n",
    "LOG_STORE   = f'{Path.home()}/code/logs/lemonade'\n",
    "MODEL_STORE = f'{Path.home()}/code/models/lemonade'\n",
    "EXP_STORE   = f'{Path.home()}/code/experiments/lemonade'"
   ]
  },
  {
   "cell_type": "code",
   "execution_count": null,
   "id": "separate-electron",
   "metadata": {},
   "outputs": [],
   "source": [
    "#export\n",
    "DEVICE = get_device()\n",
    "\n",
    "PATH_1K   = f'{DATA_STORE}/synthea/1K'\n",
    "PATH_10K  = f'{DATA_STORE}/synthea/10K'\n",
    "PATH_20K  = f'{DATA_STORE}/synthea/20K'\n",
    "PATH_100K = f'{DATA_STORE}/synthea/100K'\n",
    "\n",
    "FILENAMES = ['patients', 'observations', 'allergies', 'careplans', 'medications', 'imaging_studies', 'procedures', 'conditions', 'immunizations']\n",
    "\n",
    "SYNTHEA_DATAGEN_DATES = dict({'1K':'11-16-2018', '10K':'12-19-2019', '20K':'11-5-2020', '100K':'4-4-2020', '250K':'11-16-2018'})\n",
    "\n",
    "CONDITIONS = dict({'diabetes':'44054006||START', 'stroke':'230690007||START', 'alzheimers':'26929004||START', 'coronary_heart':'53741008||START'})\n",
    "\n",
    "LABELS = ['diabetes', 'stroke', 'alzheimers', 'coronaryheart']\n",
    "\n",
    "LOG_NUMERICALIZE_EXCEP = True"
   ]
  },
  {
   "cell_type": "markdown",
   "id": "violent-contest",
   "metadata": {},
   "source": [
    "## Export -"
   ]
  },
  {
   "cell_type": "code",
   "execution_count": null,
   "id": "spatial-spirit",
   "metadata": {},
   "outputs": [
    {
     "name": "stdout",
     "output_type": "stream",
     "text": [
      "Converted 00_setup.ipynb.\n",
      "Converted 01_preprocessing_clean.ipynb.\n",
      "Converted 02_preprocessing_vocab.ipynb.\n",
      "Converted 03_preprocessing_transform.ipynb.\n",
      "Converted 04_data.ipynb.\n",
      "Converted 05_metrics.ipynb.\n",
      "Converted 06_learn.ipynb.\n",
      "Converted 07_models.ipynb.\n",
      "Converted 08_experiment.ipynb.\n",
      "Converted 09_Tmp_CNN.ipynb.\n",
      "Converted 09_Tmp_LSTM.ipynb.\n",
      "Converted index.ipynb.\n"
     ]
    }
   ],
   "source": [
    "#hide\n",
    "from nbdev.export import *\n",
    "notebook2script()"
   ]
  },
  {
   "cell_type": "code",
   "execution_count": null,
   "id": "rubber-martin",
   "metadata": {},
   "outputs": [],
   "source": []
  }
 ],
 "metadata": {
  "kernelspec": {
   "display_name": "Python 3",
   "language": "python",
   "name": "python3"
  }
 },
 "nbformat": 4,
 "nbformat_minor": 5
}
