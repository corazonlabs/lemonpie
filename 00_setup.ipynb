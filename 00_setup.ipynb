{
 "cells": [
  {
   "cell_type": "code",
   "execution_count": null,
   "id": "varying-title",
   "metadata": {},
   "outputs": [],
   "source": [
    "# default_exp setup"
   ]
  },
  {
   "cell_type": "markdown",
   "id": "emerging-parking",
   "metadata": {},
   "source": [
    "# Setup\n",
    "\n",
    "> Setup GPU, default paths & global variables."
   ]
  },
  {
   "cell_type": "code",
   "execution_count": null,
   "id": "charming-boating",
   "metadata": {},
   "outputs": [
    {
     "data": {
      "text/html": [
       "<style>.container { width:85% !important; }</style>"
      ],
      "text/plain": [
       "<IPython.core.display.HTML object>"
      ]
     },
     "metadata": {},
     "output_type": "display_data"
    }
   ],
   "source": [
    "#hide\n",
    "from IPython.core.display import display, HTML\n",
    "display(HTML(\"<style>.container { width:85% !important; }</style>\"))"
   ]
  },
  {
   "cell_type": "code",
   "execution_count": null,
   "id": "hidden-latin",
   "metadata": {},
   "outputs": [],
   "source": [
    "#hide\n",
    "%reload_ext autoreload\n",
    "%autoreload 2"
   ]
  },
  {
   "cell_type": "code",
   "execution_count": null,
   "id": "preceding-maine",
   "metadata": {},
   "outputs": [],
   "source": [
    "#export\n",
    "from fastai.imports import * "
   ]
  },
  {
   "cell_type": "code",
   "execution_count": null,
   "id": "endless-glass",
   "metadata": {},
   "outputs": [],
   "source": [
    "#hide\n",
    "from nbdev.showdoc import *"
   ]
  },
  {
   "cell_type": "markdown",
   "id": "digital-embassy",
   "metadata": {},
   "source": [
    "Every file in the library imports this, so all global set up required everywhere can be added here.\n",
    "1. Sets up device to GPU if available.\n",
    "2. Defines default paths for different stores - so that they are out of version control by default.\n",
    "3. Global scope variables - for convenience in other modules."
   ]
  },
  {
   "cell_type": "markdown",
   "id": "regular-fashion",
   "metadata": {},
   "source": [
    "## GPU"
   ]
  },
  {
   "cell_type": "code",
   "execution_count": null,
   "id": "likely-performance",
   "metadata": {},
   "outputs": [],
   "source": [
    "#exports\n",
    "def get_device():\n",
    "    use_cuda = torch.cuda.is_available()\n",
    "    if use_cuda:\n",
    "        assert torch.backends.cudnn.enabled == True\n",
    "        torch.backends.cudnn.benchmark = True #Enable cuDNN auto-tuner - perf benefit for convs\n",
    "        device = torch.device(\"cuda\")\n",
    "    else:\n",
    "        device = torch.device(\"cpu\")\n",
    "    return device"
   ]
  },
  {
   "cell_type": "markdown",
   "id": "immune-elephant",
   "metadata": {},
   "source": [
    "## Stores - Default Paths (Change These)"
   ]
  },
  {
   "cell_type": "code",
   "execution_count": null,
   "id": "intelligent-conversation",
   "metadata": {},
   "outputs": [],
   "source": [
    "#exports\n",
    "DATA_STORE  = f'{Path.home()}/code/datasets'\n",
    "LOG_STORE   = f'{Path.home()}/code/logs/lemonade'\n",
    "MODEL_STORE = f'{Path.home()}/code/models/lemonade'\n",
    "EXP_STORE   = f'{Path.home()}/code/experiments/lemonade'"
   ]
  },
  {
   "cell_type": "markdown",
   "id": "treated-quarterly",
   "metadata": {},
   "source": [
    "**Please change these paths to defaults in your specific configuration**\n",
    "\n",
    "- All of these artifacts need to be in some form of failsafe storage, but not all need to be in version control.\n",
    "- Also, some of them are likely to get big and version control might not be the ideal location (e.g. data, logs and models).\n",
    "    - Experiments on the other hand, as designed here, tend to be small-sized enough and can be stored in github or some other version control system (VCS).\n",
    "    - Each Experiment will keep track of the model it runs and saves it separately in the model store.\n",
    "    - Given the nature of the dataset in this release of the library (synthetic / Synthea), it can be easily re-generated in case of a loss.\n",
    "    \n",
    "So, its left to the user to decide which store needs to be where, depending upon your decision, change the default paths here.<br>\n",
    "**Recommendation** is to store experiments in some VCS and data & models in some type of failsafe storage; logs are used minimally and not that important (atleast in this release)."
   ]
  },
  {
   "cell_type": "markdown",
   "id": "australian-colony",
   "metadata": {},
   "source": [
    "## Global Scope Variables (Change Data Gen Dates)"
   ]
  },
  {
   "cell_type": "code",
   "execution_count": null,
   "id": "accessible-opposition",
   "metadata": {},
   "outputs": [],
   "source": [
    "#exports\n",
    "DEVICE = get_device()\n",
    "\n",
    "PATH_1K   = f'{DATA_STORE}/synthea/1K'\n",
    "PATH_10K  = f'{DATA_STORE}/synthea/10K'\n",
    "PATH_20K  = f'{DATA_STORE}/synthea/20K'\n",
    "PATH_100K = f'{DATA_STORE}/synthea/100K'\n",
    "\n",
    "FILENAMES = ['patients', 'observations', 'allergies', 'careplans', 'medications', 'imaging_studies', 'procedures', 'conditions', 'immunizations']\n",
    "\n",
    "SYNTHEA_DATAGEN_DATES = dict({'1K':'11-16-2018', '10K':'12-19-2019', '20K':'11-5-2020', '100K':'4-4-2020', '250K':'11-16-2018'})\n",
    "\n",
    "CONDITIONS = dict({'diabetes':'44054006||START', 'stroke':'230690007||START', 'alzheimers':'26929004||START', 'coronary_heart':'53741008||START'})\n",
    "\n",
    "LABELS = ['diabetes', 'stroke', 'alzheimers', 'coronaryheart']\n",
    "\n",
    "LOG_NUMERICALIZE_EXCEP = True"
   ]
  },
  {
   "cell_type": "markdown",
   "id": "injured-diabetes",
   "metadata": {},
   "source": [
    "- These are global variables used (in this initial release of the library) for convenience in other places; this will be cleaned up in future releases.\n",
    "- The only things that need changing here are the `SYNTHEA_DATAGEN_DATES`.\n",
    "    - Please update them based on when you generate a particular dataset.\n",
    "    - These dates are important to calculate patient age.\n",
    "- `CONDITIONS` and `LABELS` go hand-in-hand\n",
    "    - These are the labels we are trying to predict with the deep learning models.\n",
    "    - `CONDITIONS` is how they appear in the preprocessed dataset.\n",
    "    - `LABELS` is a convenient list used everywhere for display & ploting purposes (again will be cleaned up in future)."
   ]
  },
  {
   "cell_type": "markdown",
   "id": "iraqi-entrepreneur",
   "metadata": {},
   "source": [
    "## Export -"
   ]
  },
  {
   "cell_type": "code",
   "execution_count": null,
   "id": "aware-fishing",
   "metadata": {},
   "outputs": [
    {
     "name": "stdout",
     "output_type": "stream",
     "text": [
      "Converted 00_setup.ipynb.\n",
      "Converted 01_preprocessing_clean.ipynb.\n",
      "Converted 02_preprocessing_vocab.ipynb.\n",
      "Converted 03_preprocessing_transform.ipynb.\n",
      "Converted 04_data.ipynb.\n",
      "Converted 05_metrics.ipynb.\n",
      "Converted 06_learn.ipynb.\n",
      "Converted 07_models.ipynb.\n",
      "Converted 08_experiment.ipynb.\n",
      "Converted 09_Tmp_CNN.ipynb.\n",
      "Converted 09_Tmp_LSTM.ipynb.\n",
      "Converted index.ipynb.\n"
     ]
    }
   ],
   "source": [
    "#hide\n",
    "from nbdev.export import *\n",
    "notebook2script()"
   ]
  },
  {
   "cell_type": "code",
   "execution_count": null,
   "id": "southwest-durham",
   "metadata": {},
   "outputs": [],
   "source": []
  }
 ],
 "metadata": {
  "kernelspec": {
   "display_name": "Python 3",
   "language": "python",
   "name": "python3"
  }
 },
 "nbformat": 4,
 "nbformat_minor": 5
}
