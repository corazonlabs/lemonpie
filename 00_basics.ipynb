{
 "cells": [
  {
   "cell_type": "code",
   "execution_count": null,
   "id": "specialized-violence",
   "metadata": {},
   "outputs": [],
   "source": [
    "# default_exp basics"
   ]
  },
  {
   "cell_type": "markdown",
   "id": "cathedral-spectrum",
   "metadata": {},
   "source": [
    "# Basics\n",
    "\n",
    "> Setup GPU, default paths & global variables."
   ]
  },
  {
   "cell_type": "code",
   "execution_count": null,
   "id": "passing-split",
   "metadata": {},
   "outputs": [
    {
     "data": {
      "text/html": [
       "<style>.container { width:85% !important; }</style>"
      ],
      "text/plain": [
       "<IPython.core.display.HTML object>"
      ]
     },
     "metadata": {},
     "output_type": "display_data"
    }
   ],
   "source": [
    "#hide\n",
    "from IPython.core.display import display, HTML\n",
    "display(HTML(\"<style>.container { width:85% !important; }</style>\"))"
   ]
  },
  {
   "cell_type": "code",
   "execution_count": null,
   "id": "vulnerable-sunglasses",
   "metadata": {},
   "outputs": [],
   "source": [
    "#hide\n",
    "%reload_ext autoreload\n",
    "%autoreload 2"
   ]
  },
  {
   "cell_type": "code",
   "execution_count": null,
   "id": "empirical-chess",
   "metadata": {},
   "outputs": [],
   "source": [
    "#export\n",
    "from fastai.imports import * \n",
    "from addict import Dict\n",
    "from datetime import date"
   ]
  },
  {
   "cell_type": "code",
   "execution_count": null,
   "id": "interesting-forest",
   "metadata": {},
   "outputs": [],
   "source": [
    "#hide\n",
    "from nbdev.showdoc import *"
   ]
  },
  {
   "cell_type": "markdown",
   "id": "amazing-justice",
   "metadata": {},
   "source": [
    "Every file in the library imports this, so all global set up required everywhere can be added here.\n",
    "1. Sets up device to GPU if available.\n",
    "2. Defines default paths for different stores - so that they are out of version control by default.\n",
    "3. Global scope variables - for convenience in other modules."
   ]
  },
  {
   "cell_type": "markdown",
   "id": "criminal-delay",
   "metadata": {},
   "source": [
    "## GPU"
   ]
  },
  {
   "cell_type": "code",
   "execution_count": null,
   "id": "italian-italic",
   "metadata": {},
   "outputs": [],
   "source": [
    "#exports\n",
    "def get_device():\n",
    "    '''Checks to see if GPU is available and sets device to GPU or CPU'''\n",
    "    use_cuda = torch.cuda.is_available()\n",
    "    if use_cuda:\n",
    "        assert torch.backends.cudnn.enabled == True\n",
    "        torch.backends.cudnn.benchmark = True #Enable cuDNN auto-tuner - perf benefit for convs\n",
    "        device = torch.device(\"cuda\")\n",
    "    else:\n",
    "        device = torch.device(\"cpu\")\n",
    "    return device"
   ]
  },
  {
   "cell_type": "markdown",
   "id": "sacred-source",
   "metadata": {},
   "source": [
    "## Settings File"
   ]
  },
  {
   "cell_type": "markdown",
   "id": "embedded-montana",
   "metadata": {},
   "source": [
    "A YAML file called `settings.yaml` is created (from a template) the first time the library is used."
   ]
  },
  {
   "cell_type": "code",
   "execution_count": null,
   "id": "toxic-kitty",
   "metadata": {},
   "outputs": [],
   "source": [
    "#export\n",
    "def settings_template():\n",
    "    '''Create initial settings for library'''\n",
    "    template = {\n",
    "        'STORES' : \n",
    "        {\n",
    "            'DATA_STORE'       : f'{Path.home()}/.lemonpie/datasets',\n",
    "            'LOG_STORE'        : f'{Path.home()}/.lemonpie/logs',\n",
    "            'MODEL_STORE'      : f'{Path.home()}/.lemonpie/models',\n",
    "            'EXPERIMENT_STORE' : f'{Path.home()}/.lemonpie/experiments'\n",
    "        },\n",
    "        'FILENAMES' : ['patients', 'observations', 'allergies', 'careplans', 'medications', 'imaging_studies', 'procedures', 'conditions', 'immunizations'],\n",
    "        \n",
    "        'SYNTHEA_DATAGEN_DATES' : \n",
    "        {\n",
    "            '1K'  : date.today().strftime('%d-%m-%Y'),\n",
    "            '10K' : date.today().strftime('%d-%m-%Y'),\n",
    "            '20K' : date.today().strftime('%d-%m-%Y'),\n",
    "            '100K': date.today().strftime('%d-%m-%Y'),\n",
    "            '250K': date.today().strftime('%d-%m-%Y')\n",
    "        },\n",
    "        'CONDITIONS':\n",
    "        {\n",
    "            'diabetes': '44054006||START',\n",
    "            'stroke': '230690007||START',\n",
    "            'alzheimers': '26929004||START',\n",
    "            'coronary_heart': '53741008||START',\n",
    "            'lung_cancer': '254637007||START'\n",
    "        },\n",
    "        'LOG_NUMERICALIZE_EXCEP': True\n",
    "    }\n",
    "    \n",
    "    return template    "
   ]
  },
  {
   "cell_type": "code",
   "execution_count": null,
   "id": "demonstrated-vintage",
   "metadata": {},
   "outputs": [],
   "source": [
    "#export\n",
    "def read_settings():\n",
    "    '''Read settings file at \"~/.lemonpie/settings.yaml\", if doesnt exist, create it from template'''\n",
    "    settings_dir = f'{Path.home()}/.lemonpie'\n",
    "    settings_file = Path(f'{settings_dir}/settings.yaml')\n",
    "\n",
    "    if not settings_file.exists():\n",
    "        print('No settings file found, so creating from template ..')\n",
    "        settings = Dict(settings_template())\n",
    "        Path.mkdir(Path(settings_dir), exist_ok=True)\n",
    "        with open(settings_file, 'w') as s:\n",
    "            yaml.dump(settings.to_dict(), s, sort_keys=False)\n",
    "    else:\n",
    "        with open(settings_file, 'r') as s:\n",
    "            settings = Dict(yaml.full_load(s))\n",
    "\n",
    "    return settings"
   ]
  },
  {
   "cell_type": "markdown",
   "id": "pressing-yacht",
   "metadata": {},
   "source": [
    "## Global Scope Variables"
   ]
  },
  {
   "cell_type": "code",
   "execution_count": null,
   "id": "directed-yahoo",
   "metadata": {},
   "outputs": [
    {
     "name": "stdout",
     "output_type": "stream",
     "text": [
      "No settings file found, so creating from template ..\n"
     ]
    }
   ],
   "source": [
    "#exports\n",
    "DEVICE = get_device()\n",
    "settings = read_settings()\n",
    "\n",
    "DATA_STORE         = settings.STORES.DATA_STORE\n",
    "LOG_STORE          = settings.STORES.LOG_STORE\n",
    "MODEL_STORE        = settings.STORES.MODEL_STORE\n",
    "EXPERIMENT_STORE   = settings.STORES.EXPERIMENT_STORE\n",
    "\n",
    "PATH_1K   = f'{DATA_STORE}/synthea/1K'\n",
    "PATH_10K  = f'{DATA_STORE}/synthea/10K'\n",
    "PATH_20K  = f'{DATA_STORE}/synthea/20K'\n",
    "PATH_100K = f'{DATA_STORE}/synthea/100K'\n",
    "\n",
    "FILENAMES = settings.FILENAMES\n",
    "\n",
    "SYNTHEA_DATAGEN_DATES = settings.SYNTHEA_DATAGEN_DATES\n",
    "\n",
    "CONDITIONS = settings.CONDITIONS\n",
    "\n",
    "LOG_NUMERICALIZE_EXCEP = settings.LOG_NUMERICALIZE_EXCEP"
   ]
  },
  {
   "cell_type": "markdown",
   "id": "buried-scholarship",
   "metadata": {},
   "source": [
    "- These global variables are used for convenience in many places in the library. They can be over-ridden by passing in different values."
   ]
  },
  {
   "cell_type": "code",
   "execution_count": null,
   "id": "attractive-reward",
   "metadata": {},
   "outputs": [
    {
     "data": {
      "text/plain": [
       "{'diabetes': '44054006||START',\n",
       " 'stroke': '230690007||START',\n",
       " 'alzheimers': '26929004||START',\n",
       " 'coronary_heart': '53741008||START',\n",
       " 'lung_cancer': '254637007||START'}"
      ]
     },
     "execution_count": null,
     "metadata": {},
     "output_type": "execute_result"
    }
   ],
   "source": [
    "CONDITIONS"
   ]
  },
  {
   "cell_type": "markdown",
   "id": "floating-uniform",
   "metadata": {},
   "source": [
    "- These `CONDITIONS` are eventually transformed into **labels** that we will use to train the the deep learning models.\n",
    "    - The `CONDITIONS` dict is used in pre-processing to identify & label patients with these conditions. \n",
    "    - The final labels the models train on must be a sub-set of these. "
   ]
  },
  {
   "cell_type": "code",
   "execution_count": null,
   "id": "sharp-outreach",
   "metadata": {},
   "outputs": [
    {
     "data": {
      "text/plain": [
       "['patients',\n",
       " 'observations',\n",
       " 'allergies',\n",
       " 'careplans',\n",
       " 'medications',\n",
       " 'imaging_studies',\n",
       " 'procedures',\n",
       " 'conditions',\n",
       " 'immunizations']"
      ]
     },
     "execution_count": null,
     "metadata": {},
     "output_type": "execute_result"
    }
   ],
   "source": [
    "FILENAMES"
   ]
  },
  {
   "cell_type": "markdown",
   "id": "original-prompt",
   "metadata": {},
   "source": [
    "`FILENAMES` is the list of files in the dataset that this library current runs pre-processing on."
   ]
  },
  {
   "cell_type": "markdown",
   "id": "industrial-convertible",
   "metadata": {},
   "source": [
    "**The following 2 global variables need to be changed in the `~/.lemonpie/settings.yaml` file based on your specific needs**"
   ]
  },
  {
   "cell_type": "markdown",
   "id": "featured-haven",
   "metadata": {},
   "source": [
    "### Change `SYNTHEA_DATAGEN_DATES`"
   ]
  },
  {
   "cell_type": "code",
   "execution_count": null,
   "id": "worldwide-founder",
   "metadata": {},
   "outputs": [
    {
     "data": {
      "text/plain": [
       "{'1K': '30-03-2021',\n",
       " '10K': '30-03-2021',\n",
       " '20K': '30-03-2021',\n",
       " '100K': '30-03-2021',\n",
       " '250K': '30-03-2021'}"
      ]
     },
     "execution_count": null,
     "metadata": {},
     "output_type": "execute_result"
    }
   ],
   "source": [
    "SYNTHEA_DATAGEN_DATES"
   ]
  },
  {
   "cell_type": "markdown",
   "id": "diagnostic-peter",
   "metadata": {},
   "source": [
    "- A few sample entries are provided to serve as examples and all dates are set to the first time the library was run.\n",
    "- Please update these based on when you generate a particular dataset.\n",
    "- These dates are important to calculate patient age."
   ]
  },
  {
   "cell_type": "markdown",
   "id": "express-passage",
   "metadata": {},
   "source": [
    "### Change - Default STORE Paths"
   ]
  },
  {
   "cell_type": "code",
   "execution_count": null,
   "id": "civil-blend",
   "metadata": {},
   "outputs": [
    {
     "data": {
      "text/plain": [
       "('/home/vinod/.lemonpie/datasets',\n",
       " '/home/vinod/.lemonpie/models',\n",
       " '/home/vinod/.lemonpie/experiments',\n",
       " '/home/vinod/.lemonpie/logs')"
      ]
     },
     "execution_count": null,
     "metadata": {},
     "output_type": "execute_result"
    }
   ],
   "source": [
    "DATA_STORE, MODEL_STORE, EXPERIMENT_STORE, LOG_STORE"
   ]
  },
  {
   "cell_type": "markdown",
   "id": "median-christian",
   "metadata": {},
   "source": [
    "**Please change these paths to defaults in your specific configuration**\n",
    "\n",
    "- All of these artifacts need to be in some form of failsafe storage, but not all need to be in version control.\n",
    "- Also, some of them are likely to get big and version control might not be the ideal location (e.g. data, logs and models).\n",
    "    - Experiments on the other hand, as designed here, tend to be small-sized enough and can be stored in github or some other version control system (VCS).\n",
    "    - Each Experiment will keep track of the model it runs and saves it separately in the model store.\n",
    "    - Given the nature of the dataset in this release of the library (synthetic / Synthea), it can be easily re-generated in case of a loss.\n",
    "    \n",
    "So, its left to the user to decide which store needs to be where, depending upon your decision, change the default paths here.<br>\n",
    "**Recommendation** is to store experiments in some VCS and data & models in some type of failsafe storage; logs are used minimally and not that important (atleast in this release)."
   ]
  },
  {
   "cell_type": "markdown",
   "id": "vietnamese-distance",
   "metadata": {},
   "source": [
    "## Setup Synthea"
   ]
  },
  {
   "cell_type": "markdown",
   "id": "impossible-canvas",
   "metadata": {},
   "source": [
    "Set up Synthea so you can generate different types of synthetic EHR data per your need.<br>\n",
    "[Synthea - Wiki](https://github.com/synthetichealth/synthea/wiki) has details about the project and how to get started and generate the data.<br>\n",
    "\n",
    "Here are condensed instructions for [basic setup of Synthea](https://github.com/synthetichealth/synthea/wiki/Basic-Setup-and-Running) for getting you up and running quickly. They also have an option for a developer setup, instructions for which are on the same webpage."
   ]
  },
  {
   "cell_type": "markdown",
   "id": "single-forestry",
   "metadata": {},
   "source": [
    "### Download Synthea\n",
    "- Download the binary (from the basic setup link above) to a local directory\n",
    "    - Don't run it yet\n",
    "- Create a file in the same directory called `synthea.properties` and add the following lines into it and save it\n",
    "```\n",
    "exporter.years_of_history = 0\n",
    "exporter.fhir.export = false\n",
    "exporter.fhir.transaction_bundle = false\n",
    "exporter.hospital.fhir.export = false\n",
    "exporter.practitioner.fhir.export = false\n",
    "exporter.csv.export = true\n",
    "``` "
   ]
  },
  {
   "cell_type": "markdown",
   "id": "functional-program",
   "metadata": {},
   "source": [
    "### Generate Data\n",
    "- Once Synthea is set up, the following script will generate the data. \n",
    "- Its important to record the run dates (data generation dates each time you generate a new dataset with Synthea) as mentioned above, we will need this during preprocessing.\n",
    "    - Basic setup run command is: `java -jar synthea-with-dependencies.jar` \n",
    "    - Developer setup run command is: `./run_synthea` \n",
    "- Run with the `-p` switch to control population of patients generated as shown in examples below. \n",
    "\n",
    "**For example to generate 10,000 patients ..**\n",
    "\n",
    "`java -jar synthea-with-dependencies.jar -c synthea.properties -s 12345 -p 10000`\n",
    "- run date: 03/16/2021\n",
    "- Records: total=11833, alive=10000, dead=1833"
   ]
  },
  {
   "cell_type": "markdown",
   "id": "distinguished-private",
   "metadata": {},
   "source": [
    "### Copy Into DataStore\n",
    "- Synthea will save the generated dataset into the `output` directory in the same location (for basic setup).\n",
    "- Copy the `csv` directory to the location pointed to by the `DATASTORE` global variable\n",
    "    - for example `~/.lemonpie/datasets`\n",
    "- Rename the `csv` directory to `raw_original`, make sure the directory structure looks like this ..\n",
    "    - for 10K data - `~/.lemonpie/dataset/synthea/10K/raw_original`\n",
    "    - **Note** - Synthea outputs all csv files in a folder called `csv`; after copying into the datastore, the csv files must be in the `raw_original` folder, where this library expects it for preprocessing.\n",
    "    "
   ]
  },
  {
   "cell_type": "markdown",
   "id": "pharmaceutical-quantum",
   "metadata": {},
   "source": [
    "### Update `settings.yaml`\n",
    "- Go to your lemonpie settings file (~/.lemonpie/settings.yaml) and add an entry (or update the entry) for the dataset you just generated\n",
    "- For example for 10K data\n",
    "    - Under `SYNTHEA_DATAGEN_DATES` create the following\n",
    "    - `'10K': '12-19-2020'`"
   ]
  },
  {
   "cell_type": "markdown",
   "id": "afraid-announcement",
   "metadata": {},
   "source": [
    "## Export -"
   ]
  },
  {
   "cell_type": "code",
   "execution_count": null,
   "id": "finite-candle",
   "metadata": {},
   "outputs": [
    {
     "name": "stdout",
     "output_type": "stream",
     "text": [
      "Converted 00_basics.ipynb.\n",
      "Converted 01_preprocessing_clean.ipynb.\n",
      "Converted 02_preprocessing_vocab.ipynb.\n",
      "Converted 03_preprocessing_transform.ipynb.\n",
      "Converted 04_data.ipynb.\n",
      "Converted 05_metrics.ipynb.\n",
      "Converted 06_learn.ipynb.\n",
      "Converted 07_models.ipynb.\n",
      "Converted 08_experiment.ipynb.\n",
      "Converted 99_quick_walkthru.ipynb.\n",
      "Converted 99_running_exps.ipynb.\n",
      "Converted index.ipynb.\n"
     ]
    }
   ],
   "source": [
    "#hide\n",
    "from nbdev.export import *\n",
    "notebook2script()"
   ]
  },
  {
   "cell_type": "code",
   "execution_count": null,
   "id": "acoustic-confidentiality",
   "metadata": {},
   "outputs": [],
   "source": []
  }
 ],
 "metadata": {
  "kernelspec": {
   "display_name": "Python 3",
   "language": "python",
   "name": "python3"
  }
 },
 "nbformat": 4,
 "nbformat_minor": 5
}
