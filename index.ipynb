{
 "cells": [
  {
   "cell_type": "code",
   "execution_count": null,
   "metadata": {},
   "outputs": [],
   "source": [
    "#hide\n",
    "# from your_lib.core import *"
   ]
  },
  {
   "cell_type": "code",
   "execution_count": null,
   "metadata": {},
   "outputs": [],
   "source": [
    "#hide\n",
    "%reload_ext autoreload\n",
    "%autoreload 2"
   ]
  },
  {
   "cell_type": "markdown",
   "metadata": {},
   "source": [
    "# lemonade\n",
    "\n",
    "> An open source deep learning library for Electronic Health Record (EHR) data."
   ]
  },
  {
   "cell_type": "markdown",
   "metadata": {},
   "source": [
    "In this initial release of the library ..\n",
    "- it implements 2 deep learning models (an LSTM and a CNN) based on popular papers \n",
    "- that uses synthetic EHR data, created using the open source [Synthea Patient Generator](https://github.com/synthetichealth/synthea/wiki)\n",
    "- to predict 4 conditions that are on the [CDC's list of top chronic diseases](https://www.cdc.gov/chronicdisease/about/costs/index.htm) that contribute most to healthcare costs"
   ]
  },
  {
   "cell_type": "markdown",
   "metadata": {},
   "source": [
    "The end goal is to \n",
    "- keep adding more model implementations \n",
    "- keep adding different publicly available datasets \n",
    "- and have a leaderboard to track which models and configurations work best on these datasets"
   ]
  },
  {
   "cell_type": "markdown",
   "metadata": {},
   "source": [
    "## Install\n",
    "An installable library coming soon, for now refer to next section on how to use."
   ]
  },
  {
   "cell_type": "markdown",
   "metadata": {},
   "source": [
    "## How to use"
   ]
  },
  {
   "cell_type": "markdown",
   "metadata": {},
   "source": [
    "For now, git clone the repo and run the notebooks .. \n",
    "\n",
    "1. Git clone the repo\n",
    "    - `https://github.com/corazonlabs/lemonade.git`\n",
    "2. Create a new conda env using the `environment.yml` file\n",
    "    - `cd lemonade`\n",
    "    - `conda env create --name lemonade --file environment.yml`\n",
    "3. Read through and then run the following **Quick Start** guides to get a general idea\n",
    "    - [Quick Walkthrough](https://corazonlabs.github.io/lemonade/quick_walkthru) - notebook to run - `99_running_exps.ipynb`\n",
    "    - [Running Experiments](https://corazonlabs.github.io/lemonade/running_exps) - notebook - `99_quick_walkthru.ipynb`\n",
    "4. Setup Synthea\n",
    "    - Refer to [condensed instructions](https://corazonlabs.github.io/lemonade/setup#Setup-Synthea)\n",
    "    - Generate different datasets you like - e.g. 1K, 5K, 10K\n",
    "5. Run experiments\n",
    "    - Refer to **Detailed Docs** for customizations"
   ]
  },
  {
   "cell_type": "markdown",
   "metadata": {},
   "source": [
    "## Roadmap\n",
    "- **A leader-board to track which models and configurations work best on different publicly available datasets**.\n",
    "\n",
    "\n",
    "- Callbacks, Mixed Precision, etc\n",
    "    - Either upgrade the library to use fastai v2.\n",
    "    - Or as a minimum, build functionality for fastai-style callbacks & [PyTorch AMP](https://pytorch.org/docs/stable/amp.html).\n",
    "\n",
    "- More models\n",
    "    - Pick some of the best EHR models out there and implement them.\n",
    "    - **Ideas are welcome**.\n",
    "- More datasets\n",
    "    - eICU and MIMIC3 possibly.\n",
    "    - **Ideas are welcome**.\n",
    "- NLP on clinical notes\n",
    "    - Synthea does not have clinical notes, so this can only be done with other datasets.\n",
    "- Predicting different conditions\n",
    "    - Again different datasets will allow this - e.g. hospitalization data (length of stay, in-patient mortality), ER data, etc.\n",
    "- Integraion with Experiment management tools like W&B, Comet, etc,."
   ]
  },
  {
   "cell_type": "markdown",
   "metadata": {},
   "source": [
    "## Known Issues & Limitations"
   ]
  },
  {
   "cell_type": "markdown",
   "metadata": {},
   "source": [
    "1. `num_workers > 0` not working yet, under investigation\n",
    "    - Workaround - depending upon your GPU capacity, you can load the entire dataset on GPU pre-training with a single switch\n",
    "        - If running manually set `lazy_load_gpu=False` when creating the data object with `EHRData(.... )`\n",
    "        - If running through an Experiment config file, set it in the `experiment.yaml` file"
   ]
  },
  {
   "cell_type": "markdown",
   "metadata": {},
   "source": [
    "## References"
   ]
  },
  {
   "cell_type": "markdown",
   "metadata": {},
   "source": [
    "Synthea [Synthetic Patient Population Simulator](https://github.com/synthetichealth/synthea)"
   ]
  },
  {
   "cell_type": "markdown",
   "metadata": {},
   "source": [
    "> Jason Walonoski, Mark Kramer, Joseph Nichols, Andre Quina, Chris Moesel, Dylan Hall, Carlton Duffett, Kudakwashe Dube, Thomas Gallagher, Scott McLachlan, Synthea: An approach, method, and software mechanism for generating synthetic patients and the synthetic electronic health care record, Journal of the American Medical Informatics Association, Volume 25, Issue 3, March 2018, Pages 230–238, https://doi.org/10.1093/jamia/ocx079"
   ]
  },
  {
   "cell_type": "markdown",
   "metadata": {},
   "source": [
    "LSTM Model *based on* this paper - [Scalable and accurate deep learning for electronic health records](http://arxiv.org/abs/1801.07860)"
   ]
  },
  {
   "cell_type": "markdown",
   "metadata": {},
   "source": [
    "> Rajkomar, A., Oren, E., Chen, K. et al. Scalable and accurate deep learning with electronic health records. npj Digital Med 1, 18 (2018). https://doi.org/10.1038/s41746-018-0029-1"
   ]
  },
  {
   "cell_type": "markdown",
   "metadata": {},
   "source": [
    "CNN Model *based* on this paper - [Deepr: A Convolutional Net for Medical Records](http://arxiv.org/abs/1607.07519)"
   ]
  },
  {
   "cell_type": "markdown",
   "metadata": {},
   "source": [
    "> Nguyen, P., Tran, T., Wickramasinghe, N., & Venkatesh, S. (2017). $\\mathtt {Deepr}$: A Convolutional Net for Medical Records. IEEE Journal of Biomedical and Health Informatics, 21, 22-30."
   ]
  },
  {
   "cell_type": "code",
   "execution_count": null,
   "metadata": {},
   "outputs": [],
   "source": []
  }
 ],
 "metadata": {
  "kernelspec": {
   "display_name": "Python 3",
   "language": "python",
   "name": "python3"
  }
 },
 "nbformat": 4,
 "nbformat_minor": 2
}
