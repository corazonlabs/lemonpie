{
 "cells": [
  {
   "cell_type": "code",
   "execution_count": null,
   "metadata": {},
   "outputs": [],
   "source": [
    "#hide\n",
    "# from your_lib.core import *"
   ]
  },
  {
   "cell_type": "code",
   "execution_count": null,
   "metadata": {},
   "outputs": [],
   "source": [
    "#hide\n",
    "%reload_ext autoreload\n",
    "%autoreload 2"
   ]
  },
  {
   "cell_type": "markdown",
   "metadata": {},
   "source": [
    "# lemonade\n",
    "\n",
    "> An open source deep learning library for Electronic Health Record data."
   ]
  },
  {
   "cell_type": "markdown",
   "metadata": {},
   "source": [
    "**Work in progress** - coming soon .."
   ]
  },
  {
   "cell_type": "markdown",
   "metadata": {},
   "source": [
    "#hide\n",
    "## Install\n",
    "\n",
    "`pip install your_project_name`\n",
    "\n",
    "## How to use\n",
    "\n",
    "Fill me in please! Don't forget code examples:\n",
    "\n",
    "1+1\n",
    "\n",
    "## Roadmap\n",
    "\n",
    "- NLP on clinical notes\n",
    "- More models\n",
    "- More datasets\n",
    "    - eICU and MIMIC3 possibly\n",
    "\n",
    "## Known Issues & Limitations"
   ]
  },
  {
   "cell_type": "code",
   "execution_count": null,
   "metadata": {},
   "outputs": [],
   "source": []
  }
 ],
 "metadata": {
  "kernelspec": {
   "display_name": "Python 3",
   "language": "python",
   "name": "python3"
  }
 },
 "nbformat": 4,
 "nbformat_minor": 2
}
