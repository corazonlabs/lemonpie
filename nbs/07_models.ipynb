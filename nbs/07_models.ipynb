{
 "cells": [
  {
   "cell_type": "code",
   "execution_count": null,
   "metadata": {},
   "outputs": [],
   "source": [
    "# default_exp models"
   ]
  },
  {
   "cell_type": "code",
   "execution_count": null,
   "metadata": {},
   "outputs": [],
   "source": [
    "#all_slow"
   ]
  },
  {
   "cell_type": "markdown",
   "metadata": {},
   "source": [
    "# Models\n",
    "> Classes and helper functions for all Deep Learning models used in this library."
   ]
  },
  {
   "cell_type": "code",
   "execution_count": null,
   "metadata": {},
   "outputs": [],
   "source": [
    "#hide\n",
    "%reload_ext autoreload\n",
    "%autoreload 2\n",
    "%matplotlib inline"
   ]
  },
  {
   "cell_type": "code",
   "execution_count": null,
   "metadata": {},
   "outputs": [
    {
     "data": {
      "text/html": [
       "<style>.container { width:85% !important; }</style>"
      ],
      "text/plain": [
       "<IPython.core.display.HTML object>"
      ]
     },
     "metadata": {},
     "output_type": "display_data"
    }
   ],
   "source": [
    "#hide\n",
    "from IPython.core.display import display, HTML\n",
    "display(HTML(\"<style>.container { width:85% !important; }</style>\"))"
   ]
  },
  {
   "cell_type": "code",
   "execution_count": null,
   "metadata": {},
   "outputs": [],
   "source": [
    "#export\n",
    "from lemonpie.basics import * \n",
    "from lemonpie.preprocessing.vocab import * #for loading vocabs\n",
    "from lemonpie.preprocessing.transform import * #for loading ptlist thru EHRData\n",
    "from lemonpie.data import * #for EHRData\n",
    "from lemonpie.learn import * #for fit/predict stuff\n",
    "from lemonpie.metrics import * #for auroc_score\n",
    "from fastai.imports import *"
   ]
  },
  {
   "cell_type": "code",
   "execution_count": null,
   "metadata": {},
   "outputs": [],
   "source": [
    "import pytorch_lightning as pl\n",
    "from torchmetrics import MetricCollection, AUROC, Accuracy"
   ]
  },
  {
   "cell_type": "code",
   "execution_count": null,
   "metadata": {},
   "outputs": [],
   "source": [
    "#hide\n",
    "from nbdev.showdoc import *"
   ]
  },
  {
   "cell_type": "code",
   "execution_count": null,
   "metadata": {},
   "outputs": [
    {
     "data": {
      "text/plain": [
       "device(type='cuda')"
      ]
     },
     "execution_count": null,
     "metadata": {},
     "output_type": "execute_result"
    }
   ],
   "source": [
    "DEVICE"
   ]
  },
  {
   "cell_type": "markdown",
   "metadata": {},
   "source": [
    "## Dropouts "
   ]
  },
  {
   "cell_type": "markdown",
   "metadata": {},
   "source": [
    "This is the `RNNDropout` from fast.ai renamed as `InputDropout`\n",
    "- [docs](https://docs.fast.ai/text.models.awdlstm.html) \n",
    "- [source](https://github.com/fastai/fastai/blob/master/fastai/text/models/awdlstm.py)"
   ]
  },
  {
   "cell_type": "code",
   "execution_count": null,
   "metadata": {},
   "outputs": [],
   "source": [
    "#export\n",
    "def dropout_mask(x, sz, p):\n",
    "    '''Dropout mask as described in fast.ai'''\n",
    "    return x.new(*sz).bernoulli_(1-p).div_(1-p)\n",
    "\n",
    "class InputDropout(nn.Module):\n",
    "    '''InputDropout - same as RNNDropout described in fast.ai'''\n",
    "    def __init__(self, p=0.5):\n",
    "        super().__init__()\n",
    "        self.p=p\n",
    "\n",
    "    def forward(self, x):\n",
    "        if not self.training or self.p == 0.: return x\n",
    "        m = dropout_mask(x.data, (x.size(0), 1, x.size(2)), self.p)\n",
    "        return x * m"
   ]
  },
  {
   "cell_type": "code",
   "execution_count": null,
   "metadata": {},
   "outputs": [
    {
     "data": {
      "text/plain": [
       "(tensor([[[-1.1583,  0.3838, -0.3501,  1.1747, -0.1508],\n",
       "          [-1.1134, -0.4544,  0.5217,  0.2294, -1.3326],\n",
       "          [ 0.5864,  1.0036, -0.7328,  0.9564,  0.5901]],\n",
       " \n",
       "         [[ 0.2091, -0.4427,  2.1747,  0.3313,  1.7177],\n",
       "          [-0.5510, -0.4148, -0.1650,  0.5621,  0.1885],\n",
       "          [ 0.9885, -1.0914, -0.9183,  0.4510,  0.7438]]]),\n",
       " tensor([[[0., 0., 4., 0., 0.]],\n",
       " \n",
       "         [[0., 4., 4., 4., 4.]]]),\n",
       " tensor([[[-0.0000,  0.0000, -1.4002,  0.0000, -0.0000],\n",
       "          [-0.0000, -0.0000,  2.0869,  0.0000, -0.0000],\n",
       "          [ 0.0000,  0.0000, -2.9313,  0.0000,  0.0000]],\n",
       " \n",
       "         [[ 0.0000, -1.7708,  8.6988,  1.3251,  6.8710],\n",
       "          [-0.0000, -1.6592, -0.6598,  2.2485,  0.7540],\n",
       "          [ 0.0000, -4.3657, -3.6730,  1.8041,  2.9752]]]))"
      ]
     },
     "execution_count": null,
     "metadata": {},
     "output_type": "execute_result"
    }
   ],
   "source": [
    "x = torch.randn(2,3,5) #bs=2, seq_len(bptt)=3, x(emb width)=5\n",
    "mask = dropout_mask(x, (2,1,5), 0.75)\n",
    "x, mask, x*mask"
   ]
  },
  {
   "cell_type": "code",
   "execution_count": null,
   "metadata": {},
   "outputs": [
    {
     "data": {
      "text/plain": [
       "(tensor(2.1082), tensor(2.5772), tensor(0.8680))"
      ]
     },
     "execution_count": null,
     "metadata": {},
     "output_type": "execute_result"
    }
   ],
   "source": [
    "mask.std(), (x*mask).std(), x.std()"
   ]
  },
  {
   "cell_type": "code",
   "execution_count": null,
   "metadata": {},
   "outputs": [
    {
     "data": {
      "text/plain": [
       "(tensor(2.), tensor(0.3435), tensor(0.1312))"
      ]
     },
     "execution_count": null,
     "metadata": {},
     "output_type": "execute_result"
    }
   ],
   "source": [
    "mask.mean(), (x*mask).mean(), x.mean()"
   ]
  },
  {
   "cell_type": "code",
   "execution_count": null,
   "metadata": {},
   "outputs": [
    {
     "data": {
      "text/plain": [
       "(tensor([[[-0.1686, -0.0883, -0.0233, -0.0695,  0.3516],\n",
       "          [-0.5554,  0.8945, -0.2569, -0.5574, -0.1328],\n",
       "          [-1.6169,  0.2617,  1.7713,  0.4762,  0.7338]],\n",
       " \n",
       "         [[ 0.6102,  0.9622,  0.9723, -0.8676,  0.1010],\n",
       "          [ 1.2918, -0.3752,  0.3506, -0.2441, -1.2803],\n",
       "          [ 0.4610,  1.6359,  1.3235,  0.9010, -0.8764]]]),\n",
       " tensor([[[-0.0000, -0.1262, -0.0000, -0.0992,  0.5022],\n",
       "          [-0.0000,  1.2779, -0.0000, -0.7962, -0.1896],\n",
       "          [-0.0000,  0.3738,  0.0000,  0.6803,  1.0483]],\n",
       " \n",
       "         [[ 0.8717,  1.3746,  1.3890, -1.2395,  0.1443],\n",
       "          [ 1.8454, -0.5361,  0.5009, -0.3487, -1.8289],\n",
       "          [ 0.6585,  2.3370,  1.8907,  1.2871, -1.2520]]]))"
      ]
     },
     "execution_count": null,
     "metadata": {},
     "output_type": "execute_result"
    }
   ],
   "source": [
    "dp = InputDropout(0.3)\n",
    "tst_input = torch.randn(2,3,5)\n",
    "tst_input, dp(tst_input)"
   ]
  },
  {
   "cell_type": "code",
   "execution_count": null,
   "metadata": {},
   "outputs": [
    {
     "data": {
      "text/plain": [
       "(tensor(0.8287), tensor(1.1741))"
      ]
     },
     "execution_count": null,
     "metadata": {},
     "output_type": "execute_result"
    }
   ],
   "source": [
    "tst_input.std(), dp(tst_input).std()"
   ]
  },
  {
   "cell_type": "markdown",
   "metadata": {},
   "source": [
    "## Linear Layers"
   ]
  },
  {
   "cell_type": "code",
   "execution_count": null,
   "metadata": {},
   "outputs": [],
   "source": [
    "#export\n",
    "def linear_layer(in_features, out_features, bn=False, dropout_p=0.0):\n",
    "    '''Create a single linear layer'''\n",
    "    layer = [nn.Linear(in_features, out_features)]\n",
    "    if bn: layer.append(nn.BatchNorm1d(out_features))\n",
    "    layer.append(nn.ReLU(inplace=True))\n",
    "    layer.append(nn.Dropout(dropout_p))\n",
    "    return layer\n",
    "\n",
    "def create_linear_layers(in_features_start, num_layers, bn=False, dropout_p=0.0):\n",
    "    '''Create linear layers'''\n",
    "    layers = []\n",
    "    \n",
    "    for l in range(num_layers):    \n",
    "\n",
    "        in_features = in_features_start if l==0 else out_features\n",
    "\n",
    "        out_features = in_features * 2\n",
    "        amp_roundup, _ = multiple_of_8(out_features)\n",
    "        out_features += amp_roundup      \n",
    "        \n",
    "        layers.extend(linear_layer(in_features, out_features, bn, dropout_p))\n",
    "\n",
    "    return out_features, nn.Sequential(*layers)"
   ]
  },
  {
   "cell_type": "code",
   "execution_count": null,
   "metadata": {},
   "outputs": [],
   "source": [
    "out, m = create_linear_layers(208, 4, bn=True)"
   ]
  },
  {
   "cell_type": "code",
   "execution_count": null,
   "metadata": {},
   "outputs": [
    {
     "data": {
      "text/plain": [
       "(Sequential(\n",
       "   (0): Linear(in_features=208, out_features=416, bias=True)\n",
       "   (1): BatchNorm1d(416, eps=1e-05, momentum=0.1, affine=True, track_running_stats=True)\n",
       "   (2): ReLU(inplace=True)\n",
       "   (3): Dropout(p=0.0, inplace=False)\n",
       "   (4): Linear(in_features=416, out_features=832, bias=True)\n",
       "   (5): BatchNorm1d(832, eps=1e-05, momentum=0.1, affine=True, track_running_stats=True)\n",
       "   (6): ReLU(inplace=True)\n",
       "   (7): Dropout(p=0.0, inplace=False)\n",
       "   (8): Linear(in_features=832, out_features=1664, bias=True)\n",
       "   (9): BatchNorm1d(1664, eps=1e-05, momentum=0.1, affine=True, track_running_stats=True)\n",
       "   (10): ReLU(inplace=True)\n",
       "   (11): Dropout(p=0.0, inplace=False)\n",
       "   (12): Linear(in_features=1664, out_features=3328, bias=True)\n",
       "   (13): BatchNorm1d(3328, eps=1e-05, momentum=0.1, affine=True, track_running_stats=True)\n",
       "   (14): ReLU(inplace=True)\n",
       "   (15): Dropout(p=0.0, inplace=False)\n",
       " ),\n",
       " 3328)"
      ]
     },
     "execution_count": null,
     "metadata": {},
     "output_type": "execute_result"
    }
   ],
   "source": [
    "m, out"
   ]
  },
  {
   "cell_type": "markdown",
   "metadata": {},
   "source": [
    "## `EHR_LSTM`"
   ]
  },
  {
   "cell_type": "markdown",
   "metadata": {},
   "source": [
    "Based on this paper<br>\n",
    "[Rajkomar, A., Oren, E., Chen, K. et al. Scalable and accurate deep learning with electronic health records. npj Digital Med 1, 18 (2018)](https://doi.org/10.1038/s41746-018-0029-1)"
   ]
  },
  {
   "cell_type": "code",
   "execution_count": null,
   "metadata": {},
   "outputs": [],
   "source": [
    "#export\n",
    "def init_lstm(m, initrange, zero_bn=False):\n",
    "    '''Initialize LSTM'''\n",
    "    if isinstance(m, (nn.Embedding, nn.EmbeddingBag)): m.weight.data.uniform_(-initrange, initrange)\n",
    "    if isinstance(m, (nn.LSTM, nn.Linear)): \n",
    "        for name, param in m.named_parameters():\n",
    "                if 'bias' in name:     \n",
    "                    nn.init.constant_(param, 0.0)\n",
    "                elif 'weight' in name: \n",
    "                    nn.init.kaiming_normal_(param)\n",
    "    if isinstance(m, (nn.BatchNorm1d)): nn.init.constant_(m.weight, 0. if zero_bn else 1.)\n",
    "    for l in m.children(): init_lstm(l, initrange, zero_bn)"
   ]
  },
  {
   "cell_type": "code",
   "execution_count": null,
   "metadata": {},
   "outputs": [],
   "source": [
    "#export\n",
    "from fastai.layers import BatchNorm1dFlat\n",
    "class EHR_LSTM(nn.Module):\n",
    "    '''Based on LSTM described in this paper - https://arxiv.org/abs/1801.07860''' \n",
    "                         \n",
    "    def __init__(self, demograph_dims, rec_dims, demograph_wd, rec_wd, num_labels, lstm_layers=4, linear_layers=4, \n",
    "                 initrange=0.3, bn=False, input_drp=0.3, lstm_drp=0.3, linear_drp=0.3, zero_bn=False):\n",
    "        \n",
    "        super().__init__()\n",
    "        \n",
    "        self.embs  = nn.ModuleList([nn.Embedding(*dim) for dim in demograph_dims])\n",
    "        self.embgs = nn.ModuleList([nn.EmbeddingBag(*dim) for dim in rec_dims])\n",
    "        \n",
    "        self.rec_wd        = rec_wd      \n",
    "        self.demograph_wd  = demograph_wd\n",
    "        self.nh            = rec_wd    \n",
    "        self.lstm_layers   = lstm_layers\n",
    "        self.bn            = bn\n",
    "        self.amp_pad, _    = multiple_of_8(demograph_wd + 1)\n",
    "        lin_features_start = (demograph_wd + 1 + self.amp_pad) + rec_wd     # +1 for age_now\n",
    "\n",
    "        \n",
    "        self.input_dp = InputDropout(input_drp)\n",
    "        self.lstm     = nn.LSTM(input_size=self.nh, hidden_size=self.nh, num_layers=lstm_layers, batch_first=True, dropout=lstm_drp)\n",
    "        if bn: self.lstm_bn = BatchNorm1dFlat(self.nh) #fastai - `nn.BatchNorm1d`, but first flattens leading dimensions\n",
    "        out, self.lin = create_linear_layers(lin_features_start, linear_layers, bn, linear_drp)\n",
    "        self.lin_o    = nn.Linear(out, num_labels)     \n",
    "\n",
    "        init_lstm(self, initrange, zero_bn)\n",
    "\n",
    "            \n",
    "    def get_embs(self, ptbatch_recs, ptbatch_demogs, x):\n",
    "        for p in range(len(x)): #for the batch of pts\n",
    "            ptbatch_recs[p] = torch.cat((self.embgs[0](x[p].obs_nums,x[p].obs_offsts), \n",
    "                                         self.embgs[1](x[p].alg_nums,x[p].alg_offsts),\n",
    "                                         self.embgs[2](x[p].crpl_nums,x[p].crpl_offsts),\n",
    "                                         self.embgs[3](x[p].med_nums,x[p].med_offsts),\n",
    "                                         self.embgs[4](x[p].img_nums,x[p].img_offsts),\n",
    "                                         self.embgs[5](x[p].proc_nums,x[p].proc_offsts),\n",
    "                                         self.embgs[6](x[p].cnd_nums,x[p].cnd_offsts),\n",
    "                                         self.embgs[7](x[p].imm_nums,x[p].imm_offsts)),\n",
    "                                        dim=1) #for the entire age span, example all 24 yrs\n",
    "            \n",
    "            ptbatch_demogs[p] = torch.cat((self.embs[0](x[p].demographics[0]), \n",
    "                                           self.embs[1](x[p].demographics[1]),\n",
    "                                           self.embs[2](x[p].demographics[2]),\n",
    "                                           self.embs[3](x[p].demographics[3]),\n",
    "                                           self.embs[4](x[p].demographics[4]),\n",
    "                                           self.embs[5](x[p].demographics[5]),\n",
    "                                           self.embs[6](x[p].demographics[6]),\n",
    "                                           self.embs[7](x[p].demographics[7]),\n",
    "                                           self.embs[8](x[p].demographics[8]),\n",
    "                                           self.embs[9](x[p].demographics[9]),\n",
    "                                           self.embs[10](x[p].demographics[10]),\n",
    "                                           x[p].age_now,\n",
    "                                           torch.zeros(self.amp_pad, device=DEVICE) )) \n",
    "\n",
    "        return ptbatch_recs, ptbatch_demogs\n",
    "    \n",
    "    def forward(self, x):\n",
    "        \n",
    "        bs   = len(x)\n",
    "        bptt = len(x[0].obs_offsts)\n",
    "        h    = torch.zeros(self.lstm_layers,bs,self.nh, device=DEVICE)\n",
    "        \n",
    "        ptbatch_recs   = torch.empty(bs,bptt,self.rec_wd, device=DEVICE)\n",
    "        ptbatch_demogs = torch.empty(bs,self.demograph_wd+1+self.amp_pad, device=DEVICE)\n",
    "        ptbatch_recs, ptbatch_demogs = self.get_embs(ptbatch_recs, ptbatch_demogs, x)\n",
    "        \n",
    "        ptbatch_recs = self.input_dp(ptbatch_recs)                                     #apply input dropout\n",
    "        \n",
    "        res,_ = self.lstm(ptbatch_recs, (h,h))\n",
    "        res   = self.lstm_bn(res[:,-1]) if self.bn else res[:,-1]                      #lstm output\n",
    "        res   = self.lin(torch.cat((res, ptbatch_demogs), dim=1))                      #concat demographics + send thru linear lyrs\n",
    "        out   = self.lin_o(res)\n",
    "\n",
    "        return out"
   ]
  },
  {
   "cell_type": "code",
   "execution_count": null,
   "metadata": {},
   "outputs": [],
   "source": [
    "# Lightning\n",
    "from fastai.layers import BatchNorm1dFlat\n",
    "class EHR_LSTM_Pl(pl.LightningModule):\n",
    "    '''Based on LSTM described in this paper - https://arxiv.org/abs/1801.07860''' \n",
    "                         \n",
    "    def __init__(self, demograph_dims, rec_dims, demograph_wd, rec_wd, num_labels, loss_fns, optim, base_lr,\n",
    "    lstm_layers=4, linear_layers=4, initrange=0.3, bn=False, input_drp=0.3, lstm_drp=0.3, linear_drp=0.3, zero_bn=False):\n",
    "        \n",
    "        super().__init__()\n",
    "        self.save_hyperparameters()\n",
    "        \n",
    "        ## args\n",
    "        self.rec_wd        = rec_wd      \n",
    "        self.demograph_wd  = demograph_wd\n",
    "        self.nh            = rec_wd    \n",
    "        self.lstm_layers   = lstm_layers\n",
    "        self.bn            = bn\n",
    "        self.amp_pad, _    = multiple_of_8(demograph_wd + 1)\n",
    "        lin_features_start = (demograph_wd + 1 + self.amp_pad) + rec_wd     # +1 for age_now\n",
    "        self.loss_fns = loss_fns\n",
    "        self.optim = optim\n",
    "        self.base_lr = base_lr\n",
    "\n",
    "        ## model\n",
    "        self.embs  = nn.ModuleList([nn.Embedding(*dim) for dim in demograph_dims])\n",
    "        self.embgs = nn.ModuleList([nn.EmbeddingBag(*dim) for dim in rec_dims])\n",
    "\n",
    "        self.input_dp = InputDropout(input_drp)\n",
    "        self.lstm     = nn.LSTM(input_size=self.nh, hidden_size=self.nh, num_layers=lstm_layers, batch_first=True, dropout=lstm_drp)\n",
    "        if bn: self.lstm_bn = BatchNorm1dFlat(self.nh) #fastai - `nn.BatchNorm1d`, but first flattens leading dimensions\n",
    "        out, self.lin = create_linear_layers(lin_features_start, linear_layers, bn, linear_drp)\n",
    "        self.lin_o    = nn.Linear(out, num_labels)     \n",
    "\n",
    "        init_lstm(self, initrange, zero_bn)\n",
    "        \n",
    "        ## metrics\n",
    "        metrics = MetricCollection(\n",
    "            [\n",
    "                # Accuracy(),\n",
    "                AUROC(num_labels),\n",
    "                # Recall(),\n",
    "                # Precision(),\n",
    "                # AveragePrecision(num_classes)\n",
    "            ]\n",
    "        )\n",
    "        self.train_metrics = metrics.clone(prefix='train/')\n",
    "        self.valid_metrics = metrics.clone(prefix='valid/')\n",
    "        self.test_metrics = metrics.clone(prefix='test/')\n",
    "\n",
    "            \n",
    "    def get_embs(self, ptbatch_recs, ptbatch_demogs, x):\n",
    "        for p in range(len(x)): #for the batch of pts\n",
    "            ptbatch_recs[p] = torch.cat((self.embgs[0](x[p].obs_nums,x[p].obs_offsts), \n",
    "                                         self.embgs[1](x[p].alg_nums,x[p].alg_offsts),\n",
    "                                         self.embgs[2](x[p].crpl_nums,x[p].crpl_offsts),\n",
    "                                         self.embgs[3](x[p].med_nums,x[p].med_offsts),\n",
    "                                         self.embgs[4](x[p].img_nums,x[p].img_offsts),\n",
    "                                         self.embgs[5](x[p].proc_nums,x[p].proc_offsts),\n",
    "                                         self.embgs[6](x[p].cnd_nums,x[p].cnd_offsts),\n",
    "                                         self.embgs[7](x[p].imm_nums,x[p].imm_offsts)),\n",
    "                                        dim=1) #for the entire age span, example all 24 yrs\n",
    "            \n",
    "            ptbatch_demogs[p] = torch.cat((self.embs[0](x[p].demographics[0]), \n",
    "                                           self.embs[1](x[p].demographics[1]),\n",
    "                                           self.embs[2](x[p].demographics[2]),\n",
    "                                           self.embs[3](x[p].demographics[3]),\n",
    "                                           self.embs[4](x[p].demographics[4]),\n",
    "                                           self.embs[5](x[p].demographics[5]),\n",
    "                                           self.embs[6](x[p].demographics[6]),\n",
    "                                           self.embs[7](x[p].demographics[7]),\n",
    "                                           self.embs[8](x[p].demographics[8]),\n",
    "                                           self.embs[9](x[p].demographics[9]),\n",
    "                                           self.embs[10](x[p].demographics[10]),\n",
    "                                           x[p].age_now,\n",
    "                                           torch.zeros(self.amp_pad, device=DEVICE) )) \n",
    "\n",
    "        return ptbatch_recs, ptbatch_demogs\n",
    "    \n",
    "    def forward(self, x):\n",
    "        \n",
    "        bs   = len(x)\n",
    "        bptt = len(x[0].obs_offsts)\n",
    "        h    = torch.zeros(self.lstm_layers,bs,self.nh, device=DEVICE)\n",
    "        \n",
    "        ptbatch_recs   = torch.empty(bs,bptt,self.rec_wd, device=DEVICE)\n",
    "        ptbatch_demogs = torch.empty(bs,self.demograph_wd+1+self.amp_pad, device=DEVICE)\n",
    "        ptbatch_recs, ptbatch_demogs = self.get_embs(ptbatch_recs, ptbatch_demogs, x)\n",
    "        \n",
    "        ptbatch_recs = self.input_dp(ptbatch_recs)                                     #apply input dropout\n",
    "        \n",
    "        res,_ = self.lstm(ptbatch_recs, (h,h))\n",
    "        res   = self.lstm_bn(res[:,-1]) if self.bn else res[:,-1]                      #lstm output\n",
    "        res   = self.lin(torch.cat((res, ptbatch_demogs), dim=1))                      #concat demographics + send thru linear lyrs\n",
    "        out   = self.lin_o(res)\n",
    "\n",
    "        return out\n",
    "\n",
    "    def training_step(self, batch, batch_idx):\n",
    "        xb, yb = batch\n",
    "        xb, yb = [x.to_gpu(non_block=True) for x in xb], yb.to(DEVICE, non_blocking=True)\n",
    "        y_hat  = self(xb)\n",
    "        train_loss = self.loss_fns['train'](y_hat, yb)\n",
    "\n",
    "        self.log('train_loss', train_loss, on_step=True, on_epoch=True)\n",
    "        self.train_metrics.update(y_hat, yb.int())\n",
    "        self.log_dict(self.train_metrics.compute(), on_step=False, on_epoch=True)\n",
    "\n",
    "        return train_loss\n",
    "\n",
    "    def validation_step(self, batch, batch_idx):\n",
    "        xb, yb = batch\n",
    "        xb, yb = [x.to_gpu(non_block=True) for x in xb], yb.to(DEVICE, non_blocking=True)\n",
    "        y_hat  = self(xb)\n",
    "        valid_loss = self.loss_fns['valid'](y_hat, yb)\n",
    "\n",
    "        self.log('valid_loss', valid_loss, on_step=True, on_epoch=True)\n",
    "        self.valid_metrics.update(y_hat, yb.int())\n",
    "        self.log_dict(self.valid_metrics.compute(), on_step=False, on_epoch=True)\n",
    "\n",
    "        return valid_loss\n",
    "\n",
    "    def configure_optimizers(self):\n",
    "        # optimizer\n",
    "        if self.optim == 'adam':\n",
    "            optimizer = torch.optim.Adam(self.parameters(), lr=self.base_lr)\n",
    "        else:\n",
    "            optimizer = torch.optim.SGD(self.parameters(), lr=1e-2, momentum=0.9, weight_decay=1e-2)\n",
    "        \n",
    "        # scheduler\n",
    "        lr_scheduler = torch.optim.lr_scheduler.MultiStepLR(optimizer, milestones=[5, 8, 10, 12, 14, 16, 18, 20], gamma=0.9)\n",
    "\n",
    "        return {\n",
    "            \"optimizer\": optimizer,\n",
    "            \"lr_scheduler\": lr_scheduler,\n",
    "        }"
   ]
  },
  {
   "cell_type": "code",
   "execution_count": null,
   "metadata": {},
   "outputs": [],
   "source": [
    "d = torch.ones(6, 10+1)"
   ]
  },
  {
   "cell_type": "code",
   "execution_count": null,
   "metadata": {},
   "outputs": [
    {
     "data": {
      "text/plain": [
       "tensor([[1., 1., 1., 1., 1., 1., 1., 1., 1., 1., 1.],\n",
       "        [1., 1., 1., 1., 1., 1., 1., 1., 1., 1., 1.],\n",
       "        [1., 1., 1., 1., 1., 1., 1., 1., 1., 1., 1.],\n",
       "        [1., 1., 1., 1., 1., 1., 1., 1., 1., 1., 1.],\n",
       "        [1., 1., 1., 1., 1., 1., 1., 1., 1., 1., 1.],\n",
       "        [1., 1., 1., 1., 1., 1., 1., 1., 1., 1., 1.]])"
      ]
     },
     "execution_count": null,
     "metadata": {},
     "output_type": "execute_result"
    }
   ],
   "source": [
    "d"
   ]
  },
  {
   "cell_type": "code",
   "execution_count": null,
   "metadata": {},
   "outputs": [
    {
     "data": {
      "text/plain": [
       "torch.Size([6, 11])"
      ]
     },
     "execution_count": null,
     "metadata": {},
     "output_type": "execute_result"
    }
   ],
   "source": [
    "d.size()"
   ]
  },
  {
   "cell_type": "code",
   "execution_count": null,
   "metadata": {},
   "outputs": [
    {
     "data": {
      "text/plain": [
       "(5, -3)"
      ]
     },
     "execution_count": null,
     "metadata": {},
     "output_type": "execute_result"
    }
   ],
   "source": [
    "multiple_of_8(11)"
   ]
  },
  {
   "cell_type": "code",
   "execution_count": null,
   "metadata": {},
   "outputs": [
    {
     "data": {
      "text/plain": [
       "torch.Size([6, 5])"
      ]
     },
     "execution_count": null,
     "metadata": {},
     "output_type": "execute_result"
    }
   ],
   "source": [
    "pad = torch.zeros(6,5)\n",
    "pad.size()"
   ]
  },
  {
   "cell_type": "code",
   "execution_count": null,
   "metadata": {},
   "outputs": [
    {
     "data": {
      "text/plain": [
       "tensor([[0., 0., 0., 0., 0.],\n",
       "        [0., 0., 0., 0., 0.],\n",
       "        [0., 0., 0., 0., 0.],\n",
       "        [0., 0., 0., 0., 0.],\n",
       "        [0., 0., 0., 0., 0.],\n",
       "        [0., 0., 0., 0., 0.]])"
      ]
     },
     "execution_count": null,
     "metadata": {},
     "output_type": "execute_result"
    }
   ],
   "source": [
    "pad"
   ]
  },
  {
   "cell_type": "code",
   "execution_count": null,
   "metadata": {},
   "outputs": [],
   "source": [
    "d1 = torch.cat(( d[0], torch.zeros(5) ))"
   ]
  },
  {
   "cell_type": "code",
   "execution_count": null,
   "metadata": {},
   "outputs": [
    {
     "data": {
      "text/plain": [
       "tensor([1., 1., 1., 1., 1., 1., 1., 1., 1., 1., 1., 0., 0., 0., 0., 0.])"
      ]
     },
     "execution_count": null,
     "metadata": {},
     "output_type": "execute_result"
    }
   ],
   "source": [
    "d1"
   ]
  },
  {
   "cell_type": "markdown",
   "metadata": {},
   "source": [
    "**Load Data**"
   ]
  },
  {
   "cell_type": "code",
   "execution_count": null,
   "metadata": {},
   "outputs": [
    {
     "data": {
      "text/plain": [
       "'04-01-2021'"
      ]
     },
     "execution_count": null,
     "metadata": {},
     "output_type": "execute_result"
    }
   ],
   "source": [
    "SYNTHEA_DATAGEN_DATES['1K']"
   ]
  },
  {
   "cell_type": "markdown",
   "metadata": {},
   "source": [
    "Creating patient data from age 20 years old to 30 years old in months."
   ]
  },
  {
   "cell_type": "code",
   "execution_count": null,
   "metadata": {},
   "outputs": [
    {
     "name": "stdout",
     "output_type": "stream",
     "text": [
      "Since data is pre-cleaned, skipping Cleaning, Splitting and Vocab-creation\n",
      "------------------- Creating patient lists -------------------\n",
      "702 total patients completed, saved patient list to /home/vinod/.lemonpie/datasets/synthea/1K/processed/months_240_plus_120/train\n",
      "234 total patients completed, saved patient list to /home/vinod/.lemonpie/datasets/synthea/1K/processed/months_240_plus_120/valid\n",
      "235 total patients completed, saved patient list to /home/vinod/.lemonpie/datasets/synthea/1K/processed/months_240_plus_120/test\n"
     ]
    }
   ],
   "source": [
    "preprocess_ehr_dataset(PATH_1K, SYNTHEA_DATAGEN_DATES['1K'], conditions_dict=CONDITIONS, age_start=240, age_range=120, start_is_date=False, age_in_months=True)"
   ]
  },
  {
   "cell_type": "code",
   "execution_count": null,
   "metadata": {},
   "outputs": [
    {
     "data": {
      "text/plain": [
       "dict_keys(['diabetes', 'stroke', 'alzheimers', 'coronary_heart', 'lung_cancer', 'breast_cancer', 'rheumatoid_arthritis', 'epilepsy'])"
      ]
     },
     "execution_count": null,
     "metadata": {},
     "output_type": "execute_result"
    }
   ],
   "source": [
    "CONDITIONS.keys()"
   ]
  },
  {
   "cell_type": "code",
   "execution_count": null,
   "metadata": {},
   "outputs": [],
   "source": [
    "labels = ['diabetes', 'stroke', 'alzheimers', 'coronary_heart', 'breast_cancer', 'epilepsy']"
   ]
  },
  {
   "cell_type": "code",
   "execution_count": null,
   "metadata": {},
   "outputs": [],
   "source": [
    "ehr_1K_data = EHRData(PATH_1K, labels, age_start=240, age_range=120, start_is_date=False, age_in_months=True, lazy_load_gpu=True)"
   ]
  },
  {
   "cell_type": "code",
   "execution_count": null,
   "metadata": {},
   "outputs": [],
   "source": [
    "demograph_dims, rec_dims, demograph_dims_wd, rec_dims_wd = get_all_emb_dims(EhrVocabList.load(PATH_1K))"
   ]
  },
  {
   "cell_type": "code",
   "execution_count": null,
   "metadata": {},
   "outputs": [
    {
     "name": "stdout",
     "output_type": "stream",
     "text": [
      "                                                                   \r"
     ]
    }
   ],
   "source": [
    "train_dl, valid_dl, train_pos_wts, valid_pos_wts = ehr_1K_data.get_data(num_workers=24)"
   ]
  },
  {
   "cell_type": "markdown",
   "metadata": {},
   "source": [
    "#### Inspect Data"
   ]
  },
  {
   "cell_type": "code",
   "execution_count": null,
   "metadata": {},
   "outputs": [
    {
     "data": {
      "text/plain": [
       "PatientList (702 items)\n",
       "base path:/home/vinod/.lemonpie/datasets/synthea/1K; split:train\n",
       "age_start:240; age_range:120; age_type:months\n",
       "ptid:0ace3e15-8aa4-41c5-8b90-2408285ebcfe, birthdate:1986-04-02, [('diabetes', False), ('stroke', False)].., device:cpu\n",
       "ptid:af1495be-5077-4087-98b1-9ff624c7582c, birthdate:2008-07-17, [('diabetes', False), ('stroke', False)].., device:cpu\n",
       "ptid:f23e12d9-2ec6-4006-b041-ea78d374e9c9, birthdate:2014-09-06, [('diabetes', False), ('stroke', False)].., device:cpu\n",
       "ptid:1968aa31-5fce-461a-9486-6e385a7b75e7, birthdate:1986-04-11, [('diabetes', False), ('stroke', False)].., device:cpu\n",
       "ptid:1211c8ff-ab73-49f3-b2ab-87b7a03f6167, birthdate:1972-03-24, [('diabetes', False), ('stroke', False)].., device:cpu\n",
       "ptid:27a8b7b6-007d-4036-82a7-80a9ab670dcb, birthdate:2005-04-13, [('diabetes', False), ('stroke', False)].., device:cpu\n",
       "ptid:532696f2-0b76-4eb0-9aea-a74e2fb1bed2, birthdate:1967-05-18, [('diabetes', False), ('stroke', False)].., device:cpu\n",
       "ptid:8641e13a-c832-4d97-811a-b735d0abb45e, birthdate:1982-10-06, [('diabetes', False), ('stroke', False)].., device:cpu\n",
       "ptid:7f874045-4062-405d-8c23-abb12d0af23e, birthdate:1972-05-20, [('diabetes', False), ('stroke', False)].., device:cpu\n",
       "ptid:0b6a83ae-fcb1-4b75-9ffa-d52898167d66, birthdate:1989-08-05, [('diabetes', False), ('stroke', False)].., device:cpu...]"
      ]
     },
     "execution_count": null,
     "metadata": {},
     "output_type": "execute_result"
    }
   ],
   "source": [
    "ehr_1K_data.splits.train"
   ]
  },
  {
   "cell_type": "markdown",
   "metadata": {},
   "source": [
    "Inspect a single patient"
   ]
  },
  {
   "cell_type": "code",
   "execution_count": null,
   "metadata": {},
   "outputs": [],
   "source": [
    "pt = ehr_1K_data.splits.train[3] "
   ]
  },
  {
   "cell_type": "code",
   "execution_count": null,
   "metadata": {},
   "outputs": [
    {
     "data": {
      "text/plain": [
       "(tensor([  0,   0,   0,   0,   0,   0,   0,   0,   0,   0,   0,   0,   0,   0,\n",
       "           0,   0,   0,   0,   0,   0,   0,   0,   0,   0,   0,   0,   0,   0,\n",
       "           0,   0,   0,   0,   0,   0,   0,   0,   0,   0,   0,   0,   0,   0,\n",
       "           0,   0,   0,   0,   0,   0, 108, 112, 121,   0,   5,   8,  14,  18,\n",
       "          28,  32,  38,  44, 467,   0,   0,   0,   0,   0,   0,   0,   0,   0,\n",
       "         108, 112, 121,   5,   8,  14,  19,  28,  32,  40,  44, 467,   0,   5,\n",
       "           8,  14,  19,  28,  33,  39,  45, 467,   0,   0,   0,   0,   0,   0,\n",
       "           0,   0,   5,   8,  14,  19,  28,  33,  38,  44, 467, 108, 112, 121,\n",
       "           0,   0,   5,   9,  14,  19,  29,  33,  40,  45,  54,  60,  65,  71,\n",
       "          73,  79,  85,  90,  93,  98, 103, 467,   0,   0,   0,   0,   0,   0,\n",
       "           0,   0, 108, 112, 121,   0,   0,   5,   8,  15,  19,  28,  33,  38,\n",
       "          45, 467,   0,   0,  49,   0,   0,   0,   0,   0, 108, 112, 121,   0,\n",
       "           0,   5,   7,  15,  19,  28,  33,  38,  42, 467,   0,   0,   0,   0,\n",
       "           0,   0,   0,   0, 108, 112, 121,   0,   0,   5,   8,  15,  19,  28,\n",
       "          33,  38,  45, 467,   0,   0,   0,   0,   0,   0,   0,   0]),\n",
       " tensor([  0,   1,   2,   3,   4,   5,   6,   7,   8,   9,  10,  11,  12,  13,\n",
       "          14,  15,  16,  17,  18,  19,  20,  21,  22,  23,  24,  25,  26,  27,\n",
       "          28,  29,  30,  31,  32,  33,  34,  35,  36,  37,  38,  39,  40,  41,\n",
       "          42,  43,  44,  45,  46,  47,  48,  51,  52,  61,  62,  63,  64,  65,\n",
       "          66,  67,  68,  69,  70,  73,  82,  83,  92,  93,  94,  95,  96,  97,\n",
       "          98,  99, 100, 112, 113, 114, 134, 135, 136, 137, 138, 139, 140, 141,\n",
       "         142, 145, 146, 147, 156, 157, 158, 159, 160, 161, 162, 163, 164, 167,\n",
       "         168, 169, 178, 179, 180, 181, 182, 183, 184, 185, 186, 189, 190, 191,\n",
       "         200, 201, 202, 203, 204, 205, 206, 207]))"
      ]
     },
     "execution_count": null,
     "metadata": {},
     "output_type": "execute_result"
    }
   ],
   "source": [
    "pt.obs_nums, pt.obs_offsts"
   ]
  },
  {
   "cell_type": "code",
   "execution_count": null,
   "metadata": {},
   "outputs": [
    {
     "data": {
      "text/plain": [
       "(120, 120)"
      ]
     },
     "execution_count": null,
     "metadata": {},
     "output_type": "execute_result"
    }
   ],
   "source": [
    "len(pt.img_nums), len(pt.img_offsts)"
   ]
  },
  {
   "cell_type": "code",
   "execution_count": null,
   "metadata": {},
   "outputs": [
    {
     "data": {
      "text/plain": [
       "(208, 120)"
      ]
     },
     "execution_count": null,
     "metadata": {},
     "output_type": "execute_result"
    }
   ],
   "source": [
    "len(pt.obs_nums), len(pt.obs_offsts)"
   ]
  },
  {
   "cell_type": "code",
   "execution_count": null,
   "metadata": {},
   "outputs": [
    {
     "data": {
      "text/plain": [
       "ptid:1968aa31-5fce-461a-9486-6e385a7b75e7, birthdate:1986-04-11, [('diabetes', False), ('stroke', False)].., device:cpu"
      ]
     },
     "execution_count": null,
     "metadata": {},
     "output_type": "execute_result"
    }
   ],
   "source": [
    "pt"
   ]
  },
  {
   "cell_type": "code",
   "execution_count": null,
   "metadata": {},
   "outputs": [
    {
     "data": {
      "text/plain": [
       "(11, 2)"
      ]
     },
     "execution_count": null,
     "metadata": {},
     "output_type": "execute_result"
    }
   ],
   "source": [
    "len(train_dl), len(valid_dl)"
   ]
  },
  {
   "cell_type": "code",
   "execution_count": null,
   "metadata": {},
   "outputs": [
    {
     "data": {
      "text/plain": [
       "(tensor([15., 22., 58., 17., 63., 46.]),\n",
       " tensor([16., 32., 32., 20., 28., 46.]))"
      ]
     },
     "execution_count": null,
     "metadata": {},
     "output_type": "execute_result"
    }
   ],
   "source": [
    "train_pos_wts, valid_pos_wts"
   ]
  },
  {
   "cell_type": "code",
   "execution_count": null,
   "metadata": {},
   "outputs": [
    {
     "data": {
      "text/plain": [
       "([(40, 8),\n",
       "  (16, 8),\n",
       "  (128, 8),\n",
       "  (8, 8),\n",
       "  (8, 8),\n",
       "  (8, 8),\n",
       "  (8, 8),\n",
       "  (248, 16),\n",
       "  (208, 16),\n",
       "  (8, 8),\n",
       "  (184, 16)],\n",
       " 112)"
      ]
     },
     "execution_count": null,
     "metadata": {},
     "output_type": "execute_result"
    }
   ],
   "source": [
    "demograph_dims, demograph_dims_wd"
   ]
  },
  {
   "cell_type": "code",
   "execution_count": null,
   "metadata": {},
   "outputs": [
    {
     "data": {
      "text/plain": [
       "([(536, 16),\n",
       "  (32, 8),\n",
       "  (56, 8),\n",
       "  (232, 16),\n",
       "  (16, 8),\n",
       "  (144, 8),\n",
       "  (184, 16),\n",
       "  (24, 8)],\n",
       " 88)"
      ]
     },
     "execution_count": null,
     "metadata": {},
     "output_type": "execute_result"
    }
   ],
   "source": [
    "rec_dims, rec_dims_wd"
   ]
  },
  {
   "cell_type": "markdown",
   "metadata": {},
   "source": [
    "**Inspect Model**"
   ]
  },
  {
   "cell_type": "code",
   "execution_count": null,
   "metadata": {},
   "outputs": [],
   "source": [
    "model = EHR_LSTM(demograph_dims, rec_dims, demograph_dims_wd, rec_dims_wd, num_labels=len(labels))"
   ]
  },
  {
   "cell_type": "code",
   "execution_count": null,
   "metadata": {},
   "outputs": [
    {
     "data": {
      "text/plain": [
       "EHR_LSTM(\n",
       "  (embs): ModuleList(\n",
       "    (0): Embedding(40, 8)\n",
       "    (1): Embedding(16, 8)\n",
       "    (2): Embedding(128, 8)\n",
       "    (3): Embedding(8, 8)\n",
       "    (4): Embedding(8, 8)\n",
       "    (5): Embedding(8, 8)\n",
       "    (6): Embedding(8, 8)\n",
       "    (7): Embedding(248, 16)\n",
       "    (8): Embedding(208, 16)\n",
       "    (9): Embedding(8, 8)\n",
       "    (10): Embedding(184, 16)\n",
       "  )\n",
       "  (embgs): ModuleList(\n",
       "    (0): EmbeddingBag(536, 16, mode=mean)\n",
       "    (1): EmbeddingBag(32, 8, mode=mean)\n",
       "    (2): EmbeddingBag(56, 8, mode=mean)\n",
       "    (3): EmbeddingBag(232, 16, mode=mean)\n",
       "    (4): EmbeddingBag(16, 8, mode=mean)\n",
       "    (5): EmbeddingBag(144, 8, mode=mean)\n",
       "    (6): EmbeddingBag(184, 16, mode=mean)\n",
       "    (7): EmbeddingBag(24, 8, mode=mean)\n",
       "  )\n",
       "  (input_dp): InputDropout()\n",
       "  (lstm): LSTM(88, 88, num_layers=4, batch_first=True, dropout=0.3)\n",
       "  (lin): Sequential(\n",
       "    (0): Linear(in_features=208, out_features=416, bias=True)\n",
       "    (1): ReLU(inplace=True)\n",
       "    (2): Dropout(p=0.3, inplace=False)\n",
       "    (3): Linear(in_features=416, out_features=832, bias=True)\n",
       "    (4): ReLU(inplace=True)\n",
       "    (5): Dropout(p=0.3, inplace=False)\n",
       "    (6): Linear(in_features=832, out_features=1664, bias=True)\n",
       "    (7): ReLU(inplace=True)\n",
       "    (8): Dropout(p=0.3, inplace=False)\n",
       "    (9): Linear(in_features=1664, out_features=3328, bias=True)\n",
       "    (10): ReLU(inplace=True)\n",
       "    (11): Dropout(p=0.3, inplace=False)\n",
       "  )\n",
       "  (lin_o): Linear(in_features=3328, out_features=6, bias=True)\n",
       ")"
      ]
     },
     "execution_count": null,
     "metadata": {},
     "output_type": "execute_result"
    }
   ],
   "source": [
    "model"
   ]
  },
  {
   "cell_type": "code",
   "execution_count": null,
   "metadata": {},
   "outputs": [],
   "source": [
    "# for name, param in model.named_parameters():\n",
    "#     print(f'{name}::\\n{param}')"
   ]
  },
  {
   "cell_type": "markdown",
   "metadata": {},
   "source": [
    "### Test Lightning"
   ]
  },
  {
   "cell_type": "code",
   "execution_count": null,
   "metadata": {},
   "outputs": [],
   "source": [
    "train_loss_fn, valid_loss_fn = get_loss_fn(train_pos_wts), get_loss_fn(valid_pos_wts)"
   ]
  },
  {
   "cell_type": "code",
   "execution_count": null,
   "metadata": {},
   "outputs": [],
   "source": [
    "loss_fns = {}\n",
    "loss_fns['train'] = train_loss_fn\n",
    "loss_fns['valid'] = valid_loss_fn"
   ]
  },
  {
   "cell_type": "code",
   "execution_count": null,
   "metadata": {},
   "outputs": [
    {
     "name": "stderr",
     "output_type": "stream",
     "text": [
      "/home/vinod/anaconda3/envs/lemonpie/lib/python3.8/site-packages/torchmetrics/utilities/prints.py:36: UserWarning: Metric `AUROC` will save all targets and predictions in buffer. For large datasets this may lead to large memory footprint.\n",
      "  warnings.warn(*args, **kwargs)\n"
     ]
    }
   ],
   "source": [
    "model = EHR_LSTM_Pl(\n",
    "    demograph_dims,\n",
    "    rec_dims,\n",
    "    demograph_dims_wd,\n",
    "    rec_dims_wd,\n",
    "    len(labels),\n",
    "    loss_fns,\n",
    "    optim='adam',\n",
    "    base_lr=0.001\n",
    ")"
   ]
  },
  {
   "cell_type": "code",
   "execution_count": null,
   "metadata": {},
   "outputs": [
    {
     "name": "stderr",
     "output_type": "stream",
     "text": [
      "GPU available: True (cuda), used: True\n",
      "TPU available: False, using: 0 TPU cores\n",
      "IPU available: False, using: 0 IPUs\n",
      "HPU available: False, using: 0 HPUs\n"
     ]
    }
   ],
   "source": [
    "trainer = pl.Trainer(accelerator='gpu', devices=-1, max_epochs=5) #, callbacks=[checkpoint_callback])"
   ]
  },
  {
   "cell_type": "code",
   "execution_count": null,
   "metadata": {},
   "outputs": [
    {
     "name": "stderr",
     "output_type": "stream",
     "text": [
      "LOCAL_RANK: 0 - CUDA_VISIBLE_DEVICES: [0]\n",
      "\n",
      "  | Name          | Type             | Params\n",
      "---------------------------------------------------\n",
      "0 | embs          | ModuleList       | 12.0 K\n",
      "1 | embgs         | ModuleList       | 17.4 K\n",
      "2 | input_dp      | InputDropout     | 0     \n",
      "3 | lstm          | LSTM             | 250 K \n",
      "4 | lin           | Sequential       | 7.4 M \n",
      "5 | lin_o         | Linear           | 20.0 K\n",
      "6 | train_metrics | MetricCollection | 0     \n",
      "7 | valid_metrics | MetricCollection | 0     \n",
      "8 | test_metrics  | MetricCollection | 0     \n",
      "---------------------------------------------------\n",
      "7.7 M     Trainable params\n",
      "0         Non-trainable params\n",
      "7.7 M     Total params\n",
      "30.645    Total estimated model params size (MB)\n"
     ]
    },
    {
     "name": "stdout",
     "output_type": "stream",
     "text": [
      "Epoch 0:   0%|          | 0/13 [00:00<?, ?it/s]                            "
     ]
    },
    {
     "name": "stderr",
     "output_type": "stream",
     "text": [
      "/home/vinod/anaconda3/envs/lemonpie/lib/python3.8/site-packages/pytorch_lightning/trainer/trainer.py:1891: PossibleUserWarning: The number of training batches (11) is smaller than the logging interval Trainer(log_every_n_steps=50). Set a lower value for log_every_n_steps if you want to see logs for the training epoch.\n",
      "  rank_zero_warn(\n"
     ]
    },
    {
     "name": "stdout",
     "output_type": "stream",
     "text": [
      "Epoch 0:   8%|▊         | 1/13 [00:02<00:34,  2.91s/it, loss=1.17, v_num=17]"
     ]
    },
    {
     "name": "stderr",
     "output_type": "stream",
     "text": [
      "/home/vinod/anaconda3/envs/lemonpie/lib/python3.8/site-packages/torchmetrics/utilities/prints.py:36: UserWarning: No positive samples in targets, true positive value should be meaningless. Returning zero tensor in true positive score\n",
      "  warnings.warn(*args, **kwargs)\n"
     ]
    },
    {
     "name": "stdout",
     "output_type": "stream",
     "text": [
      "Epoch 4: 100%|██████████| 13/13 [00:07<00:00,  1.68it/s, loss=0.866, v_num=17]"
     ]
    },
    {
     "name": "stderr",
     "output_type": "stream",
     "text": [
      "`Trainer.fit` stopped: `max_epochs=5` reached.\n"
     ]
    },
    {
     "name": "stdout",
     "output_type": "stream",
     "text": [
      "Epoch 4: 100%|██████████| 13/13 [00:07<00:00,  1.63it/s, loss=0.866, v_num=17]\n"
     ]
    }
   ],
   "source": [
    "trainer.fit(model, train_dl, valid_dl)"
   ]
  },
  {
   "cell_type": "markdown",
   "metadata": {},
   "source": [
    "### Test `fit()`"
   ]
  },
  {
   "cell_type": "code",
   "execution_count": null,
   "metadata": {},
   "outputs": [],
   "source": [
    "train_loss_fn, valid_loss_fn = get_loss_fn(train_pos_wts), get_loss_fn(valid_pos_wts)"
   ]
  },
  {
   "cell_type": "code",
   "execution_count": null,
   "metadata": {},
   "outputs": [],
   "source": [
    "model = EHR_LSTM(demograph_dims, rec_dims, demograph_dims_wd, rec_dims_wd, len(labels)).to(DEVICE) #put on GPU before instantiating optim"
   ]
  },
  {
   "cell_type": "code",
   "execution_count": null,
   "metadata": {},
   "outputs": [],
   "source": [
    "optimizer = torch.optim.Adagrad(model.parameters())"
   ]
  },
  {
   "cell_type": "code",
   "execution_count": null,
   "metadata": {},
   "outputs": [],
   "source": [
    "h = RunHistory(labels)"
   ]
  },
  {
   "cell_type": "code",
   "execution_count": null,
   "metadata": {},
   "outputs": [
    {
     "name": "stdout",
     "output_type": "stream",
     "text": [
      "epoch |     train loss |     train aurocs                  valid loss |     valid aurocs    \n",
      "----------------------------------------------------------------------------------------------------\n",
      "    0 |         20.604 | [0.545 0.650 0.426 0.601]              1.316 | [0.682 0.755 0.487 0.821]\n",
      "    1 |          1.376 | [0.740 0.802 0.764 0.724]              1.190 | [0.688 0.699 0.986 0.832]\n",
      "Checkpointed to \"/home/vinod/.lemonpie/models/checkpoint.tar\"\n",
      "CPU times: user 6.44 s, sys: 86.1 ms, total: 6.53 s\n",
      "Wall time: 6.57 s\n"
     ]
    }
   ],
   "source": [
    "%time h = fit(2, h, model, train_loss_fn, valid_loss_fn, optimizer, auroc_score, \\\n",
    "              train_dl, valid_dl, to_chkpt_path=MODEL_STORE, from_chkpt_path=None, verbosity=1)"
   ]
  },
  {
   "cell_type": "code",
   "execution_count": null,
   "metadata": {},
   "outputs": [
    {
     "name": "stdout",
     "output_type": "stream",
     "text": [
      "From \"/home/vinod/.lemonpie/models/checkpoint.tar\", loading model ...\n",
      "loading optimizer and epoch_index ...\n",
      "epoch |     train loss |     train aurocs                  valid loss |     valid aurocs    \n",
      "----------------------------------------------------------------------------------------------------\n",
      "    2 |          1.148 | [0.733 0.850 0.890 0.720]              1.065 | [0.686 0.718 0.990 0.838]\n",
      "    3 |          1.102 | [0.754 0.897 0.913 0.765]              1.254 | [0.654 0.690 0.984 0.844]\n",
      "    4 |          1.050 | [0.760 0.861 0.877 0.768]              1.081 | [0.654 0.659 0.979 0.832]\n",
      "Checkpointed to \"/home/vinod/.lemonpie/models/checkpoint.tar\"\n",
      "CPU times: user 9.8 s, sys: 67.1 ms, total: 9.87 s\n",
      "Wall time: 9.91 s\n"
     ]
    }
   ],
   "source": [
    "%time h = fit(3, h, model, train_loss_fn, valid_loss_fn, optimizer, auroc_score, \\\n",
    "              train_dl, valid_dl, to_chkpt_path=MODEL_STORE, from_chkpt_path=MODEL_STORE, verbosity=1)"
   ]
  },
  {
   "cell_type": "markdown",
   "metadata": {},
   "source": [
    "### Test `predict()`"
   ]
  },
  {
   "cell_type": "code",
   "execution_count": null,
   "metadata": {},
   "outputs": [],
   "source": [
    "test_dl, test_pos_wts = ehr_1K_data.get_test_data()"
   ]
  },
  {
   "cell_type": "code",
   "execution_count": null,
   "metadata": {},
   "outputs": [
    {
     "data": {
      "text/plain": [
       "(2, tensor([ 11.,  20.,  38.,  20., 116., 116.]))"
      ]
     },
     "execution_count": null,
     "metadata": {},
     "output_type": "execute_result"
    }
   ],
   "source": [
    "len(test_dl), test_pos_wts"
   ]
  },
  {
   "cell_type": "code",
   "execution_count": null,
   "metadata": {},
   "outputs": [],
   "source": [
    "test_loss_fn = get_loss_fn(test_pos_wts)"
   ]
  },
  {
   "cell_type": "code",
   "execution_count": null,
   "metadata": {},
   "outputs": [
    {
     "name": "stdout",
     "output_type": "stream",
     "text": [
      "From \"/home/vinod/.lemonpie/models/checkpoint.tar\", loading model ...\n",
      "test loss = 0.9734693169593811\n",
      "test aurocs = [0.788499 0.922484 0.901747 0.841315 0.886266 0.581545]\n"
     ]
    }
   ],
   "source": [
    "h = predict(h, model, test_loss_fn, auroc_score, test_dl, chkpt_path=MODEL_STORE)"
   ]
  },
  {
   "cell_type": "markdown",
   "metadata": {},
   "source": [
    "### Test plotting + results"
   ]
  },
  {
   "cell_type": "code",
   "execution_count": null,
   "metadata": {},
   "outputs": [
    {
     "data": {
      "image/png": "[encoded data removed]",
      "text/plain": [
       "<Figure size 1080x360 with 2 Axes>"
      ]
     },
     "metadata": {
      "needs_background": "light"
     },
     "output_type": "display_data"
    },
    {
     "data": {
      "image/png": "[encoded data removed]",
      "text/plain": [
       "<Figure size 1080x360 with 2 Axes>"
      ]
     },
     "metadata": {
      "needs_background": "light"
     },
     "output_type": "display_data"
    },
    {
     "data": {
      "image/png": "[encoded data removed]",
      "text/plain": [
       "<Figure size 1080x360 with 2 Axes>"
      ]
     },
     "metadata": {
      "needs_background": "light"
     },
     "output_type": "display_data"
    }
   ],
   "source": [
    "plot_fit_results(h, labels)"
   ]
  },
  {
   "cell_type": "code",
   "execution_count": null,
   "metadata": {},
   "outputs": [
    {
     "name": "stdout",
     "output_type": "stream",
     "text": [
      "\n",
      "Prediction Summary ...\n",
      "                auroc_score  optimal_threshold     auroc_95_ci\n",
      "diabetes           0.788499           0.305420   (0.707, 0.86)\n",
      "stroke             0.922484           1.811523   (0.84, 0.985)\n",
      "alzheimers         0.901747           1.215820  (0.838, 0.957)\n",
      "coronary_heart     0.841315           0.803711  (0.726, 0.931)\n",
      "breast_cancer      0.886266           0.956055  (0.821, 0.942)\n",
      "epilepsy           0.581545           0.471191   (0.35, 0.812)\n"
     ]
    },
    {
     "data": {
      "image/png": "[encoded data removed]",
      "text/plain": [
       "<Figure size 576x360 with 1 Axes>"
      ]
     },
     "metadata": {
      "needs_background": "light"
     },
     "output_type": "display_data"
    }
   ],
   "source": [
    "h = summarize_prediction(h, labels)"
   ]
  },
  {
   "cell_type": "code",
   "execution_count": null,
   "metadata": {},
   "outputs": [
    {
     "data": {
      "text/html": [
       "<div>\n",
       "<style scoped>\n",
       "    .dataframe tbody tr th:only-of-type {\n",
       "        vertical-align: middle;\n",
       "    }\n",
       "\n",
       "    .dataframe tbody tr th {\n",
       "        vertical-align: top;\n",
       "    }\n",
       "\n",
       "    .dataframe thead th {\n",
       "        text-align: right;\n",
       "    }\n",
       "</style>\n",
       "<table border=\"1\" class=\"dataframe\">\n",
       "  <thead>\n",
       "    <tr style=\"text-align: right;\">\n",
       "      <th></th>\n",
       "      <th>auroc_score</th>\n",
       "      <th>optimal_threshold</th>\n",
       "      <th>auroc_95_ci</th>\n",
       "    </tr>\n",
       "  </thead>\n",
       "  <tbody>\n",
       "    <tr>\n",
       "      <th>diabetes</th>\n",
       "      <td>0.788499</td>\n",
       "      <td>0.305420</td>\n",
       "      <td>(0.707, 0.86)</td>\n",
       "    </tr>\n",
       "    <tr>\n",
       "      <th>stroke</th>\n",
       "      <td>0.922484</td>\n",
       "      <td>1.811523</td>\n",
       "      <td>(0.84, 0.985)</td>\n",
       "    </tr>\n",
       "    <tr>\n",
       "      <th>alzheimers</th>\n",
       "      <td>0.901747</td>\n",
       "      <td>1.215820</td>\n",
       "      <td>(0.838, 0.957)</td>\n",
       "    </tr>\n",
       "    <tr>\n",
       "      <th>coronary_heart</th>\n",
       "      <td>0.841315</td>\n",
       "      <td>0.803711</td>\n",
       "      <td>(0.726, 0.931)</td>\n",
       "    </tr>\n",
       "    <tr>\n",
       "      <th>breast_cancer</th>\n",
       "      <td>0.886266</td>\n",
       "      <td>0.956055</td>\n",
       "      <td>(0.821, 0.942)</td>\n",
       "    </tr>\n",
       "    <tr>\n",
       "      <th>epilepsy</th>\n",
       "      <td>0.581545</td>\n",
       "      <td>0.471191</td>\n",
       "      <td>(0.35, 0.812)</td>\n",
       "    </tr>\n",
       "  </tbody>\n",
       "</table>\n",
       "</div>"
      ],
      "text/plain": [
       "                auroc_score  optimal_threshold     auroc_95_ci\n",
       "diabetes           0.788499           0.305420   (0.707, 0.86)\n",
       "stroke             0.922484           1.811523   (0.84, 0.985)\n",
       "alzheimers         0.901747           1.215820  (0.838, 0.957)\n",
       "coronary_heart     0.841315           0.803711  (0.726, 0.931)\n",
       "breast_cancer      0.886266           0.956055  (0.821, 0.942)\n",
       "epilepsy           0.581545           0.471191   (0.35, 0.812)"
      ]
     },
     "execution_count": null,
     "metadata": {},
     "output_type": "execute_result"
    }
   ],
   "source": [
    "h.prediction_summary"
   ]
  },
  {
   "cell_type": "markdown",
   "metadata": {},
   "source": [
    "> Important: Make sure to only use labels that have atleast 1 \"True\" value in each split. That is, \"y_true\" contains both false and at least one true.\n",
    "Else AUROC score calculation is not possible resulting in this error **ValueError: Only one class present in y_true. ROC AUC score is not defined in that case.**"
   ]
  },
  {
   "cell_type": "code",
   "execution_count": null,
   "metadata": {},
   "outputs": [],
   "source": [
    "ehr_1K_data.load_splits()"
   ]
  },
  {
   "cell_type": "code",
   "execution_count": null,
   "metadata": {},
   "outputs": [
    {
     "data": {
      "text/html": [
       "<div>\n",
       "<style scoped>\n",
       "    .dataframe tbody tr th:only-of-type {\n",
       "        vertical-align: middle;\n",
       "    }\n",
       "\n",
       "    .dataframe tbody tr th {\n",
       "        vertical-align: top;\n",
       "    }\n",
       "\n",
       "    .dataframe thead th {\n",
       "        text-align: right;\n",
       "    }\n",
       "</style>\n",
       "<table border=\"1\" class=\"dataframe\">\n",
       "  <thead>\n",
       "    <tr style=\"text-align: right;\">\n",
       "      <th></th>\n",
       "      <th>train</th>\n",
       "      <th>valid</th>\n",
       "      <th>test</th>\n",
       "      <th>total</th>\n",
       "    </tr>\n",
       "  </thead>\n",
       "  <tbody>\n",
       "    <tr>\n",
       "      <th>diabetes</th>\n",
       "      <td>43</td>\n",
       "      <td>14</td>\n",
       "      <td>19</td>\n",
       "      <td>76</td>\n",
       "    </tr>\n",
       "    <tr>\n",
       "      <th>stroke</th>\n",
       "      <td>30</td>\n",
       "      <td>7</td>\n",
       "      <td>11</td>\n",
       "      <td>48</td>\n",
       "    </tr>\n",
       "    <tr>\n",
       "      <th>alzheimers</th>\n",
       "      <td>12</td>\n",
       "      <td>7</td>\n",
       "      <td>6</td>\n",
       "      <td>25</td>\n",
       "    </tr>\n",
       "    <tr>\n",
       "      <th>coronary_heart</th>\n",
       "      <td>39</td>\n",
       "      <td>11</td>\n",
       "      <td>11</td>\n",
       "      <td>61</td>\n",
       "    </tr>\n",
       "    <tr>\n",
       "      <th>lung_cancer</th>\n",
       "      <td>12</td>\n",
       "      <td>0</td>\n",
       "      <td>2</td>\n",
       "      <td>14</td>\n",
       "    </tr>\n",
       "    <tr>\n",
       "      <th>breast_cancer</th>\n",
       "      <td>11</td>\n",
       "      <td>8</td>\n",
       "      <td>2</td>\n",
       "      <td>21</td>\n",
       "    </tr>\n",
       "    <tr>\n",
       "      <th>rheumatoid_arthritis</th>\n",
       "      <td>2</td>\n",
       "      <td>0</td>\n",
       "      <td>0</td>\n",
       "      <td>2</td>\n",
       "    </tr>\n",
       "    <tr>\n",
       "      <th>epilepsy</th>\n",
       "      <td>15</td>\n",
       "      <td>5</td>\n",
       "      <td>2</td>\n",
       "      <td>22</td>\n",
       "    </tr>\n",
       "  </tbody>\n",
       "</table>\n",
       "</div>"
      ],
      "text/plain": [
       "                      train  valid  test  total\n",
       "diabetes                 43     14    19     76\n",
       "stroke                   30      7    11     48\n",
       "alzheimers               12      7     6     25\n",
       "coronary_heart           39     11    11     61\n",
       "lung_cancer              12      0     2     14\n",
       "breast_cancer            11      8     2     21\n",
       "rheumatoid_arthritis      2      0     0      2\n",
       "epilepsy                 15      5     2     22"
      ]
     },
     "execution_count": null,
     "metadata": {},
     "output_type": "execute_result"
    }
   ],
   "source": [
    "ehr_1K_data.splits.get_label_counts(list(CONDITIONS.keys()))"
   ]
  },
  {
   "cell_type": "markdown",
   "metadata": {},
   "source": [
    "In this small 1K dataset, 'lung_cancer' and 'rheumatoid_arthritis' have single classes in some splits as seen in the prevalence counts above and would result in the above failure when fit is run.\n",
    "\n",
    "**However in large datasets the possibility of this is very low, but its something to watch out for.**"
   ]
  },
  {
   "cell_type": "markdown",
   "metadata": {},
   "source": [
    "## `EHR_CNN`"
   ]
  },
  {
   "cell_type": "markdown",
   "metadata": {},
   "source": [
    "Based on the Deepr paper<br>\n",
    "[Nguyen. et al. Deepr: A Convolutional Net for Medical Records](https://arxiv.org/abs/1607.07519)"
   ]
  },
  {
   "cell_type": "markdown",
   "metadata": {},
   "source": [
    "**Sizes (+ Conv Arithmetic)**"
   ]
  },
  {
   "cell_type": "markdown",
   "metadata": {},
   "source": [
    "- https://arxiv.org/pdf/1603.07285.pdf\n",
    "- conv arithmetic - https://github.com/vdumoulin/conv_arithmetic/blob/master/README.md"
   ]
  },
  {
   "cell_type": "code",
   "execution_count": null,
   "metadata": {},
   "outputs": [],
   "source": [
    "bs = 64 #batch size # of patients\n",
    "wd = 85 #rec_emb_width (concat of 1 yr of records)\n",
    "ht = 240 #num of years of pt data (seq_len or bptt in lstm)"
   ]
  },
  {
   "cell_type": "markdown",
   "metadata": {},
   "source": [
    "**Each pt is a 20 by 85 matrix**\n",
    "- 20 years on axis 0 (height)\n",
    "- 85 codes on axis 1 (width)"
   ]
  },
  {
   "cell_type": "code",
   "execution_count": null,
   "metadata": {},
   "outputs": [],
   "source": [
    "tst_pts = torch.randn(bs,ht,wd)"
   ]
  },
  {
   "cell_type": "code",
   "execution_count": null,
   "metadata": {},
   "outputs": [
    {
     "data": {
      "text/plain": [
       "torch.Size([64, 240, 85])"
      ]
     },
     "execution_count": null,
     "metadata": {},
     "output_type": "execute_result"
    }
   ],
   "source": [
    "tst_pts.shape"
   ]
  },
  {
   "cell_type": "markdown",
   "metadata": {},
   "source": [
    "But ...\n",
    "- **Input ::** $(N, C_{in}, H_{in}, W_{in})$\n",
    "- **Output::** $(N, C_{out}, H_{out}, W_{out})$\n",
    "\n",
    "So need to reshape to insert $C_{in}$ (which is 1 in this case) after bs"
   ]
  },
  {
   "cell_type": "code",
   "execution_count": null,
   "metadata": {},
   "outputs": [
    {
     "data": {
      "text/plain": [
       "torch.Size([64, 1, 240, 85])"
      ]
     },
     "execution_count": null,
     "metadata": {},
     "output_type": "execute_result"
    }
   ],
   "source": [
    "tst_pts = tst_pts.reshape(bs,1,ht,wd)\n",
    "tst_pts.shape"
   ]
  },
  {
   "cell_type": "code",
   "execution_count": null,
   "metadata": {},
   "outputs": [],
   "source": [
    "m = nn.Sequential(\n",
    "    nn.Conv2d(in_channels=1, out_channels=2, kernel_size=(5,5), padding=2), nn.ReLU(),\n",
    "    nn.Conv2d(2,4,kernel_size=(3,3), padding=1), nn.ReLU(),\n",
    "    nn.Conv2d(4,8,kernel_size=(3,3), stride=2, padding=1), nn.ReLU(),\n",
    "    nn.Conv2d(8,16,kernel_size=(3,3), stride=2, padding=1), nn.ReLU(),\n",
    "    nn.Conv2d(16,32,kernel_size=(3,3), stride=2, padding=1), nn.ReLU(),\n",
    "    nn.AdaptiveMaxPool2d((4,4)),\n",
    "    nn.Flatten()\n",
    ")"
   ]
  },
  {
   "cell_type": "code",
   "execution_count": null,
   "metadata": {},
   "outputs": [],
   "source": [
    "out = m(tst_pts)"
   ]
  },
  {
   "cell_type": "code",
   "execution_count": null,
   "metadata": {},
   "outputs": [
    {
     "data": {
      "text/plain": [
       "torch.Size([64, 512])"
      ]
     },
     "execution_count": null,
     "metadata": {},
     "output_type": "execute_result"
    }
   ],
   "source": [
    "out.shape"
   ]
  },
  {
   "cell_type": "markdown",
   "metadata": {},
   "source": [
    "- AdaptivePool ensures output before Flatten is bs x 16 x 5 x 5\n",
    "- And thus Flatten will always flatten it to bs x 400\n",
    "- **So can use 400 safely** - no matter the size of the input (which will change based on vocab dims)"
   ]
  },
  {
   "cell_type": "code",
   "execution_count": null,
   "metadata": {},
   "outputs": [
    {
     "name": "stdout",
     "output_type": "stream",
     "text": [
      "0.weight\n",
      "0.bias\n",
      "2.weight\n",
      "2.bias\n",
      "4.weight\n",
      "4.bias\n",
      "6.weight\n",
      "6.bias\n",
      "8.weight\n",
      "8.bias\n"
     ]
    }
   ],
   "source": [
    "for name, param in m.named_parameters():\n",
    "    print(name)"
   ]
  },
  {
   "cell_type": "code",
   "execution_count": null,
   "metadata": {},
   "outputs": [],
   "source": [
    "#export\n",
    "def init_cnn(m, initrange, zero_bn=False):\n",
    "    '''Initialize CNN as described in fast.ai'''\n",
    "    if getattr(m, 'bias', None) is not None: nn.init.constant_(m.bias, 0)\n",
    "    if isinstance(m, (nn.Embedding, nn.EmbeddingBag)): m.weight.data.uniform_(-initrange, initrange)\n",
    "    if isinstance(m, (nn.Conv2d, nn.Linear)): nn.init.kaiming_normal_(m.weight)\n",
    "    if isinstance(m, (nn.BatchNorm1d, nn.BatchNorm2d)): nn.init.constant_(m.weight, 0. if zero_bn else 1.)\n",
    "    for l in m.children(): init_cnn(l, initrange, zero_bn)\n",
    "\n",
    "def conv_layer(in_channels, out_channels, kernel_size, stride=1, padding=1, bn=False):\n",
    "    '''Create a single conv layer - as described in fast.ai'''\n",
    "    layer = [nn.Conv2d(in_channels, out_channels, kernel_size, stride, padding, bias=not bn)]\n",
    "    if bn: layer.append(nn.BatchNorm2d(out_channels))\n",
    "    layer.append(nn.ReLU(inplace=True))\n",
    "    return layer"
   ]
  },
  {
   "cell_type": "markdown",
   "metadata": {},
   "source": [
    "Based on perf tuning recommendation.. \n",
    "- [Disabling bias for convolutions if directly followed by a batch norm](https://pytorch.org/tutorials/recipes/recipes/tuning_guide.html#disable-bias-for-convolutions-directly-followed-by-a-batch-norm)"
   ]
  },
  {
   "cell_type": "code",
   "execution_count": null,
   "metadata": {},
   "outputs": [],
   "source": [
    "#export\n",
    "class EHR_CNN(nn.Module):\n",
    "    '''Based on the model described in the Deepr paper - https://arxiv.org/abs/1607.07519'''\n",
    "    def __init__(self, demograph_dims, rec_dims, demograph_wd, rec_wd, num_labels, linear_layers=4, \n",
    "                 initrange=0.3, bn=False, input_drp=0.3, linear_drp=0.3, zero_bn=False):\n",
    "        \n",
    "        super().__init__()\n",
    "        \n",
    "        self.embs  = nn.ModuleList([nn.Embedding(*dim) for dim in demograph_dims])\n",
    "        self.embgs = nn.ModuleList([nn.EmbeddingBag(*dim) for dim in rec_dims])\n",
    "        \n",
    "        self.rec_wd        = rec_wd      \n",
    "        self.demograph_wd  = demograph_wd \n",
    "        self.bn            = bn\n",
    "        self.amp_pad, _    = multiple_of_8(demograph_wd + 1)\n",
    "        lin_features_start = (demograph_wd + 1 + self.amp_pad) + 512 # 1 for 'age_now', 512 = cnn output\n",
    "\n",
    "        \n",
    "        self.input_dp = InputDropout(input_drp)\n",
    "\n",
    "        out, self.lin = create_linear_layers(lin_features_start, linear_layers, bn, linear_drp)\n",
    "        self.lin_o    = nn.Linear(out, num_labels)     \n",
    "\n",
    "        self.cnn = nn.Sequential(\n",
    "        *conv_layer(in_channels=1, out_channels=2, kernel_size=(5,5), padding=2, bn=self.bn),\n",
    "        *conv_layer(2,4,kernel_size=(3,3), padding=1, bn=self.bn),\n",
    "        *conv_layer(4,8,kernel_size=3, stride=2, padding=1, bn=self.bn),\n",
    "        *conv_layer(8,16,kernel_size=3, stride=2, padding=1, bn=self.bn),\n",
    "        *conv_layer(16,32,kernel_size=3, stride=2, padding=1, bn=self.bn),\n",
    "        nn.AdaptiveMaxPool2d((4,4)),\n",
    "        nn.Flatten()\n",
    "        )\n",
    "        \n",
    "        init_cnn(self, initrange, zero_bn)\n",
    "\n",
    "\n",
    "    def get_embs(self, ptbatch_recs, ptbatch_demogs, x):\n",
    "        for p in range(len(x)): #for the batch of pts\n",
    "            ptbatch_recs[p] = torch.cat((self.embgs[0](x[p].obs_nums,x[p].obs_offsts), \n",
    "                                         self.embgs[1](x[p].alg_nums,x[p].alg_offsts),\n",
    "                                         self.embgs[2](x[p].crpl_nums,x[p].crpl_offsts),\n",
    "                                         self.embgs[3](x[p].med_nums,x[p].med_offsts),\n",
    "                                         self.embgs[4](x[p].img_nums,x[p].img_offsts),\n",
    "                                         self.embgs[5](x[p].proc_nums,x[p].proc_offsts),\n",
    "                                         self.embgs[6](x[p].cnd_nums,x[p].cnd_offsts),\n",
    "                                         self.embgs[7](x[p].imm_nums,x[p].imm_offsts)),\n",
    "                                        dim=1) #for the entire age span, example all 20 yrs\n",
    "            ptbatch_demogs[p] = torch.cat((self.embs[0](x[p].demographics[0]), \n",
    "                                           self.embs[1](x[p].demographics[1]),\n",
    "                                           self.embs[2](x[p].demographics[2]),\n",
    "                                           self.embs[3](x[p].demographics[3]),\n",
    "                                           self.embs[4](x[p].demographics[4]),\n",
    "                                           self.embs[5](x[p].demographics[5]),\n",
    "                                           self.embs[6](x[p].demographics[6]),\n",
    "                                           self.embs[7](x[p].demographics[7]),\n",
    "                                           self.embs[8](x[p].demographics[8]),\n",
    "                                           self.embs[9](x[p].demographics[9]),\n",
    "                                           self.embs[10](x[p].demographics[10]),\n",
    "                                           x[p].age_now,\n",
    "                                           torch.zeros(self.amp_pad, device=DEVICE) )) \n",
    "\n",
    "        return ptbatch_recs, ptbatch_demogs\n",
    "    \n",
    "    def forward(self, x):\n",
    "        \n",
    "        bs     = len(x)\n",
    "        height = len(x[0].obs_offsts)\n",
    "        width  = self.rec_wd\n",
    "\n",
    "        ptbatch_recs   = torch.empty(bs,height,width, device=DEVICE)\n",
    "        ptbatch_demogs = torch.empty(bs,self.demograph_wd+1+self.amp_pad, device=DEVICE)\n",
    "        ptbatch_recs, ptbatch_demogs = self.get_embs(ptbatch_recs, ptbatch_demogs, x)\n",
    "\n",
    "        ptbatch_recs = self.input_dp(ptbatch_recs)                                    #apply input dropout\n",
    "        \n",
    "        res = self.cnn(ptbatch_recs.reshape(bs,1,height,width))                       #cnn output\n",
    "        res   = self.lin(torch.cat((res, ptbatch_demogs), dim=1))                     #concat demographics + send thru linear lyrs\n",
    "        out   = self.lin_o(res)\n",
    "        \n",
    "        return out"
   ]
  },
  {
   "cell_type": "markdown",
   "metadata": {},
   "source": [
    "**Load Data + Inspect**"
   ]
  },
  {
   "cell_type": "code",
   "execution_count": null,
   "metadata": {},
   "outputs": [],
   "source": [
    "ehr_1K_data = EHRData(PATH_1K, labels, age_start=240, age_stop=360, age_in_months=True, lazy_load_gpu=False) #entire dataset on GPU"
   ]
  },
  {
   "cell_type": "code",
   "execution_count": null,
   "metadata": {},
   "outputs": [],
   "source": [
    "demograph_dims, rec_dims, demograph_dims_wd, rec_dims_wd = get_all_emb_dims(EhrVocabList.load(PATH_1K))"
   ]
  },
  {
   "cell_type": "code",
   "execution_count": null,
   "metadata": {},
   "outputs": [],
   "source": [
    "train_dl, valid_dl, train_pos_wts, valid_pos_wts = ehr_1K_data.get_data()"
   ]
  },
  {
   "cell_type": "markdown",
   "metadata": {},
   "source": [
    "**Inspect Model**"
   ]
  },
  {
   "cell_type": "code",
   "execution_count": null,
   "metadata": {},
   "outputs": [],
   "source": [
    "model = EHR_CNN(demograph_dims, rec_dims, demograph_dims_wd, rec_dims_wd, len(labels))"
   ]
  },
  {
   "cell_type": "code",
   "execution_count": null,
   "metadata": {},
   "outputs": [
    {
     "data": {
      "text/plain": [
       "EHR_CNN(\n",
       "  (embs): ModuleList(\n",
       "    (0): Embedding(40, 8)\n",
       "    (1): Embedding(16, 8)\n",
       "    (2): Embedding(128, 8)\n",
       "    (3): Embedding(8, 8)\n",
       "    (4): Embedding(8, 8)\n",
       "    (5): Embedding(8, 8)\n",
       "    (6): Embedding(8, 8)\n",
       "    (7): Embedding(248, 16)\n",
       "    (8): Embedding(208, 16)\n",
       "    (9): Embedding(8, 8)\n",
       "    (10): Embedding(184, 16)\n",
       "  )\n",
       "  (embgs): ModuleList(\n",
       "    (0): EmbeddingBag(536, 16, mode=mean)\n",
       "    (1): EmbeddingBag(32, 8, mode=mean)\n",
       "    (2): EmbeddingBag(56, 8, mode=mean)\n",
       "    (3): EmbeddingBag(232, 16, mode=mean)\n",
       "    (4): EmbeddingBag(16, 8, mode=mean)\n",
       "    (5): EmbeddingBag(144, 8, mode=mean)\n",
       "    (6): EmbeddingBag(184, 16, mode=mean)\n",
       "    (7): EmbeddingBag(24, 8, mode=mean)\n",
       "  )\n",
       "  (input_dp): InputDropout()\n",
       "  (lin): Sequential(\n",
       "    (0): Linear(in_features=632, out_features=1264, bias=True)\n",
       "    (1): ReLU(inplace=True)\n",
       "    (2): Dropout(p=0.3, inplace=False)\n",
       "    (3): Linear(in_features=1264, out_features=2528, bias=True)\n",
       "    (4): ReLU(inplace=True)\n",
       "    (5): Dropout(p=0.3, inplace=False)\n",
       "    (6): Linear(in_features=2528, out_features=5056, bias=True)\n",
       "    (7): ReLU(inplace=True)\n",
       "    (8): Dropout(p=0.3, inplace=False)\n",
       "    (9): Linear(in_features=5056, out_features=10112, bias=True)\n",
       "    (10): ReLU(inplace=True)\n",
       "    (11): Dropout(p=0.3, inplace=False)\n",
       "  )\n",
       "  (lin_o): Linear(in_features=10112, out_features=6, bias=True)\n",
       "  (cnn): Sequential(\n",
       "    (0): Conv2d(1, 2, kernel_size=(5, 5), stride=(1, 1), padding=(2, 2))\n",
       "    (1): ReLU(inplace=True)\n",
       "    (2): Conv2d(2, 4, kernel_size=(3, 3), stride=(1, 1), padding=(1, 1))\n",
       "    (3): ReLU(inplace=True)\n",
       "    (4): Conv2d(4, 8, kernel_size=(3, 3), stride=(2, 2), padding=(1, 1))\n",
       "    (5): ReLU(inplace=True)\n",
       "    (6): Conv2d(8, 16, kernel_size=(3, 3), stride=(2, 2), padding=(1, 1))\n",
       "    (7): ReLU(inplace=True)\n",
       "    (8): Conv2d(16, 32, kernel_size=(3, 3), stride=(2, 2), padding=(1, 1))\n",
       "    (9): ReLU(inplace=True)\n",
       "    (10): AdaptiveMaxPool2d(output_size=(4, 4))\n",
       "    (11): Flatten(start_dim=1, end_dim=-1)\n",
       "  )\n",
       ")"
      ]
     },
     "execution_count": null,
     "metadata": {},
     "output_type": "execute_result"
    }
   ],
   "source": [
    "model"
   ]
  },
  {
   "cell_type": "code",
   "execution_count": null,
   "metadata": {},
   "outputs": [],
   "source": [
    "# for name, param in model.named_parameters():\n",
    "#     print(f'{name}::\\n{param}')"
   ]
  },
  {
   "cell_type": "markdown",
   "metadata": {},
   "source": [
    "### Test `fit()`"
   ]
  },
  {
   "cell_type": "code",
   "execution_count": null,
   "metadata": {},
   "outputs": [],
   "source": [
    "train_loss_fn, valid_loss_fn = get_loss_fn(train_pos_wts), get_loss_fn(valid_pos_wts)"
   ]
  },
  {
   "cell_type": "code",
   "execution_count": null,
   "metadata": {},
   "outputs": [],
   "source": [
    "model = EHR_CNN(demograph_dims, rec_dims, demograph_dims_wd, rec_dims_wd, len(labels)).to(DEVICE)"
   ]
  },
  {
   "cell_type": "code",
   "execution_count": null,
   "metadata": {},
   "outputs": [],
   "source": [
    "optimizer = torch.optim.Adagrad(model.parameters())"
   ]
  },
  {
   "cell_type": "code",
   "execution_count": null,
   "metadata": {},
   "outputs": [],
   "source": [
    "h = RunHistory(labels)"
   ]
  },
  {
   "cell_type": "code",
   "execution_count": null,
   "metadata": {},
   "outputs": [
    {
     "name": "stdout",
     "output_type": "stream",
     "text": [
      "epoch |     train loss |     train aurocs                  valid loss |     valid aurocs    \n",
      "----------------------------------------------------------------------------------------------------\n",
      "    0 |      10175.147 | [0.489 0.483 0.383 0.395]           9858.396 | [0.615 0.383 0.346 0.397]\n",
      "    1 |       7617.187 | [0.515 0.434 0.303 0.464]              1.216 | [0.674 0.721 0.860 0.785]\n",
      "    2 |          1.750 | [0.489 0.600 0.585 0.595]              1.229 | [0.645 0.711 0.979 0.736]\n",
      "Checkpointed to \"/home/vinod/.lemonpie/models/checkpoint.tar\"\n",
      "CPU times: user 7.35 s, sys: 592 ms, total: 7.94 s\n",
      "Wall time: 8.33 s\n"
     ]
    }
   ],
   "source": [
    "%time h = fit(3, h, model, train_loss_fn, valid_loss_fn, optimizer, auroc_score, \\\n",
    "              train_dl, valid_dl, to_chkpt_path=MODEL_STORE, from_chkpt_path=None, verbosity=1)"
   ]
  },
  {
   "cell_type": "code",
   "execution_count": null,
   "metadata": {},
   "outputs": [
    {
     "name": "stdout",
     "output_type": "stream",
     "text": [
      "From \"/home/vinod/.lemonpie/models/checkpoint.tar\", loading model ...\n",
      "loading optimizer and epoch_index ...\n",
      "epoch |     train loss |     train aurocs                  valid loss |     valid aurocs    \n",
      "----------------------------------------------------------------------------------------------------\n",
      "    3 |          1.995 | [0.731 0.758 0.800 0.616]              1.261 | [0.645 0.679 0.972 0.717]\n",
      "    4 |          1.327 | [0.706 0.816 0.804 0.601]              1.315 | [0.664 0.700 0.973 0.794]\n",
      "Checkpointed to \"/home/vinod/.lemonpie/models/checkpoint.tar\"\n",
      "CPU times: user 5.29 s, sys: 856 ms, total: 6.15 s\n",
      "Wall time: 6.44 s\n"
     ]
    }
   ],
   "source": [
    "%time h = fit(2, h, model, train_loss_fn, valid_loss_fn, optimizer, auroc_score, \\\n",
    "              train_dl, valid_dl, to_chkpt_path=MODEL_STORE, from_chkpt_path=MODEL_STORE, verbosity=1)"
   ]
  },
  {
   "cell_type": "markdown",
   "metadata": {},
   "source": [
    "### Test `predict()`"
   ]
  },
  {
   "cell_type": "code",
   "execution_count": null,
   "metadata": {},
   "outputs": [],
   "source": [
    "test_dl, test_pos_wts = ehr_1K_data.get_test_data()"
   ]
  },
  {
   "cell_type": "code",
   "execution_count": null,
   "metadata": {},
   "outputs": [
    {
     "data": {
      "text/plain": [
       "(2, tensor([ 11.,  20.,  38.,  20., 116., 116.]))"
      ]
     },
     "execution_count": null,
     "metadata": {},
     "output_type": "execute_result"
    }
   ],
   "source": [
    "len(test_dl), test_pos_wts"
   ]
  },
  {
   "cell_type": "code",
   "execution_count": null,
   "metadata": {},
   "outputs": [],
   "source": [
    "test_loss_fn = get_loss_fn(test_pos_wts)"
   ]
  },
  {
   "cell_type": "code",
   "execution_count": null,
   "metadata": {},
   "outputs": [
    {
     "name": "stdout",
     "output_type": "stream",
     "text": [
      "From \"/home/vinod/.lemonpie/models/checkpoint.tar\", loading model ...\n",
      "test loss = 1.2827515602111816\n",
      "test aurocs = [0.755117 0.92086  0.907569 0.812094 0.934549 0.334764]\n"
     ]
    }
   ],
   "source": [
    "h = predict(h, model, test_loss_fn, auroc_score, test_dl, chkpt_path=MODEL_STORE)"
   ]
  },
  {
   "cell_type": "markdown",
   "metadata": {},
   "source": [
    "### Test plotting + results"
   ]
  },
  {
   "cell_type": "code",
   "execution_count": null,
   "metadata": {},
   "outputs": [
    {
     "data": {
      "image/png": "[encoded data removed]",
      "text/plain": [
       "<Figure size 1080x360 with 2 Axes>"
      ]
     },
     "metadata": {
      "needs_background": "light"
     },
     "output_type": "display_data"
    },
    {
     "data": {
      "image/png": "[encoded data removed]",
      "text/plain": [
       "<Figure size 1080x360 with 2 Axes>"
      ]
     },
     "metadata": {
      "needs_background": "light"
     },
     "output_type": "display_data"
    },
    {
     "data": {
      "image/png": "[encoded data removed]",
      "text/plain": [
       "<Figure size 1080x360 with 2 Axes>"
      ]
     },
     "metadata": {
      "needs_background": "light"
     },
     "output_type": "display_data"
    }
   ],
   "source": [
    "plot_fit_results(h, labels)"
   ]
  },
  {
   "cell_type": "code",
   "execution_count": null,
   "metadata": {},
   "outputs": [
    {
     "name": "stdout",
     "output_type": "stream",
     "text": [
      "\n",
      "Prediction Summary ...\n",
      "                auroc_score  optimal_threshold     auroc_95_ci\n",
      "diabetes           0.755117           0.574707  (0.674, 0.827)\n",
      "stroke             0.920860           0.958984  (0.845, 0.979)\n",
      "alzheimers         0.907569           1.465820  (0.858, 0.953)\n",
      "coronary_heart     0.812094           0.529297  (0.691, 0.918)\n",
      "breast_cancer      0.934549           1.244141  (0.854, 0.996)\n",
      "epilepsy           0.334764           0.261475  (0.258, 0.405)\n"
     ]
    },
    {
     "data": {
      "image/png": "[encoded data removed]",
      "text/plain": [
       "<Figure size 576x360 with 1 Axes>"
      ]
     },
     "metadata": {
      "needs_background": "light"
     },
     "output_type": "display_data"
    }
   ],
   "source": [
    "h = summarize_prediction(h, labels)"
   ]
  },
  {
   "cell_type": "code",
   "execution_count": null,
   "metadata": {},
   "outputs": [
    {
     "data": {
      "text/html": [
       "<div>\n",
       "<style scoped>\n",
       "    .dataframe tbody tr th:only-of-type {\n",
       "        vertical-align: middle;\n",
       "    }\n",
       "\n",
       "    .dataframe tbody tr th {\n",
       "        vertical-align: top;\n",
       "    }\n",
       "\n",
       "    .dataframe thead th {\n",
       "        text-align: right;\n",
       "    }\n",
       "</style>\n",
       "<table border=\"1\" class=\"dataframe\">\n",
       "  <thead>\n",
       "    <tr style=\"text-align: right;\">\n",
       "      <th></th>\n",
       "      <th>auroc_score</th>\n",
       "      <th>optimal_threshold</th>\n",
       "      <th>auroc_95_ci</th>\n",
       "    </tr>\n",
       "  </thead>\n",
       "  <tbody>\n",
       "    <tr>\n",
       "      <th>diabetes</th>\n",
       "      <td>0.755117</td>\n",
       "      <td>0.574707</td>\n",
       "      <td>(0.674, 0.827)</td>\n",
       "    </tr>\n",
       "    <tr>\n",
       "      <th>stroke</th>\n",
       "      <td>0.920860</td>\n",
       "      <td>0.958984</td>\n",
       "      <td>(0.845, 0.979)</td>\n",
       "    </tr>\n",
       "    <tr>\n",
       "      <th>alzheimers</th>\n",
       "      <td>0.907569</td>\n",
       "      <td>1.465820</td>\n",
       "      <td>(0.858, 0.953)</td>\n",
       "    </tr>\n",
       "    <tr>\n",
       "      <th>coronary_heart</th>\n",
       "      <td>0.812094</td>\n",
       "      <td>0.529297</td>\n",
       "      <td>(0.691, 0.918)</td>\n",
       "    </tr>\n",
       "    <tr>\n",
       "      <th>breast_cancer</th>\n",
       "      <td>0.934549</td>\n",
       "      <td>1.244141</td>\n",
       "      <td>(0.854, 0.996)</td>\n",
       "    </tr>\n",
       "    <tr>\n",
       "      <th>epilepsy</th>\n",
       "      <td>0.334764</td>\n",
       "      <td>0.261475</td>\n",
       "      <td>(0.258, 0.405)</td>\n",
       "    </tr>\n",
       "  </tbody>\n",
       "</table>\n",
       "</div>"
      ],
      "text/plain": [
       "                auroc_score  optimal_threshold     auroc_95_ci\n",
       "diabetes           0.755117           0.574707  (0.674, 0.827)\n",
       "stroke             0.920860           0.958984  (0.845, 0.979)\n",
       "alzheimers         0.907569           1.465820  (0.858, 0.953)\n",
       "coronary_heart     0.812094           0.529297  (0.691, 0.918)\n",
       "breast_cancer      0.934549           1.244141  (0.854, 0.996)\n",
       "epilepsy           0.334764           0.261475  (0.258, 0.405)"
      ]
     },
     "execution_count": null,
     "metadata": {},
     "output_type": "execute_result"
    }
   ],
   "source": [
    "h.prediction_summary"
   ]
  },
  {
   "cell_type": "markdown",
   "metadata": {},
   "source": [
    "## Export -"
   ]
  },
  {
   "cell_type": "code",
   "execution_count": null,
   "metadata": {},
   "outputs": [
    {
     "name": "stdout",
     "output_type": "stream",
     "text": [
      "Converted 00_basics.ipynb.\n",
      "Converted 01_preprocessing_clean.ipynb.\n",
      "Converted 02_preprocessing_vocab.ipynb.\n",
      "Converted 03_preprocessing_transform.ipynb.\n",
      "Converted 04_data.ipynb.\n",
      "Converted 05_metrics.ipynb.\n",
      "Converted 06_learn.ipynb.\n",
      "Converted 07_models.ipynb.\n",
      "Converted 08_experiment.ipynb.\n",
      "Converted 999_amp_testing.ipynb.\n",
      "Converted 99_quick_walkthru.ipynb.\n",
      "Converted 99_running_exps.ipynb.\n",
      "Converted index.ipynb.\n"
     ]
    }
   ],
   "source": [
    "#hide\n",
    "from nbdev.export import *\n",
    "notebook2script()"
   ]
  },
  {
   "cell_type": "code",
   "execution_count": null,
   "metadata": {},
   "outputs": [],
   "source": []
  }
 ],
 "metadata": {
  "kernelspec": {
   "display_name": "Python 3.8.8 ('lemonpie')",
   "language": "python",
   "name": "python3"
  }
 },
 "nbformat": 4,
 "nbformat_minor": 4
}
