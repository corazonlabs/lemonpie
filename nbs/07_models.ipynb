{
 "cells": [
  {
   "cell_type": "code",
   "execution_count": null,
   "metadata": {},
   "outputs": [],
   "source": [
    "# default_exp models"
   ]
  },
  {
   "cell_type": "code",
   "execution_count": null,
   "metadata": {},
   "outputs": [],
   "source": [
    "#all_slow"
   ]
  },
  {
   "cell_type": "markdown",
   "metadata": {},
   "source": [
    "# Models\n",
    "> Classes and helper functions for all Deep Learning models used in this library."
   ]
  },
  {
   "cell_type": "code",
   "execution_count": null,
   "metadata": {},
   "outputs": [],
   "source": [
    "#hide\n",
    "%reload_ext autoreload\n",
    "%autoreload 2\n",
    "%matplotlib inline"
   ]
  },
  {
   "cell_type": "code",
   "execution_count": null,
   "metadata": {},
   "outputs": [
    {
     "data": {
      "text/html": [
       "<style>.container { width:85% !important; }</style>"
      ],
      "text/plain": [
       "<IPython.core.display.HTML object>"
      ]
     },
     "metadata": {},
     "output_type": "display_data"
    }
   ],
   "source": [
    "#hide\n",
    "from IPython.core.display import display, HTML\n",
    "display(HTML(\"<style>.container { width:85% !important; }</style>\"))"
   ]
  },
  {
   "cell_type": "code",
   "execution_count": null,
   "metadata": {},
   "outputs": [],
   "source": [
    "# export\n",
    "from lemonpie.basics import *\n",
    "from lemonpie.preprocessing.vocab import *  # for loading vocabs\n",
    "from lemonpie.preprocessing.transform import *  # for loading ptlist thru EHRData\n",
    "from lemonpie.data import *  # for EHRData\n",
    "\n",
    "# from lemonpie.learn import * #for fit/predict stuff\n",
    "# from lemonpie.metrics import * #for auroc_score\n",
    "from fastai.imports import *\n"
   ]
  },
  {
   "cell_type": "code",
   "execution_count": null,
   "metadata": {},
   "outputs": [],
   "source": [
    "# export\n",
    "import pytorch_lightning as pl\n",
    "from torchmetrics import MetricCollection, AUROC, Accuracy\n"
   ]
  },
  {
   "cell_type": "code",
   "execution_count": null,
   "metadata": {},
   "outputs": [],
   "source": [
    "#hide\n",
    "from nbdev.showdoc import *"
   ]
  },
  {
   "cell_type": "code",
   "execution_count": null,
   "metadata": {},
   "outputs": [
    {
     "data": {
      "text/plain": [
       "device(type='cuda')"
      ]
     },
     "execution_count": null,
     "metadata": {},
     "output_type": "execute_result"
    }
   ],
   "source": [
    "DEVICE"
   ]
  },
  {
   "cell_type": "markdown",
   "metadata": {},
   "source": [
    "## `get_loss_fns()`"
   ]
  },
  {
   "cell_type": "code",
   "execution_count": null,
   "metadata": {},
   "outputs": [],
   "source": [
    "# export\n",
    "def get_loss_fns(train_pos_wts, valid_pos_wts):\n",
    "    \"\"\"Return `nn.BCEWithLogitsLoss` with the given positive weights.\"\"\"\n",
    "    loss_fns = {}\n",
    "    loss_fns[\"train\"] = nn.BCEWithLogitsLoss(pos_weight=train_pos_wts)\n",
    "    loss_fns[\"valid\"] = nn.BCEWithLogitsLoss(pos_weight=valid_pos_wts)\n",
    "    return loss_fns\n"
   ]
  },
  {
   "cell_type": "markdown",
   "metadata": {},
   "source": [
    "## Dropouts "
   ]
  },
  {
   "cell_type": "markdown",
   "metadata": {},
   "source": [
    "This is the `RNNDropout` from fast.ai renamed as `InputDropout`\n",
    "- [docs](https://docs.fast.ai/text.models.awdlstm.html) \n",
    "- [source](https://github.com/fastai/fastai/blob/master/fastai/text/models/awdlstm.py)"
   ]
  },
  {
   "cell_type": "code",
   "execution_count": null,
   "metadata": {},
   "outputs": [],
   "source": [
    "# export\n",
    "def dropout_mask(x, sz, p):\n",
    "    \"\"\"Dropout mask as described in fast.ai\"\"\"\n",
    "    return x.new(*sz).bernoulli_(1 - p).div_(1 - p)\n",
    "\n",
    "\n",
    "class InputDropout(nn.Module):\n",
    "    \"\"\"InputDropout - same as RNNDropout described in fast.ai\"\"\"\n",
    "\n",
    "    def __init__(self, p=0.5):\n",
    "        super().__init__()\n",
    "        self.p = p\n",
    "\n",
    "    def forward(self, x):\n",
    "        if not self.training or self.p == 0.0:\n",
    "            return x\n",
    "        m = dropout_mask(x.data, (x.size(0), 1, x.size(2)), self.p)\n",
    "        return x * m\n"
   ]
  },
  {
   "cell_type": "code",
   "execution_count": null,
   "metadata": {},
   "outputs": [
    {
     "data": {
      "text/plain": [
       "(tensor([[[-1.4690,  0.0277, -0.1331,  0.1740,  0.8191],\n",
       "          [-0.8025,  0.7301, -0.6208,  1.7687,  1.3979],\n",
       "          [ 0.9498,  0.8998, -0.3470, -0.0348, -0.8113]],\n",
       " \n",
       "         [[-0.0507, -0.0030, -0.0360,  2.3302, -0.7169],\n",
       "          [-0.1136,  0.5861,  0.0504,  0.2619,  0.5032],\n",
       "          [-0.9581,  0.8355,  1.3347, -0.0052,  0.7808]]]),\n",
       " tensor([[[4., 0., 0., 4., 0.]],\n",
       " \n",
       "         [[0., 4., 0., 0., 4.]]]),\n",
       " tensor([[[-5.8762,  0.0000, -0.0000,  0.6961,  0.0000],\n",
       "          [-3.2101,  0.0000, -0.0000,  7.0748,  0.0000],\n",
       "          [ 3.7994,  0.0000, -0.0000, -0.1394, -0.0000]],\n",
       " \n",
       "         [[-0.0000, -0.0118, -0.0000,  0.0000, -2.8677],\n",
       "          [-0.0000,  2.3444,  0.0000,  0.0000,  2.0126],\n",
       "          [-0.0000,  3.3420,  0.0000, -0.0000,  3.1231]]]))"
      ]
     },
     "execution_count": null,
     "metadata": {},
     "output_type": "execute_result"
    }
   ],
   "source": [
    "x = torch.randn(2,3,5) #bs=2, seq_len(bptt)=3, x(emb width)=5\n",
    "mask = dropout_mask(x, (2,1,5), 0.75)\n",
    "x, mask, x*mask"
   ]
  },
  {
   "cell_type": "code",
   "execution_count": null,
   "metadata": {},
   "outputs": [
    {
     "data": {
      "text/plain": [
       "(tensor(2.0656), tensor(2.2360), tensor(0.8479))"
      ]
     },
     "execution_count": null,
     "metadata": {},
     "output_type": "execute_result"
    }
   ],
   "source": [
    "mask.std(), (x*mask).std(), x.std()"
   ]
  },
  {
   "cell_type": "code",
   "execution_count": null,
   "metadata": {},
   "outputs": [
    {
     "data": {
      "text/plain": [
       "(tensor(1.6000), tensor(0.3429), tensor(0.2449))"
      ]
     },
     "execution_count": null,
     "metadata": {},
     "output_type": "execute_result"
    }
   ],
   "source": [
    "mask.mean(), (x*mask).mean(), x.mean()"
   ]
  },
  {
   "cell_type": "code",
   "execution_count": null,
   "metadata": {},
   "outputs": [
    {
     "data": {
      "text/plain": [
       "(tensor([[[ 1.9454,  0.0304, -0.1772,  0.8131, -0.6344],\n",
       "          [ 1.6329,  0.3226,  0.2664, -0.3793,  0.1522],\n",
       "          [-0.7816, -0.0563,  1.5921, -1.3094, -1.6208]],\n",
       " \n",
       "         [[-0.9343, -0.2310, -1.3937,  0.0638,  0.3339],\n",
       "          [-0.0387, -1.1259,  0.8982,  2.2176, -0.3141],\n",
       "          [ 2.5097, -0.3989,  0.8935,  1.8100,  0.8301]]]),\n",
       " tensor([[[ 0.0000,  0.0434, -0.0000,  1.1615, -0.9063],\n",
       "          [ 0.0000,  0.4608,  0.0000, -0.5418,  0.2174],\n",
       "          [-0.0000, -0.0804,  0.0000, -1.8706, -2.3155]],\n",
       " \n",
       "         [[-1.3348, -0.3300, -1.9910,  0.0911,  0.4770],\n",
       "          [-0.0553, -1.6084,  1.2831,  3.1681, -0.4487],\n",
       "          [ 3.5853, -0.5699,  1.2765,  2.5858,  1.1858]]]))"
      ]
     },
     "execution_count": null,
     "metadata": {},
     "output_type": "execute_result"
    }
   ],
   "source": [
    "dp = InputDropout(0.3)\n",
    "tst_input = torch.randn(2,3,5)\n",
    "tst_input, dp(tst_input)"
   ]
  },
  {
   "cell_type": "code",
   "execution_count": null,
   "metadata": {},
   "outputs": [
    {
     "data": {
      "text/plain": [
       "(tensor(1.0999), tensor(1.2901))"
      ]
     },
     "execution_count": null,
     "metadata": {},
     "output_type": "execute_result"
    }
   ],
   "source": [
    "tst_input.std(), dp(tst_input).std()"
   ]
  },
  {
   "cell_type": "markdown",
   "metadata": {},
   "source": [
    "## Linear Layers"
   ]
  },
  {
   "cell_type": "code",
   "execution_count": null,
   "metadata": {},
   "outputs": [],
   "source": [
    "# export\n",
    "def linear_layer(in_features, out_features, bn=False, dropout_p=0.0):\n",
    "    \"\"\"Create a single linear layer.\"\"\"\n",
    "    layer = [nn.Linear(in_features, out_features)]\n",
    "    if bn:\n",
    "        layer.append(nn.BatchNorm1d(out_features))\n",
    "    layer.append(nn.ReLU(inplace=True))\n",
    "    layer.append(nn.Dropout(dropout_p))\n",
    "    return layer\n",
    "\n",
    "\n",
    "def create_linear_layers(in_features_start, num_layers, bn=False, dropout_p=0.0):\n",
    "    \"\"\"Create linear layers.\"\"\"\n",
    "    layers = []\n",
    "\n",
    "    for l in range(num_layers):\n",
    "\n",
    "        in_features = in_features_start if l == 0 else out_features\n",
    "\n",
    "        out_features = in_features * 2\n",
    "        amp_roundup, _ = multiple_of_8(out_features)\n",
    "        out_features += amp_roundup\n",
    "\n",
    "        layers.extend(linear_layer(in_features, out_features, bn, dropout_p))\n",
    "\n",
    "    return out_features, nn.Sequential(*layers)\n"
   ]
  },
  {
   "cell_type": "code",
   "execution_count": null,
   "metadata": {},
   "outputs": [],
   "source": [
    "out, m = create_linear_layers(208, 4, bn=True)"
   ]
  },
  {
   "cell_type": "code",
   "execution_count": null,
   "metadata": {},
   "outputs": [
    {
     "data": {
      "text/plain": [
       "(Sequential(\n",
       "   (0): Linear(in_features=208, out_features=416, bias=True)\n",
       "   (1): BatchNorm1d(416, eps=1e-05, momentum=0.1, affine=True, track_running_stats=True)\n",
       "   (2): ReLU(inplace=True)\n",
       "   (3): Dropout(p=0.0, inplace=False)\n",
       "   (4): Linear(in_features=416, out_features=832, bias=True)\n",
       "   (5): BatchNorm1d(832, eps=1e-05, momentum=0.1, affine=True, track_running_stats=True)\n",
       "   (6): ReLU(inplace=True)\n",
       "   (7): Dropout(p=0.0, inplace=False)\n",
       "   (8): Linear(in_features=832, out_features=1664, bias=True)\n",
       "   (9): BatchNorm1d(1664, eps=1e-05, momentum=0.1, affine=True, track_running_stats=True)\n",
       "   (10): ReLU(inplace=True)\n",
       "   (11): Dropout(p=0.0, inplace=False)\n",
       "   (12): Linear(in_features=1664, out_features=3328, bias=True)\n",
       "   (13): BatchNorm1d(3328, eps=1e-05, momentum=0.1, affine=True, track_running_stats=True)\n",
       "   (14): ReLU(inplace=True)\n",
       "   (15): Dropout(p=0.0, inplace=False)\n",
       " ),\n",
       " 3328)"
      ]
     },
     "execution_count": null,
     "metadata": {},
     "output_type": "execute_result"
    }
   ],
   "source": [
    "m, out"
   ]
  },
  {
   "cell_type": "markdown",
   "metadata": {},
   "source": [
    "## `EHR_LSTM`"
   ]
  },
  {
   "cell_type": "markdown",
   "metadata": {},
   "source": [
    "Based on this paper<br>\n",
    "[Rajkomar, A., Oren, E., Chen, K. et al. Scalable and accurate deep learning with electronic health records. npj Digital Med 1, 18 (2018)](https://doi.org/10.1038/s41746-018-0029-1)"
   ]
  },
  {
   "cell_type": "code",
   "execution_count": null,
   "metadata": {},
   "outputs": [],
   "source": [
    "# export\n",
    "def init_lstm(m, initrange, zero_bn=False):\n",
    "    \"\"\"Initialize LSTM.\"\"\"\n",
    "    if isinstance(m, (nn.Embedding, nn.EmbeddingBag)):\n",
    "        m.weight.data.uniform_(-initrange, initrange)\n",
    "    if isinstance(m, (nn.LSTM, nn.Linear)):\n",
    "        for name, param in m.named_parameters():\n",
    "            if \"bias\" in name:\n",
    "                nn.init.constant_(param, 0.0)\n",
    "            elif \"weight\" in name:\n",
    "                nn.init.kaiming_normal_(param)\n",
    "    if isinstance(m, (nn.BatchNorm1d)):\n",
    "        nn.init.constant_(m.weight, 0.0 if zero_bn else 1.0)\n",
    "    for l in m.children():\n",
    "        init_lstm(l, initrange, zero_bn)\n"
   ]
  },
  {
   "cell_type": "code",
   "execution_count": null,
   "metadata": {},
   "outputs": [],
   "source": [
    "#export\n",
    "from fastai.layers import BatchNorm1dFlat\n",
    "\n",
    "\n",
    "class EHR_LSTM(pl.LightningModule):\n",
    "    \"\"\"Based on LSTM described in this paper - https://arxiv.org/abs/1801.07860\"\"\"\n",
    "\n",
    "    def __init__(\n",
    "        self,\n",
    "        demograph_dims,\n",
    "        rec_dims,\n",
    "        demograph_wd,\n",
    "        rec_wd,\n",
    "        num_labels,\n",
    "        train_pos_wts,\n",
    "        valid_pos_wts,\n",
    "        optim,\n",
    "        base_lr,\n",
    "        lstm_layers=4,\n",
    "        linear_layers=4,\n",
    "        initrange=0.3,\n",
    "        bn=False,\n",
    "        input_drp=0.3,\n",
    "        lstm_drp=0.3,\n",
    "        linear_drp=0.3,\n",
    "        zero_bn=False,\n",
    "    ):\n",
    "\n",
    "        super().__init__()\n",
    "        self.save_hyperparameters()\n",
    "\n",
    "        ## args\n",
    "        self.rec_wd = rec_wd\n",
    "        self.demograph_wd = demograph_wd\n",
    "        self.nh = rec_wd\n",
    "        self.lstm_layers = lstm_layers\n",
    "        self.bn = bn\n",
    "        self.amp_pad, _ = multiple_of_8(demograph_wd + 1)\n",
    "        lin_features_start = (\n",
    "            demograph_wd + 1 + self.amp_pad\n",
    "        ) + rec_wd  # +1 for age_now\n",
    "        self.optim = optim\n",
    "        self.base_lr = base_lr\n",
    "\n",
    "        self.train_loss_fn = nn.BCEWithLogitsLoss(pos_weight=train_pos_wts)\n",
    "        self.valid_loss_fn = nn.BCEWithLogitsLoss(pos_weight=valid_pos_wts)\n",
    "\n",
    "\n",
    "        ## model\n",
    "        self.embs = nn.ModuleList([nn.Embedding(*dim) for dim in demograph_dims])\n",
    "        self.embgs = nn.ModuleList([nn.EmbeddingBag(*dim) for dim in rec_dims])\n",
    "        self.input_dp = InputDropout(input_drp)\n",
    "        self.lstm = nn.LSTM(\n",
    "            input_size=self.nh,\n",
    "            hidden_size=self.nh,\n",
    "            num_layers=lstm_layers,\n",
    "            batch_first=True,\n",
    "            dropout=lstm_drp,\n",
    "        )\n",
    "        if bn:\n",
    "            self.lstm_bn = BatchNorm1dFlat(\n",
    "                self.nh\n",
    "            )  # fastai - `nn.BatchNorm1d`, but first flattens leading dimensions\n",
    "        out, self.lin = create_linear_layers(\n",
    "            lin_features_start, linear_layers, bn, linear_drp\n",
    "        )\n",
    "        self.lin_o = nn.Linear(out, num_labels)\n",
    "\n",
    "        init_lstm(self, initrange, zero_bn)\n",
    "\n",
    "\n",
    "        ## metrics\n",
    "        metrics = MetricCollection(\n",
    "            [\n",
    "                # Accuracy(),\n",
    "                AUROC(num_classes=num_labels, pos_label=1, average=\"micro\"),\n",
    "                # Recall(),\n",
    "                # Precision(),\n",
    "                # AveragePrecision(num_classes)\n",
    "            ]\n",
    "        )\n",
    "        self.train_metrics = metrics.clone(prefix=\"train/\")\n",
    "        self.valid_metrics = metrics.clone(prefix=\"valid/\")\n",
    "        self.test_metrics = metrics.clone(prefix=\"test/\")\n",
    "\n",
    "\n",
    "    def get_embs(self, ptbatch_recs, ptbatch_demogs, x):\n",
    "        for p in range(len(x)):  # for the batch of pts\n",
    "            ptbatch_recs[p] = torch.cat(\n",
    "                (\n",
    "                    self.embgs[0](x[p].obs_nums, x[p].obs_offsts),\n",
    "                    self.embgs[1](x[p].alg_nums, x[p].alg_offsts),\n",
    "                    self.embgs[2](x[p].crpl_nums, x[p].crpl_offsts),\n",
    "                    self.embgs[3](x[p].med_nums, x[p].med_offsts),\n",
    "                    self.embgs[4](x[p].img_nums, x[p].img_offsts),\n",
    "                    self.embgs[5](x[p].proc_nums, x[p].proc_offsts),\n",
    "                    self.embgs[6](x[p].cnd_nums, x[p].cnd_offsts),\n",
    "                    self.embgs[7](x[p].imm_nums, x[p].imm_offsts),\n",
    "                ),\n",
    "                dim=1,\n",
    "            )  # for the entire age span, example all 24 yrs\n",
    "\n",
    "            ptbatch_demogs[p] = torch.cat(\n",
    "                (\n",
    "                    self.embs[0](x[p].demographics[0]),\n",
    "                    self.embs[1](x[p].demographics[1]),\n",
    "                    self.embs[2](x[p].demographics[2]),\n",
    "                    self.embs[3](x[p].demographics[3]),\n",
    "                    self.embs[4](x[p].demographics[4]),\n",
    "                    self.embs[5](x[p].demographics[5]),\n",
    "                    self.embs[6](x[p].demographics[6]),\n",
    "                    self.embs[7](x[p].demographics[7]),\n",
    "                    self.embs[8](x[p].demographics[8]),\n",
    "                    self.embs[9](x[p].demographics[9]),\n",
    "                    self.embs[10](x[p].demographics[10]),\n",
    "                    x[p].age_now,\n",
    "                    torch.zeros(self.amp_pad, device=self.device),\n",
    "                )\n",
    "            )\n",
    "\n",
    "        return ptbatch_recs, ptbatch_demogs\n",
    "\n",
    "\n",
    "    def forward(self, x):\n",
    "\n",
    "        bs = len(x)\n",
    "        bptt = len(x[0].obs_offsts)\n",
    "        h = torch.zeros(self.lstm_layers, bs, self.nh, device=self.device)\n",
    "\n",
    "        ptbatch_recs = torch.empty(bs, bptt, self.rec_wd, device=self.device)\n",
    "        ptbatch_demogs = torch.empty(\n",
    "            bs, self.demograph_wd + 1 + self.amp_pad, device=self.device\n",
    "        )\n",
    "        ptbatch_recs, ptbatch_demogs = self.get_embs(ptbatch_recs, ptbatch_demogs, x)\n",
    "\n",
    "        ptbatch_recs = self.input_dp(ptbatch_recs)  # apply input dropout\n",
    "\n",
    "        res, _ = self.lstm(ptbatch_recs, (h, h))\n",
    "        res = self.lstm_bn(res[:, -1]) if self.bn else res[:, -1]  # lstm output\n",
    "        res = self.lin(\n",
    "            torch.cat((res, ptbatch_demogs), dim=1)\n",
    "        )  # concat demographics + send thru linear lyrs\n",
    "        out = self.lin_o(res)\n",
    "\n",
    "        return out\n",
    "\n",
    "    def training_step(self, batch, batch_idx):\n",
    "        xb, yb = batch\n",
    "        xb, yb = [x.to_gpu(non_block=True) for x in xb], yb.to(\n",
    "            self.device, non_blocking=True\n",
    "        )\n",
    "        y_hat = self(xb)\n",
    "        train_loss = self.train_loss_fn(y_hat, yb)\n",
    "\n",
    "        self.log(\"train_loss\", train_loss, on_step=True, on_epoch=True)\n",
    "        self.train_metrics.update(y_hat, yb.int())\n",
    "        self.log_dict(self.train_metrics.compute(), on_step=False, on_epoch=True)\n",
    "\n",
    "        return train_loss\n",
    "\n",
    "    def validation_step(self, batch, batch_idx):\n",
    "        xb, yb = batch\n",
    "        xb, yb = [x.to_gpu(non_block=True) for x in xb], yb.to(\n",
    "            self.device, non_blocking=True\n",
    "        )\n",
    "        y_hat = self(xb)\n",
    "        valid_loss = self.valid_loss_fn(y_hat, yb)\n",
    "\n",
    "        self.log(\"valid_loss\", valid_loss, on_step=True, on_epoch=True)\n",
    "        self.valid_metrics.update(y_hat, yb.int())\n",
    "        self.log_dict(self.valid_metrics.compute(), on_step=False, on_epoch=True)\n",
    "\n",
    "        return valid_loss\n",
    "    \n",
    "    def test_step(self, batch, batch_idx):\n",
    "        xb, yb = batch\n",
    "        xb, yb = [x.to_gpu(non_block=True) for x in xb], yb.to(\n",
    "            self.device, non_blocking=True\n",
    "        )\n",
    "        y_hat = self(xb)\n",
    "        # test_loss = self.loss_fns[\"test\"](y_hat, yb)\n",
    "\n",
    "        # self.log(\"test_loss\", test_loss, on_step=True, on_epoch=True)\n",
    "        self.test_metrics.update(y_hat, yb.int())\n",
    "        self.log_dict(self.test_metrics.compute(), on_step=False, on_epoch=True)\n",
    "\n",
    "        return\n",
    "\n",
    "    def configure_optimizers(self):\n",
    "        # optimizer\n",
    "        if self.optim == \"adam\":\n",
    "            optimizer = torch.optim.Adam(self.parameters(), lr=self.base_lr)\n",
    "        else:\n",
    "            optimizer = torch.optim.SGD(\n",
    "                self.parameters(), lr=1e-2, momentum=0.9, weight_decay=1e-2\n",
    "            )\n",
    "\n",
    "        # scheduler\n",
    "        lr_scheduler = torch.optim.lr_scheduler.MultiStepLR(\n",
    "            optimizer, milestones=[5, 8, 10, 12, 14, 16, 18, 20], gamma=0.9\n",
    "        )\n",
    "\n",
    "        return {\n",
    "            \"optimizer\": optimizer,\n",
    "            \"lr_scheduler\": lr_scheduler,\n",
    "        }\n"
   ]
  },
  {
   "cell_type": "markdown",
   "metadata": {},
   "source": [
    "Logging AUROCs for all labels individually\n",
    "- https://forums.pytorchlightning.ai/t/logging-a-tensor/320\n",
    "- https://pytorch.org/docs/stable/tensorboard.html"
   ]
  },
  {
   "cell_type": "markdown",
   "metadata": {},
   "source": [
    "#### Padding for AMP"
   ]
  },
  {
   "cell_type": "code",
   "execution_count": null,
   "metadata": {},
   "outputs": [],
   "source": [
    "d = torch.ones(6, 10+1)"
   ]
  },
  {
   "cell_type": "code",
   "execution_count": null,
   "metadata": {},
   "outputs": [
    {
     "data": {
      "text/plain": [
       "tensor([[1., 1., 1., 1., 1., 1., 1., 1., 1., 1., 1.],\n",
       "        [1., 1., 1., 1., 1., 1., 1., 1., 1., 1., 1.],\n",
       "        [1., 1., 1., 1., 1., 1., 1., 1., 1., 1., 1.],\n",
       "        [1., 1., 1., 1., 1., 1., 1., 1., 1., 1., 1.],\n",
       "        [1., 1., 1., 1., 1., 1., 1., 1., 1., 1., 1.],\n",
       "        [1., 1., 1., 1., 1., 1., 1., 1., 1., 1., 1.]])"
      ]
     },
     "execution_count": null,
     "metadata": {},
     "output_type": "execute_result"
    }
   ],
   "source": [
    "d"
   ]
  },
  {
   "cell_type": "code",
   "execution_count": null,
   "metadata": {},
   "outputs": [
    {
     "data": {
      "text/plain": [
       "torch.Size([6, 11])"
      ]
     },
     "execution_count": null,
     "metadata": {},
     "output_type": "execute_result"
    }
   ],
   "source": [
    "d.size()"
   ]
  },
  {
   "cell_type": "code",
   "execution_count": null,
   "metadata": {},
   "outputs": [
    {
     "data": {
      "text/plain": [
       "(5, -3)"
      ]
     },
     "execution_count": null,
     "metadata": {},
     "output_type": "execute_result"
    }
   ],
   "source": [
    "multiple_of_8(11)"
   ]
  },
  {
   "cell_type": "code",
   "execution_count": null,
   "metadata": {},
   "outputs": [
    {
     "data": {
      "text/plain": [
       "torch.Size([6, 5])"
      ]
     },
     "execution_count": null,
     "metadata": {},
     "output_type": "execute_result"
    }
   ],
   "source": [
    "pad = torch.zeros(6,5)\n",
    "pad.size()"
   ]
  },
  {
   "cell_type": "code",
   "execution_count": null,
   "metadata": {},
   "outputs": [
    {
     "data": {
      "text/plain": [
       "tensor([[0., 0., 0., 0., 0.],\n",
       "        [0., 0., 0., 0., 0.],\n",
       "        [0., 0., 0., 0., 0.],\n",
       "        [0., 0., 0., 0., 0.],\n",
       "        [0., 0., 0., 0., 0.],\n",
       "        [0., 0., 0., 0., 0.]])"
      ]
     },
     "execution_count": null,
     "metadata": {},
     "output_type": "execute_result"
    }
   ],
   "source": [
    "pad"
   ]
  },
  {
   "cell_type": "code",
   "execution_count": null,
   "metadata": {},
   "outputs": [],
   "source": [
    "d1 = torch.cat(( d[0], torch.zeros(5) ))"
   ]
  },
  {
   "cell_type": "code",
   "execution_count": null,
   "metadata": {},
   "outputs": [
    {
     "data": {
      "text/plain": [
       "tensor([1., 1., 1., 1., 1., 1., 1., 1., 1., 1., 1., 0., 0., 0., 0., 0.])"
      ]
     },
     "execution_count": null,
     "metadata": {},
     "output_type": "execute_result"
    }
   ],
   "source": [
    "d1"
   ]
  },
  {
   "cell_type": "markdown",
   "metadata": {},
   "source": [
    "### Load Data"
   ]
  },
  {
   "cell_type": "code",
   "execution_count": null,
   "metadata": {},
   "outputs": [
    {
     "data": {
      "text/plain": [
       "'04-01-2021'"
      ]
     },
     "execution_count": null,
     "metadata": {},
     "output_type": "execute_result"
    }
   ],
   "source": [
    "SYNTHEA_DATAGEN_DATES['1K']"
   ]
  },
  {
   "cell_type": "markdown",
   "metadata": {},
   "source": [
    "**RUN ONCE** - Creating patient data from age 20 years old to 30 years old in months."
   ]
  },
  {
   "cell_type": "markdown",
   "metadata": {},
   "source": [
    "```python\n",
    "preprocess_ehr_dataset(\n",
    "    PATH_1K,\n",
    "    SYNTHEA_DATAGEN_DATES[\"1K\"],\n",
    "    conditions_dict=CONDITIONS,\n",
    "    age_start=240,\n",
    "    age_range=120,\n",
    "    start_is_date=False,\n",
    "    age_in_months=True,\n",
    ")\n",
    "```"
   ]
  },
  {
   "cell_type": "code",
   "execution_count": null,
   "metadata": {},
   "outputs": [
    {
     "data": {
      "text/plain": [
       "dict_keys(['diabetes', 'stroke', 'alzheimers', 'coronary_heart', 'lung_cancer', 'breast_cancer', 'rheumatoid_arthritis', 'epilepsy'])"
      ]
     },
     "execution_count": null,
     "metadata": {},
     "output_type": "execute_result"
    }
   ],
   "source": [
    "CONDITIONS.keys()"
   ]
  },
  {
   "cell_type": "code",
   "execution_count": null,
   "metadata": {},
   "outputs": [],
   "source": [
    "labels = ['diabetes', 'stroke', 'alzheimers', 'coronary_heart', 'breast_cancer', 'epilepsy']"
   ]
  },
  {
   "cell_type": "code",
   "execution_count": null,
   "metadata": {},
   "outputs": [],
   "source": [
    "ehr_1K_data = EHRData(\n",
    "    PATH_1K,\n",
    "    labels,\n",
    "    age_start=240,\n",
    "    age_range=120,\n",
    "    start_is_date=False,\n",
    "    age_in_months=True,\n",
    "    lazy_load_gpu=True,\n",
    ")\n"
   ]
  },
  {
   "cell_type": "code",
   "execution_count": null,
   "metadata": {},
   "outputs": [],
   "source": [
    "demograph_dims, rec_dims, demograph_dims_wd, rec_dims_wd = get_all_emb_dims(\n",
    "    EhrVocabList.load(PATH_1K)\n",
    ")\n"
   ]
  },
  {
   "cell_type": "code",
   "execution_count": null,
   "metadata": {},
   "outputs": [],
   "source": [
    "train_dl, valid_dl, train_pos_wts, valid_pos_wts = ehr_1K_data.get_data(\n",
    "    num_workers=torch.multiprocessing.cpu_count()\n",
    ")\n"
   ]
  },
  {
   "cell_type": "markdown",
   "metadata": {},
   "source": [
    "#### Inspect Data"
   ]
  },
  {
   "cell_type": "code",
   "execution_count": null,
   "metadata": {},
   "outputs": [
    {
     "data": {
      "text/plain": [
       "PatientList (702 items)\n",
       "base path:/home/vinod/.lemonpie/datasets/synthea/1K; split:train\n",
       "age_start:240; age_range:120; age_type:months\n",
       "ptid:0ace3e15-8aa4-41c5-8b90-2408285ebcfe, birthdate:1986-04-02, [('diabetes', False), ('stroke', False)].., device:cpu\n",
       "ptid:af1495be-5077-4087-98b1-9ff624c7582c, birthdate:2008-07-17, [('diabetes', False), ('stroke', False)].., device:cpu\n",
       "ptid:f23e12d9-2ec6-4006-b041-ea78d374e9c9, birthdate:2014-09-06, [('diabetes', False), ('stroke', False)].., device:cpu\n",
       "ptid:1968aa31-5fce-461a-9486-6e385a7b75e7, birthdate:1986-04-11, [('diabetes', False), ('stroke', False)].., device:cpu\n",
       "ptid:1211c8ff-ab73-49f3-b2ab-87b7a03f6167, birthdate:1972-03-24, [('diabetes', False), ('stroke', False)].., device:cpu\n",
       "ptid:27a8b7b6-007d-4036-82a7-80a9ab670dcb, birthdate:2005-04-13, [('diabetes', False), ('stroke', False)].., device:cpu\n",
       "ptid:532696f2-0b76-4eb0-9aea-a74e2fb1bed2, birthdate:1967-05-18, [('diabetes', False), ('stroke', False)].., device:cpu\n",
       "ptid:8641e13a-c832-4d97-811a-b735d0abb45e, birthdate:1982-10-06, [('diabetes', False), ('stroke', False)].., device:cpu\n",
       "ptid:7f874045-4062-405d-8c23-abb12d0af23e, birthdate:1972-05-20, [('diabetes', False), ('stroke', False)].., device:cpu\n",
       "ptid:0b6a83ae-fcb1-4b75-9ffa-d52898167d66, birthdate:1989-08-05, [('diabetes', False), ('stroke', False)].., device:cpu...]"
      ]
     },
     "execution_count": null,
     "metadata": {},
     "output_type": "execute_result"
    }
   ],
   "source": [
    "ehr_1K_data.splits.train"
   ]
  },
  {
   "cell_type": "markdown",
   "metadata": {},
   "source": [
    "Inspect a single patient"
   ]
  },
  {
   "cell_type": "code",
   "execution_count": null,
   "metadata": {},
   "outputs": [],
   "source": [
    "pt = ehr_1K_data.splits.train[3] "
   ]
  },
  {
   "cell_type": "code",
   "execution_count": null,
   "metadata": {},
   "outputs": [
    {
     "data": {
      "text/plain": [
       "(tensor([  0,   0,   0,   0,   0,   0,   0,   0,   0,   0,   0,   0,   0,   0,\n",
       "           0,   0,   0,   0,   0,   0,   0,   0,   0,   0,   0,   0,   0,   0,\n",
       "           0,   0,   0,   0,   0,   0,   0,   0,   0,   0,   0,   0,   0,   0,\n",
       "           0,   0,   0,   0,   0,   0, 108, 112, 121,   0,   5,   8,  14,  18,\n",
       "          28,  32,  38,  44, 467,   0,   0,   0,   0,   0,   0,   0,   0,   0,\n",
       "         108, 112, 121,   5,   8,  14,  19,  28,  32,  40,  44, 467,   0,   5,\n",
       "           8,  14,  19,  28,  33,  39,  45, 467,   0,   0,   0,   0,   0,   0,\n",
       "           0,   0,   5,   8,  14,  19,  28,  33,  38,  44, 467, 108, 112, 121,\n",
       "           0,   0,   5,   9,  14,  19,  29,  33,  40,  45,  54,  60,  65,  71,\n",
       "          73,  79,  85,  90,  93,  98, 103, 467,   0,   0,   0,   0,   0,   0,\n",
       "           0,   0, 108, 112, 121,   0,   0,   5,   8,  15,  19,  28,  33,  38,\n",
       "          45, 467,   0,   0,  49,   0,   0,   0,   0,   0, 108, 112, 121,   0,\n",
       "           0,   5,   7,  15,  19,  28,  33,  38,  42, 467,   0,   0,   0,   0,\n",
       "           0,   0,   0,   0, 108, 112, 121,   0,   0,   5,   8,  15,  19,  28,\n",
       "          33,  38,  45, 467,   0,   0,   0,   0,   0,   0,   0,   0]),\n",
       " tensor([  0,   1,   2,   3,   4,   5,   6,   7,   8,   9,  10,  11,  12,  13,\n",
       "          14,  15,  16,  17,  18,  19,  20,  21,  22,  23,  24,  25,  26,  27,\n",
       "          28,  29,  30,  31,  32,  33,  34,  35,  36,  37,  38,  39,  40,  41,\n",
       "          42,  43,  44,  45,  46,  47,  48,  51,  52,  61,  62,  63,  64,  65,\n",
       "          66,  67,  68,  69,  70,  73,  82,  83,  92,  93,  94,  95,  96,  97,\n",
       "          98,  99, 100, 112, 113, 114, 134, 135, 136, 137, 138, 139, 140, 141,\n",
       "         142, 145, 146, 147, 156, 157, 158, 159, 160, 161, 162, 163, 164, 167,\n",
       "         168, 169, 178, 179, 180, 181, 182, 183, 184, 185, 186, 189, 190, 191,\n",
       "         200, 201, 202, 203, 204, 205, 206, 207]))"
      ]
     },
     "execution_count": null,
     "metadata": {},
     "output_type": "execute_result"
    }
   ],
   "source": [
    "pt.obs_nums, pt.obs_offsts"
   ]
  },
  {
   "cell_type": "code",
   "execution_count": null,
   "metadata": {},
   "outputs": [
    {
     "data": {
      "text/plain": [
       "(120, 120)"
      ]
     },
     "execution_count": null,
     "metadata": {},
     "output_type": "execute_result"
    }
   ],
   "source": [
    "len(pt.img_nums), len(pt.img_offsts)"
   ]
  },
  {
   "cell_type": "code",
   "execution_count": null,
   "metadata": {},
   "outputs": [
    {
     "data": {
      "text/plain": [
       "(208, 120)"
      ]
     },
     "execution_count": null,
     "metadata": {},
     "output_type": "execute_result"
    }
   ],
   "source": [
    "len(pt.obs_nums), len(pt.obs_offsts)"
   ]
  },
  {
   "cell_type": "code",
   "execution_count": null,
   "metadata": {},
   "outputs": [
    {
     "data": {
      "text/plain": [
       "ptid:1968aa31-5fce-461a-9486-6e385a7b75e7, birthdate:1986-04-11, [('diabetes', False), ('stroke', False)].., device:cpu"
      ]
     },
     "execution_count": null,
     "metadata": {},
     "output_type": "execute_result"
    }
   ],
   "source": [
    "pt"
   ]
  },
  {
   "cell_type": "code",
   "execution_count": null,
   "metadata": {},
   "outputs": [
    {
     "data": {
      "text/plain": [
       "(11, 2)"
      ]
     },
     "execution_count": null,
     "metadata": {},
     "output_type": "execute_result"
    }
   ],
   "source": [
    "len(train_dl), len(valid_dl)"
   ]
  },
  {
   "cell_type": "code",
   "execution_count": null,
   "metadata": {},
   "outputs": [
    {
     "data": {
      "text/plain": [
       "(tensor([15., 22., 58., 17., 63., 46.]),\n",
       " tensor([16., 32., 32., 20., 28., 46.]))"
      ]
     },
     "execution_count": null,
     "metadata": {},
     "output_type": "execute_result"
    }
   ],
   "source": [
    "train_pos_wts, valid_pos_wts"
   ]
  },
  {
   "cell_type": "code",
   "execution_count": null,
   "metadata": {},
   "outputs": [
    {
     "data": {
      "text/plain": [
       "([(40, 8),\n",
       "  (16, 8),\n",
       "  (128, 8),\n",
       "  (8, 8),\n",
       "  (8, 8),\n",
       "  (8, 8),\n",
       "  (8, 8),\n",
       "  (248, 16),\n",
       "  (208, 16),\n",
       "  (8, 8),\n",
       "  (184, 16)],\n",
       " 112)"
      ]
     },
     "execution_count": null,
     "metadata": {},
     "output_type": "execute_result"
    }
   ],
   "source": [
    "demograph_dims, demograph_dims_wd"
   ]
  },
  {
   "cell_type": "code",
   "execution_count": null,
   "metadata": {},
   "outputs": [
    {
     "data": {
      "text/plain": [
       "([(536, 16),\n",
       "  (32, 8),\n",
       "  (56, 8),\n",
       "  (232, 16),\n",
       "  (16, 8),\n",
       "  (144, 8),\n",
       "  (184, 16),\n",
       "  (24, 8)],\n",
       " 88)"
      ]
     },
     "execution_count": null,
     "metadata": {},
     "output_type": "execute_result"
    }
   ],
   "source": [
    "rec_dims, rec_dims_wd"
   ]
  },
  {
   "cell_type": "markdown",
   "metadata": {},
   "source": [
    "#### Inspect Model"
   ]
  },
  {
   "cell_type": "code",
   "execution_count": null,
   "metadata": {},
   "outputs": [],
   "source": [
    "loss_fns = get_loss_fns(train_pos_wts, valid_pos_wts)"
   ]
  },
  {
   "cell_type": "code",
   "execution_count": null,
   "metadata": {},
   "outputs": [
    {
     "data": {
      "text/plain": [
       "{'train': BCEWithLogitsLoss(), 'valid': BCEWithLogitsLoss()}"
      ]
     },
     "execution_count": null,
     "metadata": {},
     "output_type": "execute_result"
    }
   ],
   "source": [
    "loss_fns"
   ]
  },
  {
   "cell_type": "code",
   "execution_count": null,
   "metadata": {},
   "outputs": [
    {
     "name": "stderr",
     "output_type": "stream",
     "text": [
      "/home/vinod/anaconda3/envs/lemonpie/lib/python3.8/site-packages/torchmetrics/utilities/prints.py:36: UserWarning: Metric `AUROC` will save all targets and predictions in buffer. For large datasets this may lead to large memory footprint.\n",
      "  warnings.warn(*args, **kwargs)\n"
     ]
    }
   ],
   "source": [
    "model = EHR_LSTM(\n",
    "    demograph_dims,\n",
    "    rec_dims,\n",
    "    demograph_dims_wd,\n",
    "    rec_dims_wd,\n",
    "    len(labels),\n",
    "    train_pos_wts, \n",
    "    valid_pos_wts,\n",
    "    optim=\"adam\",\n",
    "    base_lr=0.001,\n",
    ")\n"
   ]
  },
  {
   "cell_type": "code",
   "execution_count": null,
   "metadata": {},
   "outputs": [
    {
     "data": {
      "text/plain": [
       "EHR_LSTM(\n",
       "  (train_loss_fn): BCEWithLogitsLoss()\n",
       "  (valid_loss_fn): BCEWithLogitsLoss()\n",
       "  (embs): ModuleList(\n",
       "    (0): Embedding(40, 8)\n",
       "    (1): Embedding(16, 8)\n",
       "    (2): Embedding(128, 8)\n",
       "    (3): Embedding(8, 8)\n",
       "    (4): Embedding(8, 8)\n",
       "    (5): Embedding(8, 8)\n",
       "    (6): Embedding(8, 8)\n",
       "    (7): Embedding(248, 16)\n",
       "    (8): Embedding(208, 16)\n",
       "    (9): Embedding(8, 8)\n",
       "    (10): Embedding(184, 16)\n",
       "  )\n",
       "  (embgs): ModuleList(\n",
       "    (0): EmbeddingBag(536, 16, mode=mean)\n",
       "    (1): EmbeddingBag(32, 8, mode=mean)\n",
       "    (2): EmbeddingBag(56, 8, mode=mean)\n",
       "    (3): EmbeddingBag(232, 16, mode=mean)\n",
       "    (4): EmbeddingBag(16, 8, mode=mean)\n",
       "    (5): EmbeddingBag(144, 8, mode=mean)\n",
       "    (6): EmbeddingBag(184, 16, mode=mean)\n",
       "    (7): EmbeddingBag(24, 8, mode=mean)\n",
       "  )\n",
       "  (input_dp): InputDropout()\n",
       "  (lstm): LSTM(88, 88, num_layers=4, batch_first=True, dropout=0.3)\n",
       "  (lin): Sequential(\n",
       "    (0): Linear(in_features=208, out_features=416, bias=True)\n",
       "    (1): ReLU(inplace=True)\n",
       "    (2): Dropout(p=0.3, inplace=False)\n",
       "    (3): Linear(in_features=416, out_features=832, bias=True)\n",
       "    (4): ReLU(inplace=True)\n",
       "    (5): Dropout(p=0.3, inplace=False)\n",
       "    (6): Linear(in_features=832, out_features=1664, bias=True)\n",
       "    (7): ReLU(inplace=True)\n",
       "    (8): Dropout(p=0.3, inplace=False)\n",
       "    (9): Linear(in_features=1664, out_features=3328, bias=True)\n",
       "    (10): ReLU(inplace=True)\n",
       "    (11): Dropout(p=0.3, inplace=False)\n",
       "  )\n",
       "  (lin_o): Linear(in_features=3328, out_features=6, bias=True)\n",
       "  (train_metrics): MetricCollection(\n",
       "    (Accuracy): Accuracy()\n",
       "    (AUROC): AUROC(),\n",
       "    prefix=train/\n",
       "  )\n",
       "  (valid_metrics): MetricCollection(\n",
       "    (Accuracy): Accuracy()\n",
       "    (AUROC): AUROC(),\n",
       "    prefix=valid/\n",
       "  )\n",
       "  (test_metrics): MetricCollection(\n",
       "    (Accuracy): Accuracy()\n",
       "    (AUROC): AUROC(),\n",
       "    prefix=test/\n",
       "  )\n",
       ")"
      ]
     },
     "execution_count": null,
     "metadata": {},
     "output_type": "execute_result"
    }
   ],
   "source": [
    "model"
   ]
  },
  {
   "cell_type": "code",
   "execution_count": null,
   "metadata": {},
   "outputs": [],
   "source": [
    "# for name, param in model.named_parameters():\n",
    "#     print(f'{name}::\\n{param}')"
   ]
  },
  {
   "cell_type": "markdown",
   "metadata": {},
   "source": [
    "### Test `fit()`"
   ]
  },
  {
   "cell_type": "code",
   "execution_count": null,
   "metadata": {},
   "outputs": [
    {
     "name": "stderr",
     "output_type": "stream",
     "text": [
      "Using 16bit native Automatic Mixed Precision (AMP)\n",
      "GPU available: True (cuda), used: True\n",
      "TPU available: False, using: 0 TPU cores\n",
      "IPU available: False, using: 0 IPUs\n",
      "HPU available: False, using: 0 HPUs\n"
     ]
    }
   ],
   "source": [
    "trainer = pl.Trainer(precision=16, accelerator='gpu', devices=-1, max_epochs=5) #, callbacks=[checkpoint_callback])"
   ]
  },
  {
   "cell_type": "code",
   "execution_count": null,
   "metadata": {},
   "outputs": [
    {
     "name": "stderr",
     "output_type": "stream",
     "text": [
      "LOCAL_RANK: 0 - CUDA_VISIBLE_DEVICES: [0]\n",
      "\n",
      "   | Name          | Type              | Params\n",
      "-----------------------------------------------------\n",
      "0  | train_loss_fn | BCEWithLogitsLoss | 0     \n",
      "1  | valid_loss_fn | BCEWithLogitsLoss | 0     \n",
      "2  | embs          | ModuleList        | 12.0 K\n",
      "3  | embgs         | ModuleList        | 17.4 K\n",
      "4  | input_dp      | InputDropout      | 0     \n",
      "5  | lstm          | LSTM              | 250 K \n",
      "6  | lin           | Sequential        | 7.4 M \n",
      "7  | lin_o         | Linear            | 20.0 K\n",
      "8  | train_metrics | MetricCollection  | 0     \n",
      "9  | valid_metrics | MetricCollection  | 0     \n",
      "10 | test_metrics  | MetricCollection  | 0     \n",
      "-----------------------------------------------------\n",
      "7.7 M     Trainable params\n",
      "0         Non-trainable params\n",
      "7.7 M     Total params\n",
      "15.322    Total estimated model params size (MB)\n"
     ]
    },
    {
     "name": "stdout",
     "output_type": "stream",
     "text": [
      "Epoch 0:   0%|          | 0/13 [00:00<?, ?it/s]                            "
     ]
    },
    {
     "name": "stderr",
     "output_type": "stream",
     "text": [
      "/home/vinod/anaconda3/envs/lemonpie/lib/python3.8/site-packages/pytorch_lightning/trainer/trainer.py:1891: PossibleUserWarning: The number of training batches (11) is smaller than the logging interval Trainer(log_every_n_steps=50). Set a lower value for log_every_n_steps if you want to see logs for the training epoch.\n",
      "  rank_zero_warn(\n"
     ]
    },
    {
     "name": "stdout",
     "output_type": "stream",
     "text": [
      "Epoch 4: 100%|██████████| 13/13 [00:07<00:00,  1.76it/s, loss=0.837, v_num=3]"
     ]
    },
    {
     "name": "stderr",
     "output_type": "stream",
     "text": [
      "`Trainer.fit` stopped: `max_epochs=5` reached.\n"
     ]
    },
    {
     "name": "stdout",
     "output_type": "stream",
     "text": [
      "Epoch 4: 100%|██████████| 13/13 [00:07<00:00,  1.72it/s, loss=0.837, v_num=3]\n"
     ]
    }
   ],
   "source": [
    "trainer.fit(model, train_dl, valid_dl)"
   ]
  },
  {
   "cell_type": "code",
   "execution_count": null,
   "metadata": {},
   "outputs": [
    {
     "name": "stdout",
     "output_type": "stream",
     "text": [
      "The tensorboard extension is already loaded. To reload it, use:\n",
      "  %reload_ext tensorboard\n"
     ]
    }
   ],
   "source": [
    "# Load the TensorBoard notebook extension\n",
    "%load_ext tensorboard"
   ]
  },
  {
   "cell_type": "code",
   "execution_count": null,
   "metadata": {},
   "outputs": [
    {
     "data": {
      "text/html": [
       "\n",
       "      <iframe id=\"tensorboard-frame-3c2c53d357c77020\" width=\"100%\" height=\"800\" frameborder=\"0\">\n",
       "      </iframe>\n",
       "      <script>\n",
       "        (function() {\n",
       "          const frame = document.getElementById(\"tensorboard-frame-3c2c53d357c77020\");\n",
       "          const url = new URL(\"/\", window.location);\n",
       "          const port = 6006;\n",
       "          if (port) {\n",
       "            url.port = port;\n",
       "          }\n",
       "          frame.src = url;\n",
       "        })();\n",
       "      </script>\n",
       "    "
      ],
      "text/plain": [
       "<IPython.core.display.HTML object>"
      ]
     },
     "metadata": {},
     "output_type": "display_data"
    }
   ],
   "source": [
    "%tensorboard --logdir \"./lightning_logs/\""
   ]
  },
  {
   "cell_type": "markdown",
   "metadata": {},
   "source": [
    "### Test `test()`"
   ]
  },
  {
   "cell_type": "code",
   "execution_count": null,
   "metadata": {},
   "outputs": [],
   "source": [
    "test_dl, test_pos_wts = ehr_1K_data.get_test_data()"
   ]
  },
  {
   "cell_type": "code",
   "execution_count": null,
   "metadata": {},
   "outputs": [
    {
     "data": {
      "text/plain": [
       "(2, tensor([ 11.,  20.,  38.,  20., 116., 116.]))"
      ]
     },
     "execution_count": null,
     "metadata": {},
     "output_type": "execute_result"
    }
   ],
   "source": [
    "len(test_dl), test_pos_wts"
   ]
  },
  {
   "cell_type": "code",
   "execution_count": null,
   "metadata": {},
   "outputs": [],
   "source": [
    "# test_loss_fn = get_loss_fn(test_pos_wts)"
   ]
  },
  {
   "cell_type": "code",
   "execution_count": null,
   "metadata": {},
   "outputs": [
    {
     "name": "stderr",
     "output_type": "stream",
     "text": [
      "LOCAL_RANK: 0 - CUDA_VISIBLE_DEVICES: [0]\n"
     ]
    },
    {
     "name": "stdout",
     "output_type": "stream",
     "text": [
      "Testing DataLoader 0:   0%|          | 0/2 [00:00<?, ?it/s]"
     ]
    },
    {
     "name": "stderr",
     "output_type": "stream",
     "text": [
      "/home/vinod/anaconda3/envs/lemonpie/lib/python3.8/site-packages/pytorch_lightning/trainer/connectors/data_connector.py:219: PossibleUserWarning: The dataloader, test_dataloader 0, does not have many workers which may be a bottleneck. Consider increasing the value of the `num_workers` argument` (try 24 which is the number of cpus on this machine) in the `DataLoader` init to improve performance.\n",
      "  rank_zero_warn(\n"
     ]
    },
    {
     "name": "stdout",
     "output_type": "stream",
     "text": [
      "Testing DataLoader 0: 100%|██████████| 2/2 [00:00<00:00,  5.85it/s]\n"
     ]
    },
    {
     "data": {
      "text/html": [
       "<pre style=\"white-space:pre;overflow-x:auto;line-height:normal;font-family:Menlo,'DejaVu Sans Mono',consolas,'Courier New',monospace\">┏━━━━━━━━━━━━━━━━━━━━━━━━━━━┳━━━━━━━━━━━━━━━━━━━━━━━━━━━┓\n",
       "┃<span style=\"font-weight: bold\">        Test metric        </span>┃<span style=\"font-weight: bold\">       DataLoader 0        </span>┃\n",
       "┡━━━━━━━━━━━━━━━━━━━━━━━━━━━╇━━━━━━━━━━━━━━━━━━━━━━━━━━━┩\n",
       "│<span style=\"color: #008080; text-decoration-color: #008080\">        test/AUROC         </span>│<span style=\"color: #800080; text-decoration-color: #800080\">    0.7643963098526001     </span>│\n",
       "│<span style=\"color: #008080; text-decoration-color: #008080\">       test/Accuracy       </span>│<span style=\"color: #800080; text-decoration-color: #800080\">    0.7330586910247803     </span>│\n",
       "└───────────────────────────┴───────────────────────────┘\n",
       "</pre>\n"
      ],
      "text/plain": [
       "┏━━━━━━━━━━━━━━━━━━━━━━━━━━━┳━━━━━━━━━━━━━━━━━━━━━━━━━━━┓\n",
       "┃\u001b[1m \u001b[0m\u001b[1m       Test metric       \u001b[0m\u001b[1m \u001b[0m┃\u001b[1m \u001b[0m\u001b[1m      DataLoader 0       \u001b[0m\u001b[1m \u001b[0m┃\n",
       "┡━━━━━━━━━━━━━━━━━━━━━━━━━━━╇━━━━━━━━━━━━━━━━━━━━━━━━━━━┩\n",
       "│\u001b[36m \u001b[0m\u001b[36m       test/AUROC        \u001b[0m\u001b[36m \u001b[0m│\u001b[35m \u001b[0m\u001b[35m   0.7643963098526001    \u001b[0m\u001b[35m \u001b[0m│\n",
       "│\u001b[36m \u001b[0m\u001b[36m      test/Accuracy      \u001b[0m\u001b[36m \u001b[0m│\u001b[35m \u001b[0m\u001b[35m   0.7330586910247803    \u001b[0m\u001b[35m \u001b[0m│\n",
       "└───────────────────────────┴───────────────────────────┘\n"
      ]
     },
     "metadata": {},
     "output_type": "display_data"
    },
    {
     "data": {
      "text/plain": [
       "[{'test/Accuracy': 0.7330586910247803, 'test/AUROC': 0.7643963098526001}]"
      ]
     },
     "execution_count": null,
     "metadata": {},
     "output_type": "execute_result"
    }
   ],
   "source": [
    "trainer.test(model, test_dl)"
   ]
  },
  {
   "cell_type": "markdown",
   "metadata": {},
   "source": [
    "> Important: Make sure to only use labels that have atleast 1 \"True\" value in each split. That is, \"y_true\" contains both false and at least one true.\n",
    "Else AUROC score calculation is not possible resulting in this error **ValueError: Only one class present in y_true. ROC AUC score is not defined in that case.**"
   ]
  },
  {
   "cell_type": "code",
   "execution_count": null,
   "metadata": {},
   "outputs": [],
   "source": [
    "ehr_1K_data.load_splits()"
   ]
  },
  {
   "cell_type": "code",
   "execution_count": null,
   "metadata": {},
   "outputs": [
    {
     "data": {
      "text/html": [
       "<div>\n",
       "<style scoped>\n",
       "    .dataframe tbody tr th:only-of-type {\n",
       "        vertical-align: middle;\n",
       "    }\n",
       "\n",
       "    .dataframe tbody tr th {\n",
       "        vertical-align: top;\n",
       "    }\n",
       "\n",
       "    .dataframe thead th {\n",
       "        text-align: right;\n",
       "    }\n",
       "</style>\n",
       "<table border=\"1\" class=\"dataframe\">\n",
       "  <thead>\n",
       "    <tr style=\"text-align: right;\">\n",
       "      <th></th>\n",
       "      <th>train</th>\n",
       "      <th>valid</th>\n",
       "      <th>test</th>\n",
       "      <th>total</th>\n",
       "    </tr>\n",
       "  </thead>\n",
       "  <tbody>\n",
       "    <tr>\n",
       "      <th>diabetes</th>\n",
       "      <td>43</td>\n",
       "      <td>14</td>\n",
       "      <td>19</td>\n",
       "      <td>76</td>\n",
       "    </tr>\n",
       "    <tr>\n",
       "      <th>stroke</th>\n",
       "      <td>30</td>\n",
       "      <td>7</td>\n",
       "      <td>11</td>\n",
       "      <td>48</td>\n",
       "    </tr>\n",
       "    <tr>\n",
       "      <th>alzheimers</th>\n",
       "      <td>12</td>\n",
       "      <td>7</td>\n",
       "      <td>6</td>\n",
       "      <td>25</td>\n",
       "    </tr>\n",
       "    <tr>\n",
       "      <th>coronary_heart</th>\n",
       "      <td>39</td>\n",
       "      <td>11</td>\n",
       "      <td>11</td>\n",
       "      <td>61</td>\n",
       "    </tr>\n",
       "    <tr>\n",
       "      <th>lung_cancer</th>\n",
       "      <td>12</td>\n",
       "      <td>0</td>\n",
       "      <td>2</td>\n",
       "      <td>14</td>\n",
       "    </tr>\n",
       "    <tr>\n",
       "      <th>breast_cancer</th>\n",
       "      <td>11</td>\n",
       "      <td>8</td>\n",
       "      <td>2</td>\n",
       "      <td>21</td>\n",
       "    </tr>\n",
       "    <tr>\n",
       "      <th>rheumatoid_arthritis</th>\n",
       "      <td>2</td>\n",
       "      <td>0</td>\n",
       "      <td>0</td>\n",
       "      <td>2</td>\n",
       "    </tr>\n",
       "    <tr>\n",
       "      <th>epilepsy</th>\n",
       "      <td>15</td>\n",
       "      <td>5</td>\n",
       "      <td>2</td>\n",
       "      <td>22</td>\n",
       "    </tr>\n",
       "  </tbody>\n",
       "</table>\n",
       "</div>"
      ],
      "text/plain": [
       "                      train  valid  test  total\n",
       "diabetes                 43     14    19     76\n",
       "stroke                   30      7    11     48\n",
       "alzheimers               12      7     6     25\n",
       "coronary_heart           39     11    11     61\n",
       "lung_cancer              12      0     2     14\n",
       "breast_cancer            11      8     2     21\n",
       "rheumatoid_arthritis      2      0     0      2\n",
       "epilepsy                 15      5     2     22"
      ]
     },
     "execution_count": null,
     "metadata": {},
     "output_type": "execute_result"
    }
   ],
   "source": [
    "ehr_1K_data.splits.get_label_counts(list(CONDITIONS.keys()))"
   ]
  },
  {
   "cell_type": "markdown",
   "metadata": {},
   "source": [
    "In this small 1K dataset, 'lung_cancer' and 'rheumatoid_arthritis' have single classes in some splits as seen in the prevalence counts above and would result in the above failure when fit is run.\n",
    "\n",
    "**However in large datasets the possibility of this is very low, but its something to watch out for.**"
   ]
  },
  {
   "cell_type": "markdown",
   "metadata": {},
   "source": [
    "## `EHR_CNN`"
   ]
  },
  {
   "cell_type": "markdown",
   "metadata": {},
   "source": [
    "Based on the Deepr paper<br>\n",
    "[Nguyen. et al. Deepr: A Convolutional Net for Medical Records](https://arxiv.org/abs/1607.07519)"
   ]
  },
  {
   "cell_type": "markdown",
   "metadata": {},
   "source": [
    "**Sizes (+ Conv Arithmetic)**"
   ]
  },
  {
   "cell_type": "markdown",
   "metadata": {},
   "source": [
    "- https://arxiv.org/pdf/1603.07285.pdf\n",
    "- conv arithmetic - https://github.com/vdumoulin/conv_arithmetic/blob/master/README.md"
   ]
  },
  {
   "cell_type": "code",
   "execution_count": null,
   "metadata": {},
   "outputs": [],
   "source": [
    "bs = 64 #batch size # of patients\n",
    "wd = 88 #rec_emb_width (concat of 1 yr of records)\n",
    "ht = 120 #num of years / months of pt data (seq_len or bptt in lstm)"
   ]
  },
  {
   "cell_type": "markdown",
   "metadata": {},
   "source": [
    "**Each pt is a 120 by 88 matrix**\n",
    "- 120 months on axis 0 (height)\n",
    "- 88 codes on axis 1 (width)"
   ]
  },
  {
   "cell_type": "code",
   "execution_count": null,
   "metadata": {},
   "outputs": [],
   "source": [
    "tst_pts = torch.randn(bs,ht,wd)"
   ]
  },
  {
   "cell_type": "code",
   "execution_count": null,
   "metadata": {},
   "outputs": [
    {
     "data": {
      "text/plain": [
       "torch.Size([64, 120, 88])"
      ]
     },
     "execution_count": null,
     "metadata": {},
     "output_type": "execute_result"
    }
   ],
   "source": [
    "tst_pts.shape"
   ]
  },
  {
   "cell_type": "markdown",
   "metadata": {},
   "source": [
    "But ...\n",
    "- **Input ::** $(N, C_{in}, H_{in}, W_{in})$\n",
    "- **Output::** $(N, C_{out}, H_{out}, W_{out})$\n",
    "\n",
    "So need to reshape to insert $C_{in}$ (which is 1 in this case) after bs"
   ]
  },
  {
   "cell_type": "code",
   "execution_count": null,
   "metadata": {},
   "outputs": [
    {
     "data": {
      "text/plain": [
       "torch.Size([64, 1, 120, 88])"
      ]
     },
     "execution_count": null,
     "metadata": {},
     "output_type": "execute_result"
    }
   ],
   "source": [
    "tst_pts = tst_pts.reshape(bs,1,ht,wd)\n",
    "tst_pts.shape"
   ]
  },
  {
   "cell_type": "code",
   "execution_count": null,
   "metadata": {},
   "outputs": [],
   "source": [
    "m = nn.Sequential(\n",
    "    nn.Conv2d(in_channels=1, out_channels=2, kernel_size=(5,5), padding=2), nn.ReLU(),\n",
    "    nn.Conv2d(2,4,kernel_size=(3,3), padding=1), nn.ReLU(),\n",
    "    nn.Conv2d(4,8,kernel_size=(3,3), stride=2, padding=1), nn.ReLU(),\n",
    "    nn.Conv2d(8,16,kernel_size=(3,3), stride=2, padding=1), nn.ReLU(),\n",
    "    nn.Conv2d(16,32,kernel_size=(3,3), stride=2, padding=1), nn.ReLU(),\n",
    "    nn.AdaptiveMaxPool2d((4,4)),\n",
    "    nn.Flatten()\n",
    ")"
   ]
  },
  {
   "cell_type": "code",
   "execution_count": null,
   "metadata": {},
   "outputs": [],
   "source": [
    "out = m(tst_pts)"
   ]
  },
  {
   "cell_type": "code",
   "execution_count": null,
   "metadata": {},
   "outputs": [
    {
     "data": {
      "text/plain": [
       "torch.Size([64, 512])"
      ]
     },
     "execution_count": null,
     "metadata": {},
     "output_type": "execute_result"
    }
   ],
   "source": [
    "out.shape"
   ]
  },
  {
   "cell_type": "markdown",
   "metadata": {},
   "source": [
    "- AdaptivePool ensures output before Flatten is bs x 32 x 4 x 4\n",
    "- And thus Flatten will always flatten it to bs x 512\n",
    "- **So can use 512 safely** - no matter the size of the input (which will change based on vocab dims and time period)"
   ]
  },
  {
   "cell_type": "code",
   "execution_count": null,
   "metadata": {},
   "outputs": [
    {
     "name": "stdout",
     "output_type": "stream",
     "text": [
      "0.weight\n",
      "0.bias\n",
      "2.weight\n",
      "2.bias\n",
      "4.weight\n",
      "4.bias\n",
      "6.weight\n",
      "6.bias\n",
      "8.weight\n",
      "8.bias\n"
     ]
    }
   ],
   "source": [
    "for name, param in m.named_parameters():\n",
    "    print(name)"
   ]
  },
  {
   "cell_type": "code",
   "execution_count": null,
   "metadata": {},
   "outputs": [],
   "source": [
    "# export\n",
    "def init_cnn(m, initrange, zero_bn=False):\n",
    "    \"\"\"Initialize CNN as described in fast.ai\"\"\"\n",
    "    if getattr(m, \"bias\", None) is not None:\n",
    "        nn.init.constant_(m.bias, 0)\n",
    "    if isinstance(m, (nn.Embedding, nn.EmbeddingBag)):\n",
    "        m.weight.data.uniform_(-initrange, initrange)\n",
    "    if isinstance(m, (nn.Conv2d, nn.Linear)):\n",
    "        nn.init.kaiming_normal_(m.weight)\n",
    "    if isinstance(m, (nn.BatchNorm1d, nn.BatchNorm2d)):\n",
    "        nn.init.constant_(m.weight, 0.0 if zero_bn else 1.0)\n",
    "    for l in m.children():\n",
    "        init_cnn(l, initrange, zero_bn)\n",
    "\n",
    "\n",
    "def conv_layer(in_channels, out_channels, kernel_size, stride=1, padding=1, bn=False):\n",
    "    \"\"\"Create a single conv layer - as described in fast.ai\"\"\"\n",
    "    layer = [\n",
    "        nn.Conv2d(in_channels, out_channels, kernel_size, stride, padding, bias=not bn)\n",
    "    ]\n",
    "    if bn:\n",
    "        layer.append(nn.BatchNorm2d(out_channels))\n",
    "    layer.append(nn.ReLU(inplace=True))\n",
    "    return layer\n"
   ]
  },
  {
   "cell_type": "markdown",
   "metadata": {},
   "source": [
    "Based on perf tuning recommendation.. \n",
    "- [Disabling bias for convolutions if directly followed by a batch norm](https://pytorch.org/tutorials/recipes/recipes/tuning_guide.html#disable-bias-for-convolutions-directly-followed-by-a-batch-norm)"
   ]
  },
  {
   "cell_type": "markdown",
   "metadata": {},
   "source": [
    "## CNN"
   ]
  },
  {
   "cell_type": "code",
   "execution_count": null,
   "metadata": {},
   "outputs": [],
   "source": [
    "# export\n",
    "class EHR_CNN(pl.LightningModule):\n",
    "    \"\"\"Based on the model described in the Deepr paper - https://arxiv.org/abs/1607.07519\"\"\"\n",
    "\n",
    "    def __init__(\n",
    "        self,\n",
    "        demograph_dims,\n",
    "        rec_dims,\n",
    "        demograph_wd,\n",
    "        rec_wd,\n",
    "        num_labels,\n",
    "        train_pos_wts,\n",
    "        valid_pos_wts,\n",
    "        optim,\n",
    "        base_lr,\n",
    "        linear_layers=4,\n",
    "        initrange=0.3,\n",
    "        bn=False,\n",
    "        input_drp=0.3,\n",
    "        linear_drp=0.3,\n",
    "        zero_bn=False,\n",
    "    ):\n",
    "\n",
    "        super().__init__()\n",
    "        self.save_hyperparameters()\n",
    "\n",
    "\n",
    "        ## args\n",
    "        self.rec_wd = rec_wd\n",
    "        self.demograph_wd = demograph_wd\n",
    "        self.bn = bn\n",
    "        self.amp_pad, _ = multiple_of_8(demograph_wd + 1)\n",
    "        lin_features_start = (\n",
    "            demograph_wd + 1 + self.amp_pad\n",
    "        ) + 512 # +1 for 'age_now', 512 = cnn output\n",
    "        self.optim = optim\n",
    "        self.base_lr = base_lr\n",
    "\n",
    "        self.train_loss_fn = nn.BCEWithLogitsLoss(pos_weight=train_pos_wts)\n",
    "        self.valid_loss_fn = nn.BCEWithLogitsLoss(pos_weight=valid_pos_wts)\n",
    "\n",
    "\n",
    "        ## model\n",
    "        self.embs = nn.ModuleList([nn.Embedding(*dim) for dim in demograph_dims])\n",
    "        self.embgs = nn.ModuleList([nn.EmbeddingBag(*dim) for dim in rec_dims])\n",
    "        self.input_dp = InputDropout(input_drp)\n",
    "        self.cnn = nn.Sequential(\n",
    "            *conv_layer(\n",
    "                in_channels=1, out_channels=2, kernel_size=(5, 5), padding=2, bn=self.bn\n",
    "            ),\n",
    "            *conv_layer(2, 4, kernel_size=(3, 3), padding=1, bn=self.bn),\n",
    "            *conv_layer(4, 8, kernel_size=3, stride=2, padding=1, bn=self.bn),\n",
    "            *conv_layer(8, 16, kernel_size=3, stride=2, padding=1, bn=self.bn),\n",
    "            *conv_layer(16, 32, kernel_size=3, stride=2, padding=1, bn=self.bn),\n",
    "            nn.AdaptiveMaxPool2d((4, 4)),\n",
    "            nn.Flatten()\n",
    "        )\n",
    "        out, self.lin = create_linear_layers(\n",
    "            lin_features_start, linear_layers, bn, linear_drp\n",
    "        )\n",
    "        self.lin_o = nn.Linear(out, num_labels)\n",
    "\n",
    "        init_cnn(self, initrange, zero_bn)\n",
    "\n",
    "\n",
    "        ## metrics\n",
    "        metrics = MetricCollection(\n",
    "            [\n",
    "                # Accuracy(),\n",
    "                AUROC(num_classes=num_labels, pos_label=1, average=\"micro\"),\n",
    "                # Recall(),\n",
    "                # Precision(),\n",
    "                # AveragePrecision(num_classes)\n",
    "            ]\n",
    "        )\n",
    "        self.train_metrics = metrics.clone(prefix=\"train/\")\n",
    "        self.valid_metrics = metrics.clone(prefix=\"valid/\")\n",
    "        self.test_metrics = metrics.clone(prefix=\"test/\")\n",
    "\n",
    "    def get_embs(self, ptbatch_recs, ptbatch_demogs, x):\n",
    "        for p in range(len(x)):  # for the batch of pts\n",
    "            ptbatch_recs[p] = torch.cat(\n",
    "                (\n",
    "                    self.embgs[0](x[p].obs_nums, x[p].obs_offsts),\n",
    "                    self.embgs[1](x[p].alg_nums, x[p].alg_offsts),\n",
    "                    self.embgs[2](x[p].crpl_nums, x[p].crpl_offsts),\n",
    "                    self.embgs[3](x[p].med_nums, x[p].med_offsts),\n",
    "                    self.embgs[4](x[p].img_nums, x[p].img_offsts),\n",
    "                    self.embgs[5](x[p].proc_nums, x[p].proc_offsts),\n",
    "                    self.embgs[6](x[p].cnd_nums, x[p].cnd_offsts),\n",
    "                    self.embgs[7](x[p].imm_nums, x[p].imm_offsts),\n",
    "                ),\n",
    "                dim=1,\n",
    "            )  # for the entire age span, example all 20 yrs\n",
    "            ptbatch_demogs[p] = torch.cat(\n",
    "                (\n",
    "                    self.embs[0](x[p].demographics[0]),\n",
    "                    self.embs[1](x[p].demographics[1]),\n",
    "                    self.embs[2](x[p].demographics[2]),\n",
    "                    self.embs[3](x[p].demographics[3]),\n",
    "                    self.embs[4](x[p].demographics[4]),\n",
    "                    self.embs[5](x[p].demographics[5]),\n",
    "                    self.embs[6](x[p].demographics[6]),\n",
    "                    self.embs[7](x[p].demographics[7]),\n",
    "                    self.embs[8](x[p].demographics[8]),\n",
    "                    self.embs[9](x[p].demographics[9]),\n",
    "                    self.embs[10](x[p].demographics[10]),\n",
    "                    x[p].age_now,\n",
    "                    torch.zeros(self.amp_pad, device=self.device),\n",
    "                )\n",
    "            )\n",
    "\n",
    "        return ptbatch_recs, ptbatch_demogs\n",
    "\n",
    "    def forward(self, x):\n",
    "\n",
    "        bs = len(x)\n",
    "        height = len(x[0].obs_offsts)\n",
    "        width = self.rec_wd\n",
    "\n",
    "        ptbatch_recs = torch.empty(bs, height, width, device=self.device)\n",
    "        ptbatch_demogs = torch.empty(\n",
    "            bs, self.demograph_wd + 1 + self.amp_pad, device=self.device\n",
    "        )\n",
    "        ptbatch_recs, ptbatch_demogs = self.get_embs(ptbatch_recs, ptbatch_demogs, x)\n",
    "\n",
    "        ptbatch_recs = self.input_dp(ptbatch_recs)  # apply input dropout\n",
    "\n",
    "        res = self.cnn(ptbatch_recs.reshape(bs, 1, height, width))  # cnn output\n",
    "        res = self.lin(\n",
    "            torch.cat((res, ptbatch_demogs), dim=1)\n",
    "        )  # concat demographics + send thru linear lyrs\n",
    "        out = self.lin_o(res)\n",
    "\n",
    "        return out\n",
    "\n",
    "    def training_step(self, batch, batch_idx):\n",
    "        xb, yb = batch\n",
    "        xb, yb = [x.to_gpu(non_block=True) for x in xb], yb.to(\n",
    "            self.device, non_blocking=True\n",
    "        )\n",
    "        y_hat = self(xb)\n",
    "        train_loss = self.train_loss_fn(y_hat, yb)\n",
    "\n",
    "        self.log(\"train_loss\", train_loss, on_step=True, on_epoch=True)\n",
    "        self.train_metrics.update(y_hat, yb.int())\n",
    "        self.log_dict(self.train_metrics.compute(), on_step=False, on_epoch=True)\n",
    "\n",
    "        return train_loss\n",
    "\n",
    "    def validation_step(self, batch, batch_idx):\n",
    "        xb, yb = batch\n",
    "        xb, yb = [x.to_gpu(non_block=True) for x in xb], yb.to(\n",
    "            self.device, non_blocking=True\n",
    "        )\n",
    "        y_hat = self(xb)\n",
    "        valid_loss = self.valid_loss_fn(y_hat, yb)\n",
    "\n",
    "        self.log(\"valid_loss\", valid_loss, on_step=True, on_epoch=True)\n",
    "        self.valid_metrics.update(y_hat, yb.int())\n",
    "        self.log_dict(self.valid_metrics.compute(), on_step=False, on_epoch=True)\n",
    "\n",
    "        return valid_loss\n",
    "\n",
    "    def test_step(self, batch, batch_idx):\n",
    "        xb, yb = batch\n",
    "        xb, yb = [x.to_gpu(non_block=True) for x in xb], yb.to(\n",
    "            self.device, non_blocking=True\n",
    "        )\n",
    "        y_hat = self(xb)\n",
    "        # test_loss = self.loss_fns[\"test\"](y_hat, yb)\n",
    "\n",
    "        # self.log(\"test_loss\", test_loss, on_step=True, on_epoch=True)\n",
    "        self.test_metrics.update(y_hat, yb.int())\n",
    "        self.log_dict(self.test_metrics.compute(), on_step=False, on_epoch=True)\n",
    "\n",
    "        return\n",
    "\n",
    "    def configure_optimizers(self):\n",
    "        # optimizer\n",
    "        if self.optim == \"adam\":\n",
    "            optimizer = torch.optim.Adam(self.parameters(), lr=self.base_lr)\n",
    "        else:\n",
    "            optimizer = torch.optim.SGD(\n",
    "                self.parameters(), lr=1e-2, momentum=0.9, weight_decay=1e-2\n",
    "            )\n",
    "\n",
    "        # scheduler\n",
    "        lr_scheduler = torch.optim.lr_scheduler.MultiStepLR(\n",
    "            optimizer, milestones=[5, 8, 10, 12, 14, 16, 18, 20], gamma=0.9\n",
    "        )\n",
    "\n",
    "        return {\n",
    "            \"optimizer\": optimizer,\n",
    "            \"lr_scheduler\": lr_scheduler,\n",
    "        }\n"
   ]
  },
  {
   "cell_type": "markdown",
   "metadata": {},
   "source": [
    "**Load Data + Inspect**"
   ]
  },
  {
   "cell_type": "code",
   "execution_count": null,
   "metadata": {},
   "outputs": [],
   "source": [
    "ehr_1K_data = EHRData(\n",
    "    PATH_1K,\n",
    "    labels,\n",
    "    age_start=240,\n",
    "    age_range=120,\n",
    "    start_is_date=False,\n",
    "    age_in_months=True,\n",
    "    lazy_load_gpu=False,\n",
    ")\n",
    " #entire dataset on GPU"
   ]
  },
  {
   "cell_type": "code",
   "execution_count": null,
   "metadata": {},
   "outputs": [],
   "source": [
    "demograph_dims, rec_dims, demograph_dims_wd, rec_dims_wd = get_all_emb_dims(EhrVocabList.load(PATH_1K))"
   ]
  },
  {
   "cell_type": "code",
   "execution_count": null,
   "metadata": {},
   "outputs": [],
   "source": [
    "train_dl, valid_dl, train_pos_wts, valid_pos_wts = ehr_1K_data.get_data()"
   ]
  },
  {
   "cell_type": "markdown",
   "metadata": {},
   "source": [
    "**Inspect Model**"
   ]
  },
  {
   "cell_type": "code",
   "execution_count": null,
   "metadata": {},
   "outputs": [
    {
     "name": "stderr",
     "output_type": "stream",
     "text": [
      "/home/vinod/anaconda3/envs/lemonpie/lib/python3.8/site-packages/torchmetrics/utilities/prints.py:36: UserWarning: Metric `AUROC` will save all targets and predictions in buffer. For large datasets this may lead to large memory footprint.\n",
      "  warnings.warn(*args, **kwargs)\n"
     ]
    }
   ],
   "source": [
    "model = EHR_CNN(\n",
    "    demograph_dims,\n",
    "    rec_dims,\n",
    "    demograph_dims_wd,\n",
    "    rec_dims_wd,\n",
    "    len(labels),\n",
    "    train_pos_wts,\n",
    "    valid_pos_wts,\n",
    "    optim=\"adam\",\n",
    "    base_lr=0.001,\n",
    ")\n"
   ]
  },
  {
   "cell_type": "code",
   "execution_count": null,
   "metadata": {},
   "outputs": [
    {
     "data": {
      "text/plain": [
       "EHR_CNN(\n",
       "  (train_loss_fn): BCEWithLogitsLoss()\n",
       "  (valid_loss_fn): BCEWithLogitsLoss()\n",
       "  (embs): ModuleList(\n",
       "    (0): Embedding(40, 8)\n",
       "    (1): Embedding(16, 8)\n",
       "    (2): Embedding(128, 8)\n",
       "    (3): Embedding(8, 8)\n",
       "    (4): Embedding(8, 8)\n",
       "    (5): Embedding(8, 8)\n",
       "    (6): Embedding(8, 8)\n",
       "    (7): Embedding(248, 16)\n",
       "    (8): Embedding(208, 16)\n",
       "    (9): Embedding(8, 8)\n",
       "    (10): Embedding(184, 16)\n",
       "  )\n",
       "  (embgs): ModuleList(\n",
       "    (0): EmbeddingBag(536, 16, mode=mean)\n",
       "    (1): EmbeddingBag(32, 8, mode=mean)\n",
       "    (2): EmbeddingBag(56, 8, mode=mean)\n",
       "    (3): EmbeddingBag(232, 16, mode=mean)\n",
       "    (4): EmbeddingBag(16, 8, mode=mean)\n",
       "    (5): EmbeddingBag(144, 8, mode=mean)\n",
       "    (6): EmbeddingBag(184, 16, mode=mean)\n",
       "    (7): EmbeddingBag(24, 8, mode=mean)\n",
       "  )\n",
       "  (input_dp): InputDropout()\n",
       "  (cnn): Sequential(\n",
       "    (0): Conv2d(1, 2, kernel_size=(5, 5), stride=(1, 1), padding=(2, 2))\n",
       "    (1): ReLU(inplace=True)\n",
       "    (2): Conv2d(2, 4, kernel_size=(3, 3), stride=(1, 1), padding=(1, 1))\n",
       "    (3): ReLU(inplace=True)\n",
       "    (4): Conv2d(4, 8, kernel_size=(3, 3), stride=(2, 2), padding=(1, 1))\n",
       "    (5): ReLU(inplace=True)\n",
       "    (6): Conv2d(8, 16, kernel_size=(3, 3), stride=(2, 2), padding=(1, 1))\n",
       "    (7): ReLU(inplace=True)\n",
       "    (8): Conv2d(16, 32, kernel_size=(3, 3), stride=(2, 2), padding=(1, 1))\n",
       "    (9): ReLU(inplace=True)\n",
       "    (10): AdaptiveMaxPool2d(output_size=(4, 4))\n",
       "    (11): Flatten(start_dim=1, end_dim=-1)\n",
       "  )\n",
       "  (lin): Sequential(\n",
       "    (0): Linear(in_features=632, out_features=1264, bias=True)\n",
       "    (1): ReLU(inplace=True)\n",
       "    (2): Dropout(p=0.3, inplace=False)\n",
       "    (3): Linear(in_features=1264, out_features=2528, bias=True)\n",
       "    (4): ReLU(inplace=True)\n",
       "    (5): Dropout(p=0.3, inplace=False)\n",
       "    (6): Linear(in_features=2528, out_features=5056, bias=True)\n",
       "    (7): ReLU(inplace=True)\n",
       "    (8): Dropout(p=0.3, inplace=False)\n",
       "    (9): Linear(in_features=5056, out_features=10112, bias=True)\n",
       "    (10): ReLU(inplace=True)\n",
       "    (11): Dropout(p=0.3, inplace=False)\n",
       "  )\n",
       "  (lin_o): Linear(in_features=10112, out_features=6, bias=True)\n",
       "  (train_metrics): MetricCollection(\n",
       "    (AUROC): AUROC(),\n",
       "    prefix=train/\n",
       "  )\n",
       "  (valid_metrics): MetricCollection(\n",
       "    (AUROC): AUROC(),\n",
       "    prefix=valid/\n",
       "  )\n",
       "  (test_metrics): MetricCollection(\n",
       "    (AUROC): AUROC(),\n",
       "    prefix=test/\n",
       "  )\n",
       ")"
      ]
     },
     "execution_count": null,
     "metadata": {},
     "output_type": "execute_result"
    }
   ],
   "source": [
    "model"
   ]
  },
  {
   "cell_type": "code",
   "execution_count": null,
   "metadata": {},
   "outputs": [],
   "source": [
    "# for name, param in model.named_parameters():\n",
    "#     print(f'{name}::\\n{param}')"
   ]
  },
  {
   "cell_type": "markdown",
   "metadata": {},
   "source": [
    "### Test `fit()`"
   ]
  },
  {
   "cell_type": "code",
   "execution_count": null,
   "metadata": {},
   "outputs": [
    {
     "name": "stderr",
     "output_type": "stream",
     "text": [
      "Using 16bit native Automatic Mixed Precision (AMP)\n",
      "GPU available: True (cuda), used: True\n",
      "TPU available: False, using: 0 TPU cores\n",
      "IPU available: False, using: 0 IPUs\n",
      "HPU available: False, using: 0 HPUs\n"
     ]
    }
   ],
   "source": [
    "trainer = pl.Trainer(precision=16, accelerator='gpu', devices=-1, max_epochs=5) #, callbacks=[checkpoint_callback])"
   ]
  },
  {
   "cell_type": "code",
   "execution_count": null,
   "metadata": {},
   "outputs": [
    {
     "name": "stderr",
     "output_type": "stream",
     "text": [
      "LOCAL_RANK: 0 - CUDA_VISIBLE_DEVICES: [0]\n",
      "\n",
      "   | Name          | Type              | Params\n",
      "-----------------------------------------------------\n",
      "0  | train_loss_fn | BCEWithLogitsLoss | 0     \n",
      "1  | valid_loss_fn | BCEWithLogitsLoss | 0     \n",
      "2  | embs          | ModuleList        | 12.0 K\n",
      "3  | embgs         | ModuleList        | 17.4 K\n",
      "4  | input_dp      | InputDropout      | 0     \n",
      "5  | cnn           | Sequential        | 6.2 K \n",
      "6  | lin           | Sequential        | 67.9 M\n",
      "7  | lin_o         | Linear            | 60.7 K\n",
      "8  | train_metrics | MetricCollection  | 0     \n",
      "9  | valid_metrics | MetricCollection  | 0     \n",
      "10 | test_metrics  | MetricCollection  | 0     \n",
      "-----------------------------------------------------\n",
      "68.0 M    Trainable params\n",
      "0         Non-trainable params\n",
      "68.0 M    Total params\n",
      "136.035   Total estimated model params size (MB)\n"
     ]
    },
    {
     "name": "stdout",
     "output_type": "stream",
     "text": [
      "Sanity Checking DataLoader 0:  50%|█████     | 1/2 [00:00<00:00,  7.29it/s]"
     ]
    },
    {
     "name": "stderr",
     "output_type": "stream",
     "text": [
      "/home/vinod/anaconda3/envs/lemonpie/lib/python3.8/site-packages/pytorch_lightning/trainer/connectors/data_connector.py:219: PossibleUserWarning: The dataloader, val_dataloader 0, does not have many workers which may be a bottleneck. Consider increasing the value of the `num_workers` argument` (try 24 which is the number of cpus on this machine) in the `DataLoader` init to improve performance.\n",
      "  rank_zero_warn(\n"
     ]
    },
    {
     "name": "stdout",
     "output_type": "stream",
     "text": [
      "Epoch 0:   0%|          | 0/13 [00:00<?, ?it/s]                            "
     ]
    },
    {
     "name": "stderr",
     "output_type": "stream",
     "text": [
      "/home/vinod/anaconda3/envs/lemonpie/lib/python3.8/site-packages/pytorch_lightning/trainer/connectors/data_connector.py:219: PossibleUserWarning: The dataloader, train_dataloader, does not have many workers which may be a bottleneck. Consider increasing the value of the `num_workers` argument` (try 24 which is the number of cpus on this machine) in the `DataLoader` init to improve performance.\n",
      "  rank_zero_warn(\n",
      "/home/vinod/anaconda3/envs/lemonpie/lib/python3.8/site-packages/pytorch_lightning/trainer/trainer.py:1891: PossibleUserWarning: The number of training batches (11) is smaller than the logging interval Trainer(log_every_n_steps=50). Set a lower value for log_every_n_steps if you want to see logs for the training epoch.\n",
      "  rank_zero_warn(\n"
     ]
    },
    {
     "name": "stdout",
     "output_type": "stream",
     "text": [
      "Epoch 4: 100%|██████████| 13/13 [00:02<00:00,  5.50it/s, loss=0.825, v_num=4]"
     ]
    },
    {
     "name": "stderr",
     "output_type": "stream",
     "text": [
      "`Trainer.fit` stopped: `max_epochs=5` reached.\n"
     ]
    },
    {
     "name": "stdout",
     "output_type": "stream",
     "text": [
      "Epoch 4: 100%|██████████| 13/13 [00:04<00:00,  3.23it/s, loss=0.825, v_num=4]\n"
     ]
    }
   ],
   "source": [
    "trainer.fit(model, train_dl, valid_dl)"
   ]
  },
  {
   "cell_type": "markdown",
   "metadata": {},
   "source": [
    "### Test `test()`"
   ]
  },
  {
   "cell_type": "code",
   "execution_count": null,
   "metadata": {},
   "outputs": [],
   "source": [
    "test_dl, test_pos_wts = ehr_1K_data.get_test_data()"
   ]
  },
  {
   "cell_type": "code",
   "execution_count": null,
   "metadata": {},
   "outputs": [
    {
     "data": {
      "text/plain": [
       "(2, tensor([ 11.,  20.,  38.,  20., 116., 116.]))"
      ]
     },
     "execution_count": null,
     "metadata": {},
     "output_type": "execute_result"
    }
   ],
   "source": [
    "len(test_dl), test_pos_wts"
   ]
  },
  {
   "cell_type": "code",
   "execution_count": null,
   "metadata": {},
   "outputs": [
    {
     "name": "stderr",
     "output_type": "stream",
     "text": [
      "LOCAL_RANK: 0 - CUDA_VISIBLE_DEVICES: [0]\n"
     ]
    },
    {
     "name": "stdout",
     "output_type": "stream",
     "text": [
      "Testing DataLoader 0:  50%|█████     | 1/2 [00:00<00:00,  9.87it/s]"
     ]
    },
    {
     "name": "stderr",
     "output_type": "stream",
     "text": [
      "/home/vinod/anaconda3/envs/lemonpie/lib/python3.8/site-packages/pytorch_lightning/trainer/connectors/data_connector.py:219: PossibleUserWarning: The dataloader, test_dataloader 0, does not have many workers which may be a bottleneck. Consider increasing the value of the `num_workers` argument` (try 24 which is the number of cpus on this machine) in the `DataLoader` init to improve performance.\n",
      "  rank_zero_warn(\n"
     ]
    },
    {
     "name": "stdout",
     "output_type": "stream",
     "text": [
      "Testing DataLoader 0: 100%|██████████| 2/2 [00:00<00:00,  9.40it/s]\n"
     ]
    },
    {
     "data": {
      "text/html": [
       "<pre style=\"white-space:pre;overflow-x:auto;line-height:normal;font-family:Menlo,'DejaVu Sans Mono',consolas,'Courier New',monospace\">┏━━━━━━━━━━━━━━━━━━━━━━━━━━━┳━━━━━━━━━━━━━━━━━━━━━━━━━━━┓\n",
       "┃<span style=\"font-weight: bold\">        Test metric        </span>┃<span style=\"font-weight: bold\">       DataLoader 0        </span>┃\n",
       "┡━━━━━━━━━━━━━━━━━━━━━━━━━━━╇━━━━━━━━━━━━━━━━━━━━━━━━━━━┩\n",
       "│<span style=\"color: #008080; text-decoration-color: #008080\">        test/AUROC         </span>│<span style=\"color: #800080; text-decoration-color: #800080\">    0.8774048089981079     </span>│\n",
       "└───────────────────────────┴───────────────────────────┘\n",
       "</pre>\n"
      ],
      "text/plain": [
       "┏━━━━━━━━━━━━━━━━━━━━━━━━━━━┳━━━━━━━━━━━━━━━━━━━━━━━━━━━┓\n",
       "┃\u001b[1m \u001b[0m\u001b[1m       Test metric       \u001b[0m\u001b[1m \u001b[0m┃\u001b[1m \u001b[0m\u001b[1m      DataLoader 0       \u001b[0m\u001b[1m \u001b[0m┃\n",
       "┡━━━━━━━━━━━━━━━━━━━━━━━━━━━╇━━━━━━━━━━━━━━━━━━━━━━━━━━━┩\n",
       "│\u001b[36m \u001b[0m\u001b[36m       test/AUROC        \u001b[0m\u001b[36m \u001b[0m│\u001b[35m \u001b[0m\u001b[35m   0.8774048089981079    \u001b[0m\u001b[35m \u001b[0m│\n",
       "└───────────────────────────┴───────────────────────────┘\n"
      ]
     },
     "metadata": {},
     "output_type": "display_data"
    },
    {
     "data": {
      "text/plain": [
       "[{'test/AUROC': 0.8774048089981079}]"
      ]
     },
     "execution_count": null,
     "metadata": {},
     "output_type": "execute_result"
    }
   ],
   "source": [
    "trainer.test(model, test_dl)"
   ]
  },
  {
   "cell_type": "code",
   "execution_count": null,
   "metadata": {},
   "outputs": [
    {
     "name": "stdout",
     "output_type": "stream",
     "text": [
      "From \"/home/vinod/.lemonpie/models/checkpoint.tar\", loading model ...\n",
      "test loss = 1.2827515602111816\n",
      "test aurocs = [0.755117 0.92086  0.907569 0.812094 0.934549 0.334764]\n"
     ]
    }
   ],
   "source": [
    "h = predict(h, model, test_loss_fn, auroc_score, test_dl, chkpt_path=MODEL_STORE)"
   ]
  },
  {
   "cell_type": "markdown",
   "metadata": {},
   "source": [
    "### Test plotting + results"
   ]
  },
  {
   "cell_type": "code",
   "execution_count": null,
   "metadata": {},
   "outputs": [
    {
     "data": {
      "image/png": "[encoded data removed]",
      "text/plain": [
       "<Figure size 1080x360 with 2 Axes>"
      ]
     },
     "metadata": {
      "needs_background": "light"
     },
     "output_type": "display_data"
    },
    {
     "data": {
      "image/png": "[encoded data removed]",
      "text/plain": [
       "<Figure size 1080x360 with 2 Axes>"
      ]
     },
     "metadata": {
      "needs_background": "light"
     },
     "output_type": "display_data"
    },
    {
     "data": {
      "image/png": "[encoded data removed]",
      "text/plain": [
       "<Figure size 1080x360 with 2 Axes>"
      ]
     },
     "metadata": {
      "needs_background": "light"
     },
     "output_type": "display_data"
    }
   ],
   "source": [
    "plot_fit_results(h, labels)"
   ]
  },
  {
   "cell_type": "code",
   "execution_count": null,
   "metadata": {},
   "outputs": [
    {
     "name": "stdout",
     "output_type": "stream",
     "text": [
      "\n",
      "Prediction Summary ...\n",
      "                auroc_score  optimal_threshold     auroc_95_ci\n",
      "diabetes           0.755117           0.574707  (0.674, 0.827)\n",
      "stroke             0.920860           0.958984  (0.845, 0.979)\n",
      "alzheimers         0.907569           1.465820  (0.858, 0.953)\n",
      "coronary_heart     0.812094           0.529297  (0.691, 0.918)\n",
      "breast_cancer      0.934549           1.244141  (0.854, 0.996)\n",
      "epilepsy           0.334764           0.261475  (0.258, 0.405)\n"
     ]
    },
    {
     "data": {
      "image/png": "[encoded data removed]",
      "text/plain": [
       "<Figure size 576x360 with 1 Axes>"
      ]
     },
     "metadata": {
      "needs_background": "light"
     },
     "output_type": "display_data"
    }
   ],
   "source": [
    "h = summarize_prediction(h, labels)"
   ]
  },
  {
   "cell_type": "code",
   "execution_count": null,
   "metadata": {},
   "outputs": [
    {
     "data": {
      "text/html": [
       "<div>\n",
       "<style scoped>\n",
       "    .dataframe tbody tr th:only-of-type {\n",
       "        vertical-align: middle;\n",
       "    }\n",
       "\n",
       "    .dataframe tbody tr th {\n",
       "        vertical-align: top;\n",
       "    }\n",
       "\n",
       "    .dataframe thead th {\n",
       "        text-align: right;\n",
       "    }\n",
       "</style>\n",
       "<table border=\"1\" class=\"dataframe\">\n",
       "  <thead>\n",
       "    <tr style=\"text-align: right;\">\n",
       "      <th></th>\n",
       "      <th>auroc_score</th>\n",
       "      <th>optimal_threshold</th>\n",
       "      <th>auroc_95_ci</th>\n",
       "    </tr>\n",
       "  </thead>\n",
       "  <tbody>\n",
       "    <tr>\n",
       "      <th>diabetes</th>\n",
       "      <td>0.755117</td>\n",
       "      <td>0.574707</td>\n",
       "      <td>(0.674, 0.827)</td>\n",
       "    </tr>\n",
       "    <tr>\n",
       "      <th>stroke</th>\n",
       "      <td>0.920860</td>\n",
       "      <td>0.958984</td>\n",
       "      <td>(0.845, 0.979)</td>\n",
       "    </tr>\n",
       "    <tr>\n",
       "      <th>alzheimers</th>\n",
       "      <td>0.907569</td>\n",
       "      <td>1.465820</td>\n",
       "      <td>(0.858, 0.953)</td>\n",
       "    </tr>\n",
       "    <tr>\n",
       "      <th>coronary_heart</th>\n",
       "      <td>0.812094</td>\n",
       "      <td>0.529297</td>\n",
       "      <td>(0.691, 0.918)</td>\n",
       "    </tr>\n",
       "    <tr>\n",
       "      <th>breast_cancer</th>\n",
       "      <td>0.934549</td>\n",
       "      <td>1.244141</td>\n",
       "      <td>(0.854, 0.996)</td>\n",
       "    </tr>\n",
       "    <tr>\n",
       "      <th>epilepsy</th>\n",
       "      <td>0.334764</td>\n",
       "      <td>0.261475</td>\n",
       "      <td>(0.258, 0.405)</td>\n",
       "    </tr>\n",
       "  </tbody>\n",
       "</table>\n",
       "</div>"
      ],
      "text/plain": [
       "                auroc_score  optimal_threshold     auroc_95_ci\n",
       "diabetes           0.755117           0.574707  (0.674, 0.827)\n",
       "stroke             0.920860           0.958984  (0.845, 0.979)\n",
       "alzheimers         0.907569           1.465820  (0.858, 0.953)\n",
       "coronary_heart     0.812094           0.529297  (0.691, 0.918)\n",
       "breast_cancer      0.934549           1.244141  (0.854, 0.996)\n",
       "epilepsy           0.334764           0.261475  (0.258, 0.405)"
      ]
     },
     "execution_count": null,
     "metadata": {},
     "output_type": "execute_result"
    }
   ],
   "source": [
    "h.prediction_summary"
   ]
  },
  {
   "cell_type": "markdown",
   "metadata": {},
   "source": [
    "## Export -"
   ]
  },
  {
   "cell_type": "code",
   "execution_count": null,
   "metadata": {},
   "outputs": [
    {
     "name": "stdout",
     "output_type": "stream",
     "text": [
      "Converted 00_basics.ipynb.\n",
      "Converted 01_preprocessing_clean.ipynb.\n",
      "Converted 02_preprocessing_vocab.ipynb.\n",
      "Converted 03_preprocessing_transform.ipynb.\n",
      "Converted 04_data.ipynb.\n",
      "Converted 05_metrics.ipynb.\n",
      "Converted 06_learn.ipynb.\n",
      "Converted 07_models.ipynb.\n",
      "Converted 08_experiment.ipynb.\n",
      "Converted 999_amp_testing.ipynb.\n",
      "Converted 999_fusion.ipynb.\n",
      "Converted 99_quick_walkthru.ipynb.\n",
      "Converted 99_running_exps.ipynb.\n",
      "Converted index.ipynb.\n"
     ]
    }
   ],
   "source": [
    "#hide\n",
    "from nbdev.export import *\n",
    "notebook2script()"
   ]
  },
  {
   "cell_type": "code",
   "execution_count": null,
   "metadata": {},
   "outputs": [],
   "source": []
  }
 ],
 "metadata": {
  "kernelspec": {
   "display_name": "Python 3.8.8 ('lemonpie')",
   "language": "python",
   "name": "python3"
  }
 },
 "nbformat": 4,
 "nbformat_minor": 4
}
