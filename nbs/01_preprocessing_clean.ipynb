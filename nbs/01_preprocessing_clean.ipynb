{
 "cells": [
  {
   "cell_type": "code",
   "execution_count": null,
   "metadata": {},
   "outputs": [],
   "source": [
    "# default_exp preprocessing.clean"
   ]
  },
  {
   "cell_type": "code",
   "execution_count": null,
   "metadata": {},
   "outputs": [],
   "source": [
    "#all_slow"
   ]
  },
  {
   "cell_type": "markdown",
   "metadata": {},
   "source": [
    "# Clean\n",
    "\n",
    "> Functions to split the raw EHR dataset, clean and save for further processing & vocab creation."
   ]
  },
  {
   "cell_type": "code",
   "execution_count": null,
   "metadata": {},
   "outputs": [
    {
     "data": {
      "text/html": [
       "<style>.container { width:85% !important; }</style>"
      ],
      "text/plain": [
       "<IPython.core.display.HTML object>"
      ]
     },
     "metadata": {},
     "output_type": "display_data"
    }
   ],
   "source": [
    "#hide\n",
    "from IPython.core.display import display, HTML\n",
    "display(HTML(\"<style>.container { width:85% !important; }</style>\"))"
   ]
  },
  {
   "cell_type": "code",
   "execution_count": null,
   "metadata": {},
   "outputs": [],
   "source": [
    "#hide\n",
    "%reload_ext autoreload\n",
    "%autoreload 2"
   ]
  },
  {
   "cell_type": "code",
   "execution_count": null,
   "metadata": {},
   "outputs": [],
   "source": [
    "#export\n",
    "from lemonpie.basics import *\n",
    "from fastai.imports import *\n",
    "import ray"
   ]
  },
  {
   "cell_type": "code",
   "execution_count": null,
   "metadata": {},
   "outputs": [],
   "source": [
    "#hide\n",
    "from nbdev.showdoc import *"
   ]
  },
  {
   "cell_type": "code",
   "execution_count": null,
   "metadata": {},
   "outputs": [
    {
     "name": "stderr",
     "output_type": "stream",
     "text": [
      "2022-09-21 21:35:00,624\tINFO services.py:1245 -- View the Ray dashboard at \u001b[1m\u001b[32mhttp://127.0.0.1:8265\u001b[39m\u001b[22m\n"
     ]
    },
    {
     "data": {
      "text/plain": [
       "{'node_ip_address': '192.168.86.91',\n",
       " 'raylet_ip_address': '192.168.86.91',\n",
       " 'redis_address': '192.168.86.91:6379',\n",
       " 'object_store_address': '/tmp/ray/session_2022-09-21_21-34-59_137609_42784/sockets/plasma_store',\n",
       " 'raylet_socket_name': '/tmp/ray/session_2022-09-21_21-34-59_137609_42784/sockets/raylet',\n",
       " 'webui_url': '127.0.0.1:8265',\n",
       " 'session_dir': '/tmp/ray/session_2022-09-21_21-34-59_137609_42784',\n",
       " 'metrics_export_port': 54481,\n",
       " 'node_id': '72f5673008eb220ca05c4b61e91c8adc25c8cccb4a14200f97edb1cf'}"
      ]
     },
     "execution_count": null,
     "metadata": {},
     "output_type": "execute_result"
    }
   ],
   "source": [
    "ray.init()"
   ]
  },
  {
   "cell_type": "markdown",
   "metadata": {},
   "source": [
    "## Split "
   ]
  },
  {
   "cell_type": "markdown",
   "metadata": {},
   "source": [
    "Once dataset is assembled, the folder will look as follows .. "
   ]
  },
  {
   "cell_type": "code",
   "execution_count": null,
   "metadata": {},
   "outputs": [
    {
     "data": {
      "text/plain": [
       "'/home/vinod/.lemonpie/datasets'"
      ]
     },
     "execution_count": null,
     "metadata": {},
     "output_type": "execute_result"
    }
   ],
   "source": [
    "DATA_STORE"
   ]
  },
  {
   "cell_type": "code",
   "execution_count": null,
   "metadata": {},
   "outputs": [
    {
     "data": {
      "text/plain": [
       "'/home/vinod/.lemonpie/datasets/synthea/1K'"
      ]
     },
     "execution_count": null,
     "metadata": {},
     "output_type": "execute_result"
    }
   ],
   "source": [
    "PATH_1K"
   ]
  },
  {
   "cell_type": "code",
   "execution_count": null,
   "metadata": {},
   "outputs": [
    {
     "data": {
      "text/plain": [
       "['patients.csv',\n",
       " 'observations.csv',\n",
       " 'allergies.csv',\n",
       " 'payers.csv',\n",
       " 'careplans.csv',\n",
       " 'medications.csv',\n",
       " 'devices.csv',\n",
       " 'organizations.csv',\n",
       " 'imaging_studies.csv',\n",
       " 'procedures.csv',\n",
       " 'payer_transitions.csv',\n",
       " 'supplies.csv',\n",
       " 'conditions.csv',\n",
       " 'providers.csv',\n",
       " 'encounters.csv',\n",
       " 'immunizations.csv']"
      ]
     },
     "execution_count": null,
     "metadata": {},
     "output_type": "execute_result"
    }
   ],
   "source": [
    "os.listdir(f'{PATH_1K}/raw_original')"
   ]
  },
  {
   "cell_type": "code",
   "execution_count": null,
   "metadata": {},
   "outputs": [],
   "source": [
    "#export\n",
    "def read_raw_ehrdata(path, csv_names = FILENAMES):\n",
    "    '''Read raw EHR data'''\n",
    "    dfs = [pd.read_csv(f'{path}/{fname}.csv', low_memory=False) for fname in csv_names]\n",
    "    return dfs    "
   ]
  },
  {
   "cell_type": "code",
   "execution_count": null,
   "metadata": {},
   "outputs": [],
   "source": [
    "dfs = read_raw_ehrdata(f'{PATH_1K}/raw_original')"
   ]
  },
  {
   "cell_type": "code",
   "execution_count": null,
   "metadata": {},
   "outputs": [],
   "source": [
    "patients, observations, allergies, careplans, medications, imaging_studies, procedures, conditions, immunizations = dfs"
   ]
  },
  {
   "cell_type": "code",
   "execution_count": null,
   "metadata": {},
   "outputs": [],
   "source": [
    "#export\n",
    "def split_patients(patients, valid_pct=0.2, test_pct=0.2, random_state=1234):\n",
    "    '''Split the patients dataframe'''\n",
    "    train_pct = 1 - (valid_pct + test_pct)\n",
    "    print(f'Splits:: train: {train_pct}, valid: {valid_pct}, test: {test_pct}')\n",
    "    patients = patients.sample(frac=1, random_state=random_state).reset_index(drop=True)\n",
    "    return np.split(patients, [int(train_pct*len(patients)), int((train_pct+valid_pct)*len(patients))])"
   ]
  },
  {
   "cell_type": "code",
   "execution_count": null,
   "metadata": {},
   "outputs": [
    {
     "name": "stdout",
     "output_type": "stream",
     "text": [
      "Splits:: train: 0.7, valid: 0.2, test: 0.1\n"
     ]
    }
   ],
   "source": [
    "train_pts, valid_pts, test_pts = split_patients(patients, .2,.1)"
   ]
  },
  {
   "cell_type": "code",
   "execution_count": null,
   "metadata": {},
   "outputs": [
    {
     "data": {
      "text/plain": [
       "(1171, 819, 234, 118)"
      ]
     },
     "execution_count": null,
     "metadata": {},
     "output_type": "execute_result"
    }
   ],
   "source": [
    "len(patients), len(train_pts), len(valid_pts), len(test_pts)"
   ]
  },
  {
   "cell_type": "code",
   "execution_count": null,
   "metadata": {},
   "outputs": [],
   "source": [
    "assert len(patients) == len(train_pts)+len(valid_pts)+len(test_pts)"
   ]
  },
  {
   "cell_type": "code",
   "execution_count": null,
   "metadata": {},
   "outputs": [],
   "source": [
    "#export\n",
    "def split_ehr_dataset(path, valid_pct=0.2, test_pct=0.2, random_state=1234):\n",
    "    '''Split EHR dataset into train, valid, test and save'''\n",
    "\n",
    "    train_dfs, valid_dfs, test_dfs = [],[],[]\n",
    "    \n",
    "    dfs = read_raw_ehrdata(f'{path}/raw_original')\n",
    "    all_pts = dfs[0]\n",
    "    all_pts.rename(str.lower, axis='columns', inplace=True)\n",
    "    train_pt, valid_pt, test_pt = split_patients(dfs[0], valid_pct, test_pct, random_state)\n",
    "    train_dfs.append(train_pt)\n",
    "    valid_dfs.append(valid_pt)\n",
    "    test_dfs.append(test_pt)\n",
    "    print(f'Split {FILENAMES[0]} into:: Train: {len(train_pt)}, Valid: {len(valid_pt)}, Test: {len(test_pt)} -- Total before split: {len(dfs[0])}')\n",
    "    \n",
    "    for df, name in zip(dfs[1:], FILENAMES[1:]):\n",
    "        df = df.set_index('PATIENT')\n",
    "        df_train = df.loc[df.index.intersection(train_pt['id']).unique()]\n",
    "        df_valid = df.loc[df.index.intersection(valid_pt['id']).unique()]\n",
    "        df_test = df.loc[df.index.intersection(test_pt['id']).unique()]\n",
    "        assert len(df) == len(df_train)+len(df_valid)+len(df_test),f'Split failed {name}: {len(df)} != {len(df_train)}+{len(df_valid)}+{len(df_test)}'\n",
    "        train_dfs.append(df_train.reset_index())\n",
    "        valid_dfs.append(df_valid.reset_index())\n",
    "        test_dfs.append(df_test.reset_index())\n",
    "\n",
    "    \n",
    "    for split in ['train', 'valid', 'test']:\n",
    "        d = Path(f'{path}/raw_split/{split}')\n",
    "        d.mkdir(parents=True, exist_ok=True)\n",
    "        \n",
    "        if split == 'train':\n",
    "            for df, name in zip(train_dfs, FILENAMES):\n",
    "                df.to_csv(f'{d}/{name}.csv', index=False)\n",
    "            print(f'Saved train data to {d}')\n",
    "        \n",
    "        if split == 'valid':\n",
    "            for df, name in zip(valid_dfs, FILENAMES):\n",
    "                df.to_csv(f'{d}/{name}.csv', index=False)\n",
    "            print(f'Saved valid data to {d}')\n",
    "    \n",
    "        if split == 'test':\n",
    "            for df, name in zip(test_dfs, FILENAMES):\n",
    "                df.to_csv(f'{d}/{name}.csv', index=False)\n",
    "            print(f'Saved test data to {d}')"
   ]
  },
  {
   "cell_type": "code",
   "execution_count": null,
   "metadata": {},
   "outputs": [
    {
     "name": "stdout",
     "output_type": "stream",
     "text": [
      "Splits:: train: 0.6, valid: 0.2, test: 0.2\n",
      "Split patients into:: Train: 702, Valid: 234, Test: 235 -- Total before split: 1171\n",
      "Saved train data to /home/vinod/.lemonpie/datasets/synthea/1K/raw_split/train\n",
      "Saved valid data to /home/vinod/.lemonpie/datasets/synthea/1K/raw_split/valid\n",
      "Saved test data to /home/vinod/.lemonpie/datasets/synthea/1K/raw_split/test\n"
     ]
    }
   ],
   "source": [
    "split_ehr_dataset(PATH_1K) #will use default values for split percents"
   ]
  },
  {
   "cell_type": "code",
   "execution_count": null,
   "metadata": {},
   "outputs": [],
   "source": [
    "def load_split_data(path):\n",
    "    all_dfs = []\n",
    "    for split in ['train', 'valid', 'test']:\n",
    "            split_path = f'{path}/raw_split/{split}'\n",
    "            dfs = read_raw_ehrdata(split_path) \n",
    "            all_dfs.append(dfs)\n",
    "    return all_dfs"
   ]
  },
  {
   "cell_type": "code",
   "execution_count": null,
   "metadata": {},
   "outputs": [],
   "source": [
    "train_dfs, valid_dfs, test_dfs = load_split_data(PATH_1K)"
   ]
  },
  {
   "cell_type": "markdown",
   "metadata": {},
   "source": [
    "## Clean"
   ]
  },
  {
   "cell_type": "code",
   "execution_count": null,
   "metadata": {},
   "outputs": [],
   "source": [
    "#export\n",
    "@ray.remote(num_returns=3)\n",
    "def cleanup_pts(pts, is_train, today=None):\n",
    "    '''Clean patients df'''\n",
    "    \n",
    "    pts.rename(str.lower, axis='columns', inplace=True)\n",
    "    pts = pts.loc[:, ['id', 'birthdate', 'marital', 'race', 'ethnicity', 'gender', 'birthplace', 'city', 'state', 'zip']]\n",
    "    pts.rename(columns={\"id\":\"patient\"}, inplace=True)\n",
    "    pts = pts.astype({'birthdate':'datetime64'}) \n",
    "    pts['zip'] = pts['zip'].fillna(0.0).astype(int)    \n",
    "    if today == None: today = pd.Timestamp.today()\n",
    "    else            : today = pd.to_datetime(today)\n",
    "    pts['age_now_days'] = pts['birthdate'].apply(lambda bday: (today-bday).days)\n",
    "    \n",
    "    pts.fillna('xxxnan', inplace=True)\n",
    "    if is_train: pt_codes = pts.drop(columns=['patient'], inplace=False)\n",
    "    pts.set_index('patient', inplace=True)\n",
    "    pt_demographics = pts\n",
    "    patients = pts.loc[:,['birthdate']]\n",
    "    \n",
    "    return [patients, pt_demographics, pt_codes] if is_train else [patients, pt_demographics, None]"
   ]
  },
  {
   "cell_type": "markdown",
   "metadata": {},
   "source": [
    "`patients` data frame looks like this before cleanup.. "
   ]
  },
  {
   "cell_type": "code",
   "execution_count": null,
   "metadata": {},
   "outputs": [
    {
     "data": {
      "text/html": [
       "<div>\n",
       "<style scoped>\n",
       "    .dataframe tbody tr th:only-of-type {\n",
       "        vertical-align: middle;\n",
       "    }\n",
       "\n",
       "    .dataframe tbody tr th {\n",
       "        vertical-align: top;\n",
       "    }\n",
       "\n",
       "    .dataframe thead th {\n",
       "        text-align: right;\n",
       "    }\n",
       "</style>\n",
       "<table border=\"1\" class=\"dataframe\">\n",
       "  <thead>\n",
       "    <tr style=\"text-align: right;\">\n",
       "      <th></th>\n",
       "      <th>Id</th>\n",
       "      <th>BIRTHDATE</th>\n",
       "      <th>DEATHDATE</th>\n",
       "      <th>SSN</th>\n",
       "      <th>DRIVERS</th>\n",
       "      <th>PASSPORT</th>\n",
       "      <th>PREFIX</th>\n",
       "      <th>FIRST</th>\n",
       "      <th>LAST</th>\n",
       "      <th>SUFFIX</th>\n",
       "      <th>...</th>\n",
       "      <th>BIRTHPLACE</th>\n",
       "      <th>ADDRESS</th>\n",
       "      <th>CITY</th>\n",
       "      <th>STATE</th>\n",
       "      <th>COUNTY</th>\n",
       "      <th>ZIP</th>\n",
       "      <th>LAT</th>\n",
       "      <th>LON</th>\n",
       "      <th>HEALTHCARE_EXPENSES</th>\n",
       "      <th>HEALTHCARE_COVERAGE</th>\n",
       "    </tr>\n",
       "  </thead>\n",
       "  <tbody>\n",
       "    <tr>\n",
       "      <th>0</th>\n",
       "      <td>1d604da9-9a81-4ba9-80c2-de3375d59b40</td>\n",
       "      <td>1989-05-25</td>\n",
       "      <td>NaN</td>\n",
       "      <td>999-76-6866</td>\n",
       "      <td>S99984236</td>\n",
       "      <td>X19277260X</td>\n",
       "      <td>Mr.</td>\n",
       "      <td>José Eduardo181</td>\n",
       "      <td>Gómez206</td>\n",
       "      <td>NaN</td>\n",
       "      <td>...</td>\n",
       "      <td>Marigot  Saint Andrew Parish  DM</td>\n",
       "      <td>427 Balistreri Way Unit 19</td>\n",
       "      <td>Chicopee</td>\n",
       "      <td>Massachusetts</td>\n",
       "      <td>Hampden County</td>\n",
       "      <td>1013.0</td>\n",
       "      <td>42.228354</td>\n",
       "      <td>-72.562951</td>\n",
       "      <td>271227.08</td>\n",
       "      <td>1334.88</td>\n",
       "    </tr>\n",
       "    <tr>\n",
       "      <th>1</th>\n",
       "      <td>034e9e3b-2def-4559-bb2a-7850888ae060</td>\n",
       "      <td>1983-11-14</td>\n",
       "      <td>NaN</td>\n",
       "      <td>999-73-5361</td>\n",
       "      <td>S99962402</td>\n",
       "      <td>X88275464X</td>\n",
       "      <td>Mr.</td>\n",
       "      <td>Milo271</td>\n",
       "      <td>Feil794</td>\n",
       "      <td>NaN</td>\n",
       "      <td>...</td>\n",
       "      <td>Danvers  Massachusetts  US</td>\n",
       "      <td>422 Farrell Path Unit 69</td>\n",
       "      <td>Somerville</td>\n",
       "      <td>Massachusetts</td>\n",
       "      <td>Middlesex County</td>\n",
       "      <td>2143.0</td>\n",
       "      <td>42.360697</td>\n",
       "      <td>-71.126531</td>\n",
       "      <td>793946.01</td>\n",
       "      <td>3204.49</td>\n",
       "    </tr>\n",
       "    <tr>\n",
       "      <th>2</th>\n",
       "      <td>10339b10-3cd1-4ac3-ac13-ec26728cb592</td>\n",
       "      <td>1992-06-02</td>\n",
       "      <td>NaN</td>\n",
       "      <td>999-27-3385</td>\n",
       "      <td>S99972682</td>\n",
       "      <td>X73754411X</td>\n",
       "      <td>Mr.</td>\n",
       "      <td>Jayson808</td>\n",
       "      <td>Fadel536</td>\n",
       "      <td>NaN</td>\n",
       "      <td>...</td>\n",
       "      <td>Springfield  Massachusetts  US</td>\n",
       "      <td>1056 Harris Lane Suite 70</td>\n",
       "      <td>Chicopee</td>\n",
       "      <td>Massachusetts</td>\n",
       "      <td>Hampden County</td>\n",
       "      <td>1020.0</td>\n",
       "      <td>42.181642</td>\n",
       "      <td>-72.608842</td>\n",
       "      <td>574111.90</td>\n",
       "      <td>2606.40</td>\n",
       "    </tr>\n",
       "    <tr>\n",
       "      <th>3</th>\n",
       "      <td>8d4c4326-e9de-4f45-9a4c-f8c36bff89ae</td>\n",
       "      <td>1978-05-27</td>\n",
       "      <td>NaN</td>\n",
       "      <td>999-85-4926</td>\n",
       "      <td>S99974448</td>\n",
       "      <td>X40915583X</td>\n",
       "      <td>Mrs.</td>\n",
       "      <td>Mariana775</td>\n",
       "      <td>Rutherford999</td>\n",
       "      <td>NaN</td>\n",
       "      <td>...</td>\n",
       "      <td>Yarmouth  Massachusetts  US</td>\n",
       "      <td>999 Kuhn Forge</td>\n",
       "      <td>Lowell</td>\n",
       "      <td>Massachusetts</td>\n",
       "      <td>Middlesex County</td>\n",
       "      <td>1851.0</td>\n",
       "      <td>42.636143</td>\n",
       "      <td>-71.343255</td>\n",
       "      <td>935630.30</td>\n",
       "      <td>8756.19</td>\n",
       "    </tr>\n",
       "    <tr>\n",
       "      <th>4</th>\n",
       "      <td>f5dcd418-09fe-4a2f-baa0-3da800bd8c3a</td>\n",
       "      <td>1996-10-18</td>\n",
       "      <td>NaN</td>\n",
       "      <td>999-60-7372</td>\n",
       "      <td>S99915787</td>\n",
       "      <td>X86772962X</td>\n",
       "      <td>Mr.</td>\n",
       "      <td>Gregorio366</td>\n",
       "      <td>Auer97</td>\n",
       "      <td>NaN</td>\n",
       "      <td>...</td>\n",
       "      <td>Patras  Achaea  GR</td>\n",
       "      <td>1050 Lindgren Extension Apt 38</td>\n",
       "      <td>Boston</td>\n",
       "      <td>Massachusetts</td>\n",
       "      <td>Suffolk County</td>\n",
       "      <td>2135.0</td>\n",
       "      <td>42.352434</td>\n",
       "      <td>-71.028610</td>\n",
       "      <td>598763.07</td>\n",
       "      <td>3772.20</td>\n",
       "    </tr>\n",
       "  </tbody>\n",
       "</table>\n",
       "<p>5 rows × 25 columns</p>\n",
       "</div>"
      ],
      "text/plain": [
       "                                     Id   BIRTHDATE DEATHDATE          SSN  \\\n",
       "0  1d604da9-9a81-4ba9-80c2-de3375d59b40  1989-05-25       NaN  999-76-6866   \n",
       "1  034e9e3b-2def-4559-bb2a-7850888ae060  1983-11-14       NaN  999-73-5361   \n",
       "2  10339b10-3cd1-4ac3-ac13-ec26728cb592  1992-06-02       NaN  999-27-3385   \n",
       "3  8d4c4326-e9de-4f45-9a4c-f8c36bff89ae  1978-05-27       NaN  999-85-4926   \n",
       "4  f5dcd418-09fe-4a2f-baa0-3da800bd8c3a  1996-10-18       NaN  999-60-7372   \n",
       "\n",
       "     DRIVERS    PASSPORT PREFIX            FIRST           LAST SUFFIX  ...  \\\n",
       "0  S99984236  X19277260X    Mr.  José Eduardo181       Gómez206    NaN  ...   \n",
       "1  S99962402  X88275464X    Mr.          Milo271        Feil794    NaN  ...   \n",
       "2  S99972682  X73754411X    Mr.        Jayson808       Fadel536    NaN  ...   \n",
       "3  S99974448  X40915583X   Mrs.       Mariana775  Rutherford999    NaN  ...   \n",
       "4  S99915787  X86772962X    Mr.      Gregorio366         Auer97    NaN  ...   \n",
       "\n",
       "                         BIRTHPLACE                         ADDRESS  \\\n",
       "0  Marigot  Saint Andrew Parish  DM      427 Balistreri Way Unit 19   \n",
       "1        Danvers  Massachusetts  US        422 Farrell Path Unit 69   \n",
       "2    Springfield  Massachusetts  US       1056 Harris Lane Suite 70   \n",
       "3       Yarmouth  Massachusetts  US                  999 Kuhn Forge   \n",
       "4                Patras  Achaea  GR  1050 Lindgren Extension Apt 38   \n",
       "\n",
       "         CITY          STATE            COUNTY     ZIP        LAT        LON  \\\n",
       "0    Chicopee  Massachusetts    Hampden County  1013.0  42.228354 -72.562951   \n",
       "1  Somerville  Massachusetts  Middlesex County  2143.0  42.360697 -71.126531   \n",
       "2    Chicopee  Massachusetts    Hampden County  1020.0  42.181642 -72.608842   \n",
       "3      Lowell  Massachusetts  Middlesex County  1851.0  42.636143 -71.343255   \n",
       "4      Boston  Massachusetts    Suffolk County  2135.0  42.352434 -71.028610   \n",
       "\n",
       "  HEALTHCARE_EXPENSES HEALTHCARE_COVERAGE  \n",
       "0           271227.08             1334.88  \n",
       "1           793946.01             3204.49  \n",
       "2           574111.90             2606.40  \n",
       "3           935630.30             8756.19  \n",
       "4           598763.07             3772.20  \n",
       "\n",
       "[5 rows x 25 columns]"
      ]
     },
     "execution_count": null,
     "metadata": {},
     "output_type": "execute_result"
    }
   ],
   "source": [
    "patients.head()"
   ]
  },
  {
   "cell_type": "code",
   "execution_count": null,
   "metadata": {},
   "outputs": [],
   "source": [
    "train_pts_cleaned = cleanup_pts.remote(train_dfs[0], is_train=True, today=SYNTHEA_DATAGEN_DATES['1K'])\n",
    "train_pts_cleaned = ray.get(train_pts_cleaned) #train_pts_data[0], train_pts_data[1], train_pts_data[2]"
   ]
  },
  {
   "cell_type": "code",
   "execution_count": null,
   "metadata": {},
   "outputs": [],
   "source": [
    "valid_pts_cleaned = ray.get(cleanup_pts.remote(valid_dfs[0], is_train=False, today=SYNTHEA_DATAGEN_DATES['1K']))"
   ]
  },
  {
   "cell_type": "markdown",
   "metadata": {},
   "source": [
    "The cleanup function produces the following 3 dfs - `patients`, `pt_demographics`, `pt_codes` **for training data**"
   ]
  },
  {
   "cell_type": "code",
   "execution_count": null,
   "metadata": {},
   "outputs": [
    {
     "data": {
      "text/html": [
       "<div>\n",
       "<style scoped>\n",
       "    .dataframe tbody tr th:only-of-type {\n",
       "        vertical-align: middle;\n",
       "    }\n",
       "\n",
       "    .dataframe tbody tr th {\n",
       "        vertical-align: top;\n",
       "    }\n",
       "\n",
       "    .dataframe thead th {\n",
       "        text-align: right;\n",
       "    }\n",
       "</style>\n",
       "<table border=\"1\" class=\"dataframe\">\n",
       "  <thead>\n",
       "    <tr style=\"text-align: right;\">\n",
       "      <th></th>\n",
       "      <th>birthdate</th>\n",
       "    </tr>\n",
       "    <tr>\n",
       "      <th>patient</th>\n",
       "      <th></th>\n",
       "    </tr>\n",
       "  </thead>\n",
       "  <tbody>\n",
       "    <tr>\n",
       "      <th>b1d50391-79c5-403c-919f-3ded66c9d77a</th>\n",
       "      <td>1959-09-01</td>\n",
       "    </tr>\n",
       "    <tr>\n",
       "      <th>e52a1bbc-7b12-4d01-82cc-1196da05e399</th>\n",
       "      <td>2016-12-29</td>\n",
       "    </tr>\n",
       "    <tr>\n",
       "      <th>88587157-4de8-4459-b6d4-fd571b847575</th>\n",
       "      <td>1980-05-31</td>\n",
       "    </tr>\n",
       "  </tbody>\n",
       "</table>\n",
       "</div>"
      ],
      "text/plain": [
       "                                      birthdate\n",
       "patient                                        \n",
       "b1d50391-79c5-403c-919f-3ded66c9d77a 1959-09-01\n",
       "e52a1bbc-7b12-4d01-82cc-1196da05e399 2016-12-29\n",
       "88587157-4de8-4459-b6d4-fd571b847575 1980-05-31"
      ]
     },
     "metadata": {},
     "output_type": "display_data"
    },
    {
     "data": {
      "text/html": [
       "<div>\n",
       "<style scoped>\n",
       "    .dataframe tbody tr th:only-of-type {\n",
       "        vertical-align: middle;\n",
       "    }\n",
       "\n",
       "    .dataframe tbody tr th {\n",
       "        vertical-align: top;\n",
       "    }\n",
       "\n",
       "    .dataframe thead th {\n",
       "        text-align: right;\n",
       "    }\n",
       "</style>\n",
       "<table border=\"1\" class=\"dataframe\">\n",
       "  <thead>\n",
       "    <tr style=\"text-align: right;\">\n",
       "      <th></th>\n",
       "      <th>birthdate</th>\n",
       "      <th>marital</th>\n",
       "      <th>race</th>\n",
       "      <th>ethnicity</th>\n",
       "      <th>gender</th>\n",
       "      <th>birthplace</th>\n",
       "      <th>city</th>\n",
       "      <th>state</th>\n",
       "      <th>zip</th>\n",
       "      <th>age_now_days</th>\n",
       "    </tr>\n",
       "    <tr>\n",
       "      <th>patient</th>\n",
       "      <th></th>\n",
       "      <th></th>\n",
       "      <th></th>\n",
       "      <th></th>\n",
       "      <th></th>\n",
       "      <th></th>\n",
       "      <th></th>\n",
       "      <th></th>\n",
       "      <th></th>\n",
       "      <th></th>\n",
       "    </tr>\n",
       "  </thead>\n",
       "  <tbody>\n",
       "    <tr>\n",
       "      <th>b1d50391-79c5-403c-919f-3ded66c9d77a</th>\n",
       "      <td>1959-09-01</td>\n",
       "      <td>M</td>\n",
       "      <td>black</td>\n",
       "      <td>hispanic</td>\n",
       "      <td>F</td>\n",
       "      <td>Westborough  Massachusetts  US</td>\n",
       "      <td>Springfield</td>\n",
       "      <td>Massachusetts</td>\n",
       "      <td>0</td>\n",
       "      <td>22493</td>\n",
       "    </tr>\n",
       "    <tr>\n",
       "      <th>e52a1bbc-7b12-4d01-82cc-1196da05e399</th>\n",
       "      <td>2016-12-29</td>\n",
       "      <td>xxxnan</td>\n",
       "      <td>white</td>\n",
       "      <td>nonhispanic</td>\n",
       "      <td>F</td>\n",
       "      <td>Methuen  Massachusetts  US</td>\n",
       "      <td>Boston</td>\n",
       "      <td>Massachusetts</td>\n",
       "      <td>2134</td>\n",
       "      <td>1554</td>\n",
       "    </tr>\n",
       "    <tr>\n",
       "      <th>88587157-4de8-4459-b6d4-fd571b847575</th>\n",
       "      <td>1980-05-31</td>\n",
       "      <td>M</td>\n",
       "      <td>white</td>\n",
       "      <td>nonhispanic</td>\n",
       "      <td>F</td>\n",
       "      <td>Boston  Massachusetts  US</td>\n",
       "      <td>South Hadley</td>\n",
       "      <td>Massachusetts</td>\n",
       "      <td>0</td>\n",
       "      <td>14915</td>\n",
       "    </tr>\n",
       "  </tbody>\n",
       "</table>\n",
       "</div>"
      ],
      "text/plain": [
       "                                      birthdate marital   race    ethnicity  \\\n",
       "patient                                                                       \n",
       "b1d50391-79c5-403c-919f-3ded66c9d77a 1959-09-01       M  black     hispanic   \n",
       "e52a1bbc-7b12-4d01-82cc-1196da05e399 2016-12-29  xxxnan  white  nonhispanic   \n",
       "88587157-4de8-4459-b6d4-fd571b847575 1980-05-31       M  white  nonhispanic   \n",
       "\n",
       "                                     gender                      birthplace  \\\n",
       "patient                                                                       \n",
       "b1d50391-79c5-403c-919f-3ded66c9d77a      F  Westborough  Massachusetts  US   \n",
       "e52a1bbc-7b12-4d01-82cc-1196da05e399      F      Methuen  Massachusetts  US   \n",
       "88587157-4de8-4459-b6d4-fd571b847575      F       Boston  Massachusetts  US   \n",
       "\n",
       "                                              city          state   zip  \\\n",
       "patient                                                                   \n",
       "b1d50391-79c5-403c-919f-3ded66c9d77a   Springfield  Massachusetts     0   \n",
       "e52a1bbc-7b12-4d01-82cc-1196da05e399        Boston  Massachusetts  2134   \n",
       "88587157-4de8-4459-b6d4-fd571b847575  South Hadley  Massachusetts     0   \n",
       "\n",
       "                                      age_now_days  \n",
       "patient                                             \n",
       "b1d50391-79c5-403c-919f-3ded66c9d77a         22493  \n",
       "e52a1bbc-7b12-4d01-82cc-1196da05e399          1554  \n",
       "88587157-4de8-4459-b6d4-fd571b847575         14915  "
      ]
     },
     "metadata": {},
     "output_type": "display_data"
    },
    {
     "data": {
      "text/html": [
       "<div>\n",
       "<style scoped>\n",
       "    .dataframe tbody tr th:only-of-type {\n",
       "        vertical-align: middle;\n",
       "    }\n",
       "\n",
       "    .dataframe tbody tr th {\n",
       "        vertical-align: top;\n",
       "    }\n",
       "\n",
       "    .dataframe thead th {\n",
       "        text-align: right;\n",
       "    }\n",
       "</style>\n",
       "<table border=\"1\" class=\"dataframe\">\n",
       "  <thead>\n",
       "    <tr style=\"text-align: right;\">\n",
       "      <th></th>\n",
       "      <th>birthdate</th>\n",
       "      <th>marital</th>\n",
       "      <th>race</th>\n",
       "      <th>ethnicity</th>\n",
       "      <th>gender</th>\n",
       "      <th>birthplace</th>\n",
       "      <th>city</th>\n",
       "      <th>state</th>\n",
       "      <th>zip</th>\n",
       "      <th>age_now_days</th>\n",
       "    </tr>\n",
       "  </thead>\n",
       "  <tbody>\n",
       "    <tr>\n",
       "      <th>0</th>\n",
       "      <td>1959-09-01</td>\n",
       "      <td>M</td>\n",
       "      <td>black</td>\n",
       "      <td>hispanic</td>\n",
       "      <td>F</td>\n",
       "      <td>Westborough  Massachusetts  US</td>\n",
       "      <td>Springfield</td>\n",
       "      <td>Massachusetts</td>\n",
       "      <td>0</td>\n",
       "      <td>22493</td>\n",
       "    </tr>\n",
       "    <tr>\n",
       "      <th>1</th>\n",
       "      <td>2016-12-29</td>\n",
       "      <td>xxxnan</td>\n",
       "      <td>white</td>\n",
       "      <td>nonhispanic</td>\n",
       "      <td>F</td>\n",
       "      <td>Methuen  Massachusetts  US</td>\n",
       "      <td>Boston</td>\n",
       "      <td>Massachusetts</td>\n",
       "      <td>2134</td>\n",
       "      <td>1554</td>\n",
       "    </tr>\n",
       "    <tr>\n",
       "      <th>2</th>\n",
       "      <td>1980-05-31</td>\n",
       "      <td>M</td>\n",
       "      <td>white</td>\n",
       "      <td>nonhispanic</td>\n",
       "      <td>F</td>\n",
       "      <td>Boston  Massachusetts  US</td>\n",
       "      <td>South Hadley</td>\n",
       "      <td>Massachusetts</td>\n",
       "      <td>0</td>\n",
       "      <td>14915</td>\n",
       "    </tr>\n",
       "  </tbody>\n",
       "</table>\n",
       "</div>"
      ],
      "text/plain": [
       "   birthdate marital   race    ethnicity gender  \\\n",
       "0 1959-09-01       M  black     hispanic      F   \n",
       "1 2016-12-29  xxxnan  white  nonhispanic      F   \n",
       "2 1980-05-31       M  white  nonhispanic      F   \n",
       "\n",
       "                       birthplace          city          state   zip  \\\n",
       "0  Westborough  Massachusetts  US   Springfield  Massachusetts     0   \n",
       "1      Methuen  Massachusetts  US        Boston  Massachusetts  2134   \n",
       "2       Boston  Massachusetts  US  South Hadley  Massachusetts     0   \n",
       "\n",
       "   age_now_days  \n",
       "0         22493  \n",
       "1          1554  \n",
       "2         14915  "
      ]
     },
     "metadata": {},
     "output_type": "display_data"
    }
   ],
   "source": [
    "for df in train_pts_cleaned:\n",
    "    display(df.head(3))"
   ]
  },
  {
   "cell_type": "markdown",
   "metadata": {},
   "source": [
    "And the cleanup function produces the following 2 dfs - `patients`, `pt_demographics` **for validation and test data**, i.e. no `pt_codes` which only come from training"
   ]
  },
  {
   "cell_type": "code",
   "execution_count": null,
   "metadata": {},
   "outputs": [
    {
     "data": {
      "text/html": [
       "<div>\n",
       "<style scoped>\n",
       "    .dataframe tbody tr th:only-of-type {\n",
       "        vertical-align: middle;\n",
       "    }\n",
       "\n",
       "    .dataframe tbody tr th {\n",
       "        vertical-align: top;\n",
       "    }\n",
       "\n",
       "    .dataframe thead th {\n",
       "        text-align: right;\n",
       "    }\n",
       "</style>\n",
       "<table border=\"1\" class=\"dataframe\">\n",
       "  <thead>\n",
       "    <tr style=\"text-align: right;\">\n",
       "      <th></th>\n",
       "      <th>birthdate</th>\n",
       "    </tr>\n",
       "    <tr>\n",
       "      <th>patient</th>\n",
       "      <th></th>\n",
       "    </tr>\n",
       "  </thead>\n",
       "  <tbody>\n",
       "    <tr>\n",
       "      <th>372a8506-f31a-45fa-b563-c50305d983c3</th>\n",
       "      <td>2013-05-15</td>\n",
       "    </tr>\n",
       "    <tr>\n",
       "      <th>b16ca449-bc14-4619-a936-07f6f3db7119</th>\n",
       "      <td>2013-05-03</td>\n",
       "    </tr>\n",
       "    <tr>\n",
       "      <th>29265f8e-2df1-46cd-8689-e9cbbced50f4</th>\n",
       "      <td>2007-10-05</td>\n",
       "    </tr>\n",
       "  </tbody>\n",
       "</table>\n",
       "</div>"
      ],
      "text/plain": [
       "                                      birthdate\n",
       "patient                                        \n",
       "372a8506-f31a-45fa-b563-c50305d983c3 2013-05-15\n",
       "b16ca449-bc14-4619-a936-07f6f3db7119 2013-05-03\n",
       "29265f8e-2df1-46cd-8689-e9cbbced50f4 2007-10-05"
      ]
     },
     "metadata": {},
     "output_type": "display_data"
    },
    {
     "data": {
      "text/html": [
       "<div>\n",
       "<style scoped>\n",
       "    .dataframe tbody tr th:only-of-type {\n",
       "        vertical-align: middle;\n",
       "    }\n",
       "\n",
       "    .dataframe tbody tr th {\n",
       "        vertical-align: top;\n",
       "    }\n",
       "\n",
       "    .dataframe thead th {\n",
       "        text-align: right;\n",
       "    }\n",
       "</style>\n",
       "<table border=\"1\" class=\"dataframe\">\n",
       "  <thead>\n",
       "    <tr style=\"text-align: right;\">\n",
       "      <th></th>\n",
       "      <th>birthdate</th>\n",
       "      <th>marital</th>\n",
       "      <th>race</th>\n",
       "      <th>ethnicity</th>\n",
       "      <th>gender</th>\n",
       "      <th>birthplace</th>\n",
       "      <th>city</th>\n",
       "      <th>state</th>\n",
       "      <th>zip</th>\n",
       "      <th>age_now_days</th>\n",
       "    </tr>\n",
       "    <tr>\n",
       "      <th>patient</th>\n",
       "      <th></th>\n",
       "      <th></th>\n",
       "      <th></th>\n",
       "      <th></th>\n",
       "      <th></th>\n",
       "      <th></th>\n",
       "      <th></th>\n",
       "      <th></th>\n",
       "      <th></th>\n",
       "      <th></th>\n",
       "    </tr>\n",
       "  </thead>\n",
       "  <tbody>\n",
       "    <tr>\n",
       "      <th>372a8506-f31a-45fa-b563-c50305d983c3</th>\n",
       "      <td>2013-05-15</td>\n",
       "      <td>xxxnan</td>\n",
       "      <td>asian</td>\n",
       "      <td>nonhispanic</td>\n",
       "      <td>F</td>\n",
       "      <td>Haverhill  Massachusetts  US</td>\n",
       "      <td>Woburn</td>\n",
       "      <td>Massachusetts</td>\n",
       "      <td>1890</td>\n",
       "      <td>2878</td>\n",
       "    </tr>\n",
       "    <tr>\n",
       "      <th>b16ca449-bc14-4619-a936-07f6f3db7119</th>\n",
       "      <td>2013-05-03</td>\n",
       "      <td>xxxnan</td>\n",
       "      <td>black</td>\n",
       "      <td>nonhispanic</td>\n",
       "      <td>M</td>\n",
       "      <td>Athol  Massachusetts  US</td>\n",
       "      <td>Chelsea</td>\n",
       "      <td>Massachusetts</td>\n",
       "      <td>2149</td>\n",
       "      <td>2890</td>\n",
       "    </tr>\n",
       "    <tr>\n",
       "      <th>29265f8e-2df1-46cd-8689-e9cbbced50f4</th>\n",
       "      <td>2007-10-05</td>\n",
       "      <td>xxxnan</td>\n",
       "      <td>white</td>\n",
       "      <td>nonhispanic</td>\n",
       "      <td>M</td>\n",
       "      <td>Boston  Massachusetts  US</td>\n",
       "      <td>Plymouth</td>\n",
       "      <td>Massachusetts</td>\n",
       "      <td>0</td>\n",
       "      <td>4927</td>\n",
       "    </tr>\n",
       "  </tbody>\n",
       "</table>\n",
       "</div>"
      ],
      "text/plain": [
       "                                      birthdate marital   race    ethnicity  \\\n",
       "patient                                                                       \n",
       "372a8506-f31a-45fa-b563-c50305d983c3 2013-05-15  xxxnan  asian  nonhispanic   \n",
       "b16ca449-bc14-4619-a936-07f6f3db7119 2013-05-03  xxxnan  black  nonhispanic   \n",
       "29265f8e-2df1-46cd-8689-e9cbbced50f4 2007-10-05  xxxnan  white  nonhispanic   \n",
       "\n",
       "                                     gender                    birthplace  \\\n",
       "patient                                                                     \n",
       "372a8506-f31a-45fa-b563-c50305d983c3      F  Haverhill  Massachusetts  US   \n",
       "b16ca449-bc14-4619-a936-07f6f3db7119      M      Athol  Massachusetts  US   \n",
       "29265f8e-2df1-46cd-8689-e9cbbced50f4      M     Boston  Massachusetts  US   \n",
       "\n",
       "                                          city          state   zip  \\\n",
       "patient                                                               \n",
       "372a8506-f31a-45fa-b563-c50305d983c3    Woburn  Massachusetts  1890   \n",
       "b16ca449-bc14-4619-a936-07f6f3db7119   Chelsea  Massachusetts  2149   \n",
       "29265f8e-2df1-46cd-8689-e9cbbced50f4  Plymouth  Massachusetts     0   \n",
       "\n",
       "                                      age_now_days  \n",
       "patient                                             \n",
       "372a8506-f31a-45fa-b563-c50305d983c3          2878  \n",
       "b16ca449-bc14-4619-a936-07f6f3db7119          2890  \n",
       "29265f8e-2df1-46cd-8689-e9cbbced50f4          4927  "
      ]
     },
     "metadata": {},
     "output_type": "display_data"
    }
   ],
   "source": [
    "for df in valid_pts_cleaned[:2]:\n",
    "    display(df.head(3))"
   ]
  },
  {
   "cell_type": "markdown",
   "metadata": {},
   "source": [
    "**The case for keeping a record of the data generation date**\n",
    "\n",
    "Also note the difference in `age_now` if it were calculated based on default (`pd.Timestamp.today()`) vs `SYNTHEA_DATAGEN_DATES['1K']` which is the data generation date for this 1K dataset.  "
   ]
  },
  {
   "cell_type": "code",
   "execution_count": null,
   "metadata": {},
   "outputs": [
    {
     "data": {
      "text/plain": [
       "(15444, 14915)"
      ]
     },
     "execution_count": null,
     "metadata": {},
     "output_type": "execute_result"
    }
   ],
   "source": [
    "# age_now -- today vs run_date\n",
    "(pd.to_datetime(pd.Timestamp.today()) - train_pts_cleaned[0].iloc[2])[0].days, (pd.to_datetime(SYNTHEA_DATAGEN_DATES['1K']) - train_pts_cleaned[0].iloc[2])[0].days"
   ]
  },
  {
   "cell_type": "code",
   "execution_count": null,
   "metadata": {},
   "outputs": [
    {
     "data": {
      "text/plain": [
       "('04-01-2021', Timestamp('2022-09-12 15:44:11.182717'))"
      ]
     },
     "execution_count": null,
     "metadata": {},
     "output_type": "execute_result"
    }
   ],
   "source": [
    "SYNTHEA_DATAGEN_DATES['1K'], pd.Timestamp.today()"
   ]
  },
  {
   "cell_type": "code",
   "execution_count": null,
   "metadata": {},
   "outputs": [],
   "source": [
    "#export\n",
    "@ray.remote(num_returns=2)\n",
    "def cleanup_obs(obs, is_train):\n",
    "    '''Clean observations df'''\n",
    "    \n",
    "    obs.rename(str.lower, axis='columns', inplace=True)\n",
    "    obs.units.fillna('xxxnan', inplace=True)\n",
    "    obs.dropna(subset=['value'], inplace=True)\n",
    "    \n",
    "    obs.rename(columns={\"code\":\"orig_code\", \"description\":\"desc\"}, inplace=True)\n",
    "    obs['code'] = obs['orig_code'].str.cat(obs[['value', 'units', 'type']].astype(str), sep='||')\n",
    "\n",
    "    if is_train: obs_codes = obs.loc[:, ['orig_code', 'desc', 'value', 'units', 'type']]\n",
    "    \n",
    "    obs = obs.loc[:, ['patient', 'date', 'code']]\n",
    "    obs = obs.astype({'date':'datetime64'})\n",
    "    obs.set_index('patient', inplace=True)\n",
    "    \n",
    "    return [obs, obs_codes] if is_train else [obs, None]"
   ]
  },
  {
   "cell_type": "markdown",
   "metadata": {},
   "source": [
    "- Drops rows with null in the `VALUE` column\n",
    "- Creates a new `code` column with a concatenation of `code`, `value`, `units` and `type`\n",
    "    - so that we can use the following logic during vocab creation for observations (further detailed in the vocab documentation)"
   ]
  },
  {
   "cell_type": "markdown",
   "metadata": {},
   "source": [
    "**For `numeric`**\n",
    "```\n",
    "for 'numeric'\n",
    "    get unique 'codes'\n",
    "    for each unique code\n",
    "        get unique 'units'\n",
    "            for each unique unit\n",
    "                bucketize 'values'\n",
    "                create vocab entry for each 'bucket' -- code||value_bucket||units\n",
    "```\n",
    "**For `text`**\n",
    "```\n",
    "for 'text'\n",
    "    get unique 'codes'\n",
    "    for each unique code\n",
    "        get unique 'units' #this will be null\n",
    "            for each unique unit\n",
    "                get unique 'values'\n",
    "                create vocab entry for each -- code||value||units\n",
    "```"
   ]
  },
  {
   "cell_type": "markdown",
   "metadata": {},
   "source": [
    "'observations' df before cleanup .."
   ]
  },
  {
   "cell_type": "code",
   "execution_count": null,
   "metadata": {},
   "outputs": [
    {
     "data": {
      "text/html": [
       "<div>\n",
       "<style scoped>\n",
       "    .dataframe tbody tr th:only-of-type {\n",
       "        vertical-align: middle;\n",
       "    }\n",
       "\n",
       "    .dataframe tbody tr th {\n",
       "        vertical-align: top;\n",
       "    }\n",
       "\n",
       "    .dataframe thead th {\n",
       "        text-align: right;\n",
       "    }\n",
       "</style>\n",
       "<table border=\"1\" class=\"dataframe\">\n",
       "  <thead>\n",
       "    <tr style=\"text-align: right;\">\n",
       "      <th></th>\n",
       "      <th>DATE</th>\n",
       "      <th>PATIENT</th>\n",
       "      <th>ENCOUNTER</th>\n",
       "      <th>CODE</th>\n",
       "      <th>DESCRIPTION</th>\n",
       "      <th>VALUE</th>\n",
       "      <th>UNITS</th>\n",
       "      <th>TYPE</th>\n",
       "    </tr>\n",
       "  </thead>\n",
       "  <tbody>\n",
       "    <tr>\n",
       "      <th>0</th>\n",
       "      <td>2012-01-23T17:45:28Z</td>\n",
       "      <td>034e9e3b-2def-4559-bb2a-7850888ae060</td>\n",
       "      <td>e88bc3a9-007c-405e-aabc-792a38f4aa2b</td>\n",
       "      <td>8302-2</td>\n",
       "      <td>Body Height</td>\n",
       "      <td>193.3</td>\n",
       "      <td>cm</td>\n",
       "      <td>numeric</td>\n",
       "    </tr>\n",
       "    <tr>\n",
       "      <th>1</th>\n",
       "      <td>2012-01-23T17:45:28Z</td>\n",
       "      <td>034e9e3b-2def-4559-bb2a-7850888ae060</td>\n",
       "      <td>e88bc3a9-007c-405e-aabc-792a38f4aa2b</td>\n",
       "      <td>72514-3</td>\n",
       "      <td>Pain severity - 0-10 verbal numeric rating [Sc...</td>\n",
       "      <td>2.0</td>\n",
       "      <td>{score}</td>\n",
       "      <td>numeric</td>\n",
       "    </tr>\n",
       "    <tr>\n",
       "      <th>2</th>\n",
       "      <td>2012-01-23T17:45:28Z</td>\n",
       "      <td>034e9e3b-2def-4559-bb2a-7850888ae060</td>\n",
       "      <td>e88bc3a9-007c-405e-aabc-792a38f4aa2b</td>\n",
       "      <td>29463-7</td>\n",
       "      <td>Body Weight</td>\n",
       "      <td>87.8</td>\n",
       "      <td>kg</td>\n",
       "      <td>numeric</td>\n",
       "    </tr>\n",
       "    <tr>\n",
       "      <th>3</th>\n",
       "      <td>2012-01-23T17:45:28Z</td>\n",
       "      <td>034e9e3b-2def-4559-bb2a-7850888ae060</td>\n",
       "      <td>e88bc3a9-007c-405e-aabc-792a38f4aa2b</td>\n",
       "      <td>39156-5</td>\n",
       "      <td>Body Mass Index</td>\n",
       "      <td>23.5</td>\n",
       "      <td>kg/m2</td>\n",
       "      <td>numeric</td>\n",
       "    </tr>\n",
       "    <tr>\n",
       "      <th>4</th>\n",
       "      <td>2012-01-23T17:45:28Z</td>\n",
       "      <td>034e9e3b-2def-4559-bb2a-7850888ae060</td>\n",
       "      <td>e88bc3a9-007c-405e-aabc-792a38f4aa2b</td>\n",
       "      <td>8462-4</td>\n",
       "      <td>Diastolic Blood Pressure</td>\n",
       "      <td>82.0</td>\n",
       "      <td>mm[Hg]</td>\n",
       "      <td>numeric</td>\n",
       "    </tr>\n",
       "  </tbody>\n",
       "</table>\n",
       "</div>"
      ],
      "text/plain": [
       "                   DATE                               PATIENT  \\\n",
       "0  2012-01-23T17:45:28Z  034e9e3b-2def-4559-bb2a-7850888ae060   \n",
       "1  2012-01-23T17:45:28Z  034e9e3b-2def-4559-bb2a-7850888ae060   \n",
       "2  2012-01-23T17:45:28Z  034e9e3b-2def-4559-bb2a-7850888ae060   \n",
       "3  2012-01-23T17:45:28Z  034e9e3b-2def-4559-bb2a-7850888ae060   \n",
       "4  2012-01-23T17:45:28Z  034e9e3b-2def-4559-bb2a-7850888ae060   \n",
       "\n",
       "                              ENCOUNTER     CODE  \\\n",
       "0  e88bc3a9-007c-405e-aabc-792a38f4aa2b   8302-2   \n",
       "1  e88bc3a9-007c-405e-aabc-792a38f4aa2b  72514-3   \n",
       "2  e88bc3a9-007c-405e-aabc-792a38f4aa2b  29463-7   \n",
       "3  e88bc3a9-007c-405e-aabc-792a38f4aa2b  39156-5   \n",
       "4  e88bc3a9-007c-405e-aabc-792a38f4aa2b   8462-4   \n",
       "\n",
       "                                         DESCRIPTION  VALUE    UNITS     TYPE  \n",
       "0                                        Body Height  193.3       cm  numeric  \n",
       "1  Pain severity - 0-10 verbal numeric rating [Sc...    2.0  {score}  numeric  \n",
       "2                                        Body Weight   87.8       kg  numeric  \n",
       "3                                    Body Mass Index   23.5    kg/m2  numeric  \n",
       "4                           Diastolic Blood Pressure   82.0   mm[Hg]  numeric  "
      ]
     },
     "execution_count": null,
     "metadata": {},
     "output_type": "execute_result"
    }
   ],
   "source": [
    "observations.head()"
   ]
  },
  {
   "cell_type": "code",
   "execution_count": null,
   "metadata": {},
   "outputs": [],
   "source": [
    "train_obs_cleaned = ray.get(cleanup_obs.remote(train_dfs[1], is_train=True))"
   ]
  },
  {
   "cell_type": "markdown",
   "metadata": {},
   "source": [
    "after cleanup.."
   ]
  },
  {
   "cell_type": "code",
   "execution_count": null,
   "metadata": {},
   "outputs": [
    {
     "data": {
      "text/html": [
       "<div>\n",
       "<style scoped>\n",
       "    .dataframe tbody tr th:only-of-type {\n",
       "        vertical-align: middle;\n",
       "    }\n",
       "\n",
       "    .dataframe tbody tr th {\n",
       "        vertical-align: top;\n",
       "    }\n",
       "\n",
       "    .dataframe thead th {\n",
       "        text-align: right;\n",
       "    }\n",
       "</style>\n",
       "<table border=\"1\" class=\"dataframe\">\n",
       "  <thead>\n",
       "    <tr style=\"text-align: right;\">\n",
       "      <th></th>\n",
       "      <th>date</th>\n",
       "      <th>code</th>\n",
       "    </tr>\n",
       "    <tr>\n",
       "      <th>patient</th>\n",
       "      <th></th>\n",
       "      <th></th>\n",
       "    </tr>\n",
       "  </thead>\n",
       "  <tbody>\n",
       "    <tr>\n",
       "      <th>f5dcd418-09fe-4a2f-baa0-3da800bd8c3a</th>\n",
       "      <td>2010-11-20 03:04:34</td>\n",
       "      <td>8302-2||169.6||cm||numeric</td>\n",
       "    </tr>\n",
       "    <tr>\n",
       "      <th>f5dcd418-09fe-4a2f-baa0-3da800bd8c3a</th>\n",
       "      <td>2010-11-20 03:04:34</td>\n",
       "      <td>72514-3||4.0||{score}||numeric</td>\n",
       "    </tr>\n",
       "    <tr>\n",
       "      <th>f5dcd418-09fe-4a2f-baa0-3da800bd8c3a</th>\n",
       "      <td>2010-11-20 03:04:34</td>\n",
       "      <td>29463-7||63.8||kg||numeric</td>\n",
       "    </tr>\n",
       "    <tr>\n",
       "      <th>f5dcd418-09fe-4a2f-baa0-3da800bd8c3a</th>\n",
       "      <td>2010-11-20 03:04:34</td>\n",
       "      <td>39156-5||22.2||kg/m2||numeric</td>\n",
       "    </tr>\n",
       "    <tr>\n",
       "      <th>f5dcd418-09fe-4a2f-baa0-3da800bd8c3a</th>\n",
       "      <td>2010-11-20 03:04:34</td>\n",
       "      <td>59576-9||81.9||%||numeric</td>\n",
       "    </tr>\n",
       "  </tbody>\n",
       "</table>\n",
       "</div>"
      ],
      "text/plain": [
       "                                                    date  \\\n",
       "patient                                                    \n",
       "f5dcd418-09fe-4a2f-baa0-3da800bd8c3a 2010-11-20 03:04:34   \n",
       "f5dcd418-09fe-4a2f-baa0-3da800bd8c3a 2010-11-20 03:04:34   \n",
       "f5dcd418-09fe-4a2f-baa0-3da800bd8c3a 2010-11-20 03:04:34   \n",
       "f5dcd418-09fe-4a2f-baa0-3da800bd8c3a 2010-11-20 03:04:34   \n",
       "f5dcd418-09fe-4a2f-baa0-3da800bd8c3a 2010-11-20 03:04:34   \n",
       "\n",
       "                                                                code  \n",
       "patient                                                               \n",
       "f5dcd418-09fe-4a2f-baa0-3da800bd8c3a      8302-2||169.6||cm||numeric  \n",
       "f5dcd418-09fe-4a2f-baa0-3da800bd8c3a  72514-3||4.0||{score}||numeric  \n",
       "f5dcd418-09fe-4a2f-baa0-3da800bd8c3a      29463-7||63.8||kg||numeric  \n",
       "f5dcd418-09fe-4a2f-baa0-3da800bd8c3a   39156-5||22.2||kg/m2||numeric  \n",
       "f5dcd418-09fe-4a2f-baa0-3da800bd8c3a       59576-9||81.9||%||numeric  "
      ]
     },
     "metadata": {},
     "output_type": "display_data"
    },
    {
     "data": {
      "text/html": [
       "<div>\n",
       "<style scoped>\n",
       "    .dataframe tbody tr th:only-of-type {\n",
       "        vertical-align: middle;\n",
       "    }\n",
       "\n",
       "    .dataframe tbody tr th {\n",
       "        vertical-align: top;\n",
       "    }\n",
       "\n",
       "    .dataframe thead th {\n",
       "        text-align: right;\n",
       "    }\n",
       "</style>\n",
       "<table border=\"1\" class=\"dataframe\">\n",
       "  <thead>\n",
       "    <tr style=\"text-align: right;\">\n",
       "      <th></th>\n",
       "      <th>orig_code</th>\n",
       "      <th>desc</th>\n",
       "      <th>value</th>\n",
       "      <th>units</th>\n",
       "      <th>type</th>\n",
       "    </tr>\n",
       "  </thead>\n",
       "  <tbody>\n",
       "    <tr>\n",
       "      <th>0</th>\n",
       "      <td>8302-2</td>\n",
       "      <td>Body Height</td>\n",
       "      <td>169.6</td>\n",
       "      <td>cm</td>\n",
       "      <td>numeric</td>\n",
       "    </tr>\n",
       "    <tr>\n",
       "      <th>1</th>\n",
       "      <td>72514-3</td>\n",
       "      <td>Pain severity - 0-10 verbal numeric rating [Sc...</td>\n",
       "      <td>4.0</td>\n",
       "      <td>{score}</td>\n",
       "      <td>numeric</td>\n",
       "    </tr>\n",
       "    <tr>\n",
       "      <th>2</th>\n",
       "      <td>29463-7</td>\n",
       "      <td>Body Weight</td>\n",
       "      <td>63.8</td>\n",
       "      <td>kg</td>\n",
       "      <td>numeric</td>\n",
       "    </tr>\n",
       "    <tr>\n",
       "      <th>3</th>\n",
       "      <td>39156-5</td>\n",
       "      <td>Body Mass Index</td>\n",
       "      <td>22.2</td>\n",
       "      <td>kg/m2</td>\n",
       "      <td>numeric</td>\n",
       "    </tr>\n",
       "    <tr>\n",
       "      <th>4</th>\n",
       "      <td>59576-9</td>\n",
       "      <td>Body mass index (BMI) [Percentile] Per age and...</td>\n",
       "      <td>81.9</td>\n",
       "      <td>%</td>\n",
       "      <td>numeric</td>\n",
       "    </tr>\n",
       "  </tbody>\n",
       "</table>\n",
       "</div>"
      ],
      "text/plain": [
       "  orig_code                                               desc  value  \\\n",
       "0    8302-2                                        Body Height  169.6   \n",
       "1   72514-3  Pain severity - 0-10 verbal numeric rating [Sc...    4.0   \n",
       "2   29463-7                                        Body Weight   63.8   \n",
       "3   39156-5                                    Body Mass Index   22.2   \n",
       "4   59576-9  Body mass index (BMI) [Percentile] Per age and...   81.9   \n",
       "\n",
       "     units     type  \n",
       "0       cm  numeric  \n",
       "1  {score}  numeric  \n",
       "2       kg  numeric  \n",
       "3    kg/m2  numeric  \n",
       "4        %  numeric  "
      ]
     },
     "metadata": {},
     "output_type": "display_data"
    }
   ],
   "source": [
    "for df in train_obs_cleaned:\n",
    "    display(df.head())"
   ]
  },
  {
   "cell_type": "code",
   "execution_count": null,
   "metadata": {},
   "outputs": [],
   "source": [
    "test_obs_cleaned = ray.get(cleanup_obs.remote(test_dfs[1], is_train=False))"
   ]
  },
  {
   "cell_type": "markdown",
   "metadata": {},
   "source": [
    "after cleanup.."
   ]
  },
  {
   "cell_type": "code",
   "execution_count": null,
   "metadata": {},
   "outputs": [
    {
     "data": {
      "text/html": [
       "<div>\n",
       "<style scoped>\n",
       "    .dataframe tbody tr th:only-of-type {\n",
       "        vertical-align: middle;\n",
       "    }\n",
       "\n",
       "    .dataframe tbody tr th {\n",
       "        vertical-align: top;\n",
       "    }\n",
       "\n",
       "    .dataframe thead th {\n",
       "        text-align: right;\n",
       "    }\n",
       "</style>\n",
       "<table border=\"1\" class=\"dataframe\">\n",
       "  <thead>\n",
       "    <tr style=\"text-align: right;\">\n",
       "      <th></th>\n",
       "      <th>date</th>\n",
       "      <th>code</th>\n",
       "    </tr>\n",
       "    <tr>\n",
       "      <th>patient</th>\n",
       "      <th></th>\n",
       "      <th></th>\n",
       "    </tr>\n",
       "  </thead>\n",
       "  <tbody>\n",
       "    <tr>\n",
       "      <th>034e9e3b-2def-4559-bb2a-7850888ae060</th>\n",
       "      <td>2012-01-23 17:45:28</td>\n",
       "      <td>8302-2||193.3||cm||numeric</td>\n",
       "    </tr>\n",
       "    <tr>\n",
       "      <th>034e9e3b-2def-4559-bb2a-7850888ae060</th>\n",
       "      <td>2012-01-23 17:45:28</td>\n",
       "      <td>72514-3||2.0||{score}||numeric</td>\n",
       "    </tr>\n",
       "    <tr>\n",
       "      <th>034e9e3b-2def-4559-bb2a-7850888ae060</th>\n",
       "      <td>2012-01-23 17:45:28</td>\n",
       "      <td>29463-7||87.8||kg||numeric</td>\n",
       "    </tr>\n",
       "    <tr>\n",
       "      <th>034e9e3b-2def-4559-bb2a-7850888ae060</th>\n",
       "      <td>2012-01-23 17:45:28</td>\n",
       "      <td>39156-5||23.5||kg/m2||numeric</td>\n",
       "    </tr>\n",
       "    <tr>\n",
       "      <th>034e9e3b-2def-4559-bb2a-7850888ae060</th>\n",
       "      <td>2012-01-23 17:45:28</td>\n",
       "      <td>8462-4||82.0||mm[Hg]||numeric</td>\n",
       "    </tr>\n",
       "  </tbody>\n",
       "</table>\n",
       "</div>"
      ],
      "text/plain": [
       "                                                    date  \\\n",
       "patient                                                    \n",
       "034e9e3b-2def-4559-bb2a-7850888ae060 2012-01-23 17:45:28   \n",
       "034e9e3b-2def-4559-bb2a-7850888ae060 2012-01-23 17:45:28   \n",
       "034e9e3b-2def-4559-bb2a-7850888ae060 2012-01-23 17:45:28   \n",
       "034e9e3b-2def-4559-bb2a-7850888ae060 2012-01-23 17:45:28   \n",
       "034e9e3b-2def-4559-bb2a-7850888ae060 2012-01-23 17:45:28   \n",
       "\n",
       "                                                                code  \n",
       "patient                                                               \n",
       "034e9e3b-2def-4559-bb2a-7850888ae060      8302-2||193.3||cm||numeric  \n",
       "034e9e3b-2def-4559-bb2a-7850888ae060  72514-3||2.0||{score}||numeric  \n",
       "034e9e3b-2def-4559-bb2a-7850888ae060      29463-7||87.8||kg||numeric  \n",
       "034e9e3b-2def-4559-bb2a-7850888ae060   39156-5||23.5||kg/m2||numeric  \n",
       "034e9e3b-2def-4559-bb2a-7850888ae060   8462-4||82.0||mm[Hg]||numeric  "
      ]
     },
     "metadata": {},
     "output_type": "display_data"
    }
   ],
   "source": [
    "for df in test_obs_cleaned[:1]:\n",
    "    display(df.head())"
   ]
  },
  {
   "cell_type": "code",
   "execution_count": null,
   "metadata": {},
   "outputs": [],
   "source": [
    "#export\n",
    "@ray.remote(num_returns=2)\n",
    "def cleanup_algs(allergies, is_train):\n",
    "    '''Clean allergies df'''\n",
    "    \n",
    "    allergies.rename(str.lower, axis='columns', inplace=True)\n",
    "    allergies.drop(columns=['encounter'], inplace=True)\n",
    "    \n",
    "    stops = pd.DataFrame(allergies.loc[allergies['stop'].notnull(),:])\n",
    "    allergies['code'] = allergies['code'].apply(lambda x: f'{str(x)}||START')\n",
    "    stops['code'] = stops['code'].apply(lambda x: f'{str(x)}||STOP')\n",
    "    allergies.drop(columns=['stop'], inplace=True)\n",
    "    stops.drop(columns=['start'], inplace=True)\n",
    "    allergies.rename(columns={\"start\":\"date\", \"description\":\"desc\"}, inplace=True)\n",
    "    stops.rename(columns={\"stop\":\"date\", \"description\":\"desc\"}, inplace=True)\n",
    "    allergies = allergies.append(stops, ignore_index=True)\n",
    "    \n",
    "    if is_train: alg_codes = allergies.loc[:, ['code', 'desc']]\n",
    "        \n",
    "    allergies.drop(columns=['desc'], inplace=True)\n",
    "    allergies = allergies.astype({'date':'datetime64'})\n",
    "    allergies.set_index('patient', inplace=True)\n",
    "    return [allergies, alg_codes] if is_train else [allergies, None]"
   ]
  },
  {
   "cell_type": "markdown",
   "metadata": {},
   "source": [
    "`allergies` have a start and stop date in the same row indicating when an allergy (indicated by its code) started and stopped (or not) for a patient. <br>\n",
    "So in the cleanup, we flatten that out, meaning create new rows for stop dates. <br>\n",
    "The dataframe looks as follows before cleanup.."
   ]
  },
  {
   "cell_type": "code",
   "execution_count": null,
   "metadata": {},
   "outputs": [
    {
     "data": {
      "text/html": [
       "<div>\n",
       "<style scoped>\n",
       "    .dataframe tbody tr th:only-of-type {\n",
       "        vertical-align: middle;\n",
       "    }\n",
       "\n",
       "    .dataframe tbody tr th {\n",
       "        vertical-align: top;\n",
       "    }\n",
       "\n",
       "    .dataframe thead th {\n",
       "        text-align: right;\n",
       "    }\n",
       "</style>\n",
       "<table border=\"1\" class=\"dataframe\">\n",
       "  <thead>\n",
       "    <tr style=\"text-align: right;\">\n",
       "      <th></th>\n",
       "      <th>START</th>\n",
       "      <th>STOP</th>\n",
       "      <th>PATIENT</th>\n",
       "      <th>ENCOUNTER</th>\n",
       "      <th>CODE</th>\n",
       "      <th>DESCRIPTION</th>\n",
       "    </tr>\n",
       "  </thead>\n",
       "  <tbody>\n",
       "    <tr>\n",
       "      <th>0</th>\n",
       "      <td>1982-10-25</td>\n",
       "      <td>NaN</td>\n",
       "      <td>76982e06-f8b8-4509-9ca3-65a99c8650fe</td>\n",
       "      <td>b896bf40-8b72-42b7-b205-142ee3a56b55</td>\n",
       "      <td>300916003</td>\n",
       "      <td>Latex allergy</td>\n",
       "    </tr>\n",
       "    <tr>\n",
       "      <th>1</th>\n",
       "      <td>1982-10-25</td>\n",
       "      <td>NaN</td>\n",
       "      <td>76982e06-f8b8-4509-9ca3-65a99c8650fe</td>\n",
       "      <td>b896bf40-8b72-42b7-b205-142ee3a56b55</td>\n",
       "      <td>300913006</td>\n",
       "      <td>Shellfish allergy</td>\n",
       "    </tr>\n",
       "    <tr>\n",
       "      <th>2</th>\n",
       "      <td>2002-01-25</td>\n",
       "      <td>NaN</td>\n",
       "      <td>71ba0469-f0cc-4177-ac70-ea07cb01c8b8</td>\n",
       "      <td>7be1a590-4239-4826-9872-031327f3c368</td>\n",
       "      <td>419474003</td>\n",
       "      <td>Allergy to mould</td>\n",
       "    </tr>\n",
       "    <tr>\n",
       "      <th>3</th>\n",
       "      <td>2002-01-25</td>\n",
       "      <td>NaN</td>\n",
       "      <td>71ba0469-f0cc-4177-ac70-ea07cb01c8b8</td>\n",
       "      <td>7be1a590-4239-4826-9872-031327f3c368</td>\n",
       "      <td>232347008</td>\n",
       "      <td>Dander (animal) allergy</td>\n",
       "    </tr>\n",
       "    <tr>\n",
       "      <th>4</th>\n",
       "      <td>2002-01-25</td>\n",
       "      <td>NaN</td>\n",
       "      <td>71ba0469-f0cc-4177-ac70-ea07cb01c8b8</td>\n",
       "      <td>7be1a590-4239-4826-9872-031327f3c368</td>\n",
       "      <td>418689008</td>\n",
       "      <td>Allergy to grass pollen</td>\n",
       "    </tr>\n",
       "  </tbody>\n",
       "</table>\n",
       "</div>"
      ],
      "text/plain": [
       "        START STOP                               PATIENT  \\\n",
       "0  1982-10-25  NaN  76982e06-f8b8-4509-9ca3-65a99c8650fe   \n",
       "1  1982-10-25  NaN  76982e06-f8b8-4509-9ca3-65a99c8650fe   \n",
       "2  2002-01-25  NaN  71ba0469-f0cc-4177-ac70-ea07cb01c8b8   \n",
       "3  2002-01-25  NaN  71ba0469-f0cc-4177-ac70-ea07cb01c8b8   \n",
       "4  2002-01-25  NaN  71ba0469-f0cc-4177-ac70-ea07cb01c8b8   \n",
       "\n",
       "                              ENCOUNTER       CODE              DESCRIPTION  \n",
       "0  b896bf40-8b72-42b7-b205-142ee3a56b55  300916003            Latex allergy  \n",
       "1  b896bf40-8b72-42b7-b205-142ee3a56b55  300913006        Shellfish allergy  \n",
       "2  7be1a590-4239-4826-9872-031327f3c368  419474003         Allergy to mould  \n",
       "3  7be1a590-4239-4826-9872-031327f3c368  232347008  Dander (animal) allergy  \n",
       "4  7be1a590-4239-4826-9872-031327f3c368  418689008  Allergy to grass pollen  "
      ]
     },
     "execution_count": null,
     "metadata": {},
     "output_type": "execute_result"
    }
   ],
   "source": [
    "allergies.head()"
   ]
  },
  {
   "cell_type": "code",
   "execution_count": null,
   "metadata": {},
   "outputs": [],
   "source": [
    "train_alg_cleaned = ray.get(cleanup_algs.remote(train_dfs[2], is_train=True))"
   ]
  },
  {
   "cell_type": "markdown",
   "metadata": {},
   "source": [
    "Resulting in the following output after cleanup.. "
   ]
  },
  {
   "cell_type": "code",
   "execution_count": null,
   "metadata": {},
   "outputs": [
    {
     "data": {
      "text/html": [
       "<div>\n",
       "<style scoped>\n",
       "    .dataframe tbody tr th:only-of-type {\n",
       "        vertical-align: middle;\n",
       "    }\n",
       "\n",
       "    .dataframe tbody tr th {\n",
       "        vertical-align: top;\n",
       "    }\n",
       "\n",
       "    .dataframe thead th {\n",
       "        text-align: right;\n",
       "    }\n",
       "</style>\n",
       "<table border=\"1\" class=\"dataframe\">\n",
       "  <thead>\n",
       "    <tr style=\"text-align: right;\">\n",
       "      <th></th>\n",
       "      <th>date</th>\n",
       "      <th>code</th>\n",
       "    </tr>\n",
       "    <tr>\n",
       "      <th>patient</th>\n",
       "      <th></th>\n",
       "      <th></th>\n",
       "    </tr>\n",
       "  </thead>\n",
       "  <tbody>\n",
       "    <tr>\n",
       "      <th>76982e06-f8b8-4509-9ca3-65a99c8650fe</th>\n",
       "      <td>1982-10-25</td>\n",
       "      <td>300916003||START</td>\n",
       "    </tr>\n",
       "    <tr>\n",
       "      <th>76982e06-f8b8-4509-9ca3-65a99c8650fe</th>\n",
       "      <td>1982-10-25</td>\n",
       "      <td>300913006||START</td>\n",
       "    </tr>\n",
       "    <tr>\n",
       "      <th>71ba0469-f0cc-4177-ac70-ea07cb01c8b8</th>\n",
       "      <td>2002-01-25</td>\n",
       "      <td>419474003||START</td>\n",
       "    </tr>\n",
       "  </tbody>\n",
       "</table>\n",
       "</div>"
      ],
      "text/plain": [
       "                                           date              code\n",
       "patient                                                          \n",
       "76982e06-f8b8-4509-9ca3-65a99c8650fe 1982-10-25  300916003||START\n",
       "76982e06-f8b8-4509-9ca3-65a99c8650fe 1982-10-25  300913006||START\n",
       "71ba0469-f0cc-4177-ac70-ea07cb01c8b8 2002-01-25  419474003||START"
      ]
     },
     "metadata": {},
     "output_type": "display_data"
    },
    {
     "data": {
      "text/html": [
       "<div>\n",
       "<style scoped>\n",
       "    .dataframe tbody tr th:only-of-type {\n",
       "        vertical-align: middle;\n",
       "    }\n",
       "\n",
       "    .dataframe tbody tr th {\n",
       "        vertical-align: top;\n",
       "    }\n",
       "\n",
       "    .dataframe thead th {\n",
       "        text-align: right;\n",
       "    }\n",
       "</style>\n",
       "<table border=\"1\" class=\"dataframe\">\n",
       "  <thead>\n",
       "    <tr style=\"text-align: right;\">\n",
       "      <th></th>\n",
       "      <th>date</th>\n",
       "      <th>code</th>\n",
       "    </tr>\n",
       "    <tr>\n",
       "      <th>patient</th>\n",
       "      <th></th>\n",
       "      <th></th>\n",
       "    </tr>\n",
       "  </thead>\n",
       "  <tbody>\n",
       "    <tr>\n",
       "      <th>96942a16-75bc-4026-bd63-e985b0ca1d6d</th>\n",
       "      <td>2016-09-18</td>\n",
       "      <td>418689008||STOP</td>\n",
       "    </tr>\n",
       "    <tr>\n",
       "      <th>96942a16-75bc-4026-bd63-e985b0ca1d6d</th>\n",
       "      <td>2016-09-18</td>\n",
       "      <td>419263009||STOP</td>\n",
       "    </tr>\n",
       "    <tr>\n",
       "      <th>e6ff4bf9-09c2-4976-aa84-cca142207cf8</th>\n",
       "      <td>2016-06-25</td>\n",
       "      <td>300916003||STOP</td>\n",
       "    </tr>\n",
       "  </tbody>\n",
       "</table>\n",
       "</div>"
      ],
      "text/plain": [
       "                                           date             code\n",
       "patient                                                         \n",
       "96942a16-75bc-4026-bd63-e985b0ca1d6d 2016-09-18  418689008||STOP\n",
       "96942a16-75bc-4026-bd63-e985b0ca1d6d 2016-09-18  419263009||STOP\n",
       "e6ff4bf9-09c2-4976-aa84-cca142207cf8 2016-06-25  300916003||STOP"
      ]
     },
     "metadata": {},
     "output_type": "display_data"
    },
    {
     "data": {
      "text/html": [
       "<div>\n",
       "<style scoped>\n",
       "    .dataframe tbody tr th:only-of-type {\n",
       "        vertical-align: middle;\n",
       "    }\n",
       "\n",
       "    .dataframe tbody tr th {\n",
       "        vertical-align: top;\n",
       "    }\n",
       "\n",
       "    .dataframe thead th {\n",
       "        text-align: right;\n",
       "    }\n",
       "</style>\n",
       "<table border=\"1\" class=\"dataframe\">\n",
       "  <thead>\n",
       "    <tr style=\"text-align: right;\">\n",
       "      <th></th>\n",
       "      <th>code</th>\n",
       "      <th>desc</th>\n",
       "    </tr>\n",
       "  </thead>\n",
       "  <tbody>\n",
       "    <tr>\n",
       "      <th>0</th>\n",
       "      <td>300916003||START</td>\n",
       "      <td>Latex allergy</td>\n",
       "    </tr>\n",
       "    <tr>\n",
       "      <th>1</th>\n",
       "      <td>300913006||START</td>\n",
       "      <td>Shellfish allergy</td>\n",
       "    </tr>\n",
       "    <tr>\n",
       "      <th>2</th>\n",
       "      <td>419474003||START</td>\n",
       "      <td>Allergy to mould</td>\n",
       "    </tr>\n",
       "  </tbody>\n",
       "</table>\n",
       "</div>"
      ],
      "text/plain": [
       "               code               desc\n",
       "0  300916003||START      Latex allergy\n",
       "1  300913006||START  Shellfish allergy\n",
       "2  419474003||START   Allergy to mould"
      ]
     },
     "metadata": {},
     "output_type": "display_data"
    },
    {
     "data": {
      "text/html": [
       "<div>\n",
       "<style scoped>\n",
       "    .dataframe tbody tr th:only-of-type {\n",
       "        vertical-align: middle;\n",
       "    }\n",
       "\n",
       "    .dataframe tbody tr th {\n",
       "        vertical-align: top;\n",
       "    }\n",
       "\n",
       "    .dataframe thead th {\n",
       "        text-align: right;\n",
       "    }\n",
       "</style>\n",
       "<table border=\"1\" class=\"dataframe\">\n",
       "  <thead>\n",
       "    <tr style=\"text-align: right;\">\n",
       "      <th></th>\n",
       "      <th>code</th>\n",
       "      <th>desc</th>\n",
       "    </tr>\n",
       "  </thead>\n",
       "  <tbody>\n",
       "    <tr>\n",
       "      <th>368</th>\n",
       "      <td>418689008||STOP</td>\n",
       "      <td>Allergy to grass pollen</td>\n",
       "    </tr>\n",
       "    <tr>\n",
       "      <th>369</th>\n",
       "      <td>419263009||STOP</td>\n",
       "      <td>Allergy to tree pollen</td>\n",
       "    </tr>\n",
       "    <tr>\n",
       "      <th>370</th>\n",
       "      <td>300916003||STOP</td>\n",
       "      <td>Latex allergy</td>\n",
       "    </tr>\n",
       "  </tbody>\n",
       "</table>\n",
       "</div>"
      ],
      "text/plain": [
       "                code                     desc\n",
       "368  418689008||STOP  Allergy to grass pollen\n",
       "369  419263009||STOP   Allergy to tree pollen\n",
       "370  300916003||STOP            Latex allergy"
      ]
     },
     "metadata": {},
     "output_type": "display_data"
    }
   ],
   "source": [
    "for df in train_alg_cleaned:\n",
    "    display(df.head(3))\n",
    "    display(df.tail(3))"
   ]
  },
  {
   "cell_type": "code",
   "execution_count": null,
   "metadata": {},
   "outputs": [],
   "source": [
    "#export\n",
    "@ray.remote(num_returns=2)\n",
    "def cleanup_crpls(careplans, is_train):\n",
    "    '''Clean careplans df'''\n",
    "    \n",
    "    careplans.rename(str.lower, axis='columns', inplace=True)\n",
    "    careplans = careplans.loc[:, ['start', 'stop', 'patient', 'code', 'description']]\n",
    "    \n",
    "    stops = pd.DataFrame(careplans.loc[careplans['stop'].notnull(),:])\n",
    "    careplans['code'] = careplans['code'].apply(lambda x: f'{str(x)}||START')\n",
    "    stops['code'] = stops['code'].apply(lambda x: f'{str(x)}||STOP')\n",
    "    careplans.drop(columns=['stop'], inplace=True)\n",
    "    stops.drop(columns=['start'], inplace=True)\n",
    "    careplans.rename(columns={\"start\":\"date\", \"description\":\"desc\"}, inplace=True)\n",
    "    stops.rename(columns={\"stop\":\"date\", \"description\":\"desc\"}, inplace=True)\n",
    "    careplans = careplans.append(stops, ignore_index=True)\n",
    "    \n",
    "    if is_train: crpl_codes = careplans.loc[:, ['code', 'desc']]\n",
    "\n",
    "    careplans.drop(columns=['desc'], inplace=True)\n",
    "    careplans = careplans.astype({'date':'datetime64'})\n",
    "    careplans.set_index('patient', inplace=True)\n",
    "    return [careplans, crpl_codes] if is_train else [careplans, None]"
   ]
  },
  {
   "cell_type": "code",
   "execution_count": null,
   "metadata": {},
   "outputs": [
    {
     "data": {
      "text/html": [
       "<div>\n",
       "<style scoped>\n",
       "    .dataframe tbody tr th:only-of-type {\n",
       "        vertical-align: middle;\n",
       "    }\n",
       "\n",
       "    .dataframe tbody tr th {\n",
       "        vertical-align: top;\n",
       "    }\n",
       "\n",
       "    .dataframe thead th {\n",
       "        text-align: right;\n",
       "    }\n",
       "</style>\n",
       "<table border=\"1\" class=\"dataframe\">\n",
       "  <thead>\n",
       "    <tr style=\"text-align: right;\">\n",
       "      <th></th>\n",
       "      <th>Id</th>\n",
       "      <th>START</th>\n",
       "      <th>STOP</th>\n",
       "      <th>PATIENT</th>\n",
       "      <th>ENCOUNTER</th>\n",
       "      <th>CODE</th>\n",
       "      <th>DESCRIPTION</th>\n",
       "      <th>REASONCODE</th>\n",
       "      <th>REASONDESCRIPTION</th>\n",
       "    </tr>\n",
       "  </thead>\n",
       "  <tbody>\n",
       "    <tr>\n",
       "      <th>0</th>\n",
       "      <td>d2500b8c-e830-433a-8b9d-368d30741520</td>\n",
       "      <td>2010-01-23</td>\n",
       "      <td>2012-01-23</td>\n",
       "      <td>034e9e3b-2def-4559-bb2a-7850888ae060</td>\n",
       "      <td>d0c40d10-8d87-447e-836e-99d26ad52ea5</td>\n",
       "      <td>53950000</td>\n",
       "      <td>Respiratory therapy</td>\n",
       "      <td>10509002.0</td>\n",
       "      <td>Acute bronchitis (disorder)</td>\n",
       "    </tr>\n",
       "    <tr>\n",
       "      <th>1</th>\n",
       "      <td>07d9ddd8-dfa1-4e43-9bfe-39f63f4ace15</td>\n",
       "      <td>2011-05-13</td>\n",
       "      <td>2011-08-02</td>\n",
       "      <td>10339b10-3cd1-4ac3-ac13-ec26728cb592</td>\n",
       "      <td>e1ab4933-07a1-49f0-b4bd-05500919061d</td>\n",
       "      <td>53950000</td>\n",
       "      <td>Respiratory therapy</td>\n",
       "      <td>10509002.0</td>\n",
       "      <td>Acute bronchitis (disorder)</td>\n",
       "    </tr>\n",
       "    <tr>\n",
       "      <th>2</th>\n",
       "      <td>a3bb6e99-3b99-44b3-974c-e230b4511b5c</td>\n",
       "      <td>2011-12-31</td>\n",
       "      <td>2012-11-30</td>\n",
       "      <td>f5dcd418-09fe-4a2f-baa0-3da800bd8c3a</td>\n",
       "      <td>16300c56-a035-4126-a656-68c093da6dfc</td>\n",
       "      <td>53950000</td>\n",
       "      <td>Respiratory therapy</td>\n",
       "      <td>10509002.0</td>\n",
       "      <td>Acute bronchitis (disorder)</td>\n",
       "    </tr>\n",
       "    <tr>\n",
       "      <th>3</th>\n",
       "      <td>9f5284b7-425a-486a-b36e-ab818c018f2f</td>\n",
       "      <td>2016-12-29</td>\n",
       "      <td>2017-01-05</td>\n",
       "      <td>034e9e3b-2def-4559-bb2a-7850888ae060</td>\n",
       "      <td>3b639086-5fbc-4720-8c31-e8c8c0f1d660</td>\n",
       "      <td>53950000</td>\n",
       "      <td>Respiratory therapy</td>\n",
       "      <td>10509002.0</td>\n",
       "      <td>Acute bronchitis (disorder)</td>\n",
       "    </tr>\n",
       "    <tr>\n",
       "      <th>4</th>\n",
       "      <td>47ede16c-c216-4f81-a16b-0e858de9cdc3</td>\n",
       "      <td>2017-01-22</td>\n",
       "      <td>2017-02-12</td>\n",
       "      <td>10339b10-3cd1-4ac3-ac13-ec26728cb592</td>\n",
       "      <td>4ec8d55b-05fc-42a5-bfa3-1e233874a362</td>\n",
       "      <td>225358003</td>\n",
       "      <td>Wound care</td>\n",
       "      <td>284551006.0</td>\n",
       "      <td>Laceration of foot</td>\n",
       "    </tr>\n",
       "  </tbody>\n",
       "</table>\n",
       "</div>"
      ],
      "text/plain": [
       "                                     Id       START        STOP  \\\n",
       "0  d2500b8c-e830-433a-8b9d-368d30741520  2010-01-23  2012-01-23   \n",
       "1  07d9ddd8-dfa1-4e43-9bfe-39f63f4ace15  2011-05-13  2011-08-02   \n",
       "2  a3bb6e99-3b99-44b3-974c-e230b4511b5c  2011-12-31  2012-11-30   \n",
       "3  9f5284b7-425a-486a-b36e-ab818c018f2f  2016-12-29  2017-01-05   \n",
       "4  47ede16c-c216-4f81-a16b-0e858de9cdc3  2017-01-22  2017-02-12   \n",
       "\n",
       "                                PATIENT                             ENCOUNTER  \\\n",
       "0  034e9e3b-2def-4559-bb2a-7850888ae060  d0c40d10-8d87-447e-836e-99d26ad52ea5   \n",
       "1  10339b10-3cd1-4ac3-ac13-ec26728cb592  e1ab4933-07a1-49f0-b4bd-05500919061d   \n",
       "2  f5dcd418-09fe-4a2f-baa0-3da800bd8c3a  16300c56-a035-4126-a656-68c093da6dfc   \n",
       "3  034e9e3b-2def-4559-bb2a-7850888ae060  3b639086-5fbc-4720-8c31-e8c8c0f1d660   \n",
       "4  10339b10-3cd1-4ac3-ac13-ec26728cb592  4ec8d55b-05fc-42a5-bfa3-1e233874a362   \n",
       "\n",
       "        CODE          DESCRIPTION   REASONCODE            REASONDESCRIPTION  \n",
       "0   53950000  Respiratory therapy   10509002.0  Acute bronchitis (disorder)  \n",
       "1   53950000  Respiratory therapy   10509002.0  Acute bronchitis (disorder)  \n",
       "2   53950000  Respiratory therapy   10509002.0  Acute bronchitis (disorder)  \n",
       "3   53950000  Respiratory therapy   10509002.0  Acute bronchitis (disorder)  \n",
       "4  225358003           Wound care  284551006.0           Laceration of foot  "
      ]
     },
     "execution_count": null,
     "metadata": {},
     "output_type": "execute_result"
    }
   ],
   "source": [
    "careplans.head()"
   ]
  },
  {
   "cell_type": "code",
   "execution_count": null,
   "metadata": {},
   "outputs": [],
   "source": [
    "train_crpl_cleaned = ray.get(cleanup_crpls.remote(careplans, is_train=True))"
   ]
  },
  {
   "cell_type": "code",
   "execution_count": null,
   "metadata": {},
   "outputs": [
    {
     "data": {
      "text/html": [
       "<div>\n",
       "<style scoped>\n",
       "    .dataframe tbody tr th:only-of-type {\n",
       "        vertical-align: middle;\n",
       "    }\n",
       "\n",
       "    .dataframe tbody tr th {\n",
       "        vertical-align: top;\n",
       "    }\n",
       "\n",
       "    .dataframe thead th {\n",
       "        text-align: right;\n",
       "    }\n",
       "</style>\n",
       "<table border=\"1\" class=\"dataframe\">\n",
       "  <thead>\n",
       "    <tr style=\"text-align: right;\">\n",
       "      <th></th>\n",
       "      <th>date</th>\n",
       "      <th>code</th>\n",
       "    </tr>\n",
       "    <tr>\n",
       "      <th>patient</th>\n",
       "      <th></th>\n",
       "      <th></th>\n",
       "    </tr>\n",
       "  </thead>\n",
       "  <tbody>\n",
       "    <tr>\n",
       "      <th>034e9e3b-2def-4559-bb2a-7850888ae060</th>\n",
       "      <td>2010-01-23</td>\n",
       "      <td>53950000||START</td>\n",
       "    </tr>\n",
       "    <tr>\n",
       "      <th>10339b10-3cd1-4ac3-ac13-ec26728cb592</th>\n",
       "      <td>2011-05-13</td>\n",
       "      <td>53950000||START</td>\n",
       "    </tr>\n",
       "    <tr>\n",
       "      <th>f5dcd418-09fe-4a2f-baa0-3da800bd8c3a</th>\n",
       "      <td>2011-12-31</td>\n",
       "      <td>53950000||START</td>\n",
       "    </tr>\n",
       "  </tbody>\n",
       "</table>\n",
       "</div>"
      ],
      "text/plain": [
       "                                           date             code\n",
       "patient                                                         \n",
       "034e9e3b-2def-4559-bb2a-7850888ae060 2010-01-23  53950000||START\n",
       "10339b10-3cd1-4ac3-ac13-ec26728cb592 2011-05-13  53950000||START\n",
       "f5dcd418-09fe-4a2f-baa0-3da800bd8c3a 2011-12-31  53950000||START"
      ]
     },
     "metadata": {},
     "output_type": "display_data"
    },
    {
     "data": {
      "text/html": [
       "<div>\n",
       "<style scoped>\n",
       "    .dataframe tbody tr th:only-of-type {\n",
       "        vertical-align: middle;\n",
       "    }\n",
       "\n",
       "    .dataframe tbody tr th {\n",
       "        vertical-align: top;\n",
       "    }\n",
       "\n",
       "    .dataframe thead th {\n",
       "        text-align: right;\n",
       "    }\n",
       "</style>\n",
       "<table border=\"1\" class=\"dataframe\">\n",
       "  <thead>\n",
       "    <tr style=\"text-align: right;\">\n",
       "      <th></th>\n",
       "      <th>date</th>\n",
       "      <th>code</th>\n",
       "    </tr>\n",
       "    <tr>\n",
       "      <th>patient</th>\n",
       "      <th></th>\n",
       "      <th></th>\n",
       "    </tr>\n",
       "  </thead>\n",
       "  <tbody>\n",
       "    <tr>\n",
       "      <th>6d048a56-edb8-4f29-891d-7a84d75a8e78</th>\n",
       "      <td>2002-11-30</td>\n",
       "      <td>53950000||STOP</td>\n",
       "    </tr>\n",
       "    <tr>\n",
       "      <th>fca3178e-fb68-41c3-8598-702d3ca68b96</th>\n",
       "      <td>1983-09-29</td>\n",
       "      <td>91251008||STOP</td>\n",
       "    </tr>\n",
       "    <tr>\n",
       "      <th>fca3178e-fb68-41c3-8598-702d3ca68b96</th>\n",
       "      <td>1984-11-22</td>\n",
       "      <td>385691007||STOP</td>\n",
       "    </tr>\n",
       "  </tbody>\n",
       "</table>\n",
       "</div>"
      ],
      "text/plain": [
       "                                           date             code\n",
       "patient                                                         \n",
       "6d048a56-edb8-4f29-891d-7a84d75a8e78 2002-11-30   53950000||STOP\n",
       "fca3178e-fb68-41c3-8598-702d3ca68b96 1983-09-29   91251008||STOP\n",
       "fca3178e-fb68-41c3-8598-702d3ca68b96 1984-11-22  385691007||STOP"
      ]
     },
     "metadata": {},
     "output_type": "display_data"
    },
    {
     "data": {
      "text/html": [
       "<div>\n",
       "<style scoped>\n",
       "    .dataframe tbody tr th:only-of-type {\n",
       "        vertical-align: middle;\n",
       "    }\n",
       "\n",
       "    .dataframe tbody tr th {\n",
       "        vertical-align: top;\n",
       "    }\n",
       "\n",
       "    .dataframe thead th {\n",
       "        text-align: right;\n",
       "    }\n",
       "</style>\n",
       "<table border=\"1\" class=\"dataframe\">\n",
       "  <thead>\n",
       "    <tr style=\"text-align: right;\">\n",
       "      <th></th>\n",
       "      <th>code</th>\n",
       "      <th>desc</th>\n",
       "    </tr>\n",
       "  </thead>\n",
       "  <tbody>\n",
       "    <tr>\n",
       "      <th>0</th>\n",
       "      <td>53950000||START</td>\n",
       "      <td>Respiratory therapy</td>\n",
       "    </tr>\n",
       "    <tr>\n",
       "      <th>1</th>\n",
       "      <td>53950000||START</td>\n",
       "      <td>Respiratory therapy</td>\n",
       "    </tr>\n",
       "    <tr>\n",
       "      <th>2</th>\n",
       "      <td>53950000||START</td>\n",
       "      <td>Respiratory therapy</td>\n",
       "    </tr>\n",
       "  </tbody>\n",
       "</table>\n",
       "</div>"
      ],
      "text/plain": [
       "              code                 desc\n",
       "0  53950000||START  Respiratory therapy\n",
       "1  53950000||START  Respiratory therapy\n",
       "2  53950000||START  Respiratory therapy"
      ]
     },
     "metadata": {},
     "output_type": "display_data"
    },
    {
     "data": {
      "text/html": [
       "<div>\n",
       "<style scoped>\n",
       "    .dataframe tbody tr th:only-of-type {\n",
       "        vertical-align: middle;\n",
       "    }\n",
       "\n",
       "    .dataframe tbody tr th {\n",
       "        vertical-align: top;\n",
       "    }\n",
       "\n",
       "    .dataframe thead th {\n",
       "        text-align: right;\n",
       "    }\n",
       "</style>\n",
       "<table border=\"1\" class=\"dataframe\">\n",
       "  <thead>\n",
       "    <tr style=\"text-align: right;\">\n",
       "      <th></th>\n",
       "      <th>code</th>\n",
       "      <th>desc</th>\n",
       "    </tr>\n",
       "  </thead>\n",
       "  <tbody>\n",
       "    <tr>\n",
       "      <th>5431</th>\n",
       "      <td>53950000||STOP</td>\n",
       "      <td>Respiratory therapy</td>\n",
       "    </tr>\n",
       "    <tr>\n",
       "      <th>5432</th>\n",
       "      <td>91251008||STOP</td>\n",
       "      <td>Physical therapy procedure</td>\n",
       "    </tr>\n",
       "    <tr>\n",
       "      <th>5433</th>\n",
       "      <td>385691007||STOP</td>\n",
       "      <td>Fracture care</td>\n",
       "    </tr>\n",
       "  </tbody>\n",
       "</table>\n",
       "</div>"
      ],
      "text/plain": [
       "                 code                        desc\n",
       "5431   53950000||STOP         Respiratory therapy\n",
       "5432   91251008||STOP  Physical therapy procedure\n",
       "5433  385691007||STOP               Fracture care"
      ]
     },
     "metadata": {},
     "output_type": "display_data"
    }
   ],
   "source": [
    "for df in train_crpl_cleaned:\n",
    "    display(df.head(3))\n",
    "    display(df.tail(3))"
   ]
  },
  {
   "cell_type": "code",
   "execution_count": null,
   "metadata": {},
   "outputs": [],
   "source": [
    "#export\n",
    "@ray.remote(num_returns=2)\n",
    "def cleanup_meds(medications, is_train):\n",
    "    '''Clean `medications` df'''\n",
    "    \n",
    "    medications.rename(str.lower, axis='columns', inplace=True)\n",
    "    medications = medications.loc[:, ['start', 'stop', 'patient', 'code', 'description']]\n",
    "    \n",
    "    stops = pd.DataFrame(medications.loc[medications['stop'].notnull(),:])\n",
    "    medications['code'] = medications['code'].apply(lambda x: f'{str(x)}||START')\n",
    "    stops['code'] = stops['code'].apply(lambda x: f'{str(x)}||STOP')\n",
    "    medications.drop(columns=['stop'], inplace=True)\n",
    "    stops.drop(columns=['start'], inplace=True)\n",
    "    medications.rename(columns={\"start\":\"date\", \"description\":\"desc\"}, inplace=True)\n",
    "    stops.rename(columns={\"stop\":\"date\", \"description\":\"desc\"}, inplace=True)\n",
    "    medications = medications.append(stops, ignore_index=True)\n",
    "    \n",
    "    if is_train: med_codes = medications.loc[:, ['code', 'desc']]\n",
    "\n",
    "    medications.drop(columns=['desc'], inplace=True)\n",
    "    medications = medications.astype({'date':'datetime64'})\n",
    "    medications.set_index('patient', inplace=True)\n",
    "    return [medications, med_codes] if is_train else [medications, None]"
   ]
  },
  {
   "cell_type": "code",
   "execution_count": null,
   "metadata": {},
   "outputs": [
    {
     "data": {
      "text/html": [
       "<div>\n",
       "<style scoped>\n",
       "    .dataframe tbody tr th:only-of-type {\n",
       "        vertical-align: middle;\n",
       "    }\n",
       "\n",
       "    .dataframe tbody tr th {\n",
       "        vertical-align: top;\n",
       "    }\n",
       "\n",
       "    .dataframe thead th {\n",
       "        text-align: right;\n",
       "    }\n",
       "</style>\n",
       "<table border=\"1\" class=\"dataframe\">\n",
       "  <thead>\n",
       "    <tr style=\"text-align: right;\">\n",
       "      <th></th>\n",
       "      <th>START</th>\n",
       "      <th>STOP</th>\n",
       "      <th>PATIENT</th>\n",
       "      <th>PAYER</th>\n",
       "      <th>ENCOUNTER</th>\n",
       "      <th>CODE</th>\n",
       "      <th>DESCRIPTION</th>\n",
       "      <th>BASE_COST</th>\n",
       "      <th>PAYER_COVERAGE</th>\n",
       "      <th>DISPENSES</th>\n",
       "      <th>TOTALCOST</th>\n",
       "      <th>REASONCODE</th>\n",
       "      <th>REASONDESCRIPTION</th>\n",
       "    </tr>\n",
       "  </thead>\n",
       "  <tbody>\n",
       "    <tr>\n",
       "      <th>0</th>\n",
       "      <td>2010-05-05T00:26:23Z</td>\n",
       "      <td>2011-04-30T00:26:23Z</td>\n",
       "      <td>8d4c4326-e9de-4f45-9a4c-f8c36bff89ae</td>\n",
       "      <td>b1c428d6-4f07-31e0-90f0-68ffa6ff8c76</td>\n",
       "      <td>1e0d6b0e-1711-4a25-99f9-b1c700c9b260</td>\n",
       "      <td>389221</td>\n",
       "      <td>Etonogestrel 68 MG Drug Implant</td>\n",
       "      <td>677.08</td>\n",
       "      <td>0.0</td>\n",
       "      <td>12</td>\n",
       "      <td>8124.96</td>\n",
       "      <td>NaN</td>\n",
       "      <td>NaN</td>\n",
       "    </tr>\n",
       "    <tr>\n",
       "      <th>1</th>\n",
       "      <td>2011-04-30T00:26:23Z</td>\n",
       "      <td>2012-04-24T00:26:23Z</td>\n",
       "      <td>8d4c4326-e9de-4f45-9a4c-f8c36bff89ae</td>\n",
       "      <td>b1c428d6-4f07-31e0-90f0-68ffa6ff8c76</td>\n",
       "      <td>6aa37300-d1b4-48e7-a2f8-5e0f70f48f38</td>\n",
       "      <td>389221</td>\n",
       "      <td>Etonogestrel 68 MG Drug Implant</td>\n",
       "      <td>624.09</td>\n",
       "      <td>0.0</td>\n",
       "      <td>12</td>\n",
       "      <td>7489.08</td>\n",
       "      <td>NaN</td>\n",
       "      <td>NaN</td>\n",
       "    </tr>\n",
       "    <tr>\n",
       "      <th>2</th>\n",
       "      <td>2012-04-24T00:26:23Z</td>\n",
       "      <td>2013-04-19T00:26:23Z</td>\n",
       "      <td>8d4c4326-e9de-4f45-9a4c-f8c36bff89ae</td>\n",
       "      <td>b1c428d6-4f07-31e0-90f0-68ffa6ff8c76</td>\n",
       "      <td>7253a9f9-6f6d-429a-926a-7b1d424eae3f</td>\n",
       "      <td>748856</td>\n",
       "      <td>Yaz 28 Day Pack</td>\n",
       "      <td>43.32</td>\n",
       "      <td>0.0</td>\n",
       "      <td>12</td>\n",
       "      <td>519.84</td>\n",
       "      <td>NaN</td>\n",
       "      <td>NaN</td>\n",
       "    </tr>\n",
       "    <tr>\n",
       "      <th>3</th>\n",
       "      <td>2011-05-13T12:58:08Z</td>\n",
       "      <td>2011-05-27T12:58:08Z</td>\n",
       "      <td>10339b10-3cd1-4ac3-ac13-ec26728cb592</td>\n",
       "      <td>d47b3510-2895-3b70-9897-342d681c769d</td>\n",
       "      <td>e1ab4933-07a1-49f0-b4bd-05500919061d</td>\n",
       "      <td>313782</td>\n",
       "      <td>Acetaminophen 325 MG Oral Tablet</td>\n",
       "      <td>8.14</td>\n",
       "      <td>0.0</td>\n",
       "      <td>1</td>\n",
       "      <td>8.14</td>\n",
       "      <td>10509002.0</td>\n",
       "      <td>Acute bronchitis (disorder)</td>\n",
       "    </tr>\n",
       "    <tr>\n",
       "      <th>4</th>\n",
       "      <td>2011-12-08T15:02:18Z</td>\n",
       "      <td>2011-12-22T15:02:18Z</td>\n",
       "      <td>1d604da9-9a81-4ba9-80c2-de3375d59b40</td>\n",
       "      <td>b1c428d6-4f07-31e0-90f0-68ffa6ff8c76</td>\n",
       "      <td>792fae81-a007-44b0-8221-46953737b089</td>\n",
       "      <td>562251</td>\n",
       "      <td>Amoxicillin 250 MG / Clavulanate 125 MG Oral T...</td>\n",
       "      <td>11.91</td>\n",
       "      <td>0.0</td>\n",
       "      <td>1</td>\n",
       "      <td>11.91</td>\n",
       "      <td>444814009.0</td>\n",
       "      <td>Viral sinusitis (disorder)</td>\n",
       "    </tr>\n",
       "  </tbody>\n",
       "</table>\n",
       "</div>"
      ],
      "text/plain": [
       "                  START                  STOP  \\\n",
       "0  2010-05-05T00:26:23Z  2011-04-30T00:26:23Z   \n",
       "1  2011-04-30T00:26:23Z  2012-04-24T00:26:23Z   \n",
       "2  2012-04-24T00:26:23Z  2013-04-19T00:26:23Z   \n",
       "3  2011-05-13T12:58:08Z  2011-05-27T12:58:08Z   \n",
       "4  2011-12-08T15:02:18Z  2011-12-22T15:02:18Z   \n",
       "\n",
       "                                PATIENT                                 PAYER  \\\n",
       "0  8d4c4326-e9de-4f45-9a4c-f8c36bff89ae  b1c428d6-4f07-31e0-90f0-68ffa6ff8c76   \n",
       "1  8d4c4326-e9de-4f45-9a4c-f8c36bff89ae  b1c428d6-4f07-31e0-90f0-68ffa6ff8c76   \n",
       "2  8d4c4326-e9de-4f45-9a4c-f8c36bff89ae  b1c428d6-4f07-31e0-90f0-68ffa6ff8c76   \n",
       "3  10339b10-3cd1-4ac3-ac13-ec26728cb592  d47b3510-2895-3b70-9897-342d681c769d   \n",
       "4  1d604da9-9a81-4ba9-80c2-de3375d59b40  b1c428d6-4f07-31e0-90f0-68ffa6ff8c76   \n",
       "\n",
       "                              ENCOUNTER    CODE  \\\n",
       "0  1e0d6b0e-1711-4a25-99f9-b1c700c9b260  389221   \n",
       "1  6aa37300-d1b4-48e7-a2f8-5e0f70f48f38  389221   \n",
       "2  7253a9f9-6f6d-429a-926a-7b1d424eae3f  748856   \n",
       "3  e1ab4933-07a1-49f0-b4bd-05500919061d  313782   \n",
       "4  792fae81-a007-44b0-8221-46953737b089  562251   \n",
       "\n",
       "                                         DESCRIPTION  BASE_COST  \\\n",
       "0                    Etonogestrel 68 MG Drug Implant     677.08   \n",
       "1                    Etonogestrel 68 MG Drug Implant     624.09   \n",
       "2                                    Yaz 28 Day Pack      43.32   \n",
       "3                   Acetaminophen 325 MG Oral Tablet       8.14   \n",
       "4  Amoxicillin 250 MG / Clavulanate 125 MG Oral T...      11.91   \n",
       "\n",
       "   PAYER_COVERAGE  DISPENSES  TOTALCOST   REASONCODE  \\\n",
       "0             0.0         12    8124.96          NaN   \n",
       "1             0.0         12    7489.08          NaN   \n",
       "2             0.0         12     519.84          NaN   \n",
       "3             0.0          1       8.14   10509002.0   \n",
       "4             0.0          1      11.91  444814009.0   \n",
       "\n",
       "             REASONDESCRIPTION  \n",
       "0                          NaN  \n",
       "1                          NaN  \n",
       "2                          NaN  \n",
       "3  Acute bronchitis (disorder)  \n",
       "4   Viral sinusitis (disorder)  "
      ]
     },
     "execution_count": null,
     "metadata": {},
     "output_type": "execute_result"
    }
   ],
   "source": [
    "medications.head()"
   ]
  },
  {
   "cell_type": "code",
   "execution_count": null,
   "metadata": {},
   "outputs": [],
   "source": [
    "train_med_cleaned = ray.get(cleanup_meds.remote(medications, is_train=True))"
   ]
  },
  {
   "cell_type": "code",
   "execution_count": null,
   "metadata": {},
   "outputs": [
    {
     "data": {
      "text/html": [
       "<div>\n",
       "<style scoped>\n",
       "    .dataframe tbody tr th:only-of-type {\n",
       "        vertical-align: middle;\n",
       "    }\n",
       "\n",
       "    .dataframe tbody tr th {\n",
       "        vertical-align: top;\n",
       "    }\n",
       "\n",
       "    .dataframe thead th {\n",
       "        text-align: right;\n",
       "    }\n",
       "</style>\n",
       "<table border=\"1\" class=\"dataframe\">\n",
       "  <thead>\n",
       "    <tr style=\"text-align: right;\">\n",
       "      <th></th>\n",
       "      <th>date</th>\n",
       "      <th>code</th>\n",
       "    </tr>\n",
       "    <tr>\n",
       "      <th>patient</th>\n",
       "      <th></th>\n",
       "      <th></th>\n",
       "    </tr>\n",
       "  </thead>\n",
       "  <tbody>\n",
       "    <tr>\n",
       "      <th>8d4c4326-e9de-4f45-9a4c-f8c36bff89ae</th>\n",
       "      <td>2010-05-05 00:26:23</td>\n",
       "      <td>389221||START</td>\n",
       "    </tr>\n",
       "    <tr>\n",
       "      <th>8d4c4326-e9de-4f45-9a4c-f8c36bff89ae</th>\n",
       "      <td>2011-04-30 00:26:23</td>\n",
       "      <td>389221||START</td>\n",
       "    </tr>\n",
       "    <tr>\n",
       "      <th>8d4c4326-e9de-4f45-9a4c-f8c36bff89ae</th>\n",
       "      <td>2012-04-24 00:26:23</td>\n",
       "      <td>748856||START</td>\n",
       "    </tr>\n",
       "  </tbody>\n",
       "</table>\n",
       "</div>"
      ],
      "text/plain": [
       "                                                    date           code\n",
       "patient                                                                \n",
       "8d4c4326-e9de-4f45-9a4c-f8c36bff89ae 2010-05-05 00:26:23  389221||START\n",
       "8d4c4326-e9de-4f45-9a4c-f8c36bff89ae 2011-04-30 00:26:23  389221||START\n",
       "8d4c4326-e9de-4f45-9a4c-f8c36bff89ae 2012-04-24 00:26:23  748856||START"
      ]
     },
     "metadata": {},
     "output_type": "display_data"
    },
    {
     "data": {
      "text/html": [
       "<div>\n",
       "<style scoped>\n",
       "    .dataframe tbody tr th:only-of-type {\n",
       "        vertical-align: middle;\n",
       "    }\n",
       "\n",
       "    .dataframe tbody tr th {\n",
       "        vertical-align: top;\n",
       "    }\n",
       "\n",
       "    .dataframe thead th {\n",
       "        text-align: right;\n",
       "    }\n",
       "</style>\n",
       "<table border=\"1\" class=\"dataframe\">\n",
       "  <thead>\n",
       "    <tr style=\"text-align: right;\">\n",
       "      <th></th>\n",
       "      <th>date</th>\n",
       "      <th>code</th>\n",
       "    </tr>\n",
       "    <tr>\n",
       "      <th>patient</th>\n",
       "      <th></th>\n",
       "      <th></th>\n",
       "    </tr>\n",
       "  </thead>\n",
       "  <tbody>\n",
       "    <tr>\n",
       "      <th>6d048a56-edb8-4f29-891d-7a84d75a8e78</th>\n",
       "      <td>2005-12-31 17:27:52</td>\n",
       "      <td>2123111||STOP</td>\n",
       "    </tr>\n",
       "    <tr>\n",
       "      <th>fca3178e-fb68-41c3-8598-702d3ca68b96</th>\n",
       "      <td>1983-09-29 17:27:52</td>\n",
       "      <td>243670||STOP</td>\n",
       "    </tr>\n",
       "    <tr>\n",
       "      <th>fca3178e-fb68-41c3-8598-702d3ca68b96</th>\n",
       "      <td>1984-11-22 17:27:52</td>\n",
       "      <td>313782||STOP</td>\n",
       "    </tr>\n",
       "  </tbody>\n",
       "</table>\n",
       "</div>"
      ],
      "text/plain": [
       "                                                    date           code\n",
       "patient                                                                \n",
       "6d048a56-edb8-4f29-891d-7a84d75a8e78 2005-12-31 17:27:52  2123111||STOP\n",
       "fca3178e-fb68-41c3-8598-702d3ca68b96 1983-09-29 17:27:52   243670||STOP\n",
       "fca3178e-fb68-41c3-8598-702d3ca68b96 1984-11-22 17:27:52   313782||STOP"
      ]
     },
     "metadata": {},
     "output_type": "display_data"
    },
    {
     "data": {
      "text/html": [
       "<div>\n",
       "<style scoped>\n",
       "    .dataframe tbody tr th:only-of-type {\n",
       "        vertical-align: middle;\n",
       "    }\n",
       "\n",
       "    .dataframe tbody tr th {\n",
       "        vertical-align: top;\n",
       "    }\n",
       "\n",
       "    .dataframe thead th {\n",
       "        text-align: right;\n",
       "    }\n",
       "</style>\n",
       "<table border=\"1\" class=\"dataframe\">\n",
       "  <thead>\n",
       "    <tr style=\"text-align: right;\">\n",
       "      <th></th>\n",
       "      <th>code</th>\n",
       "      <th>desc</th>\n",
       "    </tr>\n",
       "  </thead>\n",
       "  <tbody>\n",
       "    <tr>\n",
       "      <th>0</th>\n",
       "      <td>389221||START</td>\n",
       "      <td>Etonogestrel 68 MG Drug Implant</td>\n",
       "    </tr>\n",
       "    <tr>\n",
       "      <th>1</th>\n",
       "      <td>389221||START</td>\n",
       "      <td>Etonogestrel 68 MG Drug Implant</td>\n",
       "    </tr>\n",
       "    <tr>\n",
       "      <th>2</th>\n",
       "      <td>748856||START</td>\n",
       "      <td>Yaz 28 Day Pack</td>\n",
       "    </tr>\n",
       "  </tbody>\n",
       "</table>\n",
       "</div>"
      ],
      "text/plain": [
       "            code                             desc\n",
       "0  389221||START  Etonogestrel 68 MG Drug Implant\n",
       "1  389221||START  Etonogestrel 68 MG Drug Implant\n",
       "2  748856||START                  Yaz 28 Day Pack"
      ]
     },
     "metadata": {},
     "output_type": "display_data"
    },
    {
     "data": {
      "text/html": [
       "<div>\n",
       "<style scoped>\n",
       "    .dataframe tbody tr th:only-of-type {\n",
       "        vertical-align: middle;\n",
       "    }\n",
       "\n",
       "    .dataframe tbody tr th {\n",
       "        vertical-align: top;\n",
       "    }\n",
       "\n",
       "    .dataframe thead th {\n",
       "        text-align: right;\n",
       "    }\n",
       "</style>\n",
       "<table border=\"1\" class=\"dataframe\">\n",
       "  <thead>\n",
       "    <tr style=\"text-align: right;\">\n",
       "      <th></th>\n",
       "      <th>code</th>\n",
       "      <th>desc</th>\n",
       "    </tr>\n",
       "  </thead>\n",
       "  <tbody>\n",
       "    <tr>\n",
       "      <th>84080</th>\n",
       "      <td>2123111||STOP</td>\n",
       "      <td>NDA020503 200 ACTUAT Albuterol 0.09 MG/ACTUAT ...</td>\n",
       "    </tr>\n",
       "    <tr>\n",
       "      <th>84081</th>\n",
       "      <td>243670||STOP</td>\n",
       "      <td>Aspirin 81 MG Oral Tablet</td>\n",
       "    </tr>\n",
       "    <tr>\n",
       "      <th>84082</th>\n",
       "      <td>313782||STOP</td>\n",
       "      <td>Acetaminophen 325 MG Oral Tablet</td>\n",
       "    </tr>\n",
       "  </tbody>\n",
       "</table>\n",
       "</div>"
      ],
      "text/plain": [
       "                code                                               desc\n",
       "84080  2123111||STOP  NDA020503 200 ACTUAT Albuterol 0.09 MG/ACTUAT ...\n",
       "84081   243670||STOP                          Aspirin 81 MG Oral Tablet\n",
       "84082   313782||STOP                   Acetaminophen 325 MG Oral Tablet"
      ]
     },
     "metadata": {},
     "output_type": "display_data"
    }
   ],
   "source": [
    "for df in train_med_cleaned:\n",
    "    display(df.head(3))\n",
    "    display(df.tail(3))"
   ]
  },
  {
   "cell_type": "code",
   "execution_count": null,
   "metadata": {},
   "outputs": [],
   "source": [
    "#export\n",
    "@ray.remote(num_returns=2)\n",
    "def cleanup_img(imaging_studies, is_train):\n",
    "    '''Clean `imaging` df'''\n",
    "    \n",
    "    imaging_studies.rename(str.lower, axis='columns', inplace=True)\n",
    "    imaging_studies.rename(columns={\"bodysite_code\":\"code\", \"bodysite_description\":\"desc\"}, inplace=True)\n",
    "    if is_train: img_codes = imaging_studies.loc[:, ['code', 'desc']]\n",
    "        \n",
    "    imaging_studies = imaging_studies.loc[:, ['patient', 'date', 'code']]\n",
    "    imaging_studies = imaging_studies.astype({'date':'datetime64'})\n",
    "    imaging_studies.set_index('patient', inplace=True)\n",
    "    return [imaging_studies, img_codes] if is_train else [imaging_studies, None]"
   ]
  },
  {
   "cell_type": "code",
   "execution_count": null,
   "metadata": {},
   "outputs": [
    {
     "data": {
      "text/html": [
       "<div>\n",
       "<style scoped>\n",
       "    .dataframe tbody tr th:only-of-type {\n",
       "        vertical-align: middle;\n",
       "    }\n",
       "\n",
       "    .dataframe tbody tr th {\n",
       "        vertical-align: top;\n",
       "    }\n",
       "\n",
       "    .dataframe thead th {\n",
       "        text-align: right;\n",
       "    }\n",
       "</style>\n",
       "<table border=\"1\" class=\"dataframe\">\n",
       "  <thead>\n",
       "    <tr style=\"text-align: right;\">\n",
       "      <th></th>\n",
       "      <th>Id</th>\n",
       "      <th>DATE</th>\n",
       "      <th>PATIENT</th>\n",
       "      <th>ENCOUNTER</th>\n",
       "      <th>BODYSITE_CODE</th>\n",
       "      <th>BODYSITE_DESCRIPTION</th>\n",
       "      <th>MODALITY_CODE</th>\n",
       "      <th>MODALITY_DESCRIPTION</th>\n",
       "      <th>SOP_CODE</th>\n",
       "      <th>SOP_DESCRIPTION</th>\n",
       "    </tr>\n",
       "  </thead>\n",
       "  <tbody>\n",
       "    <tr>\n",
       "      <th>0</th>\n",
       "      <td>d3e49b38-7634-4416-879d-7bc68bf3e7df</td>\n",
       "      <td>2014-07-08T15:35:36Z</td>\n",
       "      <td>b58731cc-2d8b-4c2d-b327-4cab771af3ef</td>\n",
       "      <td>3a36836d-da25-4e73-808b-972b669b7e4e</td>\n",
       "      <td>40983000</td>\n",
       "      <td>Arm</td>\n",
       "      <td>DX</td>\n",
       "      <td>Digital Radiography</td>\n",
       "      <td>1.2.840.10008.5.1.4.1.1.1.1</td>\n",
       "      <td>Digital X-Ray Image Storage</td>\n",
       "    </tr>\n",
       "    <tr>\n",
       "      <th>1</th>\n",
       "      <td>46baf530-4941-40ab-8219-685a08fd9086</td>\n",
       "      <td>2014-01-22T18:58:37Z</td>\n",
       "      <td>2ffe9369-24e4-414b-8973-258fad09313a</td>\n",
       "      <td>33b71e4b-0690-4fe9-897a-dc3b2ff9215c</td>\n",
       "      <td>40983000</td>\n",
       "      <td>Arm</td>\n",
       "      <td>DX</td>\n",
       "      <td>Digital Radiography</td>\n",
       "      <td>1.2.840.10008.5.1.4.1.1.1.1</td>\n",
       "      <td>Digital X-Ray Image Storage</td>\n",
       "    </tr>\n",
       "    <tr>\n",
       "      <th>2</th>\n",
       "      <td>b8fb8a6e-a2f5-46c9-8b3f-a35aa982efcd</td>\n",
       "      <td>2001-12-01T02:08:27Z</td>\n",
       "      <td>86b97fc7-ae8f-4e0d-8e66-db68f36e7a76</td>\n",
       "      <td>e42d1046-568d-46c2-b0a5-d910b2f3bd1d</td>\n",
       "      <td>8205005</td>\n",
       "      <td>Wrist</td>\n",
       "      <td>DX</td>\n",
       "      <td>Digital Radiography</td>\n",
       "      <td>1.2.840.10008.5.1.4.1.1.1.1</td>\n",
       "      <td>Digital X-Ray Image Storage</td>\n",
       "    </tr>\n",
       "    <tr>\n",
       "      <th>3</th>\n",
       "      <td>10c8a016-4504-4653-bddf-2dd3610886c8</td>\n",
       "      <td>2004-07-03T20:46:46Z</td>\n",
       "      <td>71ba0469-f0cc-4177-ac70-ea07cb01c8b8</td>\n",
       "      <td>323fca87-817f-4d58-8486-ba92ea739399</td>\n",
       "      <td>51299004</td>\n",
       "      <td>Clavicle</td>\n",
       "      <td>DX</td>\n",
       "      <td>Digital Radiography</td>\n",
       "      <td>1.2.840.10008.5.1.4.1.1.1.1</td>\n",
       "      <td>Digital X-Ray Image Storage</td>\n",
       "    </tr>\n",
       "    <tr>\n",
       "      <th>4</th>\n",
       "      <td>4221534c-d379-4c6b-a22e-d7eae3fa2609</td>\n",
       "      <td>2017-02-08T08:42:44Z</td>\n",
       "      <td>d49f748f-928d-40e8-92c8-73e4c5679711</td>\n",
       "      <td>cfef48b3-b769-4794-a3e7-f57f7ba8d387</td>\n",
       "      <td>344001</td>\n",
       "      <td>Ankle</td>\n",
       "      <td>DX</td>\n",
       "      <td>Digital Radiography</td>\n",
       "      <td>1.2.840.10008.5.1.4.1.1.1.1</td>\n",
       "      <td>Digital X-Ray Image Storage</td>\n",
       "    </tr>\n",
       "  </tbody>\n",
       "</table>\n",
       "</div>"
      ],
      "text/plain": [
       "                                     Id                  DATE  \\\n",
       "0  d3e49b38-7634-4416-879d-7bc68bf3e7df  2014-07-08T15:35:36Z   \n",
       "1  46baf530-4941-40ab-8219-685a08fd9086  2014-01-22T18:58:37Z   \n",
       "2  b8fb8a6e-a2f5-46c9-8b3f-a35aa982efcd  2001-12-01T02:08:27Z   \n",
       "3  10c8a016-4504-4653-bddf-2dd3610886c8  2004-07-03T20:46:46Z   \n",
       "4  4221534c-d379-4c6b-a22e-d7eae3fa2609  2017-02-08T08:42:44Z   \n",
       "\n",
       "                                PATIENT                             ENCOUNTER  \\\n",
       "0  b58731cc-2d8b-4c2d-b327-4cab771af3ef  3a36836d-da25-4e73-808b-972b669b7e4e   \n",
       "1  2ffe9369-24e4-414b-8973-258fad09313a  33b71e4b-0690-4fe9-897a-dc3b2ff9215c   \n",
       "2  86b97fc7-ae8f-4e0d-8e66-db68f36e7a76  e42d1046-568d-46c2-b0a5-d910b2f3bd1d   \n",
       "3  71ba0469-f0cc-4177-ac70-ea07cb01c8b8  323fca87-817f-4d58-8486-ba92ea739399   \n",
       "4  d49f748f-928d-40e8-92c8-73e4c5679711  cfef48b3-b769-4794-a3e7-f57f7ba8d387   \n",
       "\n",
       "   BODYSITE_CODE BODYSITE_DESCRIPTION MODALITY_CODE MODALITY_DESCRIPTION  \\\n",
       "0       40983000                  Arm            DX  Digital Radiography   \n",
       "1       40983000                  Arm            DX  Digital Radiography   \n",
       "2        8205005                Wrist            DX  Digital Radiography   \n",
       "3       51299004             Clavicle            DX  Digital Radiography   \n",
       "4         344001                Ankle            DX  Digital Radiography   \n",
       "\n",
       "                      SOP_CODE              SOP_DESCRIPTION  \n",
       "0  1.2.840.10008.5.1.4.1.1.1.1  Digital X-Ray Image Storage  \n",
       "1  1.2.840.10008.5.1.4.1.1.1.1  Digital X-Ray Image Storage  \n",
       "2  1.2.840.10008.5.1.4.1.1.1.1  Digital X-Ray Image Storage  \n",
       "3  1.2.840.10008.5.1.4.1.1.1.1  Digital X-Ray Image Storage  \n",
       "4  1.2.840.10008.5.1.4.1.1.1.1  Digital X-Ray Image Storage  "
      ]
     },
     "execution_count": null,
     "metadata": {},
     "output_type": "execute_result"
    }
   ],
   "source": [
    "imaging_studies.head()"
   ]
  },
  {
   "cell_type": "code",
   "execution_count": null,
   "metadata": {},
   "outputs": [],
   "source": [
    "train_img_cleaned = ray.get(cleanup_img.remote(imaging_studies, is_train=True))"
   ]
  },
  {
   "cell_type": "code",
   "execution_count": null,
   "metadata": {},
   "outputs": [
    {
     "data": {
      "text/html": [
       "<div>\n",
       "<style scoped>\n",
       "    .dataframe tbody tr th:only-of-type {\n",
       "        vertical-align: middle;\n",
       "    }\n",
       "\n",
       "    .dataframe tbody tr th {\n",
       "        vertical-align: top;\n",
       "    }\n",
       "\n",
       "    .dataframe thead th {\n",
       "        text-align: right;\n",
       "    }\n",
       "</style>\n",
       "<table border=\"1\" class=\"dataframe\">\n",
       "  <thead>\n",
       "    <tr style=\"text-align: right;\">\n",
       "      <th></th>\n",
       "      <th>date</th>\n",
       "      <th>code</th>\n",
       "    </tr>\n",
       "    <tr>\n",
       "      <th>patient</th>\n",
       "      <th></th>\n",
       "      <th></th>\n",
       "    </tr>\n",
       "  </thead>\n",
       "  <tbody>\n",
       "    <tr>\n",
       "      <th>b58731cc-2d8b-4c2d-b327-4cab771af3ef</th>\n",
       "      <td>2014-07-08 15:35:36</td>\n",
       "      <td>40983000</td>\n",
       "    </tr>\n",
       "    <tr>\n",
       "      <th>2ffe9369-24e4-414b-8973-258fad09313a</th>\n",
       "      <td>2014-01-22 18:58:37</td>\n",
       "      <td>40983000</td>\n",
       "    </tr>\n",
       "    <tr>\n",
       "      <th>86b97fc7-ae8f-4e0d-8e66-db68f36e7a76</th>\n",
       "      <td>2001-12-01 02:08:27</td>\n",
       "      <td>8205005</td>\n",
       "    </tr>\n",
       "  </tbody>\n",
       "</table>\n",
       "</div>"
      ],
      "text/plain": [
       "                                                    date      code\n",
       "patient                                                           \n",
       "b58731cc-2d8b-4c2d-b327-4cab771af3ef 2014-07-08 15:35:36  40983000\n",
       "2ffe9369-24e4-414b-8973-258fad09313a 2014-01-22 18:58:37  40983000\n",
       "86b97fc7-ae8f-4e0d-8e66-db68f36e7a76 2001-12-01 02:08:27   8205005"
      ]
     },
     "metadata": {},
     "output_type": "display_data"
    },
    {
     "data": {
      "text/html": [
       "<div>\n",
       "<style scoped>\n",
       "    .dataframe tbody tr th:only-of-type {\n",
       "        vertical-align: middle;\n",
       "    }\n",
       "\n",
       "    .dataframe tbody tr th {\n",
       "        vertical-align: top;\n",
       "    }\n",
       "\n",
       "    .dataframe thead th {\n",
       "        text-align: right;\n",
       "    }\n",
       "</style>\n",
       "<table border=\"1\" class=\"dataframe\">\n",
       "  <thead>\n",
       "    <tr style=\"text-align: right;\">\n",
       "      <th></th>\n",
       "      <th>code</th>\n",
       "      <th>desc</th>\n",
       "    </tr>\n",
       "  </thead>\n",
       "  <tbody>\n",
       "    <tr>\n",
       "      <th>0</th>\n",
       "      <td>40983000</td>\n",
       "      <td>Arm</td>\n",
       "    </tr>\n",
       "    <tr>\n",
       "      <th>1</th>\n",
       "      <td>40983000</td>\n",
       "      <td>Arm</td>\n",
       "    </tr>\n",
       "    <tr>\n",
       "      <th>2</th>\n",
       "      <td>8205005</td>\n",
       "      <td>Wrist</td>\n",
       "    </tr>\n",
       "  </tbody>\n",
       "</table>\n",
       "</div>"
      ],
      "text/plain": [
       "       code   desc\n",
       "0  40983000    Arm\n",
       "1  40983000    Arm\n",
       "2   8205005  Wrist"
      ]
     },
     "metadata": {},
     "output_type": "display_data"
    }
   ],
   "source": [
    "for df in train_img_cleaned:\n",
    "    display(df.head(3))"
   ]
  },
  {
   "cell_type": "code",
   "execution_count": null,
   "metadata": {},
   "outputs": [],
   "source": [
    "#export\n",
    "@ray.remote(num_returns=2)\n",
    "def cleanup_procs(procedures, is_train):\n",
    "    '''Clean `procedures` df'''\n",
    "    \n",
    "    procedures.rename(str.lower, axis='columns', inplace=True)\n",
    "    procedures.rename(columns={\"description\":\"desc\"}, inplace=True)\n",
    "    if is_train: proc_codes = procedures.loc[:, ['code', 'desc']]\n",
    "    \n",
    "    procedures = procedures.loc[:, ['patient', 'date', 'code']]\n",
    "    procedures = procedures.astype({'date':'datetime64'})\n",
    "    procedures.set_index('patient', inplace=True)\n",
    "    return [procedures, proc_codes] if is_train else [procedures, None]"
   ]
  },
  {
   "cell_type": "code",
   "execution_count": null,
   "metadata": {},
   "outputs": [
    {
     "data": {
      "text/html": [
       "<div>\n",
       "<style scoped>\n",
       "    .dataframe tbody tr th:only-of-type {\n",
       "        vertical-align: middle;\n",
       "    }\n",
       "\n",
       "    .dataframe tbody tr th {\n",
       "        vertical-align: top;\n",
       "    }\n",
       "\n",
       "    .dataframe thead th {\n",
       "        text-align: right;\n",
       "    }\n",
       "</style>\n",
       "<table border=\"1\" class=\"dataframe\">\n",
       "  <thead>\n",
       "    <tr style=\"text-align: right;\">\n",
       "      <th></th>\n",
       "      <th>DATE</th>\n",
       "      <th>PATIENT</th>\n",
       "      <th>ENCOUNTER</th>\n",
       "      <th>CODE</th>\n",
       "      <th>DESCRIPTION</th>\n",
       "      <th>BASE_COST</th>\n",
       "      <th>REASONCODE</th>\n",
       "      <th>REASONDESCRIPTION</th>\n",
       "    </tr>\n",
       "  </thead>\n",
       "  <tbody>\n",
       "    <tr>\n",
       "      <th>0</th>\n",
       "      <td>2011-04-30T00:26:23Z</td>\n",
       "      <td>8d4c4326-e9de-4f45-9a4c-f8c36bff89ae</td>\n",
       "      <td>6aa37300-d1b4-48e7-a2f8-5e0f70f48f38</td>\n",
       "      <td>169553002</td>\n",
       "      <td>Insertion of subcutaneous contraceptive</td>\n",
       "      <td>14896.56</td>\n",
       "      <td>NaN</td>\n",
       "      <td>NaN</td>\n",
       "    </tr>\n",
       "    <tr>\n",
       "      <th>1</th>\n",
       "      <td>2010-07-27T12:58:08Z</td>\n",
       "      <td>10339b10-3cd1-4ac3-ac13-ec26728cb592</td>\n",
       "      <td>dae2b7cb-1316-4b78-954f-fa610a6c6d0e</td>\n",
       "      <td>430193006</td>\n",
       "      <td>Medication Reconciliation (procedure)</td>\n",
       "      <td>726.51</td>\n",
       "      <td>NaN</td>\n",
       "      <td>NaN</td>\n",
       "    </tr>\n",
       "    <tr>\n",
       "      <th>2</th>\n",
       "      <td>2010-11-20T03:04:34Z</td>\n",
       "      <td>f5dcd418-09fe-4a2f-baa0-3da800bd8c3a</td>\n",
       "      <td>7ff86631-0378-4bfc-92ce-1edd697eb18e</td>\n",
       "      <td>430193006</td>\n",
       "      <td>Medication Reconciliation (procedure)</td>\n",
       "      <td>788.50</td>\n",
       "      <td>NaN</td>\n",
       "      <td>NaN</td>\n",
       "    </tr>\n",
       "    <tr>\n",
       "      <th>3</th>\n",
       "      <td>2011-02-07T03:04:34Z</td>\n",
       "      <td>f5dcd418-09fe-4a2f-baa0-3da800bd8c3a</td>\n",
       "      <td>b8f76eba-7795-4dcd-a544-f27ac2ef3d46</td>\n",
       "      <td>117015009</td>\n",
       "      <td>Throat culture (procedure)</td>\n",
       "      <td>2070.44</td>\n",
       "      <td>195662009.0</td>\n",
       "      <td>Acute viral pharyngitis (disorder)</td>\n",
       "    </tr>\n",
       "    <tr>\n",
       "      <th>4</th>\n",
       "      <td>2011-04-19T03:04:34Z</td>\n",
       "      <td>f5dcd418-09fe-4a2f-baa0-3da800bd8c3a</td>\n",
       "      <td>640837d9-845a-433c-9fad-47426664a69d</td>\n",
       "      <td>117015009</td>\n",
       "      <td>Throat culture (procedure)</td>\n",
       "      <td>2479.39</td>\n",
       "      <td>195662009.0</td>\n",
       "      <td>Acute viral pharyngitis (disorder)</td>\n",
       "    </tr>\n",
       "  </tbody>\n",
       "</table>\n",
       "</div>"
      ],
      "text/plain": [
       "                   DATE                               PATIENT  \\\n",
       "0  2011-04-30T00:26:23Z  8d4c4326-e9de-4f45-9a4c-f8c36bff89ae   \n",
       "1  2010-07-27T12:58:08Z  10339b10-3cd1-4ac3-ac13-ec26728cb592   \n",
       "2  2010-11-20T03:04:34Z  f5dcd418-09fe-4a2f-baa0-3da800bd8c3a   \n",
       "3  2011-02-07T03:04:34Z  f5dcd418-09fe-4a2f-baa0-3da800bd8c3a   \n",
       "4  2011-04-19T03:04:34Z  f5dcd418-09fe-4a2f-baa0-3da800bd8c3a   \n",
       "\n",
       "                              ENCOUNTER       CODE  \\\n",
       "0  6aa37300-d1b4-48e7-a2f8-5e0f70f48f38  169553002   \n",
       "1  dae2b7cb-1316-4b78-954f-fa610a6c6d0e  430193006   \n",
       "2  7ff86631-0378-4bfc-92ce-1edd697eb18e  430193006   \n",
       "3  b8f76eba-7795-4dcd-a544-f27ac2ef3d46  117015009   \n",
       "4  640837d9-845a-433c-9fad-47426664a69d  117015009   \n",
       "\n",
       "                               DESCRIPTION  BASE_COST   REASONCODE  \\\n",
       "0  Insertion of subcutaneous contraceptive   14896.56          NaN   \n",
       "1    Medication Reconciliation (procedure)     726.51          NaN   \n",
       "2    Medication Reconciliation (procedure)     788.50          NaN   \n",
       "3               Throat culture (procedure)    2070.44  195662009.0   \n",
       "4               Throat culture (procedure)    2479.39  195662009.0   \n",
       "\n",
       "                    REASONDESCRIPTION  \n",
       "0                                 NaN  \n",
       "1                                 NaN  \n",
       "2                                 NaN  \n",
       "3  Acute viral pharyngitis (disorder)  \n",
       "4  Acute viral pharyngitis (disorder)  "
      ]
     },
     "execution_count": null,
     "metadata": {},
     "output_type": "execute_result"
    }
   ],
   "source": [
    "procedures.head()"
   ]
  },
  {
   "cell_type": "code",
   "execution_count": null,
   "metadata": {},
   "outputs": [],
   "source": [
    "train_proc_cleaned = ray.get(cleanup_procs.remote(procedures, is_train=True))"
   ]
  },
  {
   "cell_type": "code",
   "execution_count": null,
   "metadata": {},
   "outputs": [
    {
     "data": {
      "text/html": [
       "<div>\n",
       "<style scoped>\n",
       "    .dataframe tbody tr th:only-of-type {\n",
       "        vertical-align: middle;\n",
       "    }\n",
       "\n",
       "    .dataframe tbody tr th {\n",
       "        vertical-align: top;\n",
       "    }\n",
       "\n",
       "    .dataframe thead th {\n",
       "        text-align: right;\n",
       "    }\n",
       "</style>\n",
       "<table border=\"1\" class=\"dataframe\">\n",
       "  <thead>\n",
       "    <tr style=\"text-align: right;\">\n",
       "      <th></th>\n",
       "      <th>date</th>\n",
       "      <th>code</th>\n",
       "    </tr>\n",
       "    <tr>\n",
       "      <th>patient</th>\n",
       "      <th></th>\n",
       "      <th></th>\n",
       "    </tr>\n",
       "  </thead>\n",
       "  <tbody>\n",
       "    <tr>\n",
       "      <th>8d4c4326-e9de-4f45-9a4c-f8c36bff89ae</th>\n",
       "      <td>2011-04-30 00:26:23</td>\n",
       "      <td>169553002</td>\n",
       "    </tr>\n",
       "    <tr>\n",
       "      <th>10339b10-3cd1-4ac3-ac13-ec26728cb592</th>\n",
       "      <td>2010-07-27 12:58:08</td>\n",
       "      <td>430193006</td>\n",
       "    </tr>\n",
       "    <tr>\n",
       "      <th>f5dcd418-09fe-4a2f-baa0-3da800bd8c3a</th>\n",
       "      <td>2010-11-20 03:04:34</td>\n",
       "      <td>430193006</td>\n",
       "    </tr>\n",
       "  </tbody>\n",
       "</table>\n",
       "</div>"
      ],
      "text/plain": [
       "                                                    date       code\n",
       "patient                                                            \n",
       "8d4c4326-e9de-4f45-9a4c-f8c36bff89ae 2011-04-30 00:26:23  169553002\n",
       "10339b10-3cd1-4ac3-ac13-ec26728cb592 2010-07-27 12:58:08  430193006\n",
       "f5dcd418-09fe-4a2f-baa0-3da800bd8c3a 2010-11-20 03:04:34  430193006"
      ]
     },
     "metadata": {},
     "output_type": "display_data"
    },
    {
     "data": {
      "text/html": [
       "<div>\n",
       "<style scoped>\n",
       "    .dataframe tbody tr th:only-of-type {\n",
       "        vertical-align: middle;\n",
       "    }\n",
       "\n",
       "    .dataframe tbody tr th {\n",
       "        vertical-align: top;\n",
       "    }\n",
       "\n",
       "    .dataframe thead th {\n",
       "        text-align: right;\n",
       "    }\n",
       "</style>\n",
       "<table border=\"1\" class=\"dataframe\">\n",
       "  <thead>\n",
       "    <tr style=\"text-align: right;\">\n",
       "      <th></th>\n",
       "      <th>code</th>\n",
       "      <th>desc</th>\n",
       "    </tr>\n",
       "  </thead>\n",
       "  <tbody>\n",
       "    <tr>\n",
       "      <th>0</th>\n",
       "      <td>169553002</td>\n",
       "      <td>Insertion of subcutaneous contraceptive</td>\n",
       "    </tr>\n",
       "    <tr>\n",
       "      <th>1</th>\n",
       "      <td>430193006</td>\n",
       "      <td>Medication Reconciliation (procedure)</td>\n",
       "    </tr>\n",
       "    <tr>\n",
       "      <th>2</th>\n",
       "      <td>430193006</td>\n",
       "      <td>Medication Reconciliation (procedure)</td>\n",
       "    </tr>\n",
       "  </tbody>\n",
       "</table>\n",
       "</div>"
      ],
      "text/plain": [
       "        code                                     desc\n",
       "0  169553002  Insertion of subcutaneous contraceptive\n",
       "1  430193006    Medication Reconciliation (procedure)\n",
       "2  430193006    Medication Reconciliation (procedure)"
      ]
     },
     "metadata": {},
     "output_type": "display_data"
    }
   ],
   "source": [
    "for df in train_proc_cleaned:\n",
    "    display(df.head(3))"
   ]
  },
  {
   "cell_type": "code",
   "execution_count": null,
   "metadata": {},
   "outputs": [],
   "source": [
    "#export\n",
    "@ray.remote(num_returns=2)\n",
    "def cleanup_cnds(conditions, is_train):\n",
    "    '''Clean `conditions` df'''\n",
    "    \n",
    "    conditions.rename(str.lower, axis='columns', inplace=True)\n",
    "    conditions.drop(columns=['encounter'], inplace=True)\n",
    "    stops = pd.DataFrame(conditions.loc[conditions['stop'].notnull(),:])\n",
    "    conditions['code'] = conditions['code'].apply(lambda x: f'{str(x)}||START')\n",
    "    stops['code'] = stops['code'].apply(lambda x: f'{str(x)}||STOP')\n",
    "    conditions.drop(columns=['stop'], inplace=True)\n",
    "    stops.drop(columns=['start'], inplace=True)\n",
    "    conditions.rename(columns={\"start\":\"date\", \"description\":\"desc\"}, inplace=True)\n",
    "    stops.rename(columns={\"stop\":\"date\",\"description\":\"desc\"}, inplace=True)\n",
    "    conditions = conditions.append(stops, ignore_index=True)\n",
    "        \n",
    "    if is_train: cnd_codes = conditions.loc[:, ['code', 'desc']]\n",
    "        \n",
    "    conditions.drop(columns=['desc'], inplace=True)\n",
    "    conditions = conditions.astype({'date':'datetime64'})\n",
    "    conditions.set_index('patient', inplace=True)\n",
    "    return [conditions, cnd_codes] if is_train else [conditions, None]"
   ]
  },
  {
   "cell_type": "code",
   "execution_count": null,
   "metadata": {},
   "outputs": [
    {
     "data": {
      "text/html": [
       "<div>\n",
       "<style scoped>\n",
       "    .dataframe tbody tr th:only-of-type {\n",
       "        vertical-align: middle;\n",
       "    }\n",
       "\n",
       "    .dataframe tbody tr th {\n",
       "        vertical-align: top;\n",
       "    }\n",
       "\n",
       "    .dataframe thead th {\n",
       "        text-align: right;\n",
       "    }\n",
       "</style>\n",
       "<table border=\"1\" class=\"dataframe\">\n",
       "  <thead>\n",
       "    <tr style=\"text-align: right;\">\n",
       "      <th></th>\n",
       "      <th>START</th>\n",
       "      <th>STOP</th>\n",
       "      <th>PATIENT</th>\n",
       "      <th>ENCOUNTER</th>\n",
       "      <th>CODE</th>\n",
       "      <th>DESCRIPTION</th>\n",
       "    </tr>\n",
       "  </thead>\n",
       "  <tbody>\n",
       "    <tr>\n",
       "      <th>0</th>\n",
       "      <td>2001-05-01</td>\n",
       "      <td>NaN</td>\n",
       "      <td>1d604da9-9a81-4ba9-80c2-de3375d59b40</td>\n",
       "      <td>8f104aa7-4ca9-4473-885a-bba2437df588</td>\n",
       "      <td>40055000</td>\n",
       "      <td>Chronic sinusitis (disorder)</td>\n",
       "    </tr>\n",
       "    <tr>\n",
       "      <th>1</th>\n",
       "      <td>2011-08-09</td>\n",
       "      <td>2011-08-16</td>\n",
       "      <td>8d4c4326-e9de-4f45-9a4c-f8c36bff89ae</td>\n",
       "      <td>9d35ec9f-352a-4629-92ef-38eae38437e7</td>\n",
       "      <td>444814009</td>\n",
       "      <td>Viral sinusitis (disorder)</td>\n",
       "    </tr>\n",
       "    <tr>\n",
       "      <th>2</th>\n",
       "      <td>2011-11-16</td>\n",
       "      <td>2011-11-26</td>\n",
       "      <td>8d4c4326-e9de-4f45-9a4c-f8c36bff89ae</td>\n",
       "      <td>ae7555a9-eaff-4c09-98a7-21bc6ed1b1fd</td>\n",
       "      <td>195662009</td>\n",
       "      <td>Acute viral pharyngitis (disorder)</td>\n",
       "    </tr>\n",
       "    <tr>\n",
       "      <th>3</th>\n",
       "      <td>2011-05-13</td>\n",
       "      <td>2011-05-27</td>\n",
       "      <td>10339b10-3cd1-4ac3-ac13-ec26728cb592</td>\n",
       "      <td>e1ab4933-07a1-49f0-b4bd-05500919061d</td>\n",
       "      <td>10509002</td>\n",
       "      <td>Acute bronchitis (disorder)</td>\n",
       "    </tr>\n",
       "    <tr>\n",
       "      <th>4</th>\n",
       "      <td>2011-02-06</td>\n",
       "      <td>2011-02-14</td>\n",
       "      <td>f5dcd418-09fe-4a2f-baa0-3da800bd8c3a</td>\n",
       "      <td>b8f76eba-7795-4dcd-a544-f27ac2ef3d46</td>\n",
       "      <td>195662009</td>\n",
       "      <td>Acute viral pharyngitis (disorder)</td>\n",
       "    </tr>\n",
       "  </tbody>\n",
       "</table>\n",
       "</div>"
      ],
      "text/plain": [
       "        START        STOP                               PATIENT  \\\n",
       "0  2001-05-01         NaN  1d604da9-9a81-4ba9-80c2-de3375d59b40   \n",
       "1  2011-08-09  2011-08-16  8d4c4326-e9de-4f45-9a4c-f8c36bff89ae   \n",
       "2  2011-11-16  2011-11-26  8d4c4326-e9de-4f45-9a4c-f8c36bff89ae   \n",
       "3  2011-05-13  2011-05-27  10339b10-3cd1-4ac3-ac13-ec26728cb592   \n",
       "4  2011-02-06  2011-02-14  f5dcd418-09fe-4a2f-baa0-3da800bd8c3a   \n",
       "\n",
       "                              ENCOUNTER       CODE  \\\n",
       "0  8f104aa7-4ca9-4473-885a-bba2437df588   40055000   \n",
       "1  9d35ec9f-352a-4629-92ef-38eae38437e7  444814009   \n",
       "2  ae7555a9-eaff-4c09-98a7-21bc6ed1b1fd  195662009   \n",
       "3  e1ab4933-07a1-49f0-b4bd-05500919061d   10509002   \n",
       "4  b8f76eba-7795-4dcd-a544-f27ac2ef3d46  195662009   \n",
       "\n",
       "                          DESCRIPTION  \n",
       "0        Chronic sinusitis (disorder)  \n",
       "1          Viral sinusitis (disorder)  \n",
       "2  Acute viral pharyngitis (disorder)  \n",
       "3         Acute bronchitis (disorder)  \n",
       "4  Acute viral pharyngitis (disorder)  "
      ]
     },
     "execution_count": null,
     "metadata": {},
     "output_type": "execute_result"
    }
   ],
   "source": [
    "conditions.head()"
   ]
  },
  {
   "cell_type": "code",
   "execution_count": null,
   "metadata": {},
   "outputs": [],
   "source": [
    "train_cnd_cleaned = ray.get(cleanup_cnds.remote(conditions, is_train=True))"
   ]
  },
  {
   "cell_type": "code",
   "execution_count": null,
   "metadata": {},
   "outputs": [
    {
     "data": {
      "text/html": [
       "<div>\n",
       "<style scoped>\n",
       "    .dataframe tbody tr th:only-of-type {\n",
       "        vertical-align: middle;\n",
       "    }\n",
       "\n",
       "    .dataframe tbody tr th {\n",
       "        vertical-align: top;\n",
       "    }\n",
       "\n",
       "    .dataframe thead th {\n",
       "        text-align: right;\n",
       "    }\n",
       "</style>\n",
       "<table border=\"1\" class=\"dataframe\">\n",
       "  <thead>\n",
       "    <tr style=\"text-align: right;\">\n",
       "      <th></th>\n",
       "      <th>date</th>\n",
       "      <th>code</th>\n",
       "    </tr>\n",
       "    <tr>\n",
       "      <th>patient</th>\n",
       "      <th></th>\n",
       "      <th></th>\n",
       "    </tr>\n",
       "  </thead>\n",
       "  <tbody>\n",
       "    <tr>\n",
       "      <th>1d604da9-9a81-4ba9-80c2-de3375d59b40</th>\n",
       "      <td>2001-05-01</td>\n",
       "      <td>40055000||START</td>\n",
       "    </tr>\n",
       "    <tr>\n",
       "      <th>8d4c4326-e9de-4f45-9a4c-f8c36bff89ae</th>\n",
       "      <td>2011-08-09</td>\n",
       "      <td>444814009||START</td>\n",
       "    </tr>\n",
       "    <tr>\n",
       "      <th>8d4c4326-e9de-4f45-9a4c-f8c36bff89ae</th>\n",
       "      <td>2011-11-16</td>\n",
       "      <td>195662009||START</td>\n",
       "    </tr>\n",
       "  </tbody>\n",
       "</table>\n",
       "</div>"
      ],
      "text/plain": [
       "                                           date              code\n",
       "patient                                                          \n",
       "1d604da9-9a81-4ba9-80c2-de3375d59b40 2001-05-01   40055000||START\n",
       "8d4c4326-e9de-4f45-9a4c-f8c36bff89ae 2011-08-09  444814009||START\n",
       "8d4c4326-e9de-4f45-9a4c-f8c36bff89ae 2011-11-16  195662009||START"
      ]
     },
     "metadata": {},
     "output_type": "display_data"
    },
    {
     "data": {
      "text/html": [
       "<div>\n",
       "<style scoped>\n",
       "    .dataframe tbody tr th:only-of-type {\n",
       "        vertical-align: middle;\n",
       "    }\n",
       "\n",
       "    .dataframe tbody tr th {\n",
       "        vertical-align: top;\n",
       "    }\n",
       "\n",
       "    .dataframe thead th {\n",
       "        text-align: right;\n",
       "    }\n",
       "</style>\n",
       "<table border=\"1\" class=\"dataframe\">\n",
       "  <thead>\n",
       "    <tr style=\"text-align: right;\">\n",
       "      <th></th>\n",
       "      <th>date</th>\n",
       "      <th>code</th>\n",
       "    </tr>\n",
       "    <tr>\n",
       "      <th>patient</th>\n",
       "      <th></th>\n",
       "      <th></th>\n",
       "    </tr>\n",
       "  </thead>\n",
       "  <tbody>\n",
       "    <tr>\n",
       "      <th>fca3178e-fb68-41c3-8598-702d3ca68b96</th>\n",
       "      <td>1986-03-02</td>\n",
       "      <td>43878008||STOP</td>\n",
       "    </tr>\n",
       "    <tr>\n",
       "      <th>fc817953-cc8b-45db-9c85-7c0ced8fa90d</th>\n",
       "      <td>2010-11-25</td>\n",
       "      <td>444814009||STOP</td>\n",
       "    </tr>\n",
       "    <tr>\n",
       "      <th>fc817953-cc8b-45db-9c85-7c0ced8fa90d</th>\n",
       "      <td>2012-05-14</td>\n",
       "      <td>444814009||STOP</td>\n",
       "    </tr>\n",
       "  </tbody>\n",
       "</table>\n",
       "</div>"
      ],
      "text/plain": [
       "                                           date             code\n",
       "patient                                                         \n",
       "fca3178e-fb68-41c3-8598-702d3ca68b96 1986-03-02   43878008||STOP\n",
       "fc817953-cc8b-45db-9c85-7c0ced8fa90d 2010-11-25  444814009||STOP\n",
       "fc817953-cc8b-45db-9c85-7c0ced8fa90d 2012-05-14  444814009||STOP"
      ]
     },
     "metadata": {},
     "output_type": "display_data"
    },
    {
     "data": {
      "text/html": [
       "<div>\n",
       "<style scoped>\n",
       "    .dataframe tbody tr th:only-of-type {\n",
       "        vertical-align: middle;\n",
       "    }\n",
       "\n",
       "    .dataframe tbody tr th {\n",
       "        vertical-align: top;\n",
       "    }\n",
       "\n",
       "    .dataframe thead th {\n",
       "        text-align: right;\n",
       "    }\n",
       "</style>\n",
       "<table border=\"1\" class=\"dataframe\">\n",
       "  <thead>\n",
       "    <tr style=\"text-align: right;\">\n",
       "      <th></th>\n",
       "      <th>code</th>\n",
       "      <th>desc</th>\n",
       "    </tr>\n",
       "  </thead>\n",
       "  <tbody>\n",
       "    <tr>\n",
       "      <th>0</th>\n",
       "      <td>40055000||START</td>\n",
       "      <td>Chronic sinusitis (disorder)</td>\n",
       "    </tr>\n",
       "    <tr>\n",
       "      <th>1</th>\n",
       "      <td>444814009||START</td>\n",
       "      <td>Viral sinusitis (disorder)</td>\n",
       "    </tr>\n",
       "    <tr>\n",
       "      <th>2</th>\n",
       "      <td>195662009||START</td>\n",
       "      <td>Acute viral pharyngitis (disorder)</td>\n",
       "    </tr>\n",
       "  </tbody>\n",
       "</table>\n",
       "</div>"
      ],
      "text/plain": [
       "               code                                desc\n",
       "0   40055000||START        Chronic sinusitis (disorder)\n",
       "1  444814009||START          Viral sinusitis (disorder)\n",
       "2  195662009||START  Acute viral pharyngitis (disorder)"
      ]
     },
     "metadata": {},
     "output_type": "display_data"
    },
    {
     "data": {
      "text/html": [
       "<div>\n",
       "<style scoped>\n",
       "    .dataframe tbody tr th:only-of-type {\n",
       "        vertical-align: middle;\n",
       "    }\n",
       "\n",
       "    .dataframe tbody tr th {\n",
       "        vertical-align: top;\n",
       "    }\n",
       "\n",
       "    .dataframe thead th {\n",
       "        text-align: right;\n",
       "    }\n",
       "</style>\n",
       "<table border=\"1\" class=\"dataframe\">\n",
       "  <thead>\n",
       "    <tr style=\"text-align: right;\">\n",
       "      <th></th>\n",
       "      <th>code</th>\n",
       "      <th>desc</th>\n",
       "    </tr>\n",
       "  </thead>\n",
       "  <tbody>\n",
       "    <tr>\n",
       "      <th>12938</th>\n",
       "      <td>43878008||STOP</td>\n",
       "      <td>Streptococcal sore throat (disorder)</td>\n",
       "    </tr>\n",
       "    <tr>\n",
       "      <th>12939</th>\n",
       "      <td>444814009||STOP</td>\n",
       "      <td>Viral sinusitis (disorder)</td>\n",
       "    </tr>\n",
       "    <tr>\n",
       "      <th>12940</th>\n",
       "      <td>444814009||STOP</td>\n",
       "      <td>Viral sinusitis (disorder)</td>\n",
       "    </tr>\n",
       "  </tbody>\n",
       "</table>\n",
       "</div>"
      ],
      "text/plain": [
       "                  code                                  desc\n",
       "12938   43878008||STOP  Streptococcal sore throat (disorder)\n",
       "12939  444814009||STOP            Viral sinusitis (disorder)\n",
       "12940  444814009||STOP            Viral sinusitis (disorder)"
      ]
     },
     "metadata": {},
     "output_type": "display_data"
    }
   ],
   "source": [
    "for df in train_cnd_cleaned:\n",
    "    display(df.head(3))\n",
    "    display(df.tail(3))"
   ]
  },
  {
   "cell_type": "code",
   "execution_count": null,
   "metadata": {},
   "outputs": [],
   "source": [
    "#export\n",
    "@ray.remote(num_returns=2)\n",
    "def cleanup_immns(immunizations, is_train):\n",
    "    '''Clean `immunizations` df'''\n",
    "    \n",
    "    immunizations.rename(str.lower, axis='columns', inplace=True)\n",
    "    immunizations.rename(columns={\"description\":\"desc\"}, inplace=True)\n",
    "    if is_train: imm_codes = immunizations.loc[:, ['code', 'desc']]\n",
    "        \n",
    "    immunizations = immunizations.loc[:, ['patient', 'date', 'code']]\n",
    "    immunizations = immunizations.astype({'date':'datetime64'})\n",
    "    immunizations.set_index('patient', inplace=True)\n",
    "    return [immunizations, imm_codes] if is_train else [immunizations, None]"
   ]
  },
  {
   "cell_type": "code",
   "execution_count": null,
   "metadata": {},
   "outputs": [
    {
     "data": {
      "text/html": [
       "<div>\n",
       "<style scoped>\n",
       "    .dataframe tbody tr th:only-of-type {\n",
       "        vertical-align: middle;\n",
       "    }\n",
       "\n",
       "    .dataframe tbody tr th {\n",
       "        vertical-align: top;\n",
       "    }\n",
       "\n",
       "    .dataframe thead th {\n",
       "        text-align: right;\n",
       "    }\n",
       "</style>\n",
       "<table border=\"1\" class=\"dataframe\">\n",
       "  <thead>\n",
       "    <tr style=\"text-align: right;\">\n",
       "      <th></th>\n",
       "      <th>DATE</th>\n",
       "      <th>PATIENT</th>\n",
       "      <th>ENCOUNTER</th>\n",
       "      <th>CODE</th>\n",
       "      <th>DESCRIPTION</th>\n",
       "      <th>BASE_COST</th>\n",
       "    </tr>\n",
       "  </thead>\n",
       "  <tbody>\n",
       "    <tr>\n",
       "      <th>0</th>\n",
       "      <td>2010-07-27T12:58:08Z</td>\n",
       "      <td>10339b10-3cd1-4ac3-ac13-ec26728cb592</td>\n",
       "      <td>dae2b7cb-1316-4b78-954f-fa610a6c6d0e</td>\n",
       "      <td>140</td>\n",
       "      <td>Influenza  seasonal  injectable  preservative ...</td>\n",
       "      <td>140.52</td>\n",
       "    </tr>\n",
       "    <tr>\n",
       "      <th>1</th>\n",
       "      <td>2010-11-20T03:04:34Z</td>\n",
       "      <td>f5dcd418-09fe-4a2f-baa0-3da800bd8c3a</td>\n",
       "      <td>7ff86631-0378-4bfc-92ce-1edd697eb18e</td>\n",
       "      <td>140</td>\n",
       "      <td>Influenza  seasonal  injectable  preservative ...</td>\n",
       "      <td>140.52</td>\n",
       "    </tr>\n",
       "    <tr>\n",
       "      <th>2</th>\n",
       "      <td>2012-01-23T17:45:28Z</td>\n",
       "      <td>034e9e3b-2def-4559-bb2a-7850888ae060</td>\n",
       "      <td>e88bc3a9-007c-405e-aabc-792a38f4aa2b</td>\n",
       "      <td>140</td>\n",
       "      <td>Influenza  seasonal  injectable  preservative ...</td>\n",
       "      <td>140.52</td>\n",
       "    </tr>\n",
       "    <tr>\n",
       "      <th>3</th>\n",
       "      <td>2011-11-26T03:04:34Z</td>\n",
       "      <td>f5dcd418-09fe-4a2f-baa0-3da800bd8c3a</td>\n",
       "      <td>1923c698-accd-4d70-ba09-e1938f6e96d1</td>\n",
       "      <td>140</td>\n",
       "      <td>Influenza  seasonal  injectable  preservative ...</td>\n",
       "      <td>140.52</td>\n",
       "    </tr>\n",
       "    <tr>\n",
       "      <th>4</th>\n",
       "      <td>2011-07-28T15:02:18Z</td>\n",
       "      <td>1d604da9-9a81-4ba9-80c2-de3375d59b40</td>\n",
       "      <td>b85c339a-6076-43ed-b9d0-9cf013dec49d</td>\n",
       "      <td>140</td>\n",
       "      <td>Influenza  seasonal  injectable  preservative ...</td>\n",
       "      <td>140.52</td>\n",
       "    </tr>\n",
       "  </tbody>\n",
       "</table>\n",
       "</div>"
      ],
      "text/plain": [
       "                   DATE                               PATIENT  \\\n",
       "0  2010-07-27T12:58:08Z  10339b10-3cd1-4ac3-ac13-ec26728cb592   \n",
       "1  2010-11-20T03:04:34Z  f5dcd418-09fe-4a2f-baa0-3da800bd8c3a   \n",
       "2  2012-01-23T17:45:28Z  034e9e3b-2def-4559-bb2a-7850888ae060   \n",
       "3  2011-11-26T03:04:34Z  f5dcd418-09fe-4a2f-baa0-3da800bd8c3a   \n",
       "4  2011-07-28T15:02:18Z  1d604da9-9a81-4ba9-80c2-de3375d59b40   \n",
       "\n",
       "                              ENCOUNTER  CODE  \\\n",
       "0  dae2b7cb-1316-4b78-954f-fa610a6c6d0e   140   \n",
       "1  7ff86631-0378-4bfc-92ce-1edd697eb18e   140   \n",
       "2  e88bc3a9-007c-405e-aabc-792a38f4aa2b   140   \n",
       "3  1923c698-accd-4d70-ba09-e1938f6e96d1   140   \n",
       "4  b85c339a-6076-43ed-b9d0-9cf013dec49d   140   \n",
       "\n",
       "                                         DESCRIPTION  BASE_COST  \n",
       "0  Influenza  seasonal  injectable  preservative ...     140.52  \n",
       "1  Influenza  seasonal  injectable  preservative ...     140.52  \n",
       "2  Influenza  seasonal  injectable  preservative ...     140.52  \n",
       "3  Influenza  seasonal  injectable  preservative ...     140.52  \n",
       "4  Influenza  seasonal  injectable  preservative ...     140.52  "
      ]
     },
     "execution_count": null,
     "metadata": {},
     "output_type": "execute_result"
    }
   ],
   "source": [
    "immunizations.head()"
   ]
  },
  {
   "cell_type": "code",
   "execution_count": null,
   "metadata": {},
   "outputs": [],
   "source": [
    "train_imm_cleaned = ray.get(cleanup_immns.remote(immunizations, is_train=True))"
   ]
  },
  {
   "cell_type": "code",
   "execution_count": null,
   "metadata": {},
   "outputs": [
    {
     "data": {
      "text/html": [
       "<div>\n",
       "<style scoped>\n",
       "    .dataframe tbody tr th:only-of-type {\n",
       "        vertical-align: middle;\n",
       "    }\n",
       "\n",
       "    .dataframe tbody tr th {\n",
       "        vertical-align: top;\n",
       "    }\n",
       "\n",
       "    .dataframe thead th {\n",
       "        text-align: right;\n",
       "    }\n",
       "</style>\n",
       "<table border=\"1\" class=\"dataframe\">\n",
       "  <thead>\n",
       "    <tr style=\"text-align: right;\">\n",
       "      <th></th>\n",
       "      <th>date</th>\n",
       "      <th>code</th>\n",
       "    </tr>\n",
       "    <tr>\n",
       "      <th>patient</th>\n",
       "      <th></th>\n",
       "      <th></th>\n",
       "    </tr>\n",
       "  </thead>\n",
       "  <tbody>\n",
       "    <tr>\n",
       "      <th>10339b10-3cd1-4ac3-ac13-ec26728cb592</th>\n",
       "      <td>2010-07-27 12:58:08</td>\n",
       "      <td>140</td>\n",
       "    </tr>\n",
       "    <tr>\n",
       "      <th>f5dcd418-09fe-4a2f-baa0-3da800bd8c3a</th>\n",
       "      <td>2010-11-20 03:04:34</td>\n",
       "      <td>140</td>\n",
       "    </tr>\n",
       "    <tr>\n",
       "      <th>034e9e3b-2def-4559-bb2a-7850888ae060</th>\n",
       "      <td>2012-01-23 17:45:28</td>\n",
       "      <td>140</td>\n",
       "    </tr>\n",
       "  </tbody>\n",
       "</table>\n",
       "</div>"
      ],
      "text/plain": [
       "                                                    date  code\n",
       "patient                                                       \n",
       "10339b10-3cd1-4ac3-ac13-ec26728cb592 2010-07-27 12:58:08   140\n",
       "f5dcd418-09fe-4a2f-baa0-3da800bd8c3a 2010-11-20 03:04:34   140\n",
       "034e9e3b-2def-4559-bb2a-7850888ae060 2012-01-23 17:45:28   140"
      ]
     },
     "metadata": {},
     "output_type": "display_data"
    },
    {
     "data": {
      "text/html": [
       "<div>\n",
       "<style scoped>\n",
       "    .dataframe tbody tr th:only-of-type {\n",
       "        vertical-align: middle;\n",
       "    }\n",
       "\n",
       "    .dataframe tbody tr th {\n",
       "        vertical-align: top;\n",
       "    }\n",
       "\n",
       "    .dataframe thead th {\n",
       "        text-align: right;\n",
       "    }\n",
       "</style>\n",
       "<table border=\"1\" class=\"dataframe\">\n",
       "  <thead>\n",
       "    <tr style=\"text-align: right;\">\n",
       "      <th></th>\n",
       "      <th>code</th>\n",
       "      <th>desc</th>\n",
       "    </tr>\n",
       "  </thead>\n",
       "  <tbody>\n",
       "    <tr>\n",
       "      <th>0</th>\n",
       "      <td>140</td>\n",
       "      <td>Influenza  seasonal  injectable  preservative ...</td>\n",
       "    </tr>\n",
       "    <tr>\n",
       "      <th>1</th>\n",
       "      <td>140</td>\n",
       "      <td>Influenza  seasonal  injectable  preservative ...</td>\n",
       "    </tr>\n",
       "    <tr>\n",
       "      <th>2</th>\n",
       "      <td>140</td>\n",
       "      <td>Influenza  seasonal  injectable  preservative ...</td>\n",
       "    </tr>\n",
       "  </tbody>\n",
       "</table>\n",
       "</div>"
      ],
      "text/plain": [
       "   code                                               desc\n",
       "0   140  Influenza  seasonal  injectable  preservative ...\n",
       "1   140  Influenza  seasonal  injectable  preservative ...\n",
       "2   140  Influenza  seasonal  injectable  preservative ..."
      ]
     },
     "metadata": {},
     "output_type": "display_data"
    }
   ],
   "source": [
    "for df in train_imm_cleaned:\n",
    "    display(df.head(3))"
   ]
  },
  {
   "cell_type": "markdown",
   "metadata": {},
   "source": [
    "## Extract Labels (y)"
   ]
  },
  {
   "cell_type": "markdown",
   "metadata": {},
   "source": [
    "The labels we intend to predict are conditions and must be in the `CONDITIONS` dict\n",
    "- Adding them to the `patients` df\n",
    "- And adding the patient's age when the particular condition was recorded"
   ]
  },
  {
   "cell_type": "code",
   "execution_count": null,
   "metadata": {},
   "outputs": [
    {
     "name": "stdout",
     "output_type": "stream",
     "text": [
      "diabetes :: 44054006||START\n",
      "stroke :: 230690007||START\n",
      "alzheimers :: 26929004||START\n",
      "coronary_heart :: 53741008||START\n",
      "lung_cancer :: 254637007||START\n",
      "breast_cancer :: 254837009||START\n",
      "rheumatoid_arthritis :: 69896004||START\n",
      "epilepsy :: 84757009||START\n"
     ]
    }
   ],
   "source": [
    "for key in CONDITIONS.keys():\n",
    "    print(key,\"::\",f'{CONDITIONS[key]}||START')"
   ]
  },
  {
   "cell_type": "code",
   "execution_count": null,
   "metadata": {},
   "outputs": [],
   "source": [
    "#export\n",
    "@ray.remote\n",
    "def extract_ys(patients, conditions, cnd_dict):\n",
    "    '''Extract labels from conditions df and add them to patients df with age.'''\n",
    "    for key in cnd_dict.keys():\n",
    "        patients = patients.merge(conditions[conditions.code==f'{cnd_dict[key]}||START'], how='left', left_index=True, right_index=True)\n",
    "        patients[f'{key}'] = patients.code.notna()\n",
    "        patients[f'{key}_age'] = ((patients.date - patients.birthdate)//np.timedelta64(1,'Y'))\n",
    "        patients = patients.drop(columns=['date','code'])\n",
    "    return patients"
   ]
  },
  {
   "cell_type": "code",
   "execution_count": null,
   "metadata": {},
   "outputs": [],
   "source": [
    "tmp_pts = ray.get(extract_ys.remote(train_pts_cleaned[0], train_cnd_cleaned[0], cnd_dict=CONDITIONS))"
   ]
  },
  {
   "cell_type": "code",
   "execution_count": null,
   "metadata": {},
   "outputs": [
    {
     "data": {
      "text/plain": [
       "birthdate                   702\n",
       "diabetes                    702\n",
       "diabetes_age                 43\n",
       "stroke                      702\n",
       "stroke_age                   30\n",
       "alzheimers                  702\n",
       "alzheimers_age               12\n",
       "coronary_heart              702\n",
       "coronary_heart_age           39\n",
       "lung_cancer                 702\n",
       "lung_cancer_age              12\n",
       "breast_cancer               702\n",
       "breast_cancer_age            11\n",
       "rheumatoid_arthritis        702\n",
       "rheumatoid_arthritis_age      2\n",
       "epilepsy                    702\n",
       "epilepsy_age                 15\n",
       "dtype: int64"
      ]
     },
     "execution_count": null,
     "metadata": {},
     "output_type": "execute_result"
    }
   ],
   "source": [
    "tmp_pts.count()"
   ]
  },
  {
   "cell_type": "markdown",
   "metadata": {},
   "source": [
    "## Insert Age"
   ]
  },
  {
   "cell_type": "markdown",
   "metadata": {},
   "source": [
    "Inserting patient's age in months and years into each record df\n",
    "- this can be modified to records the patient's age in **days** or even **hours** that might be more relevant for datasets involving hospitalizations or ER admissions "
   ]
  },
  {
   "cell_type": "code",
   "execution_count": null,
   "metadata": {},
   "outputs": [],
   "source": [
    "#export\n",
    "@ray.remote\n",
    "def insert_age(df, pts_df):\n",
    "    '''Insert age in years and months into each of the rec dfs'''\n",
    "    \n",
    "    df = df.merge(pts_df, left_index=True, right_index=True)\n",
    "    df['age']        = (df['date'] - df['birthdate'])//np.timedelta64(1,'Y')\n",
    "    df['age_months'] = (df['date'] - df['birthdate'])//np.timedelta64(1,'M')\n",
    "    return df.drop(columns=['birthdate'])"
   ]
  },
  {
   "cell_type": "markdown",
   "metadata": {},
   "source": [
    "### Clean all"
   ]
  },
  {
   "cell_type": "code",
   "execution_count": null,
   "metadata": {},
   "outputs": [],
   "source": [
    "#export\n",
    "@ray.remote(num_returns=2)\n",
    "def clean_preprocess_dataset(path, is_train, conditions_dict, today=None):\n",
    "    '''Cleans and preprocesses all dfs in a single split'''\n",
    "    dfs = read_raw_ehrdata(path)\n",
    " \n",
    "    pt_data   = cleanup_pts.remote(dfs[0],   is_train, today)\n",
    "    obs_data  = cleanup_obs.remote(dfs[1],   is_train)\n",
    "    alg_data  = cleanup_algs.remote(dfs[2],  is_train)\n",
    "    crpl_data = cleanup_crpls.remote(dfs[3], is_train)\n",
    "    med_data  = cleanup_meds.remote(dfs[4],  is_train)\n",
    "    img_data  = cleanup_img.remote(dfs[5],   is_train)\n",
    "    proc_data = cleanup_procs.remote(dfs[6], is_train)\n",
    "    cnd_data  = cleanup_cnds.remote(dfs[7],  is_train)\n",
    "    imm_data  = cleanup_immns.remote(dfs[8], is_train)   \n",
    "    \n",
    "    data_tables = [pt_data[0], pt_data[1], obs_data[0], alg_data[0], crpl_data[0], med_data[0], img_data[0], proc_data[0], cnd_data[0], imm_data[0]]\n",
    "    \n",
    "    patients, patient_demographics, conditions, rec_tables = data_tables[0], data_tables[1], data_tables[8], data_tables[2:]\n",
    "    rec_dfs = [insert_age.remote(rec_df, patients) for rec_df in rec_tables]\n",
    "    patients = extract_ys.remote(patients, conditions, conditions_dict)\n",
    "    \n",
    "    data_tables = [patients, patient_demographics]\n",
    "    data_tables.extend(rec_dfs)\n",
    "    \n",
    "    if is_train:\n",
    "        code_tables = [pt_data[2], obs_data[1], alg_data[1], crpl_data[1], med_data[1], img_data[1], proc_data[1], cnd_data[1], imm_data[1]]\n",
    "    \n",
    "    return (data_tables, code_tables) if is_train else (data_tables, None)"
   ]
  },
  {
   "cell_type": "code",
   "execution_count": null,
   "metadata": {},
   "outputs": [],
   "source": [
    "data_tables, _ = ray.get(clean_preprocess_dataset.remote(f'{PATH_1K}/raw_split/valid', is_train=False, conditions_dict=CONDITIONS))\n",
    "\n",
    "patients, pt_demographics, observations, allergies, \\\n",
    "careplans, medications, imaging_studies, procedures, conditions, immunizations = ray.get(data_tables)"
   ]
  },
  {
   "cell_type": "code",
   "execution_count": null,
   "metadata": {},
   "outputs": [
    {
     "data": {
      "text/plain": [
       "code          2525\n",
       "age           2525\n",
       "age_months    2525\n",
       "dtype: int64"
      ]
     },
     "execution_count": null,
     "metadata": {},
     "output_type": "execute_result"
    }
   ],
   "source": [
    "conditions.count()"
   ]
  },
  {
   "cell_type": "code",
   "execution_count": null,
   "metadata": {},
   "outputs": [],
   "source": [
    "data_tables, code_tables = ray.get(clean_preprocess_dataset.remote(f'{PATH_1K}/raw_split/train', is_train=True, conditions_dict=CONDITIONS))\n",
    "\n",
    "patients, pt_demographics, observations, allergies, \\\n",
    "careplans, medications, imaging_studies, procedures, conditions, immunizations = ray.get(data_tables)\n",
    "\n",
    "pt_codes, obs_codes, alg_codes, crpl_codes, med_codes, img_codes, proc_codes, cnd_codes, imm_codes = ray.get(code_tables)"
   ]
  },
  {
   "cell_type": "code",
   "execution_count": null,
   "metadata": {},
   "outputs": [
    {
     "data": {
      "text/plain": [
       "code          7666\n",
       "age           7666\n",
       "age_months    7666\n",
       "dtype: int64"
      ]
     },
     "execution_count": null,
     "metadata": {},
     "output_type": "execute_result"
    }
   ],
   "source": [
    "conditions.count()"
   ]
  },
  {
   "cell_type": "code",
   "execution_count": null,
   "metadata": {},
   "outputs": [
    {
     "data": {
      "text/plain": [
       "orig_code    173312\n",
       "desc         173312\n",
       "value        173312\n",
       "units        173312\n",
       "type         173312\n",
       "dtype: int64"
      ]
     },
     "execution_count": null,
     "metadata": {},
     "output_type": "execute_result"
    }
   ],
   "source": [
    "obs_codes.count()"
   ]
  },
  {
   "cell_type": "markdown",
   "metadata": {},
   "source": [
    "## Do-All Functions\n",
    "The actual functions that will be called from other modules"
   ]
  },
  {
   "cell_type": "code",
   "execution_count": null,
   "metadata": {},
   "outputs": [],
   "source": [
    "#export\n",
    "@ray.remote\n",
    "def persist_cleaned(path, split_name, cleaned_dfs, code_tables=None):\n",
    "    '''Save cleaned EHR data to disk'''\n",
    "    csv_names = FILENAMES.copy()\n",
    "    csv_names.insert(1,'patient_demographics')\n",
    "            \n",
    "    cleaned_dir = Path(f'{path}/cleaned/{split_name}')\n",
    "    cleaned_dir.mkdir(parents=True, exist_ok=True)\n",
    "    \n",
    "    cleaned_dfs = ray.get(cleaned_dfs)\n",
    "    \n",
    "    patients = cleaned_dfs[0]\n",
    "    patients.reset_index(inplace=True)\n",
    "    patients.to_csv(f'{cleaned_dir}/patients.csv', index_label='indx')\n",
    "\n",
    "    for df, name in zip(cleaned_dfs[1:], csv_names[1:]):\n",
    "        df.to_csv(f'{cleaned_dir}/{name}.csv')\n",
    "\n",
    "    print(f'Saved cleaned \"{split_name}\" data to {cleaned_dir}')\n",
    "        \n",
    "    if split_name == 'train':\n",
    "        codes_dir = Path(f'{cleaned_dir}/codes')\n",
    "        codes_dir.mkdir(parents=True, exist_ok=True)\n",
    "        \n",
    "        code_tables = ray.get(code_tables)\n",
    "        for code_df,name in zip(code_tables, FILENAMES):\n",
    "            code_df.to_csv(f'{codes_dir}/code_{name}.csv', index_label='indx')\n",
    "        print(f'Saved vocab code tables to {codes_dir}')\n",
    "    return split_name"
   ]
  },
  {
   "cell_type": "code",
   "execution_count": null,
   "metadata": {},
   "outputs": [],
   "source": [
    "#export\n",
    "def clean_raw_ehrdata(path, valid_pct, test_pct, conditions_dict, today=None):\n",
    "    '''Split, clean, preprocess raw EHR data & save cleaned data to disk'''\n",
    "    \n",
    "    # split\n",
    "    split_ehr_dataset(path, valid_pct, test_pct)\n",
    "    \n",
    "    # clean + preprocess\n",
    "    all_splits = []\n",
    "    for split in ['train', 'valid', 'test']:\n",
    "        split_path = f'{path}/raw_split/{split}'\n",
    "        \n",
    "        if split == 'train': data_tables, code_tables = clean_preprocess_dataset.remote(split_path, True,  conditions_dict, today)\n",
    "        else               : data_tables, _           = clean_preprocess_dataset.remote(split_path, False, conditions_dict, today)\n",
    "            \n",
    "        all_splits.append(data_tables)\n",
    "    \n",
    "    # persist\n",
    "    remaining = []\n",
    "    remaining.append(persist_cleaned.remote(path, 'train', all_splits[0], code_tables))\n",
    "    remaining.append(persist_cleaned.remote(path, 'valid', all_splits[1]))\n",
    "    remaining.append(persist_cleaned.remote(path, 'test',  all_splits[2]))\n",
    "    \n",
    "    while len(remaining) > 0:\n",
    "        ready, remaining = ray.wait(remaining)\n",
    "        for r in ready:\n",
    "            split_completed = ray.get(r)\n",
    "            print(f'Completed - {split_completed}')\n",
    "    return"
   ]
  },
  {
   "cell_type": "code",
   "execution_count": null,
   "metadata": {},
   "outputs": [
    {
     "name": "stdout",
     "output_type": "stream",
     "text": [
      "Splits:: train: 0.6, valid: 0.2, test: 0.2\n",
      "Split patients into:: Train: 702, Valid: 234, Test: 235 -- Total before split: 1171\n",
      "Saved train data to /home/vinod/.lemonpie/datasets/synthea/1K/raw_split/train\n",
      "Saved valid data to /home/vinod/.lemonpie/datasets/synthea/1K/raw_split/valid\n",
      "Saved test data to /home/vinod/.lemonpie/datasets/synthea/1K/raw_split/test\n",
      "Completed - valid\n",
      "\u001b[2m\u001b[36m(pid=45737)\u001b[0m Saved cleaned \"valid\" data to /home/vinod/.lemonpie/datasets/synthea/1K/cleaned/valid\n",
      "Completed - test\n",
      "\u001b[2m\u001b[36m(pid=45735)\u001b[0m Saved cleaned \"test\" data to /home/vinod/.lemonpie/datasets/synthea/1K/cleaned/test\n",
      "\u001b[2m\u001b[36m(pid=45728)\u001b[0m Saved cleaned \"train\" data to /home/vinod/.lemonpie/datasets/synthea/1K/cleaned/train\n",
      "Completed - train\n"
     ]
    },
    {
     "name": "stdout",
     "output_type": "stream",
     "text": [
      "\u001b[2m\u001b[36m(pid=45728)\u001b[0m Saved vocab code tables to /home/vinod/.lemonpie/datasets/synthea/1K/cleaned/train/codes\n"
     ]
    }
   ],
   "source": [
    "clean_raw_ehrdata(PATH_1K, 0.2, 0.2, CONDITIONS, SYNTHEA_DATAGEN_DATES['1K'])"
   ]
  },
  {
   "cell_type": "code",
   "execution_count": null,
   "metadata": {},
   "outputs": [],
   "source": [
    "#export\n",
    "def load_cleaned_ehrdata(path):\n",
    "    '''Load cleaned, age-filtered EHR data'''\n",
    "    \n",
    "    csv_names = FILENAMES.copy()\n",
    "    csv_names.insert(1,'patient_demographics')\n",
    "    \n",
    "    train_dfs = [pd.read_csv(f'{path}/cleaned/train/{fname}.csv', low_memory=False, index_col=0) for fname in csv_names]\n",
    "    valid_dfs = [pd.read_csv(f'{path}/cleaned/valid/{fname}.csv', low_memory=False, index_col=0) for fname in csv_names]\n",
    "    test_dfs  = [pd.read_csv(f'{path}/cleaned/test/{fname}.csv', low_memory=False, index_col=0) for fname in csv_names]\n",
    "                             \n",
    "    return train_dfs, valid_dfs, test_dfs"
   ]
  },
  {
   "cell_type": "code",
   "execution_count": null,
   "metadata": {},
   "outputs": [],
   "source": [
    "#export\n",
    "def load_ehr_vocabcodes(path):\n",
    "    '''Load codes for vocabs'''\n",
    "    \n",
    "    code_dfs = [pd.read_csv(f'{path}/cleaned/train/codes/code_{fname}.csv', low_memory=False, na_filter=False, index_col=0) for fname in FILENAMES]\n",
    "                             \n",
    "    return code_dfs"
   ]
  },
  {
   "cell_type": "code",
   "execution_count": null,
   "metadata": {},
   "outputs": [],
   "source": [
    "train_dfs, valid_dfs, test_dfs = load_cleaned_ehrdata(PATH_1K)\n",
    "code_dfs = load_ehr_vocabcodes(PATH_1K)"
   ]
  },
  {
   "cell_type": "code",
   "execution_count": null,
   "metadata": {},
   "outputs": [],
   "source": [
    "# for df in train_dfs:\n",
    "#     display(df.head())"
   ]
  },
  {
   "cell_type": "code",
   "execution_count": null,
   "metadata": {},
   "outputs": [],
   "source": [
    "thispt = train_dfs[0].iloc[20]"
   ]
  },
  {
   "cell_type": "code",
   "execution_count": null,
   "metadata": {},
   "outputs": [
    {
     "data": {
      "text/plain": [
       "patient                     10134dbf-72d1-4381-b8f3-9530cca6622a\n",
       "birthdate                                             1958-09-08\n",
       "diabetes                                                    True\n",
       "diabetes_age                                                52.0\n",
       "stroke                                                      True\n",
       "stroke_age                                                  60.0\n",
       "alzheimers                                                 False\n",
       "alzheimers_age                                               NaN\n",
       "coronary_heart                                             False\n",
       "coronary_heart_age                                           NaN\n",
       "lung_cancer                                                False\n",
       "lung_cancer_age                                              NaN\n",
       "breast_cancer                                              False\n",
       "breast_cancer_age                                            NaN\n",
       "rheumatoid_arthritis                                       False\n",
       "rheumatoid_arthritis_age                                     NaN\n",
       "epilepsy                                                   False\n",
       "epilepsy_age                                                 NaN\n",
       "Name: 20, dtype: object"
      ]
     },
     "execution_count": null,
     "metadata": {},
     "output_type": "execute_result"
    }
   ],
   "source": [
    "thispt"
   ]
  },
  {
   "cell_type": "code",
   "execution_count": null,
   "metadata": {},
   "outputs": [],
   "source": [
    "# for df in code_dfs:\n",
    "#     display(df.head())"
   ]
  },
  {
   "cell_type": "markdown",
   "metadata": {},
   "source": [
    "Making sure condition counts match - after extracting `y` for each patient"
   ]
  },
  {
   "cell_type": "code",
   "execution_count": null,
   "metadata": {},
   "outputs": [
    {
     "data": {
      "text/plain": [
       "{'diabetes': '44054006',\n",
       " 'stroke': '230690007',\n",
       " 'alzheimers': '26929004',\n",
       " 'coronary_heart': '53741008',\n",
       " 'lung_cancer': '254637007',\n",
       " 'breast_cancer': '254837009',\n",
       " 'rheumatoid_arthritis': '69896004',\n",
       " 'epilepsy': '84757009'}"
      ]
     },
     "execution_count": null,
     "metadata": {},
     "output_type": "execute_result"
    }
   ],
   "source": [
    "CONDITIONS"
   ]
  },
  {
   "cell_type": "markdown",
   "metadata": {},
   "source": [
    "`patients` dfs after cleaning, with `y` extracted"
   ]
  },
  {
   "cell_type": "code",
   "execution_count": null,
   "metadata": {},
   "outputs": [],
   "source": [
    "pts_train, pts_valid, pts_test = train_dfs[0], valid_dfs[0], test_dfs[0]"
   ]
  },
  {
   "cell_type": "markdown",
   "metadata": {},
   "source": [
    "`conditions` dfs"
   ]
  },
  {
   "cell_type": "code",
   "execution_count": null,
   "metadata": {},
   "outputs": [],
   "source": [
    "cnd_train, cnd_valid, cnd_test = train_dfs[8], valid_dfs[8], test_dfs[8]"
   ]
  },
  {
   "cell_type": "markdown",
   "metadata": {},
   "source": [
    "Tests to ensure counts match"
   ]
  },
  {
   "cell_type": "code",
   "execution_count": null,
   "metadata": {},
   "outputs": [],
   "source": [
    "# export\n",
    "\n",
    "def test_extract_ys(pt_dfs, cnd_dfs, conditions_dict=CONDITIONS):\n",
    "    \"\"\"Test for extract_ys function.\"\"\"\n",
    "    for pts_df, cnds_df, split in zip(pt_dfs, cnd_dfs, ['train','valid','test']):\n",
    "        print(f\"Checking {split} dfs...\")\n",
    "        for this_cnd in conditions_dict.keys():\n",
    "            code = f\"{conditions_dict[this_cnd]}||START\"\n",
    "            cnds_df_counts = len(cnds_df[cnds_df['code'] == code])\n",
    "            pts_df_counts = len(pts_df[pts_df[this_cnd] == 1])\n",
    "            assert cnds_df_counts == pts_df_counts, f\"Error in {split} for {this_cnd} -- {cnds_df_counts} != {pts_df_counts}\"\n",
    "\n",
    "        print(f\"Tests passed for {split} - all condition counts match\")\n",
    "    return"
   ]
  },
  {
   "cell_type": "code",
   "execution_count": null,
   "metadata": {},
   "outputs": [
    {
     "name": "stdout",
     "output_type": "stream",
     "text": [
      "Checking train dfs...\n",
      "Tests passed for train - all condition counts match\n",
      "Checking valid dfs...\n",
      "Tests passed for valid - all condition counts match\n",
      "Checking test dfs...\n",
      "Tests passed for test - all condition counts match\n"
     ]
    }
   ],
   "source": [
    "test_extract_ys([pts_train, pts_valid, pts_test],[cnd_train, cnd_valid, cnd_test])"
   ]
  },
  {
   "cell_type": "code",
   "execution_count": null,
   "metadata": {},
   "outputs": [],
   "source": [
    "# export\n",
    "\n",
    "def get_label_counts(pt_dfs, conditions_dict=CONDITIONS):\n",
    "    \"\"\"Get label counts in the given split of the dataset.\"\"\"\n",
    "    all_counts = []\n",
    "    for pts_df, split in zip(pt_dfs, ['train','valid','test']):\n",
    "        split_counts = {}\n",
    "        for this_cnd in conditions_dict.keys():\n",
    "            split_counts[this_cnd] = len(pts_df[pts_df[this_cnd] == 1])\n",
    "        all_counts.append(split_counts)\n",
    "    \n",
    "    return all_counts"
   ]
  },
  {
   "cell_type": "code",
   "execution_count": null,
   "metadata": {},
   "outputs": [
    {
     "data": {
      "text/plain": [
       "[{'diabetes': 43,\n",
       "  'stroke': 30,\n",
       "  'alzheimers': 12,\n",
       "  'coronary_heart': 39,\n",
       "  'lung_cancer': 12,\n",
       "  'breast_cancer': 11,\n",
       "  'rheumatoid_arthritis': 2,\n",
       "  'epilepsy': 15},\n",
       " {'diabetes': 14,\n",
       "  'stroke': 7,\n",
       "  'alzheimers': 7,\n",
       "  'coronary_heart': 11,\n",
       "  'lung_cancer': 0,\n",
       "  'breast_cancer': 8,\n",
       "  'rheumatoid_arthritis': 0,\n",
       "  'epilepsy': 5},\n",
       " {'diabetes': 19,\n",
       "  'stroke': 11,\n",
       "  'alzheimers': 6,\n",
       "  'coronary_heart': 11,\n",
       "  'lung_cancer': 2,\n",
       "  'breast_cancer': 2,\n",
       "  'rheumatoid_arthritis': 0,\n",
       "  'epilepsy': 2}]"
      ]
     },
     "execution_count": null,
     "metadata": {},
     "output_type": "execute_result"
    }
   ],
   "source": [
    "get_label_counts([pts_train, pts_valid, pts_test])"
   ]
  },
  {
   "cell_type": "markdown",
   "metadata": {},
   "source": [
    "# Ray Testing"
   ]
  },
  {
   "cell_type": "code",
   "execution_count": null,
   "metadata": {},
   "outputs": [
    {
     "data": {
      "text/plain": [
       "{'1K': '04-01-2021',\n",
       " '10K': '04-01-2021',\n",
       " '20K': '04-01-2021',\n",
       " '100K': '04-01-2021',\n",
       " '250K': '04-01-2021'}"
      ]
     },
     "execution_count": null,
     "metadata": {},
     "output_type": "execute_result"
    }
   ],
   "source": [
    "SYNTHEA_DATAGEN_DATES"
   ]
  },
  {
   "cell_type": "markdown",
   "metadata": {},
   "source": [
    "## Before"
   ]
  },
  {
   "cell_type": "markdown",
   "metadata": {},
   "source": [
    "**1K**\n",
    "```\n",
    "CPU times: user 4.41 s, sys: 218 ms, total: 4.63 s\n",
    "Wall time: 4.66 s\n",
    "```\n",
    "**10K**\n",
    "```\n",
    "CPU times: user 1min 23s, sys: 5.58 s, total: 1min 28s\n",
    "Wall time: 1min 29s\n",
    "```"
   ]
  },
  {
   "cell_type": "markdown",
   "metadata": {},
   "source": [
    "## After"
   ]
  },
  {
   "cell_type": "markdown",
   "metadata": {},
   "source": [
    "### 1K"
   ]
  },
  {
   "cell_type": "code",
   "execution_count": null,
   "metadata": {},
   "outputs": [
    {
     "name": "stdout",
     "output_type": "stream",
     "text": [
      "Splits:: train: 0.6, valid: 0.2, test: 0.2\n",
      "Split patients into:: Train: 702, Valid: 234, Test: 235 -- Total before split: 1171\n",
      "Saved train data to /home/vinod/.lemonpie/datasets/synthea/1K/raw_split/train\n",
      "Saved valid data to /home/vinod/.lemonpie/datasets/synthea/1K/raw_split/valid\n",
      "Saved test data to /home/vinod/.lemonpie/datasets/synthea/1K/raw_split/test\n",
      "Completed - valid\n",
      "\u001b[2m\u001b[36m(pid=16347)\u001b[0m Saved cleaned \"valid\" data to /home/vinod/.lemonpie/datasets/synthea/1K/cleaned/valid\n",
      "Completed - test\n",
      "\u001b[2m\u001b[36m(pid=16346)\u001b[0m Saved cleaned \"test\" data to /home/vinod/.lemonpie/datasets/synthea/1K/cleaned/test\n",
      "\u001b[2m\u001b[36m(pid=16349)\u001b[0m Saved cleaned \"train\" data to /home/vinod/.lemonpie/datasets/synthea/1K/cleaned/train\n",
      "Completed - train\n",
      "CPU times: user 2.58 s, sys: 165 ms, total: 2.74 s\n",
      "Wall time: 4.57 s\n"
     ]
    },
    {
     "name": "stdout",
     "output_type": "stream",
     "text": [
      "\u001b[2m\u001b[36m(pid=16349)\u001b[0m Saved vocab code tables to /home/vinod/.lemonpie/datasets/synthea/1K/cleaned/train/codes\n"
     ]
    }
   ],
   "source": [
    "%time clean_raw_ehrdata(PATH_1K, 0.2, 0.2, CONDITIONS, SYNTHEA_DATAGEN_DATES['1K'])"
   ]
  },
  {
   "cell_type": "markdown",
   "metadata": {},
   "source": [
    "### 10K"
   ]
  },
  {
   "cell_type": "code",
   "execution_count": null,
   "metadata": {},
   "outputs": [
    {
     "name": "stdout",
     "output_type": "stream",
     "text": [
      "Splits:: train: 0.6, valid: 0.2, test: 0.2\n",
      "Split patients into:: Train: 6645, Valid: 2215, Test: 2216 -- Total before split: 11076\n",
      "Saved train data to /home/vinod/.lemonpie/datasets/synthea/10K/raw_split/train\n",
      "Saved valid data to /home/vinod/.lemonpie/datasets/synthea/10K/raw_split/valid\n",
      "Saved test data to /home/vinod/.lemonpie/datasets/synthea/10K/raw_split/test\n",
      "Completed - valid\n",
      "\u001b[2m\u001b[36m(pid=16353)\u001b[0m Saved cleaned \"valid\" data to /home/vinod/.lemonpie/datasets/synthea/10K/cleaned/valid\n",
      "Completed - test\n",
      "\u001b[2m\u001b[36m(pid=16346)\u001b[0m Saved cleaned \"test\" data to /home/vinod/.lemonpie/datasets/synthea/10K/cleaned/test\n",
      "\u001b[2m\u001b[36m(pid=16349)\u001b[0m Saved cleaned \"train\" data to /home/vinod/.lemonpie/datasets/synthea/10K/cleaned/train\n",
      "\u001b[2m\u001b[36m(pid=16349)\u001b[0m Saved vocab code tables to /home/vinod/.lemonpie/datasets/synthea/10K/cleaned/train/codes\n",
      "Completed - train\n",
      "CPU times: user 49.1 s, sys: 4.39 s, total: 53.5 s\n",
      "Wall time: 1min 31s\n"
     ]
    }
   ],
   "source": [
    "%time clean_raw_ehrdata(PATH_10K, 0.2, 0.2, CONDITIONS, SYNTHEA_DATAGEN_DATES['10K'])"
   ]
  },
  {
   "cell_type": "markdown",
   "metadata": {},
   "source": [
    "### 20K"
   ]
  },
  {
   "cell_type": "code",
   "execution_count": null,
   "metadata": {},
   "outputs": [
    {
     "name": "stdout",
     "output_type": "stream",
     "text": [
      "Splits:: train: 0.6, valid: 0.2, test: 0.2\n",
      "Split patients into:: Train: 13317, Valid: 4439, Test: 4439 -- Total before split: 22195\n",
      "Saved train data to /home/vinod/.lemonpie/datasets/synthea/20K/raw_split/train\n",
      "Saved valid data to /home/vinod/.lemonpie/datasets/synthea/20K/raw_split/valid\n",
      "Saved test data to /home/vinod/.lemonpie/datasets/synthea/20K/raw_split/test\n",
      "Completed - valid\n",
      "\u001b[2m\u001b[36m(pid=16339)\u001b[0m Saved cleaned \"valid\" data to /home/vinod/.lemonpie/datasets/synthea/20K/cleaned/valid\n",
      "Completed - test\n",
      "\u001b[2m\u001b[36m(pid=16346)\u001b[0m Saved cleaned \"test\" data to /home/vinod/.lemonpie/datasets/synthea/20K/cleaned/test\n",
      "\u001b[2m\u001b[36m(pid=16349)\u001b[0m Saved cleaned \"train\" data to /home/vinod/.lemonpie/datasets/synthea/20K/cleaned/train\n",
      "\u001b[2m\u001b[36m(pid=16349)\u001b[0m Saved vocab code tables to /home/vinod/.lemonpie/datasets/synthea/20K/cleaned/train/codes\n",
      "Completed - train\n",
      "CPU times: user 1min 42s, sys: 12.3 s, total: 1min 54s\n",
      "Wall time: 3min 10s\n"
     ]
    }
   ],
   "source": [
    "%time clean_raw_ehrdata(PATH_20K, 0.2, 0.2, CONDITIONS, SYNTHEA_DATAGEN_DATES['20K'])"
   ]
  },
  {
   "cell_type": "markdown",
   "metadata": {},
   "source": [
    "### 100K"
   ]
  },
  {
   "cell_type": "code",
   "execution_count": null,
   "metadata": {},
   "outputs": [
    {
     "name": "stdout",
     "output_type": "stream",
     "text": [
      "Splits:: train: 0.6, valid: 0.2, test: 0.2\n",
      "Split patients into:: Train: 66523, Valid: 22174, Test: 22175 -- Total before split: 110872\n",
      "Saved train data to /home/vinod/.lemonpie/datasets/synthea/100K/raw_split/train\n",
      "Saved valid data to /home/vinod/.lemonpie/datasets/synthea/100K/raw_split/valid\n",
      "Saved test data to /home/vinod/.lemonpie/datasets/synthea/100K/raw_split/test\n",
      "\u001b[2m\u001b[36m(pid=16350)\u001b[0m Saved cleaned \"test\" data to /home/vinod/.lemonpie/datasets/synthea/100K/cleaned/test\n",
      "Completed - test\n",
      "\u001b[2m\u001b[36m(pid=16353)\u001b[0m Saved cleaned \"valid\" data to /home/vinod/.lemonpie/datasets/synthea/100K/cleaned/valid\n",
      "Completed - valid\n",
      "\u001b[2m\u001b[36m(pid=16349)\u001b[0m Saved cleaned \"train\" data to /home/vinod/.lemonpie/datasets/synthea/100K/cleaned/train\n",
      "\u001b[2m\u001b[36m(pid=16349)\u001b[0m Saved vocab code tables to /home/vinod/.lemonpie/datasets/synthea/100K/cleaned/train/codes\n",
      "Completed - train\n",
      "CPU times: user 10min 21s, sys: 3min 6s, total: 13min 28s\n",
      "Wall time: 19min 46s\n"
     ]
    }
   ],
   "source": [
    "%time clean_raw_ehrdata(PATH_100K, 0.2, 0.2, CONDITIONS, SYNTHEA_DATAGEN_DATES['100K'])"
   ]
  },
  {
   "cell_type": "markdown",
   "metadata": {},
   "source": [
    "### Execution Times"
   ]
  },
  {
   "cell_type": "markdown",
   "metadata": {},
   "source": [
    "**1K**\n",
    "```\n",
    "CPU times: user 2.41 s, sys: 93.8 ms, total: 2.5 s\n",
    "Wall time: 4.28 s\n",
    "```\n",
    "**10K**\n",
    "```\n",
    "CPU times: user 46.6 s, sys: 3.89 s, total: 50.5 s\n",
    "Wall time: 1min 27s\n",
    "```\n",
    "**20K**\n",
    "```\n",
    "CPU times: user 1min 35s, sys: 11 s, total: 1min 46s\n",
    "Wall time: 2min 59s\n",
    "```\n",
    "**100K**\n",
    "```\n",
    "CPU times: user 10min 21s, sys: 3min 6s, total: 13min 28s\n",
    "Wall time: 19min 46s\n",
    "```"
   ]
  },
  {
   "cell_type": "markdown",
   "metadata": {},
   "source": [
    "## Tests"
   ]
  },
  {
   "cell_type": "code",
   "execution_count": null,
   "metadata": {},
   "outputs": [],
   "source": [
    "# export\n",
    "\n",
    "def test_cleaned_ehrdata(dataset_paths = [PATH_1K, PATH_10K, PATH_20K, PATH_100K]):\n",
    "    \"\"\"Loads and sanity checks cleaned data for all datasets.\"\"\"\n",
    "\n",
    "    for dataset_path in dataset_paths:\n",
    "        train_dfs, valid_dfs, test_dfs = load_cleaned_ehrdata(dataset_path)\n",
    "        code_dfs = load_ehr_vocabcodes(dataset_path)\n",
    "        pts_train, pts_valid, pts_test = train_dfs[0], valid_dfs[0], test_dfs[0]\n",
    "        cnd_train, cnd_valid, cnd_test = train_dfs[8], valid_dfs[8], test_dfs[8]\n",
    "        print(\"\\n----------\")\n",
    "        print(f\"Running tests for {dataset_path}\")\n",
    "        test_extract_ys([pts_train, pts_valid, pts_test],[cnd_train, cnd_valid, cnd_test])\n",
    "        print(f\"Label counts\")\n",
    "        for label_counts in get_label_counts([pts_train, pts_valid, pts_test]):\n",
    "            print(label_counts)"
   ]
  },
  {
   "cell_type": "code",
   "execution_count": null,
   "metadata": {},
   "outputs": [
    {
     "name": "stdout",
     "output_type": "stream",
     "text": [
      "\n",
      "----------\n",
      "Running tests for /home/vinod/.lemonpie/datasets/synthea/1K\n",
      "Checking train dfs...\n",
      "Tests passed for train - all condition counts match\n",
      "Checking valid dfs...\n",
      "Tests passed for valid - all condition counts match\n",
      "Checking test dfs...\n",
      "Tests passed for test - all condition counts match\n",
      "Label counts\n",
      "{'diabetes': 43, 'stroke': 30, 'alzheimers': 12, 'coronary_heart': 39, 'lung_cancer': 12, 'breast_cancer': 11, 'rheumatoid_arthritis': 2, 'epilepsy': 15}\n",
      "{'diabetes': 14, 'stroke': 7, 'alzheimers': 7, 'coronary_heart': 11, 'lung_cancer': 0, 'breast_cancer': 8, 'rheumatoid_arthritis': 0, 'epilepsy': 5}\n",
      "{'diabetes': 19, 'stroke': 11, 'alzheimers': 6, 'coronary_heart': 11, 'lung_cancer': 2, 'breast_cancer': 2, 'rheumatoid_arthritis': 0, 'epilepsy': 2}\n",
      "\n",
      "----------\n",
      "Running tests for /home/vinod/.lemonpie/datasets/synthea/10K\n",
      "Checking train dfs...\n",
      "Tests passed for train - all condition counts match\n",
      "Checking valid dfs...\n",
      "Tests passed for valid - all condition counts match\n",
      "Checking test dfs...\n",
      "Tests passed for test - all condition counts match\n",
      "Label counts\n",
      "{'diabetes': 476, 'stroke': 333, 'alzheimers': 155, 'coronary_heart': 369, 'lung_cancer': 64, 'breast_cancer': 0, 'rheumatoid_arthritis': 19, 'epilepsy': 135}\n",
      "{'diabetes': 141, 'stroke': 116, 'alzheimers': 58, 'coronary_heart': 140, 'lung_cancer': 21, 'breast_cancer': 0, 'rheumatoid_arthritis': 11, 'epilepsy': 52}\n",
      "{'diabetes': 155, 'stroke': 122, 'alzheimers': 63, 'coronary_heart': 137, 'lung_cancer': 15, 'breast_cancer': 0, 'rheumatoid_arthritis': 6, 'epilepsy': 41}\n",
      "\n",
      "----------\n",
      "Running tests for /home/vinod/.lemonpie/datasets/synthea/20K\n",
      "Checking train dfs...\n",
      "Tests passed for train - all condition counts match\n",
      "Checking valid dfs...\n",
      "Tests passed for valid - all condition counts match\n",
      "Checking test dfs...\n",
      "Tests passed for test - all condition counts match\n",
      "Label counts\n",
      "{'diabetes': 860, 'stroke': 694, 'alzheimers': 324, 'coronary_heart': 791, 'lung_cancer': 130, 'breast_cancer': 0, 'rheumatoid_arthritis': 48, 'epilepsy': 225}\n",
      "{'diabetes': 311, 'stroke': 199, 'alzheimers': 108, 'coronary_heart': 257, 'lung_cancer': 32, 'breast_cancer': 0, 'rheumatoid_arthritis': 17, 'epilepsy': 94}\n",
      "{'diabetes': 291, 'stroke': 229, 'alzheimers': 139, 'coronary_heart': 260, 'lung_cancer': 40, 'breast_cancer': 0, 'rheumatoid_arthritis': 16, 'epilepsy': 86}\n",
      "\n",
      "----------\n",
      "Running tests for /home/vinod/.lemonpie/datasets/synthea/100K\n",
      "Checking train dfs...\n",
      "Tests passed for train - all condition counts match\n",
      "Checking valid dfs...\n",
      "Tests passed for valid - all condition counts match\n",
      "Checking test dfs...\n",
      "Tests passed for test - all condition counts match\n",
      "Label counts\n",
      "{'diabetes': 4396, 'stroke': 3333, 'alzheimers': 1671, 'coronary_heart': 3740, 'lung_cancer': 653, 'breast_cancer': 0, 'rheumatoid_arthritis': 215, 'epilepsy': 1233}\n",
      "{'diabetes': 1457, 'stroke': 1084, 'alzheimers': 548, 'coronary_heart': 1253, 'lung_cancer': 210, 'breast_cancer': 0, 'rheumatoid_arthritis': 80, 'epilepsy': 400}\n",
      "{'diabetes': 1425, 'stroke': 1095, 'alzheimers': 554, 'coronary_heart': 1292, 'lung_cancer': 209, 'breast_cancer': 0, 'rheumatoid_arthritis': 81, 'epilepsy': 422}\n"
     ]
    }
   ],
   "source": [
    "test_cleaned_ehrdata()"
   ]
  },
  {
   "cell_type": "markdown",
   "metadata": {},
   "source": [
    "## Export -"
   ]
  },
  {
   "cell_type": "code",
   "execution_count": null,
   "metadata": {},
   "outputs": [
    {
     "name": "stdout",
     "output_type": "stream",
     "text": [
      "Converted 00_basics.ipynb.\n",
      "Converted 01_preprocessing_clean.ipynb.\n",
      "Converted 02_preprocessing_vocab.ipynb.\n",
      "Converted 03_preprocessing_transform.ipynb.\n",
      "Converted 04_data.ipynb.\n",
      "Converted 05_metrics.ipynb.\n",
      "Converted 06_learn.ipynb.\n",
      "Converted 07_models.ipynb.\n",
      "Converted 08_experiment.ipynb.\n",
      "Converted 998_coherent_clean.ipynb.\n",
      "Converted 999_amp_testing.ipynb.\n",
      "Converted 99_quick_walkthru.ipynb.\n",
      "Converted 99_running_exps.ipynb.\n",
      "Converted index.ipynb.\n"
     ]
    }
   ],
   "source": [
    "#hide\n",
    "from nbdev.export import *\n",
    "notebook2script()"
   ]
  },
  {
   "cell_type": "code",
   "execution_count": null,
   "metadata": {},
   "outputs": [],
   "source": []
  }
 ],
 "metadata": {
  "kernelspec": {
   "display_name": "Python 3.8.8 ('lemonpie')",
   "language": "python",
   "name": "python3"
  }
 },
 "nbformat": 4,
 "nbformat_minor": 4
}
