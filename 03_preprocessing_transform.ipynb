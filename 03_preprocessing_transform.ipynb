{
 "cells": [
  {
   "cell_type": "code",
   "execution_count": null,
   "metadata": {},
   "outputs": [],
   "source": [
    "# default_exp preprocessing.transform"
   ]
  },
  {
   "cell_type": "markdown",
   "metadata": {},
   "source": [
    "# preprocessing.transform"
   ]
  },
  {
   "cell_type": "code",
   "execution_count": null,
   "metadata": {},
   "outputs": [
    {
     "data": {
      "text/html": [
       "<style>.container { width:85% !important; }</style>"
      ],
      "text/plain": [
       "<IPython.core.display.HTML object>"
      ]
     },
     "metadata": {},
     "output_type": "display_data"
    }
   ],
   "source": [
    "#hide\n",
    "from IPython.core.display import display, HTML\n",
    "display(HTML(\"<style>.container { width:85% !important; }</style>\"))"
   ]
  },
  {
   "cell_type": "code",
   "execution_count": null,
   "metadata": {},
   "outputs": [],
   "source": [
    "#hide\n",
    "%reload_ext autoreload\n",
    "%autoreload 2\n",
    "%matplotlib inline"
   ]
  },
  {
   "cell_type": "code",
   "execution_count": null,
   "metadata": {},
   "outputs": [],
   "source": [
    "#export\n",
    "from lemonade.preprocessing.clean import *\n",
    "from lemonade.preprocessing.vocab import *\n",
    "from fastai.imports import *\n",
    "from fastai import *\n",
    "from datetime import date"
   ]
  },
  {
   "cell_type": "code",
   "execution_count": null,
   "metadata": {},
   "outputs": [],
   "source": [
    "#hide\n",
    "from nbdev.showdoc import *"
   ]
  },
  {
   "cell_type": "markdown",
   "metadata": {},
   "source": [
    "**Load Cleaned Data**"
   ]
  },
  {
   "cell_type": "code",
   "execution_count": null,
   "metadata": {},
   "outputs": [
    {
     "data": {
      "text/plain": [
       "('./datasets/synthea/1K', './datasets/synthea/10K')"
      ]
     },
     "execution_count": null,
     "metadata": {},
     "output_type": "execute_result"
    }
   ],
   "source": [
    "PATH_1K, PATH_10K"
   ]
  },
  {
   "cell_type": "code",
   "execution_count": null,
   "metadata": {},
   "outputs": [
    {
     "data": {
      "text/plain": [
       "{'diabetes': '44054006||START',\n",
       " 'stroke': '230690007||START',\n",
       " 'alzheimers': '26929004||START',\n",
       " 'coronary_heart': '53741008||START'}"
      ]
     },
     "execution_count": null,
     "metadata": {},
     "output_type": "execute_result"
    }
   ],
   "source": [
    "CONDITIONS"
   ]
  },
  {
   "cell_type": "code",
   "execution_count": null,
   "metadata": {},
   "outputs": [],
   "source": [
    "train_dfs, valid_dfs, test_dfs = load_cleaned_ehrdata(PATH_1K)"
   ]
  },
  {
   "cell_type": "code",
   "execution_count": null,
   "metadata": {},
   "outputs": [],
   "source": [
    "#[patients, patient_demographics, observations, allergies, careplans, medications, imaging_studies, procedures, conditions, immunizations]\n",
    "all_dfs = train_dfs\n",
    "patients_df, patient_demographics_df, all_rec_dfs = all_dfs[0], all_dfs[1], all_dfs[2:]"
   ]
  },
  {
   "cell_type": "code",
   "execution_count": null,
   "metadata": {},
   "outputs": [],
   "source": [
    "# [display(df.head()) for df in all_dfs]"
   ]
  },
  {
   "cell_type": "code",
   "execution_count": null,
   "metadata": {},
   "outputs": [
    {
     "data": {
      "text/html": [
       "<div>\n",
       "<style scoped>\n",
       "    .dataframe tbody tr th:only-of-type {\n",
       "        vertical-align: middle;\n",
       "    }\n",
       "\n",
       "    .dataframe tbody tr th {\n",
       "        vertical-align: top;\n",
       "    }\n",
       "\n",
       "    .dataframe thead th {\n",
       "        text-align: right;\n",
       "    }\n",
       "</style>\n",
       "<table border=\"1\" class=\"dataframe\">\n",
       "  <thead>\n",
       "    <tr style=\"text-align: right;\">\n",
       "      <th></th>\n",
       "      <th>patient</th>\n",
       "      <th>birthdate</th>\n",
       "      <th>diabetes_y</th>\n",
       "      <th>diabetes_age</th>\n",
       "      <th>stroke_y</th>\n",
       "      <th>stroke_age</th>\n",
       "      <th>alzheimers_y</th>\n",
       "      <th>alzheimers_age</th>\n",
       "      <th>coronary_heart_y</th>\n",
       "      <th>coronary_heart_age</th>\n",
       "    </tr>\n",
       "    <tr>\n",
       "      <th>indx</th>\n",
       "      <th></th>\n",
       "      <th></th>\n",
       "      <th></th>\n",
       "      <th></th>\n",
       "      <th></th>\n",
       "      <th></th>\n",
       "      <th></th>\n",
       "      <th></th>\n",
       "      <th></th>\n",
       "      <th></th>\n",
       "    </tr>\n",
       "  </thead>\n",
       "  <tbody>\n",
       "    <tr>\n",
       "      <th>0</th>\n",
       "      <td>e4361ed5-5ef7-407d-b5d3-576155ed66cd</td>\n",
       "      <td>1988-05-16</td>\n",
       "      <td>False</td>\n",
       "      <td>NaN</td>\n",
       "      <td>False</td>\n",
       "      <td>NaN</td>\n",
       "      <td>False</td>\n",
       "      <td>NaN</td>\n",
       "      <td>False</td>\n",
       "      <td>NaN</td>\n",
       "    </tr>\n",
       "    <tr>\n",
       "      <th>1</th>\n",
       "      <td>b28ca05e-a076-4868-a1af-168ae06b59ce</td>\n",
       "      <td>1990-06-12</td>\n",
       "      <td>False</td>\n",
       "      <td>NaN</td>\n",
       "      <td>False</td>\n",
       "      <td>NaN</td>\n",
       "      <td>False</td>\n",
       "      <td>NaN</td>\n",
       "      <td>False</td>\n",
       "      <td>NaN</td>\n",
       "    </tr>\n",
       "    <tr>\n",
       "      <th>2</th>\n",
       "      <td>7c2b8c3b-fa87-44e9-b868-01db98dad56c</td>\n",
       "      <td>1988-09-05</td>\n",
       "      <td>False</td>\n",
       "      <td>NaN</td>\n",
       "      <td>False</td>\n",
       "      <td>NaN</td>\n",
       "      <td>False</td>\n",
       "      <td>NaN</td>\n",
       "      <td>False</td>\n",
       "      <td>NaN</td>\n",
       "    </tr>\n",
       "    <tr>\n",
       "      <th>3</th>\n",
       "      <td>0731de61-1a8b-4135-83c0-2ace696bcac8</td>\n",
       "      <td>1934-11-27</td>\n",
       "      <td>False</td>\n",
       "      <td>NaN</td>\n",
       "      <td>False</td>\n",
       "      <td>NaN</td>\n",
       "      <td>False</td>\n",
       "      <td>NaN</td>\n",
       "      <td>False</td>\n",
       "      <td>NaN</td>\n",
       "    </tr>\n",
       "    <tr>\n",
       "      <th>4</th>\n",
       "      <td>a119d309-9cac-415a-b9bd-c0cf10f15beb</td>\n",
       "      <td>1980-12-23</td>\n",
       "      <td>False</td>\n",
       "      <td>NaN</td>\n",
       "      <td>False</td>\n",
       "      <td>NaN</td>\n",
       "      <td>False</td>\n",
       "      <td>NaN</td>\n",
       "      <td>False</td>\n",
       "      <td>NaN</td>\n",
       "    </tr>\n",
       "  </tbody>\n",
       "</table>\n",
       "</div>"
      ],
      "text/plain": [
       "                                   patient   birthdate  diabetes_y  \\\n",
       "indx                                                                 \n",
       "0     e4361ed5-5ef7-407d-b5d3-576155ed66cd  1988-05-16       False   \n",
       "1     b28ca05e-a076-4868-a1af-168ae06b59ce  1990-06-12       False   \n",
       "2     7c2b8c3b-fa87-44e9-b868-01db98dad56c  1988-09-05       False   \n",
       "3     0731de61-1a8b-4135-83c0-2ace696bcac8  1934-11-27       False   \n",
       "4     a119d309-9cac-415a-b9bd-c0cf10f15beb  1980-12-23       False   \n",
       "\n",
       "      diabetes_age  stroke_y  stroke_age  alzheimers_y  alzheimers_age  \\\n",
       "indx                                                                     \n",
       "0              NaN     False         NaN         False             NaN   \n",
       "1              NaN     False         NaN         False             NaN   \n",
       "2              NaN     False         NaN         False             NaN   \n",
       "3              NaN     False         NaN         False             NaN   \n",
       "4              NaN     False         NaN         False             NaN   \n",
       "\n",
       "      coronary_heart_y  coronary_heart_age  \n",
       "indx                                        \n",
       "0                False                 NaN  \n",
       "1                False                 NaN  \n",
       "2                False                 NaN  \n",
       "3                False                 NaN  \n",
       "4                False                 NaN  "
      ]
     },
     "execution_count": null,
     "metadata": {},
     "output_type": "execute_result"
    }
   ],
   "source": [
    "patients_df.head()"
   ]
  },
  {
   "cell_type": "code",
   "execution_count": null,
   "metadata": {},
   "outputs": [
    {
     "data": {
      "text/plain": [
       "array(['b28ca05e-a076-4868-a1af-168ae06b59ce', '1990-06-12', False, nan,\n",
       "       False, nan, False, nan, False, nan], dtype=object)"
      ]
     },
     "execution_count": null,
     "metadata": {},
     "output_type": "execute_result"
    }
   ],
   "source": [
    "vals = all_dfs[0].iloc[1].values\n",
    "vals"
   ]
  },
  {
   "cell_type": "code",
   "execution_count": null,
   "metadata": {},
   "outputs": [
    {
     "data": {
      "text/plain": [
       "('b28ca05e-a076-4868-a1af-168ae06b59ce',\n",
       " '1990-06-12',\n",
       " False,\n",
       " False,\n",
       " False,\n",
       " False)"
      ]
     },
     "execution_count": null,
     "metadata": {},
     "output_type": "execute_result"
    }
   ],
   "source": [
    "vals[0], vals[1], vals[2], vals[4], vals[6], vals[8]"
   ]
  },
  {
   "cell_type": "markdown",
   "metadata": {},
   "source": [
    "**Load Vocabs**"
   ]
  },
  {
   "cell_type": "code",
   "execution_count": null,
   "metadata": {},
   "outputs": [],
   "source": [
    "vocab_list_1K = EhrVocabList.load(PATH_1K)\n",
    "obs_vocab, alg_vocab, crpl_vocab, med_vocab, img_vocab, proc_vocab, cnd_vocab, imm_vocab = vocab_list_1K.records_vocabs\n",
    "bday, bmonth, byear, marital, race, ethnicity, gender, birthplace, city, state, zipcode  = vocab_list_1K.demographics_vocabs\n",
    "age_mean, age_std = vocab_list_1K.age_mean, vocab_list_1K.age_std"
   ]
  },
  {
   "cell_type": "code",
   "execution_count": null,
   "metadata": {},
   "outputs": [],
   "source": [
    "#all emb dimensions to be passed into model to determine nh\n",
    "demographics_dims, recs_dims, demographics_dims_width, recs_dims_width = get_all_emb_dims(EhrVocabList.load(PATH_1K))"
   ]
  },
  {
   "cell_type": "code",
   "execution_count": null,
   "metadata": {},
   "outputs": [
    {
     "data": {
      "text/plain": [
       "[(33, 8),\n",
       " (14, 7),\n",
       " (124, 11),\n",
       " (5, 5),\n",
       " (7, 6),\n",
       " (25, 8),\n",
       " (4, 5),\n",
       " (205, 13),\n",
       " (211, 13),\n",
       " (3, 5),\n",
       " (200, 13)]"
      ]
     },
     "execution_count": null,
     "metadata": {},
     "output_type": "execute_result"
    }
   ],
   "source": [
    "demographics_dims"
   ]
  },
  {
   "cell_type": "code",
   "execution_count": null,
   "metadata": {},
   "outputs": [
    {
     "data": {
      "text/plain": [
       "[(550, 17),\n",
       " (27, 8),\n",
       " (54, 9),\n",
       " (224, 13),\n",
       " (11, 6),\n",
       " (128, 12),\n",
       " (201, 13),\n",
       " (20, 7)]"
      ]
     },
     "execution_count": null,
     "metadata": {},
     "output_type": "execute_result"
    }
   ],
   "source": [
    "recs_dims"
   ]
  },
  {
   "cell_type": "code",
   "execution_count": null,
   "metadata": {},
   "outputs": [
    {
     "data": {
      "text/plain": [
       "(94, 85)"
      ]
     },
     "execution_count": null,
     "metadata": {},
     "output_type": "execute_result"
    }
   ],
   "source": [
    "demographics_dims_width, recs_dims_width"
   ]
  },
  {
   "cell_type": "markdown",
   "metadata": {},
   "source": [
    "## Assemble Single Patient"
   ]
  },
  {
   "cell_type": "code",
   "execution_count": null,
   "metadata": {},
   "outputs": [],
   "source": [
    "tst_ptid='0731de61-1a8b-4135-83c0-2ace696bcac8'"
   ]
  },
  {
   "cell_type": "code",
   "execution_count": null,
   "metadata": {},
   "outputs": [
    {
     "data": {
      "text/html": [
       "<div>\n",
       "<style scoped>\n",
       "    .dataframe tbody tr th:only-of-type {\n",
       "        vertical-align: middle;\n",
       "    }\n",
       "\n",
       "    .dataframe tbody tr th {\n",
       "        vertical-align: top;\n",
       "    }\n",
       "\n",
       "    .dataframe thead th {\n",
       "        text-align: right;\n",
       "    }\n",
       "</style>\n",
       "<table border=\"1\" class=\"dataframe\">\n",
       "  <thead>\n",
       "    <tr style=\"text-align: right;\">\n",
       "      <th></th>\n",
       "      <th>patient</th>\n",
       "      <th>birthdate</th>\n",
       "      <th>diabetes_y</th>\n",
       "      <th>diabetes_age</th>\n",
       "      <th>stroke_y</th>\n",
       "      <th>stroke_age</th>\n",
       "      <th>alzheimers_y</th>\n",
       "      <th>alzheimers_age</th>\n",
       "      <th>coronary_heart_y</th>\n",
       "      <th>coronary_heart_age</th>\n",
       "    </tr>\n",
       "    <tr>\n",
       "      <th>indx</th>\n",
       "      <th></th>\n",
       "      <th></th>\n",
       "      <th></th>\n",
       "      <th></th>\n",
       "      <th></th>\n",
       "      <th></th>\n",
       "      <th></th>\n",
       "      <th></th>\n",
       "      <th></th>\n",
       "      <th></th>\n",
       "    </tr>\n",
       "  </thead>\n",
       "  <tbody>\n",
       "    <tr>\n",
       "      <th>3</th>\n",
       "      <td>0731de61-1a8b-4135-83c0-2ace696bcac8</td>\n",
       "      <td>1934-11-27</td>\n",
       "      <td>False</td>\n",
       "      <td>NaN</td>\n",
       "      <td>False</td>\n",
       "      <td>NaN</td>\n",
       "      <td>False</td>\n",
       "      <td>NaN</td>\n",
       "      <td>False</td>\n",
       "      <td>NaN</td>\n",
       "    </tr>\n",
       "  </tbody>\n",
       "</table>\n",
       "</div>"
      ],
      "text/plain": [
       "                                   patient   birthdate  diabetes_y  \\\n",
       "indx                                                                 \n",
       "3     0731de61-1a8b-4135-83c0-2ace696bcac8  1934-11-27       False   \n",
       "\n",
       "      diabetes_age  stroke_y  stroke_age  alzheimers_y  alzheimers_age  \\\n",
       "indx                                                                     \n",
       "3              NaN     False         NaN         False             NaN   \n",
       "\n",
       "      coronary_heart_y  coronary_heart_age  \n",
       "indx                                        \n",
       "3                False                 NaN  "
      ]
     },
     "execution_count": null,
     "metadata": {},
     "output_type": "execute_result"
    }
   ],
   "source": [
    "tst_pt = patients_df[patients_df.patient == tst_ptid]\n",
    "tst_pt"
   ]
  },
  {
   "cell_type": "code",
   "execution_count": null,
   "metadata": {},
   "outputs": [
    {
     "data": {
      "text/plain": [
       "birthdate          1934-11-27\n",
       "marital                     M\n",
       "race                    white\n",
       "ethnicity          portuguese\n",
       "gender                      F\n",
       "birthplace             Boston\n",
       "city               Foxborough\n",
       "state           Massachusetts\n",
       "zip                      2035\n",
       "age_now_days            30670\n",
       "Name: 0731de61-1a8b-4135-83c0-2ace696bcac8, dtype: object"
      ]
     },
     "execution_count": null,
     "metadata": {},
     "output_type": "execute_result"
    }
   ],
   "source": [
    "demograph_vector = patient_demographics_df.loc[tst_ptid]\n",
    "demograph_vector"
   ]
  },
  {
   "cell_type": "code",
   "execution_count": null,
   "metadata": {},
   "outputs": [
    {
     "data": {
      "text/plain": [
       "'1934-11-27'"
      ]
     },
     "execution_count": null,
     "metadata": {},
     "output_type": "execute_result"
    }
   ],
   "source": [
    "tst_pt_birthdate = tst_pt.birthdate.values[0]\n",
    "tst_pt_birthdate"
   ]
  },
  {
   "cell_type": "code",
   "execution_count": null,
   "metadata": {},
   "outputs": [],
   "source": [
    "tst_pt_diabetes, tst_pt_stroke, tst_pt_alzheimers, tst_pt_coronaryheart = \\\n",
    "    tst_pt.diabetes_y.values[0], tst_pt.stroke_y.values[0], tst_pt.alzheimers_y.values[0], tst_pt.coronary_heart_y.values[0]"
   ]
  },
  {
   "cell_type": "code",
   "execution_count": null,
   "metadata": {},
   "outputs": [
    {
     "data": {
      "text/plain": [
       "(False, False, False, False)"
      ]
     },
     "execution_count": null,
     "metadata": {},
     "output_type": "execute_result"
    }
   ],
   "source": [
    "tst_pt_diabetes, tst_pt_stroke, tst_pt_alzheimers, tst_pt_coronaryheart"
   ]
  },
  {
   "cell_type": "markdown",
   "metadata": {},
   "source": [
    "### Collate Codes & Offsets"
   ]
  },
  {
   "cell_type": "markdown",
   "metadata": {},
   "source": [
    "- **Filter out for this patient** \n",
    " - `rec_dfs[[ptid]]` + `demographics[[ptid]]`\n",
    " - ~~df already filtered by cutoff age~~\n",
    " - This is being done in `PatientList`, this is just for testing, **i.e. this will never be called**\n",
    "- Use double `[[ptid]]` so that - even when single values are returned, we get a df"
   ]
  },
  {
   "cell_type": "code",
   "execution_count": null,
   "metadata": {},
   "outputs": [],
   "source": [
    "def get_rec_dfs(all_rec_dfs, ptid):\n",
    "    '''Get all dfs for this patient, this is being done in `PatientList` so this is for testing only'''\n",
    "    rec_dfs = []\n",
    "    for rec_df in all_rec_dfs:\n",
    "        try:\n",
    "            rec_dfs.append(rec_df.loc[[ptid]])\n",
    "        except KeyError:\n",
    "            rec_dfs.append(pd.DataFrame())\n",
    "    return rec_dfs"
   ]
  },
  {
   "cell_type": "code",
   "execution_count": null,
   "metadata": {},
   "outputs": [
    {
     "name": "stdout",
     "output_type": "stream",
     "text": [
      "CPU times: user 28.6 ms, sys: 4.08 ms, total: 32.7 ms\n",
      "Wall time: 32.4 ms\n"
     ]
    }
   ],
   "source": [
    "%time rec_dfs = get_rec_dfs(all_rec_dfs, tst_ptid)"
   ]
  },
  {
   "cell_type": "markdown",
   "metadata": {},
   "source": [
    "rec_dfs -- observations, allergies, careplans, medications, imaging_studies, procedures, conditions, immunizations\n",
    "\n",
    "The following are empty for this ptid (to check and confirm, uncomment following code snippet and run)\n",
    "- allergies - 1\n",
    "- ~~imaging_studies - 4~~"
   ]
  },
  {
   "cell_type": "code",
   "execution_count": null,
   "metadata": {},
   "outputs": [],
   "source": [
    "# for rec_df, name in zip(rec_dfs, FILENAMES[1:]):\n",
    "#     print(f'{name}: {rec_df.shape}')\n",
    "#     display(rec_df.tail())"
   ]
  },
  {
   "cell_type": "code",
   "execution_count": null,
   "metadata": {},
   "outputs": [],
   "source": [
    "p_obs, p_alg, p_crpl, p_med, p_img, p_proc, p_cnd, p_immn = rec_dfs"
   ]
  },
  {
   "cell_type": "markdown",
   "metadata": {},
   "source": [
    "- For empty rec dfs like alg seen above, we have to indicate that nothing was recorded for this particular record (say allergies)\n",
    "    1. So the codes list will be `xxnone`s of length `age_span`\n",
    "        - For example for `age_start`=10 and `age_stop`=35, we will get 25 `xxnone`\n",
    "- For non-empty rec dfs\n",
    " 1. Collate codes by year or month (depending on `age_in_months` value)\n",
    " 2. Compute respective offsets\n",
    "\n",
    "For using age in days or hours (for example in case of hospitalization or ICU datasets)\n",
    "- This function will need to be modified (in addition to `insert_age()` in `preprocessing.clean`)\n",
    "- For example for age in days, `insert_age()` will insert a column in each data frame with the age in days, which then can be used by this function to filter for the right `age_span` "
   ]
  },
  {
   "cell_type": "code",
   "execution_count": null,
   "metadata": {},
   "outputs": [],
   "source": [
    "#exports\n",
    "def collate_codes_offsts(rec_df, age_start, age_stop, age_in_months=False):\n",
    "    \"\"\"Return a single patient's EmbeddingBag lookup codes and offsets for the given age span and age units\"\"\"\n",
    "    codes  = []\n",
    "    offsts = [0]\n",
    "    age_span = age_stop - age_start\n",
    "    if rec_df.empty: \n",
    "        codes = ['xxnone'] * age_span\n",
    "        offsts = list(range(age_span))\n",
    "    else:\n",
    "        for i in range(age_start, age_stop, 1):\n",
    "            if age_in_months: res = (rec_df.code[rec_df.age_months == i]).values\n",
    "            else            : res = (rec_df.code[rec_df.age == i]).values\n",
    "            if len(res) > 0: \n",
    "                codes.extend(res)      \n",
    "                if i < age_stop - 1: offsts.append(offsts[-1] + len(res))\n",
    "            else:          \n",
    "                codes.append('xxnone') \n",
    "                if i < age_stop - 1: offsts.append(offsts[-1] + 1)\n",
    "    \n",
    "    assert len(offsts) == age_span\n",
    "    return codes, offsts"
   ]
  },
  {
   "cell_type": "markdown",
   "metadata": {},
   "source": [
    "#hide\n",
    "#### Tests"
   ]
  },
  {
   "cell_type": "markdown",
   "metadata": {},
   "source": [
    "Collate EHR codes for our test patient, from month 95 to month 105 "
   ]
  },
  {
   "cell_type": "code",
   "execution_count": null,
   "metadata": {},
   "outputs": [
    {
     "name": "stdout",
     "output_type": "stream",
     "text": [
      "CPU times: user 20.9 ms, sys: 141 µs, total: 21.1 ms\n",
      "Wall time: 20.2 ms\n"
     ]
    }
   ],
   "source": [
    "%time all_codes_offsts = [collate_codes_offsts(df, age_start=95, age_stop=105, age_in_months=True) for df in rec_dfs]"
   ]
  },
  {
   "cell_type": "markdown",
   "metadata": {},
   "source": [
    "Observation codes for the above `age_span` is obtained as below ..  "
   ]
  },
  {
   "cell_type": "code",
   "execution_count": null,
   "metadata": {},
   "outputs": [
    {
     "data": {
      "text/plain": [
       "['8302-2||136.6||cm||numeric',\n",
       " '72514-3||0.6||{score}||numeric',\n",
       " '29463-7||23.3||kg||numeric',\n",
       " '39156-5||12.5||kg/m2||numeric',\n",
       " '8462-4||82.4||mmHg||numeric',\n",
       " '8480-6||138.1||mmHg||numeric',\n",
       " '72166-2||Never smoker||xxxnan||text',\n",
       " 'xxnone',\n",
       " 'xxnone',\n",
       " 'xxnone',\n",
       " '8302-2||138.6||cm||numeric',\n",
       " '72514-3||3.1||{score}||numeric',\n",
       " '29463-7||24.2||kg||numeric',\n",
       " '39156-5||12.6||kg/m2||numeric',\n",
       " '8462-4||70.2||mmHg||numeric',\n",
       " '8480-6||131.5||mmHg||numeric',\n",
       " '72166-2||Never smoker||xxxnan||text',\n",
       " 'xxnone',\n",
       " 'xxnone',\n",
       " 'xxnone',\n",
       " 'xxnone',\n",
       " 'xxnone']"
      ]
     },
     "execution_count": null,
     "metadata": {},
     "output_type": "execute_result"
    }
   ],
   "source": [
    "obs_codes = all_codes_offsts[0][0]\n",
    "obs_codes"
   ]
  },
  {
   "cell_type": "markdown",
   "metadata": {},
   "source": [
    "and the corresponding offsets (to be used for EmbeddingBag lookups) is obtained as below."
   ]
  },
  {
   "cell_type": "code",
   "execution_count": null,
   "metadata": {},
   "outputs": [
    {
     "data": {
      "text/plain": [
       "[0, 7, 8, 9, 10, 17, 18, 19, 20, 21]"
      ]
     },
     "execution_count": null,
     "metadata": {},
     "output_type": "execute_result"
    }
   ],
   "source": [
    "obs_offsts = all_codes_offsts[0][1]\n",
    "obs_offsts"
   ]
  },
  {
   "cell_type": "code",
   "execution_count": null,
   "metadata": {},
   "outputs": [
    {
     "data": {
      "text/plain": [
       "(22, 10)"
      ]
     },
     "execution_count": null,
     "metadata": {},
     "output_type": "execute_result"
    }
   ],
   "source": [
    "len(obs_codes), len(obs_offsts)"
   ]
  },
  {
   "cell_type": "markdown",
   "metadata": {},
   "source": [
    "Note that: no matter how many observations are recorded, the number of offsets will always be equal to the `age_span`"
   ]
  },
  {
   "cell_type": "markdown",
   "metadata": {},
   "source": [
    "Collate EHR codes for our test patient, from 10 to 25 years"
   ]
  },
  {
   "cell_type": "code",
   "execution_count": null,
   "metadata": {},
   "outputs": [
    {
     "name": "stdout",
     "output_type": "stream",
     "text": [
      "CPU times: user 24.2 ms, sys: 35 µs, total: 24.2 ms\n",
      "Wall time: 23.5 ms\n"
     ]
    }
   ],
   "source": [
    "%time all_codes_offsts = [collate_codes_offsts(df, age_start=10, age_stop=25) for df in rec_dfs]"
   ]
  },
  {
   "cell_type": "markdown",
   "metadata": {},
   "source": [
    "### Numericalize\n",
    "- Once we have all the codes from the vocabs, we need to numericalize them \n",
    "- Call to `vocab.numericalize()` must always be a list\n",
    "- `codes` returned from `collate_codes_offsts()` is always a list even if a single item"
   ]
  },
  {
   "cell_type": "code",
   "execution_count": null,
   "metadata": {},
   "outputs": [],
   "source": [
    "# Collated observation codes for patient\n",
    "obs_codes = all_codes_offsts[0][0]"
   ]
  },
  {
   "cell_type": "code",
   "execution_count": null,
   "metadata": {},
   "outputs": [],
   "source": [
    "obs_codes_num = obs_vocab.numericalize(all_codes_offsts[0][0]) #codes numericalized\n",
    "obs_offsts = all_codes_offsts[0][1] #offsets"
   ]
  },
  {
   "cell_type": "code",
   "execution_count": null,
   "metadata": {},
   "outputs": [
    {
     "data": {
      "text/plain": [
       "['8302-2||150.8||cm||numeric',\n",
       " '72514-3||3.9||{score}||numeric',\n",
       " '29463-7||31.1||kg||numeric',\n",
       " '39156-5||13.7||kg/m2||numeric',\n",
       " '8462-4||70.1||mmHg||numeric',\n",
       " '8480-6||110.2||mmHg||numeric',\n",
       " '72166-2||Never smoker||xxxnan||text',\n",
       " '8302-2||157.9||cm||numeric',\n",
       " '72514-3||1.9||{score}||numeric',\n",
       " '29463-7||34.9||kg||numeric']"
      ]
     },
     "execution_count": null,
     "metadata": {},
     "output_type": "execute_result"
    }
   ],
   "source": [
    "# first 10 observation codes for patient\n",
    "obs_codes[:10]"
   ]
  },
  {
   "cell_type": "code",
   "execution_count": null,
   "metadata": {},
   "outputs": [
    {
     "data": {
      "text/plain": [
       "[5, 9, 13, 87, 72, 77, 497, 5, 8, 13]"
      ]
     },
     "execution_count": null,
     "metadata": {},
     "output_type": "execute_result"
    }
   ],
   "source": [
    "# the above observation codes numericalized\n",
    "obs_codes_num[:10]"
   ]
  },
  {
   "cell_type": "code",
   "execution_count": null,
   "metadata": {},
   "outputs": [
    {
     "data": {
      "text/plain": [
       "(115, 115, 15)"
      ]
     },
     "execution_count": null,
     "metadata": {},
     "output_type": "execute_result"
    }
   ],
   "source": [
    "len(obs_codes), len(obs_codes_num), len(obs_offsts)"
   ]
  },
  {
   "cell_type": "code",
   "execution_count": null,
   "metadata": {},
   "outputs": [],
   "source": [
    "assert len(obs_codes) == len(obs_codes_num)"
   ]
  },
  {
   "cell_type": "code",
   "execution_count": null,
   "metadata": {},
   "outputs": [
    {
     "data": {
      "text/plain": [
       "[('8302-2||158.45000000000002||cm||numeric', 'Body Height'),\n",
       " ('72514-3||4.95||{score}||numeric',\n",
       "  'Pain severity - 0-10 verbal numeric rating [Score] - Reported'),\n",
       " ('29463-7||42.15||kg||numeric', 'Body Weight'),\n",
       " ('39156-5||9.1||kg/m2||numeric', 'Body Mass Index'),\n",
       " ('8462-4||70.0||mmHg||numeric', 'Diastolic Blood Pressure'),\n",
       " ('8480-6||100.0||mmHg||numeric', 'Systolic Blood Pressure'),\n",
       " ('72166-2||Never smoker||xxxnan||text', 'Tobacco smoking status NHIS'),\n",
       " ('8302-2||158.45000000000002||cm||numeric', 'Body Height'),\n",
       " ('72514-3||2.475||{score}||numeric',\n",
       "  'Pain severity - 0-10 verbal numeric rating [Score] - Reported'),\n",
       " ('29463-7||42.15||kg||numeric', 'Body Weight')]"
      ]
     },
     "execution_count": null,
     "metadata": {},
     "output_type": "execute_result"
    }
   ],
   "source": [
    "# the above observation codes textified \n",
    "obs_vocab.textify(obs_codes_num[:10])"
   ]
  },
  {
   "cell_type": "code",
   "execution_count": null,
   "metadata": {},
   "outputs": [],
   "source": [
    "#procedures for test patient\n",
    "proc_codes = all_codes_offsts[5][0]"
   ]
  },
  {
   "cell_type": "code",
   "execution_count": null,
   "metadata": {},
   "outputs": [],
   "source": [
    "proc_codes_num,proc_offsts = proc_vocab.numericalize(all_codes_offsts[5][0]), all_codes_offsts[5][1]"
   ]
  },
  {
   "cell_type": "code",
   "execution_count": null,
   "metadata": {},
   "outputs": [],
   "source": [
    "assert len(proc_codes) == len(proc_codes_num)"
   ]
  },
  {
   "cell_type": "code",
   "execution_count": null,
   "metadata": {},
   "outputs": [
    {
     "data": {
      "text/plain": [
       "(105, 105, 15)"
      ]
     },
     "execution_count": null,
     "metadata": {},
     "output_type": "execute_result"
    }
   ],
   "source": [
    "len(proc_codes), len(proc_codes_num), len(proc_offsts)"
   ]
  },
  {
   "cell_type": "markdown",
   "metadata": {},
   "source": [
    "**Putting all this into a function**"
   ]
  },
  {
   "cell_type": "code",
   "execution_count": null,
   "metadata": {},
   "outputs": [],
   "source": [
    "#export\n",
    "def get_codenums_offsts(rec_dfs, all_vocabs, age_start, age_stop, age_in_months):\n",
    "    '''Get numericalized record codes and offsets for a patient for a given age span'''\n",
    "    all_codes_offsts = [collate_codes_offsts(df, age_start, age_stop, age_in_months) for df in rec_dfs]\n",
    "    obs_vocab, alg_vocab, crpl_vocab, med_vocab, img_vocab, proc_vocab, cnd_vocab, imm_vocab = all_vocabs\n",
    "    \n",
    "    obs_c,  obs_o  = obs_vocab.numericalize (all_codes_offsts[0][0]), all_codes_offsts[0][1]\n",
    "    alg_c,  alg_o  = alg_vocab.numericalize (all_codes_offsts[1][0]), all_codes_offsts[1][1]\n",
    "    crpl_c, crpl_o = crpl_vocab.numericalize(all_codes_offsts[2][0]), all_codes_offsts[2][1]\n",
    "    med_c,  med_o  = med_vocab.numericalize (all_codes_offsts[3][0]), all_codes_offsts[3][1]\n",
    "    img_c,  img_o  = img_vocab.numericalize (all_codes_offsts[4][0]), all_codes_offsts[4][1]\n",
    "    proc_c, proc_o = proc_vocab.numericalize(all_codes_offsts[5][0]), all_codes_offsts[5][1]\n",
    "    cnd_c,  cnd_o  = cnd_vocab.numericalize (all_codes_offsts[6][0]), all_codes_offsts[6][1]\n",
    "    imm_c,  imm_o  = imm_vocab.numericalize (all_codes_offsts[7][0]), all_codes_offsts[7][1]\n",
    "    \n",
    "    all_codenums = [obs_c,alg_c,crpl_c,med_c,img_c,proc_c,cnd_c,imm_c]\n",
    "    all_offsts   = [obs_o,alg_o,crpl_o,med_o,img_o,proc_o,cnd_o,imm_o]\n",
    "    \n",
    "    return all_codenums, all_offsts"
   ]
  },
  {
   "cell_type": "code",
   "execution_count": null,
   "metadata": {},
   "outputs": [],
   "source": [
    "#export\n",
    "def get_demographics(demograph_vector, demographics_vocabs, age_mean, age_std):\n",
    "    '''Numericalize demographics and normalize age for a given patient'''\n",
    "    bday, bmonth, byear, marital, race, ethnicity, gender, birthplace, city, state, zipcode = demographics_vocabs\n",
    "    demograph_vector = demograph_vector.fillna('xxnone')\n",
    "    demographics = []\n",
    "    \n",
    "    birthdate = pd.Timestamp(demograph_vector[0])\n",
    "    \n",
    "    demographics.extend(bday.numericalize      ([birthdate.day]))\n",
    "    demographics.extend(bmonth.numericalize    ([birthdate.month]))\n",
    "    demographics.extend(byear.numericalize     ([birthdate.year]))\n",
    "    demographics.extend(marital.numericalize   ([demograph_vector[1]]))\n",
    "    demographics.extend(race.numericalize      ([demograph_vector[2]]))\n",
    "    demographics.extend(ethnicity.numericalize ([demograph_vector[3]]))\n",
    "    demographics.extend(gender.numericalize    ([demograph_vector[4]]))\n",
    "    demographics.extend(birthplace.numericalize([demograph_vector[5]]))\n",
    "    demographics.extend(city.numericalize      ([demograph_vector[6]]))\n",
    "    demographics.extend(state.numericalize     ([demograph_vector[7]]))\n",
    "    demographics.extend(zipcode.numericalize   ([demograph_vector[8]]))\n",
    "    age = (demograph_vector[9] - age_mean) / age_std\n",
    "    \n",
    "    return demographics, age"
   ]
  },
  {
   "cell_type": "markdown",
   "metadata": {},
   "source": [
    "**Test - Codes & Offsets**"
   ]
  },
  {
   "cell_type": "code",
   "execution_count": null,
   "metadata": {},
   "outputs": [
    {
     "name": "stdout",
     "output_type": "stream",
     "text": [
      "CPU times: user 368 ms, sys: 3.63 ms, total: 371 ms\n",
      "Wall time: 369 ms\n"
     ]
    }
   ],
   "source": [
    "%time codenums, offsts = get_codenums_offsts(rec_dfs, vocab_list_1K.records_vocabs, age_start=0, age_stop=20, age_in_months=False)"
   ]
  },
  {
   "cell_type": "code",
   "execution_count": null,
   "metadata": {},
   "outputs": [],
   "source": [
    "med_num, med_o = codenums[3],offsts[3]"
   ]
  },
  {
   "cell_type": "code",
   "execution_count": null,
   "metadata": {},
   "outputs": [],
   "source": [
    "med_codes, med_offsts = collate_codes_offsts(p_med, age_start=0, age_stop=20)"
   ]
  },
  {
   "cell_type": "code",
   "execution_count": null,
   "metadata": {},
   "outputs": [],
   "source": [
    "assert len(med_num) == len(med_codes)\n",
    "assert med_o == p_med_offsts"
   ]
  },
  {
   "cell_type": "code",
   "execution_count": null,
   "metadata": {},
   "outputs": [
    {
     "data": {
      "text/plain": [
       "('562251||START', {'Amoxicillin 250 MG / Clavulanate 125 MG Oral Tablet'})"
      ]
     },
     "execution_count": null,
     "metadata": {},
     "output_type": "execute_result"
    }
   ],
   "source": [
    "med_vocab.textify(med_num)[2]"
   ]
  },
  {
   "cell_type": "code",
   "execution_count": null,
   "metadata": {},
   "outputs": [
    {
     "data": {
      "text/plain": [
       "['xxnone',\n",
       " 'xxnone',\n",
       " '562251||START',\n",
       " '562251||STOP',\n",
       " 'xxnone',\n",
       " 'xxnone',\n",
       " 'xxnone',\n",
       " 'xxnone',\n",
       " 'xxnone',\n",
       " '313782||START',\n",
       " '313782||STOP',\n",
       " 'xxnone',\n",
       " 'xxnone',\n",
       " 'xxnone',\n",
       " 'xxnone',\n",
       " 'xxnone',\n",
       " '313782||START',\n",
       " '313782||STOP',\n",
       " 'xxnone',\n",
       " '562251||START',\n",
       " '562251||STOP',\n",
       " 'xxnone',\n",
       " 'xxnone',\n",
       " 'xxnone']"
      ]
     },
     "execution_count": null,
     "metadata": {},
     "output_type": "execute_result"
    }
   ],
   "source": [
    "med_codes"
   ]
  },
  {
   "cell_type": "code",
   "execution_count": null,
   "metadata": {},
   "outputs": [
    {
     "data": {
      "text/plain": [
       "([0, 1, 2, 4, 5, 6, 7, 8, 9, 11, 12, 13, 14, 15, 16, 18, 19, 21, 22, 23],\n",
       " [0, 1, 2, 4, 5, 6, 7, 8, 9, 11, 12, 13, 14, 15, 16, 18, 19, 21, 22, 23])"
      ]
     },
     "execution_count": null,
     "metadata": {},
     "output_type": "execute_result"
    }
   ],
   "source": [
    "med_offsts, med_o"
   ]
  },
  {
   "cell_type": "code",
   "execution_count": null,
   "metadata": {},
   "outputs": [
    {
     "data": {
      "text/plain": [
       "(24, 20)"
      ]
     },
     "execution_count": null,
     "metadata": {},
     "output_type": "execute_result"
    }
   ],
   "source": [
    "len(med_codes),len(med_offsts)"
   ]
  },
  {
   "cell_type": "code",
   "execution_count": null,
   "metadata": {},
   "outputs": [],
   "source": [
    "alg_codes, alg_offsts = collate_codes_offsts(p_alg, age_start=0, age_stop=20)"
   ]
  },
  {
   "cell_type": "code",
   "execution_count": null,
   "metadata": {},
   "outputs": [
    {
     "data": {
      "text/plain": [
       "['xxnone',\n",
       " 'xxnone',\n",
       " 'xxnone',\n",
       " 'xxnone',\n",
       " 'xxnone',\n",
       " 'xxnone',\n",
       " 'xxnone',\n",
       " 'xxnone',\n",
       " 'xxnone',\n",
       " 'xxnone',\n",
       " 'xxnone',\n",
       " 'xxnone',\n",
       " 'xxnone',\n",
       " 'xxnone',\n",
       " 'xxnone',\n",
       " 'xxnone',\n",
       " 'xxnone',\n",
       " 'xxnone',\n",
       " 'xxnone',\n",
       " 'xxnone']"
      ]
     },
     "execution_count": null,
     "metadata": {},
     "output_type": "execute_result"
    }
   ],
   "source": [
    "alg_codes"
   ]
  },
  {
   "cell_type": "code",
   "execution_count": null,
   "metadata": {},
   "outputs": [
    {
     "data": {
      "text/plain": [
       "[0, 1, 2, 3, 4, 5, 6, 7, 8, 9, 10, 11, 12, 13, 14, 15, 16, 17, 18, 19]"
      ]
     },
     "execution_count": null,
     "metadata": {},
     "output_type": "execute_result"
    }
   ],
   "source": [
    "alg_offsts"
   ]
  },
  {
   "cell_type": "code",
   "execution_count": null,
   "metadata": {},
   "outputs": [],
   "source": [
    "obs_num, obs_o = codenums[0],offsts[0]"
   ]
  },
  {
   "cell_type": "code",
   "execution_count": null,
   "metadata": {},
   "outputs": [],
   "source": [
    "obs_codes, obs_offsts = collate_codes_offsts(p_obs, age_start=0, age_stop=20)"
   ]
  },
  {
   "cell_type": "code",
   "execution_count": null,
   "metadata": {},
   "outputs": [
    {
     "data": {
      "text/plain": [
       "(236, 20, 236, 20)"
      ]
     },
     "execution_count": null,
     "metadata": {},
     "output_type": "execute_result"
    }
   ],
   "source": [
    "len(obs_codes), len(obs_offsts), len(obs_num), len(obs_o)"
   ]
  },
  {
   "cell_type": "code",
   "execution_count": null,
   "metadata": {},
   "outputs": [],
   "source": [
    "assert len(obs_codes) == len(obs_num)\n",
    "assert obs_o == obs_offsts"
   ]
  },
  {
   "cell_type": "code",
   "execution_count": null,
   "metadata": {},
   "outputs": [
    {
     "name": "stdout",
     "output_type": "stream",
     "text": [
      "CPU times: user 560 ms, sys: 6.92 ms, total: 567 ms\n",
      "Wall time: 564 ms\n"
     ]
    }
   ],
   "source": [
    "%time codenums1, offsts1 = get_codenums_offsts(rec_dfs, vocab_list_1K.records_vocabs, age_start=20, age_stop=220, age_in_months=True)"
   ]
  },
  {
   "cell_type": "code",
   "execution_count": null,
   "metadata": {},
   "outputs": [
    {
     "name": "stdout",
     "output_type": "stream",
     "text": [
      "346\n",
      "200\n",
      "201\n",
      "202\n",
      "200\n",
      "200\n",
      "203\n",
      "200\n"
     ]
    }
   ],
   "source": [
    "for codenum, offst in zip(codenums1, offsts1):\n",
    "    print(len(codenum))\n",
    "    assert len(offst) == 200"
   ]
  },
  {
   "cell_type": "markdown",
   "metadata": {},
   "source": [
    "**Test - Demographics**"
   ]
  },
  {
   "cell_type": "code",
   "execution_count": null,
   "metadata": {},
   "outputs": [
    {
     "data": {
      "text/plain": [
       "birthdate          1934-11-27\n",
       "marital                     M\n",
       "race                    white\n",
       "ethnicity          portuguese\n",
       "gender                      F\n",
       "birthplace             Boston\n",
       "city               Foxborough\n",
       "state           Massachusetts\n",
       "zip                      2035\n",
       "age_now_days            30670\n",
       "Name: 0731de61-1a8b-4135-83c0-2ace696bcac8, dtype: object"
      ]
     },
     "execution_count": null,
     "metadata": {},
     "output_type": "execute_result"
    }
   ],
   "source": [
    "demograph_vector"
   ]
  },
  {
   "cell_type": "code",
   "execution_count": null,
   "metadata": {},
   "outputs": [
    {
     "data": {
      "text/plain": [
       "([28, 12, 36, 2, 2, 4, 3, 5, 4, 2, 4], 1.574773090930408)"
      ]
     },
     "execution_count": null,
     "metadata": {},
     "output_type": "execute_result"
    }
   ],
   "source": [
    "get_demographics(demograph_vector, vocab_list_1K.demographics_vocabs, vocab_list_1K.age_mean, vocab_list_1K.age_std)"
   ]
  },
  {
   "cell_type": "code",
   "execution_count": null,
   "metadata": {},
   "outputs": [],
   "source": [
    "dem_vector = ['1988-05-16','S',None,None,'F','North Adams','Marlborough','Massachusetts',1901,11141]"
   ]
  },
  {
   "cell_type": "code",
   "execution_count": null,
   "metadata": {},
   "outputs": [
    {
     "data": {
      "text/plain": [
       "0       1988-05-16\n",
       "1                S\n",
       "2             None\n",
       "3             None\n",
       "4                F\n",
       "5      North Adams\n",
       "6      Marlborough\n",
       "7    Massachusetts\n",
       "8             1901\n",
       "9            11141\n",
       "dtype: object"
      ]
     },
     "execution_count": null,
     "metadata": {},
     "output_type": "execute_result"
    }
   ],
   "source": [
    "dem_vector = pd.Series(dem_vector)\n",
    "dem_vector"
   ]
  },
  {
   "cell_type": "code",
   "execution_count": null,
   "metadata": {},
   "outputs": [
    {
     "data": {
      "text/plain": [
       "([17, 6, 90, 3, 0, 0, 3, 90, 8, 2, 48], -0.5053754917098182)"
      ]
     },
     "execution_count": null,
     "metadata": {},
     "output_type": "execute_result"
    }
   ],
   "source": [
    "get_demographics(dem_vector, vocab_list_1K.demographics_vocabs, vocab_list_1K.age_mean, vocab_list_1K.age_std)"
   ]
  },
  {
   "cell_type": "code",
   "execution_count": null,
   "metadata": {},
   "outputs": [
    {
     "data": {
      "text/plain": [
       "([20, 6, 112, 0, 2, 4, 3, 10, 9, 2, 9], -1.361550119558768)"
      ]
     },
     "execution_count": null,
     "metadata": {},
     "output_type": "execute_result"
    }
   ],
   "source": [
    "get_demographics(patient_demographics_df.loc['e8b8ebb1-a7b9-4ce8-8c6d-cfd74a284ebf'], vocab_list_1K.demographics_vocabs, \\\n",
    "                 vocab_list_1K.age_mean, vocab_list_1K.age_std) #has null"
   ]
  },
  {
   "cell_type": "code",
   "execution_count": null,
   "metadata": {},
   "outputs": [],
   "source": [
    "# vocab_list_1K.demographics_vocabs[10].ctoi"
   ]
  },
  {
   "cell_type": "markdown",
   "metadata": {},
   "source": [
    "## `ItemBase` - Patient"
   ]
  },
  {
   "cell_type": "markdown",
   "metadata": {},
   "source": [
    "- Based on the concept of `ItemBase` as used in fastai v1.x, in our case a single patient"
   ]
  },
  {
   "cell_type": "code",
   "execution_count": null,
   "metadata": {},
   "outputs": [],
   "source": [
    "#export\n",
    "class Patient():\n",
    "    '''Class defining a patient object that holds all numericalized / transformed data for a single patient'''\n",
    "    def __init__(self, nums, offsts, demographics, age_now, birthdate, diabetes, stroke, alzheimers, coronaryheart, ptid):\n",
    "        self.obs_nums  = torch.tensor(nums[0])\n",
    "        self.alg_nums  = torch.tensor(nums[1])\n",
    "        self.crpl_nums = torch.tensor(nums[2])\n",
    "        self.med_nums  = torch.tensor(nums[3])\n",
    "        self.img_nums  = torch.tensor(nums[4])\n",
    "        self.proc_nums = torch.tensor(nums[5])\n",
    "        self.cnd_nums  = torch.tensor(nums[6])\n",
    "        self.imm_nums  = torch.tensor(nums[7])\n",
    "\n",
    "        self.obs_offsts  = torch.tensor(offsts[0])\n",
    "        self.alg_offsts  = torch.tensor(offsts[1])\n",
    "        self.crpl_offsts = torch.tensor(offsts[2])\n",
    "        self.med_offsts  = torch.tensor(offsts[3])\n",
    "        self.img_offsts  = torch.tensor(offsts[4])\n",
    "        self.proc_offsts = torch.tensor(offsts[5])\n",
    "        self.cnd_offsts  = torch.tensor(offsts[6])\n",
    "        self.imm_offsts  = torch.tensor(offsts[7])\n",
    "        \n",
    "        self.demographics = torch.tensor(demographics)\n",
    "        self.age_now      = torch.tensor([age_now])\n",
    "\n",
    "        self.ptid = ptid\n",
    "        self.birthdate = birthdate\n",
    "        self.diabetes = diabetes\n",
    "        self.stroke = stroke\n",
    "        self.alzheimers = alzheimers\n",
    "        self.coronaryheart = coronaryheart\n",
    "    \n",
    "    def __repr__(self):\n",
    "        return f'ptid:{self.ptid}, birthdate:{self.birthdate}, diabetes:{self.diabetes}, device:{self.alg_nums.device}'\n",
    "    \n",
    "    @classmethod\n",
    "    def create(cls, rec_dfs, demograph, vocablist, ptid, birthdate, diabetes, stroke, alzheimers, coronaryheart, age_start, age_stop, age_in_months):\n",
    "        '''Lookup codes, numericalize and then create patient object - given a patient id'''\n",
    "        codenums, offsts  = get_codenums_offsts(rec_dfs, vocablist.records_vocabs, age_start, age_stop, age_in_months)\n",
    "        demographics, age_now = get_demographics(demograph, vocablist.demographics_vocabs, vocablist.age_mean, vocablist.age_std)\n",
    "        return cls(codenums, offsts, demographics, age_now, birthdate, diabetes, stroke, alzheimers, coronaryheart, ptid)\n",
    "    \n",
    "    def to_gpu(self):\n",
    "        '''Put this patient object on GPU'''\n",
    "        self.obs_nums  = self.obs_nums.cuda()\n",
    "        self.alg_nums  = self.alg_nums.cuda()\n",
    "        self.crpl_nums = self.crpl_nums.cuda()\n",
    "        self.med_nums  = self.med_nums.cuda()\n",
    "        self.img_nums  = self.img_nums.cuda()\n",
    "        self.proc_nums = self.proc_nums.cuda()\n",
    "        self.cnd_nums  = self.cnd_nums.cuda()\n",
    "        self.imm_nums  = self.imm_nums.cuda()\n",
    "\n",
    "        self.obs_offsts  = self.obs_offsts.cuda()\n",
    "        self.alg_offsts  = self.alg_offsts.cuda()\n",
    "        self.crpl_offsts = self.crpl_offsts.cuda()\n",
    "        self.med_offsts  = self.med_offsts.cuda()\n",
    "        self.img_offsts  = self.img_offsts.cuda()\n",
    "        self.proc_offsts = self.proc_offsts.cuda()\n",
    "        self.cnd_offsts  = self.cnd_offsts.cuda()\n",
    "        self.imm_offsts  = self.imm_offsts.cuda()\n",
    "        \n",
    "        self.demographics = self.demographics.cuda()\n",
    "        self.age_now      = self.age_now.cuda()\n",
    "        \n",
    "        return self"
   ]
  },
  {
   "cell_type": "code",
   "execution_count": null,
   "metadata": {},
   "outputs": [
    {
     "data": {
      "text/markdown": [
       "<h4 id=\"Patient.create\" class=\"doc_header\"><code>Patient.create</code><a href=\"__main__.py#L36\" class=\"source_link\" style=\"float:right\">[source]</a></h4>\n",
       "\n",
       "> <code>Patient.create</code>(**`rec_dfs`**, **`demograph`**, **`vocablist`**, **`ptid`**, **`birthdate`**, **`diabetes`**, **`stroke`**, **`alzheimers`**, **`coronaryheart`**, **`age_start`**, **`age_stop`**, **`age_in_months`**)\n",
       "\n",
       "Lookup codes, numericalize and then create patient object - given a patient id"
      ],
      "text/plain": [
       "<IPython.core.display.Markdown object>"
      ]
     },
     "metadata": {},
     "output_type": "display_data"
    }
   ],
   "source": [
    "show_doc(Patient.create)"
   ]
  },
  {
   "cell_type": "code",
   "execution_count": null,
   "metadata": {},
   "outputs": [
    {
     "data": {
      "text/markdown": [
       "<h4 id=\"Patient.to_gpu\" class=\"doc_header\"><code>Patient.to_gpu</code><a href=\"__main__.py#L43\" class=\"source_link\" style=\"float:right\">[source]</a></h4>\n",
       "\n",
       "> <code>Patient.to_gpu</code>()\n",
       "\n",
       "Put this patient object on GPU"
      ],
      "text/plain": [
       "<IPython.core.display.Markdown object>"
      ]
     },
     "metadata": {},
     "output_type": "display_data"
    }
   ],
   "source": [
    "show_doc(Patient.to_gpu)"
   ]
  },
  {
   "cell_type": "markdown",
   "metadata": {},
   "source": [
    "**Tests**"
   ]
  },
  {
   "cell_type": "code",
   "execution_count": null,
   "metadata": {},
   "outputs": [
    {
     "name": "stdout",
     "output_type": "stream",
     "text": [
      "CPU times: user 368 ms, sys: 0 ns, total: 368 ms\n",
      "Wall time: 372 ms\n"
     ]
    }
   ],
   "source": [
    "%time p1 = Patient.create(rec_dfs, demograph_vector, vocab_list_1K, tst_ptid, tst_pt_birthdate, tst_pt_diabetes, \\\n",
    "                                  tst_pt_stroke, tst_pt_alzheimers, tst_pt_coronaryheart, age_start=0, age_stop=20, age_in_months=False)"
   ]
  },
  {
   "cell_type": "code",
   "execution_count": null,
   "metadata": {},
   "outputs": [
    {
     "data": {
      "text/plain": [
       "236"
      ]
     },
     "execution_count": null,
     "metadata": {},
     "output_type": "execute_result"
    }
   ],
   "source": [
    "len(p1.obs_nums)"
   ]
  },
  {
   "cell_type": "code",
   "execution_count": null,
   "metadata": {},
   "outputs": [],
   "source": [
    "assert len(p1.obs_nums) == len(obs_codes)"
   ]
  },
  {
   "cell_type": "code",
   "execution_count": null,
   "metadata": {},
   "outputs": [
    {
     "data": {
      "text/plain": [
       "tensor([  0,  45,  63,  77,  91,  98, 116, 123, 130, 137, 144, 151, 169, 176,\n",
       "        183, 190, 197, 215, 222, 229])"
      ]
     },
     "execution_count": null,
     "metadata": {},
     "output_type": "execute_result"
    }
   ],
   "source": [
    "p1.obs_offsts"
   ]
  },
  {
   "cell_type": "code",
   "execution_count": null,
   "metadata": {},
   "outputs": [
    {
     "data": {
      "text/plain": [
       "(False, '0731de61-1a8b-4135-83c0-2ace696bcac8', '1934-11-27')"
      ]
     },
     "execution_count": null,
     "metadata": {},
     "output_type": "execute_result"
    }
   ],
   "source": [
    "p1.diabetes, p1.ptid, p1.birthdate"
   ]
  },
  {
   "cell_type": "code",
   "execution_count": null,
   "metadata": {},
   "outputs": [
    {
     "data": {
      "text/plain": [
       "ptid:0731de61-1a8b-4135-83c0-2ace696bcac8, birthdate:1934-11-27, diabetes:False, device:cpu"
      ]
     },
     "execution_count": null,
     "metadata": {},
     "output_type": "execute_result"
    }
   ],
   "source": [
    "p1"
   ]
  },
  {
   "cell_type": "code",
   "execution_count": null,
   "metadata": {},
   "outputs": [
    {
     "data": {
      "text/plain": [
       "tensor([28, 12, 36,  2,  2,  4,  3,  5,  4,  2,  4])"
      ]
     },
     "execution_count": null,
     "metadata": {},
     "output_type": "execute_result"
    }
   ],
   "source": [
    "p1.demographics"
   ]
  },
  {
   "cell_type": "code",
   "execution_count": null,
   "metadata": {},
   "outputs": [
    {
     "data": {
      "text/plain": [
       "tensor([1.5748], dtype=torch.float64)"
      ]
     },
     "execution_count": null,
     "metadata": {},
     "output_type": "execute_result"
    }
   ],
   "source": [
    "p1.age_now"
   ]
  },
  {
   "cell_type": "code",
   "execution_count": null,
   "metadata": {},
   "outputs": [
    {
     "data": {
      "text/plain": [
       "(torch.Size([11]), torch.Size([1]))"
      ]
     },
     "execution_count": null,
     "metadata": {},
     "output_type": "execute_result"
    }
   ],
   "source": [
    "p1.demographics.shape, p1.age_now.shape"
   ]
  },
  {
   "cell_type": "code",
   "execution_count": null,
   "metadata": {},
   "outputs": [
    {
     "data": {
      "text/plain": [
       "tensor([28, 12, 36,  2,  2,  4,  3,  5,  4,  2,  4,  1])"
      ]
     },
     "execution_count": null,
     "metadata": {},
     "output_type": "execute_result"
    }
   ],
   "source": [
    "torch.cat((p1.demographics, p1.age_now.type(torch.LongTensor)), dim=0)"
   ]
  },
  {
   "cell_type": "code",
   "execution_count": null,
   "metadata": {},
   "outputs": [
    {
     "data": {
      "text/plain": [
       "ptid:0731de61-1a8b-4135-83c0-2ace696bcac8, birthdate:1934-11-27, diabetes:False, device:cuda:0"
      ]
     },
     "execution_count": null,
     "metadata": {},
     "output_type": "execute_result"
    }
   ],
   "source": [
    "p1.to_gpu()"
   ]
  },
  {
   "cell_type": "code",
   "execution_count": null,
   "metadata": {},
   "outputs": [
    {
     "data": {
      "text/plain": [
       "(False,\n",
       " '0731de61-1a8b-4135-83c0-2ace696bcac8',\n",
       " tensor([  0,  45,  63,  77,  91,  98, 116, 123, 130, 137, 144, 151, 169, 176,\n",
       "         183, 190, 197, 215, 222, 229], device='cuda:0'),\n",
       " tensor([0, 0, 0, 0, 0, 0, 0, 0, 0, 0, 0, 0, 0, 0, 0, 0, 0, 0, 0, 0],\n",
       "        device='cuda:0'))"
      ]
     },
     "execution_count": null,
     "metadata": {},
     "output_type": "execute_result"
    }
   ],
   "source": [
    "p1.diabetes, p1.ptid, p1.obs_offsts, p1.alg_nums"
   ]
  },
  {
   "cell_type": "code",
   "execution_count": null,
   "metadata": {},
   "outputs": [
    {
     "data": {
      "text/plain": [
       "(tensor([28, 12, 36,  2,  2,  4,  3,  5,  4,  2,  4], device='cuda:0'),\n",
       " tensor([1.5748], device='cuda:0', dtype=torch.float64))"
      ]
     },
     "execution_count": null,
     "metadata": {},
     "output_type": "execute_result"
    }
   ],
   "source": [
    "p1.demographics, p1.age_now"
   ]
  },
  {
   "cell_type": "markdown",
   "metadata": {},
   "source": [
    "## `ItemList` - PatientList"
   ]
  },
  {
   "cell_type": "markdown",
   "metadata": {},
   "source": [
    "- Based on the concept of `ItemList` as used in fastai v1.x, which is a list of `ItemBase` objects\n",
    "- In our case `PatientList` is a list of `Patient` objects"
   ]
  },
  {
   "cell_type": "markdown",
   "metadata": {},
   "source": [
    "**Multiprocessing Implementation**"
   ]
  },
  {
   "cell_type": "markdown",
   "metadata": {},
   "source": [
    "- Chunk total number of patients based on number of cores available on machine\n",
    "- Send each chunk of patients into a core\n",
    "    - Let the parallelized sub proc in each core load all data and do the heavy lifting\n",
    "    - The main proc just sends a list of indxs (patients) to work on"
   ]
  },
  {
   "cell_type": "code",
   "execution_count": null,
   "metadata": {},
   "outputs": [],
   "source": [
    "#exports\n",
    "def get_pckl_dir(path, split, age_start, age_stop, age_in_months):\n",
    "    '''Util function to construct pickle dir name - for persisting transformed patient lists'''\n",
    "    dir_name = ''\n",
    "    dir_name += 'months' if age_in_months else 'years'\n",
    "    dir_name += f'_{age_start}_to_{age_stop}'\n",
    "    pckl_dir = Path(f'{path}/processed/{dir_name}/{split}')\n",
    "    return pckl_dir"
   ]
  },
  {
   "cell_type": "code",
   "execution_count": null,
   "metadata": {},
   "outputs": [],
   "source": [
    "#export \n",
    "import torch.multiprocessing as multiprocessing\n",
    "multiprocessing.set_sharing_strategy('file_system')\n",
    "cpu_cnt = int(multiprocessing.cpu_count())\n",
    "\n",
    "class PatientList():\n",
    "    '''A class to hold a list of `Patient` objects'''\n",
    "    def __init__(self, pts, path, split, age_start, age_stop, age_in_months):\n",
    "        self.items     = pts\n",
    "        self.base_path = path\n",
    "        self.split     = split \n",
    "        self.age_start = age_start\n",
    "        self.age_stop  = age_stop\n",
    "        self.age_type  = 'months' if age_in_months else 'years'\n",
    "\n",
    "    def __len__(self): return len(self.items)\n",
    "    def __iter__(self): return iter(self.items)\n",
    "    def __getitem__(self, idx):\n",
    "        if isinstance(idx, (int,slice)): return self.items[idx]\n",
    "        if isinstance(idx[0],bool):\n",
    "            assert len(idx)==len(self) # bool mask\n",
    "            return [o for m,o in zip(idx,self.items) if m]\n",
    "        return [self.items[i] for i in idx]\n",
    "    def __repr__(self):\n",
    "        res  = f'{self.__class__.__name__} ({len(self)} items)\\n'\n",
    "        res += f'base path:{self.base_path}; split:{self.split}; age span:{self.age_stop - self.age_start} {self.age_type}\\n'\n",
    "        res += f'age_start:{self.age_start}; age_stop:{self.age_stop}; age_type:{self.age_type}\\n'\n",
    "        for item in self.items[:10]:\n",
    "            res += f'{item.__repr__()}\\n'\n",
    "        if len(self)>10: res = res[:-1]+ '...]'\n",
    "        return res\n",
    "\n",
    "    def _create_pts_chunk(indx_chnk, all_dfs, vocablist, pckl_dir, age_start, age_stop, age_in_months, verbose):\n",
    "        '''Parallelized function to run on one core and transform a single chunk of patients and save'''        \n",
    "        pckl_f = open(f'{pckl_dir}/patients_{indx_chnk[0]}_{indx_chnk[-1]}.ptlist', 'wb')\n",
    "        pts = []\n",
    "         \n",
    "        for indx in indx_chnk:\n",
    "            vals = all_dfs[0].iloc[indx].values\n",
    "            ptid, birthdate = vals[0], vals[1]\n",
    "            diabetes, stroke, alzheimers, coronaryheart = vals[2], vals[4], vals[6], vals[8]\n",
    "            \n",
    "            rec_dfs = []\n",
    "            for rec_df in all_dfs[2:]:\n",
    "                try:\n",
    "                    rec_dfs.append(rec_df.loc[[ptid]])\n",
    "                except KeyError:\n",
    "                    rec_dfs.append(pd.DataFrame())\n",
    "            \n",
    "            demograph = all_dfs[1].loc[ptid]\n",
    "            pts.append(Patient.create(rec_dfs, demograph, vocablist, ptid, birthdate, diabetes, stroke, alzheimers, coronaryheart, age_start, age_stop, age_in_months))\n",
    "        \n",
    "        pickle.dump(pts,pckl_f)\n",
    "        pckl_f.close()\n",
    "        if verbose: print(f'{multiprocessing.current_process().name}-- completed {len(indx_chnk)} patients')\n",
    "        return len(pts)\n",
    "\n",
    "    @classmethod\n",
    "    def create_save(cls, all_dfs, vocablist, pckl_dir, age_start, age_stop, age_in_months, verbose=False):\n",
    "        '''Function to parellelize (based on available CPU cores), transformation for all patients in given dataset and save `PatientList` object'''\n",
    "        pckl_dir.mkdir(parents=True, exist_ok=True)\n",
    "        pts, indx_chnks = [], []\n",
    "        \n",
    "        total_pts = len(all_dfs[0])\n",
    "        all_indxs = np.arange(total_pts)\n",
    "        chnk_sz = total_pts // (cpu_cnt-1)\n",
    "        for i in range(0, total_pts, chnk_sz):\n",
    "            indx_chnks.append(list(all_indxs[i:i+chnk_sz]))\n",
    "        \n",
    "        pool = multiprocessing.Pool(processes=cpu_cnt)\n",
    "        parallelize = partial(cls._create_pts_chunk, all_dfs=all_dfs, vocablist=vocablist, pckl_dir=pckl_dir, age_start=age_start, age_stop=age_stop, age_in_months=age_in_months, verbose=verbose)\n",
    "        all_chunks = pool.map(parallelize, indx_chnks)\n",
    "        pool.close()\n",
    "        \n",
    "        print(f'{sum(all_chunks)} total patients completed, saved patient list to {pckl_dir}')\n",
    "\n",
    "    @classmethod\n",
    "    def load(cls, path, split, age_start, age_stop, age_in_months):\n",
    "        '''Load previously created `PatientList` object'''\n",
    "        pckl_dir = get_pckl_dir(path, split, age_start, age_stop, age_in_months)\n",
    "        ptlist = []\n",
    "        for file in Path(pckl_dir).glob(\"*.ptlist\"):\n",
    "            with open(file, 'rb') as infile:\n",
    "                ptlist.extend(pickle.load(infile))\n",
    "                \n",
    "        return(cls(ptlist, path, split, age_start, age_stop, age_in_months))"
   ]
  },
  {
   "cell_type": "code",
   "execution_count": null,
   "metadata": {},
   "outputs": [
    {
     "data": {
      "text/markdown": [
       "<h4 id=\"PatientList.create_save\" class=\"doc_header\"><code>PatientList.create_save</code><a href=\"__main__.py#L58\" class=\"source_link\" style=\"float:right\">[source]</a></h4>\n",
       "\n",
       "> <code>PatientList.create_save</code>(**`all_dfs`**, **`vocablist`**, **`pckl_dir`**, **`age_start`**, **`age_stop`**, **`age_in_months`**, **`verbose`**=*`False`*)\n",
       "\n",
       "Function to parellelize (based on available CPU cores), transformation for all patients in given dataset and save [`PatientList`](/lemonade/preprocessing_transform#PatientList) object"
      ],
      "text/plain": [
       "<IPython.core.display.Markdown object>"
      ]
     },
     "metadata": {},
     "output_type": "display_data"
    }
   ],
   "source": [
    "show_doc(PatientList.create_save)"
   ]
  },
  {
   "cell_type": "code",
   "execution_count": null,
   "metadata": {},
   "outputs": [
    {
     "data": {
      "text/markdown": [
       "<h4 id=\"PatientList._create_pts_chunk\" class=\"doc_header\"><code>PatientList._create_pts_chunk</code><a href=\"__main__.py#L33\" class=\"source_link\" style=\"float:right\">[source]</a></h4>\n",
       "\n",
       "> <code>PatientList._create_pts_chunk</code>(**`indx_chnk`**, **`all_dfs`**, **`vocablist`**, **`pckl_dir`**, **`age_start`**, **`age_stop`**, **`age_in_months`**, **`verbose`**)\n",
       "\n",
       "Parallelized function to run on one core and transform a single chunk of patients and save"
      ],
      "text/plain": [
       "<IPython.core.display.Markdown object>"
      ]
     },
     "metadata": {},
     "output_type": "display_data"
    }
   ],
   "source": [
    "show_doc(PatientList._create_pts_chunk)"
   ]
  },
  {
   "cell_type": "code",
   "execution_count": null,
   "metadata": {},
   "outputs": [
    {
     "data": {
      "text/markdown": [
       "<h4 id=\"PatientList.load\" class=\"doc_header\"><code>PatientList.load</code><a href=\"__main__.py#L77\" class=\"source_link\" style=\"float:right\">[source]</a></h4>\n",
       "\n",
       "> <code>PatientList.load</code>(**`path`**, **`split`**, **`age_start`**, **`age_stop`**, **`age_in_months`**)\n",
       "\n",
       "Load previously created [`PatientList`](/lemonade/preprocessing_transform#PatientList) object"
      ],
      "text/plain": [
       "<IPython.core.display.Markdown object>"
      ]
     },
     "metadata": {},
     "output_type": "display_data"
    }
   ],
   "source": [
    "show_doc(PatientList.load)"
   ]
  },
  {
   "cell_type": "markdown",
   "metadata": {},
   "source": [
    "**Tests**"
   ]
  },
  {
   "cell_type": "code",
   "execution_count": null,
   "metadata": {},
   "outputs": [],
   "source": [
    "tst_pckl_dir = get_pckl_dir(PATH_1K, split='train', age_start=0, age_stop=20, age_in_months=False)"
   ]
  },
  {
   "cell_type": "code",
   "execution_count": null,
   "metadata": {},
   "outputs": [
    {
     "data": {
      "text/plain": [
       "Path('datasets/synthea/1K/processed/years_0_to_20/train')"
      ]
     },
     "execution_count": null,
     "metadata": {},
     "output_type": "execute_result"
    }
   ],
   "source": [
    "tst_pckl_dir"
   ]
  },
  {
   "cell_type": "code",
   "execution_count": null,
   "metadata": {},
   "outputs": [
    {
     "name": "stdout",
     "output_type": "stream",
     "text": [
      "664 total patients completed, saved patient list to datasets/synthea/1K/processed/years_0_to_20/train\n",
      "CPU times: user 1.89 s, sys: 633 ms, total: 2.52 s\n",
      "Wall time: 19.7 s\n"
     ]
    }
   ],
   "source": [
    "%time PatientList.create_save(all_dfs, vocab_list_1K, tst_pckl_dir, age_start=0, age_stop=20, age_in_months=False)"
   ]
  },
  {
   "cell_type": "code",
   "execution_count": null,
   "metadata": {},
   "outputs": [],
   "source": [
    "#export\n",
    "def create_all_ptlists(path:Path, age_start:int, age_stop:int, age_in_months:bool, vocab_path:Path=None, verbose:bool=False, delete_existing:bool=True):\n",
    "    '''Create and save `PatientList`s for train, valid and test given dataset path'''\n",
    "    if vocab_path is None: vocab_path = path\n",
    "    all_dfs_splits = load_cleaned_ehrdata(path) #train_dfs, valid_dfs, test_dfs\n",
    "    splits = ['train', 'valid', 'test']\n",
    "    vocablist = EhrVocabList.load(vocab_path)\n",
    "    \n",
    "    for all_dfs, split in zip(all_dfs_splits, splits):\n",
    "        pckl_dir = get_pckl_dir(path, split, age_start, age_stop, age_in_months)\n",
    "        if delete_existing:\n",
    "            for file in Path(pckl_dir).glob(\"*.ptlist\"):\n",
    "                file.unlink()\n",
    "        PatientList.create_save(all_dfs, vocablist, pckl_dir, age_start, age_stop, age_in_months, verbose)"
   ]
  },
  {
   "cell_type": "markdown",
   "metadata": {},
   "source": [
    "**Tests**"
   ]
  },
  {
   "cell_type": "code",
   "execution_count": null,
   "metadata": {},
   "outputs": [
    {
     "name": "stdout",
     "output_type": "stream",
     "text": [
      "664 total patients completed, saved patient list to datasets/synthea/1K/processed/months_240_to_360/train\n",
      "222 total patients completed, saved patient list to datasets/synthea/1K/processed/months_240_to_360/valid\n",
      "222 total patients completed, saved patient list to datasets/synthea/1K/processed/months_240_to_360/test\n",
      "CPU times: user 3.51 s, sys: 1.66 s, total: 5.17 s\n",
      "Wall time: 24.4 s\n"
     ]
    }
   ],
   "source": [
    "%time create_all_ptlists(PATH_1K, age_start=240, age_stop=360, age_in_months=True) #20 to 30 yrs in mos (seq_len = 120)"
   ]
  },
  {
   "cell_type": "markdown",
   "metadata": {},
   "source": [
    "**Other examples**\n",
    "\n",
    "```python\n",
    "%time create_all_ptlists(PATH_1K, age_start=0, age_stop=20, age_in_months=False, verbose=False)\n",
    "```\n",
    "```\n",
    "664 total patients completed, saved patient list to datasets/synthea/1K/processed/years_0_to_20/train\n",
    "222 total patients completed, saved patient list to datasets/synthea/1K/processed/years_0_to_20/valid\n",
    "222 total patients completed, saved patient list to datasets/synthea/1K/processed/years_0_to_20/test\n",
    "CPU times: user 3.66 s, sys: 1.98 s, total: 5.64 s\n",
    "Wall time: 32.4 s\n",
    "```\n",
    "```python\n",
    "%time create_all_ptlists(PATH_1K, age_start=0, age_stop=35, age_in_months=False, verbose=False)\n",
    "```\n",
    "```\n",
    "664 total patients completed, saved patient list to datasets/synthea/1K/processed/years_0_to_35/train\n",
    "222 total patients completed, saved patient list to datasets/synthea/1K/processed/years_0_to_35/valid\n",
    "222 total patients completed, saved patient list to datasets/synthea/1K/processed/years_0_to_35/test\n",
    "CPU times: user 3.66 s, sys: 1.93 s, total: 5.59 s\n",
    "Wall time: 40.2 s\n",
    "```\n",
    "```python\n",
    "%time create_all_ptlists(PATH_1K, age_start=120, age_stop=360, age_in_months=True) #10 to 30 yrs in mos (seq_len = 240)\n",
    "```\n",
    "```\n",
    "664 total patients completed, saved patient list to datasets/synthea/1K/processed/months_120_to_360/train\n",
    "222 total patients completed, saved patient list to datasets/synthea/1K/processed/months_120_to_360/valid\n",
    "222 total patients completed, saved patient list to datasets/synthea/1K/processed/months_120_to_360/test\n",
    "CPU times: user 3.84 s, sys: 1.98 s, total: 5.82 s\n",
    "Wall time: 46.8 s\n",
    "```"
   ]
  },
  {
   "cell_type": "code",
   "execution_count": null,
   "metadata": {},
   "outputs": [],
   "source": [
    "ptlist_1K = PatientList.load(PATH_1K, 'train', age_start=240, age_stop=360, age_in_months=True) "
   ]
  },
  {
   "cell_type": "code",
   "execution_count": null,
   "metadata": {},
   "outputs": [
    {
     "data": {
      "text/plain": [
       "664"
      ]
     },
     "execution_count": null,
     "metadata": {},
     "output_type": "execute_result"
    }
   ],
   "source": [
    "len(ptlist_1K)"
   ]
  },
  {
   "cell_type": "code",
   "execution_count": null,
   "metadata": {},
   "outputs": [
    {
     "data": {
      "text/plain": [
       "PatientList (664 items)\n",
       "base path:./datasets/synthea/1K; split:train; age span:120 months\n",
       "age_start:240; age_stop:360; age_type:months\n",
       "ptid:12b42348-29bb-4cf4-b878-d419a4c8f067, birthdate:1951-09-04, diabetes:False, device:cpu\n",
       "ptid:4c59df3b-042b-42c2-901a-3783d6d77919, birthdate:1979-09-18, diabetes:False, device:cpu\n",
       "ptid:8f07e577-7ab4-4e89-ae98-6d394b3929a9, birthdate:1967-01-13, diabetes:False, device:cpu\n",
       "ptid:653753d9-a52f-4ef3-b285-bdc3c671293c, birthdate:1971-12-26, diabetes:False, device:cpu\n",
       "ptid:1b801001-0bf9-4ad9-b175-9de9bc2d905f, birthdate:1979-11-26, diabetes:False, device:cpu\n",
       "ptid:da6203bc-bb24-4628-9aed-2b851571ee36, birthdate:1999-03-14, diabetes:False, device:cpu\n",
       "ptid:b02cd0ff-e891-4caa-b69b-2da7cb267578, birthdate:1957-09-12, diabetes:True, device:cpu\n",
       "ptid:49a859d3-318a-4212-864e-cf7d17f5032c, birthdate:2006-04-24, diabetes:False, device:cpu\n",
       "ptid:cb9293c4-243f-427e-ba70-6834c5872be6, birthdate:1952-10-21, diabetes:True, device:cpu\n",
       "ptid:cf82e51b-5c34-4010-b904-1583b009ebc2, birthdate:2010-08-22, diabetes:False, device:cpu...]"
      ]
     },
     "execution_count": null,
     "metadata": {},
     "output_type": "execute_result"
    }
   ],
   "source": [
    "ptlist_1K"
   ]
  },
  {
   "cell_type": "code",
   "execution_count": null,
   "metadata": {},
   "outputs": [
    {
     "data": {
      "text/plain": [
       "(170, 120)"
      ]
     },
     "execution_count": null,
     "metadata": {},
     "output_type": "execute_result"
    }
   ],
   "source": [
    "len(ptlist_1K.items[300].obs_nums), len(ptlist_1K.items[200].obs_offsts)"
   ]
  },
  {
   "cell_type": "code",
   "execution_count": null,
   "metadata": {},
   "outputs": [
    {
     "data": {
      "text/plain": [
       "tensor([  0,   0,   0,   0,   0,   0,   0,   0,   0,   0,   0,   0,   0,   0,\n",
       "          0,   0,   0,   0,   0,   0,   0,   0,   0,   0,   5,   8,  14,  88,\n",
       "         75,  79,  18,  25,  30,  36,  40,  42,  50,  55,  61,  65,  69,  95,\n",
       "        497,   0,   0,   0,   0,   0,   0,   0,   0,   0,   0,   0,   0,   0,\n",
       "          0,   0,   0,   0,   0,   0,   0,   0,   0,   0,   0,   0,   0,   0,\n",
       "          0,   0,   0,   0,   0,   0,   0,   0,   5,   8,  14,  88,  75,  79,\n",
       "         96, 497,   0,   0,   0,   0,   0,   0,   0,   0,   0,   0,   0,   0,\n",
       "          0,   0,   0,   0,   0,   0,   0,   0,   0,   0,   0,   0,   0,   0,\n",
       "          0,   0,   0,   0,   0,   0,   0,   0,   0,   5,   7,  14,  88,  74,\n",
       "         80,  20,  24,  30,  35,  39,  46,  48,  53,  58,  65,  67,  94, 497,\n",
       "          5,   8,  14,  88,  75,  81,  95, 497,   0,   0,   0,   0,   0,   0,\n",
       "          0,   0,   0,   0,   0,   0,   0,   0,   0,   0,   0,   0,   0,   0,\n",
       "          0,   0])"
      ]
     },
     "execution_count": null,
     "metadata": {},
     "output_type": "execute_result"
    }
   ],
   "source": [
    "ptlist_1K.items[300].obs_nums"
   ]
  },
  {
   "cell_type": "code",
   "execution_count": null,
   "metadata": {},
   "outputs": [
    {
     "data": {
      "text/plain": [
       "tensor([0, 0, 0, 0, 0, 0, 0, 0, 0, 0, 0, 0, 0, 0, 0, 0, 0, 0, 0, 0, 0, 0, 0, 0,\n",
       "        2, 0, 0, 0, 0, 0, 0, 0, 0, 0, 0, 0, 0, 0, 0, 0, 0, 0, 0, 0, 0, 0, 0, 0,\n",
       "        0, 0, 0, 0, 0, 0, 0, 0, 0, 0, 0, 0, 0, 0, 0, 0, 0, 0, 0, 0, 0, 0, 0, 0,\n",
       "        0, 0, 0, 0, 0, 0, 0, 0, 0, 0, 0, 0, 0, 0, 0, 0, 0, 0, 0, 0, 0, 0, 0, 0,\n",
       "        2, 0, 0, 0, 0, 0, 0, 0, 0, 0, 0, 0, 0, 0, 0, 0, 0, 0, 0, 0, 0, 0, 0, 0])"
      ]
     },
     "execution_count": null,
     "metadata": {},
     "output_type": "execute_result"
    }
   ],
   "source": [
    "ptlist_1K[300].proc_nums"
   ]
  },
  {
   "cell_type": "markdown",
   "metadata": {},
   "source": [
    "## Do All Preprocessing"
   ]
  },
  {
   "cell_type": "code",
   "execution_count": null,
   "metadata": {},
   "outputs": [],
   "source": [
    "#export\n",
    "def preprocess_ehr_dataset(path, today, valid_pct=0.2, test_pct=0.2, obs_vocab_buckets=5,\n",
    "                           age_start=0, age_stop=20, age_in_months=False, vocab_path=None, from_raw_data=False):\n",
    "    '''Util function to do all preprocessing - split & clean raw dataset, create vocab lists and create patient lists'''\n",
    "    if from_raw_data:\n",
    "        print('------------------- Splitting and cleaning raw dataset -------------------')\n",
    "        clean_raw_ehrdata(path, valid_pct, test_pct, today)\n",
    "        print('------------------- Creating vocab lists -------------------')\n",
    "        EhrVocabList.create(path, num_buckets=obs_vocab_buckets).save()\n",
    "    else:\n",
    "        print('Since data is pre-cleaned, skipping Cleaning, Splitting and Vocab-creation')\n",
    " \n",
    "    print('------------------- Creating patient lists -------------------')\n",
    "    create_all_ptlists(path, age_start, age_stop, age_in_months, vocab_path)"
   ]
  },
  {
   "cell_type": "markdown",
   "metadata": {},
   "source": [
    "# Export"
   ]
  },
  {
   "cell_type": "code",
   "execution_count": null,
   "metadata": {},
   "outputs": [
    {
     "name": "stdout",
     "output_type": "stream",
     "text": [
      "Converted 01_preprocessing_clean.ipynb.\n",
      "Converted 02_preprocessing_vocab.ipynb.\n",
      "Converted 03_preprocessing_transform.ipynb.\n",
      "Converted index.ipynb.\n"
     ]
    }
   ],
   "source": [
    "#hide\n",
    "from nbdev.export import *\n",
    "notebook2script()"
   ]
  },
  {
   "cell_type": "code",
   "execution_count": null,
   "metadata": {},
   "outputs": [],
   "source": []
  }
 ],
 "metadata": {
  "kernelspec": {
   "display_name": "Python 3",
   "language": "python",
   "name": "python3"
  }
 },
 "nbformat": 4,
 "nbformat_minor": 2
}
