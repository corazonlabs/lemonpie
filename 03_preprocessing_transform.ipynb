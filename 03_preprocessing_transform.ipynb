{
 "cells": [
  {
   "cell_type": "code",
   "execution_count": null,
   "metadata": {},
   "outputs": [],
   "source": [
    "# default_exp preprocessing.transform"
   ]
  },
  {
   "cell_type": "code",
   "execution_count": null,
   "metadata": {},
   "outputs": [],
   "source": [
    "#all_slow"
   ]
  },
  {
   "cell_type": "markdown",
   "metadata": {},
   "source": [
    "# Transform\n",
    "> Classes and functions to transform cleaned EHR dataset into `Patient` & `PatientList` objects that can be used for neural net training."
   ]
  },
  {
   "cell_type": "code",
   "execution_count": null,
   "metadata": {},
   "outputs": [
    {
     "data": {
      "text/html": [
       "<style>.container { width:85% !important; }</style>"
      ],
      "text/plain": [
       "<IPython.core.display.HTML object>"
      ]
     },
     "metadata": {},
     "output_type": "display_data"
    }
   ],
   "source": [
    "#hide\n",
    "from IPython.core.display import display, HTML\n",
    "display(HTML(\"<style>.container { width:85% !important; }</style>\"))"
   ]
  },
  {
   "cell_type": "code",
   "execution_count": null,
   "metadata": {},
   "outputs": [],
   "source": [
    "#hide\n",
    "%reload_ext autoreload\n",
    "%autoreload 2\n",
    "%matplotlib inline"
   ]
  },
  {
   "cell_type": "code",
   "execution_count": null,
   "metadata": {},
   "outputs": [],
   "source": [
    "#export\n",
    "from lemonpie.basics import *\n",
    "from lemonpie.preprocessing.clean import *\n",
    "from lemonpie.preprocessing.vocab import *\n",
    "from fastai.imports import *\n",
    "import torch.multiprocessing as multiprocessing"
   ]
  },
  {
   "cell_type": "code",
   "execution_count": null,
   "metadata": {},
   "outputs": [],
   "source": [
    "#hide\n",
    "from nbdev.showdoc import *"
   ]
  },
  {
   "cell_type": "markdown",
   "metadata": {},
   "source": [
    "**Load Cleaned Data**"
   ]
  },
  {
   "cell_type": "code",
   "execution_count": null,
   "metadata": {},
   "outputs": [
    {
     "data": {
      "text/plain": [
       "('/home/vinod/.lemonpie/datasets/synthea/1K',\n",
       " '/home/vinod/.lemonpie/datasets/synthea/10K')"
      ]
     },
     "execution_count": null,
     "metadata": {},
     "output_type": "execute_result"
    }
   ],
   "source": [
    "PATH_1K, PATH_10K"
   ]
  },
  {
   "cell_type": "code",
   "execution_count": null,
   "metadata": {},
   "outputs": [
    {
     "data": {
      "text/plain": [
       "{'diabetes': '44054006',\n",
       " 'stroke': '230690007',\n",
       " 'alzheimers': '26929004',\n",
       " 'coronary_heart': '53741008',\n",
       " 'lung_cancer': '254637007',\n",
       " 'breast_cancer': '254837009',\n",
       " 'rheumatoid_arthritis': '69896004',\n",
       " 'epilepsy': '84757009'}"
      ]
     },
     "execution_count": null,
     "metadata": {},
     "output_type": "execute_result"
    }
   ],
   "source": [
    "CONDITIONS"
   ]
  },
  {
   "cell_type": "code",
   "execution_count": null,
   "metadata": {},
   "outputs": [],
   "source": [
    "train_dfs, valid_dfs, test_dfs = load_cleaned_ehrdata(PATH_1K)"
   ]
  },
  {
   "cell_type": "code",
   "execution_count": null,
   "metadata": {},
   "outputs": [],
   "source": [
    "#[patients, patient_demographics, observations, allergies, careplans, medications, imaging_studies, procedures, conditions, immunizations]\n",
    "all_dfs = train_dfs\n",
    "patients_df, patient_demographics_df, all_rec_dfs = all_dfs[0], all_dfs[1], all_dfs[2:]"
   ]
  },
  {
   "cell_type": "code",
   "execution_count": null,
   "metadata": {},
   "outputs": [],
   "source": [
    "# [display(df.head()) for df in all_dfs]"
   ]
  },
  {
   "cell_type": "code",
   "execution_count": null,
   "metadata": {},
   "outputs": [
    {
     "data": {
      "text/html": [
       "<div>\n",
       "<style scoped>\n",
       "    .dataframe tbody tr th:only-of-type {\n",
       "        vertical-align: middle;\n",
       "    }\n",
       "\n",
       "    .dataframe tbody tr th {\n",
       "        vertical-align: top;\n",
       "    }\n",
       "\n",
       "    .dataframe thead th {\n",
       "        text-align: right;\n",
       "    }\n",
       "</style>\n",
       "<table border=\"1\" class=\"dataframe\">\n",
       "  <thead>\n",
       "    <tr style=\"text-align: right;\">\n",
       "      <th></th>\n",
       "      <th>patient</th>\n",
       "      <th>birthdate</th>\n",
       "      <th>diabetes</th>\n",
       "      <th>diabetes_age</th>\n",
       "      <th>stroke</th>\n",
       "      <th>stroke_age</th>\n",
       "      <th>alzheimers</th>\n",
       "      <th>alzheimers_age</th>\n",
       "      <th>coronary_heart</th>\n",
       "      <th>coronary_heart_age</th>\n",
       "      <th>lung_cancer</th>\n",
       "      <th>lung_cancer_age</th>\n",
       "      <th>breast_cancer</th>\n",
       "      <th>breast_cancer_age</th>\n",
       "      <th>rheumatoid_arthritis</th>\n",
       "      <th>rheumatoid_arthritis_age</th>\n",
       "      <th>epilepsy</th>\n",
       "      <th>epilepsy_age</th>\n",
       "    </tr>\n",
       "    <tr>\n",
       "      <th>indx</th>\n",
       "      <th></th>\n",
       "      <th></th>\n",
       "      <th></th>\n",
       "      <th></th>\n",
       "      <th></th>\n",
       "      <th></th>\n",
       "      <th></th>\n",
       "      <th></th>\n",
       "      <th></th>\n",
       "      <th></th>\n",
       "      <th></th>\n",
       "      <th></th>\n",
       "      <th></th>\n",
       "      <th></th>\n",
       "      <th></th>\n",
       "      <th></th>\n",
       "      <th></th>\n",
       "      <th></th>\n",
       "    </tr>\n",
       "  </thead>\n",
       "  <tbody>\n",
       "    <tr>\n",
       "      <th>0</th>\n",
       "      <td>b1d50391-79c5-403c-919f-3ded66c9d77a</td>\n",
       "      <td>1959-09-01</td>\n",
       "      <td>False</td>\n",
       "      <td>NaN</td>\n",
       "      <td>False</td>\n",
       "      <td>NaN</td>\n",
       "      <td>False</td>\n",
       "      <td>NaN</td>\n",
       "      <td>False</td>\n",
       "      <td>NaN</td>\n",
       "      <td>False</td>\n",
       "      <td>NaN</td>\n",
       "      <td>False</td>\n",
       "      <td>NaN</td>\n",
       "      <td>False</td>\n",
       "      <td>NaN</td>\n",
       "      <td>False</td>\n",
       "      <td>NaN</td>\n",
       "    </tr>\n",
       "    <tr>\n",
       "      <th>1</th>\n",
       "      <td>e52a1bbc-7b12-4d01-82cc-1196da05e399</td>\n",
       "      <td>2016-12-29</td>\n",
       "      <td>False</td>\n",
       "      <td>NaN</td>\n",
       "      <td>False</td>\n",
       "      <td>NaN</td>\n",
       "      <td>False</td>\n",
       "      <td>NaN</td>\n",
       "      <td>False</td>\n",
       "      <td>NaN</td>\n",
       "      <td>False</td>\n",
       "      <td>NaN</td>\n",
       "      <td>False</td>\n",
       "      <td>NaN</td>\n",
       "      <td>False</td>\n",
       "      <td>NaN</td>\n",
       "      <td>False</td>\n",
       "      <td>NaN</td>\n",
       "    </tr>\n",
       "    <tr>\n",
       "      <th>2</th>\n",
       "      <td>88587157-4de8-4459-b6d4-fd571b847575</td>\n",
       "      <td>1980-05-31</td>\n",
       "      <td>False</td>\n",
       "      <td>NaN</td>\n",
       "      <td>False</td>\n",
       "      <td>NaN</td>\n",
       "      <td>False</td>\n",
       "      <td>NaN</td>\n",
       "      <td>False</td>\n",
       "      <td>NaN</td>\n",
       "      <td>False</td>\n",
       "      <td>NaN</td>\n",
       "      <td>False</td>\n",
       "      <td>NaN</td>\n",
       "      <td>False</td>\n",
       "      <td>NaN</td>\n",
       "      <td>False</td>\n",
       "      <td>NaN</td>\n",
       "    </tr>\n",
       "    <tr>\n",
       "      <th>3</th>\n",
       "      <td>18794a7c-c7fa-47d6-8387-9fc133c4e1e3</td>\n",
       "      <td>1982-06-21</td>\n",
       "      <td>True</td>\n",
       "      <td>25.0</td>\n",
       "      <td>False</td>\n",
       "      <td>NaN</td>\n",
       "      <td>False</td>\n",
       "      <td>NaN</td>\n",
       "      <td>False</td>\n",
       "      <td>NaN</td>\n",
       "      <td>False</td>\n",
       "      <td>NaN</td>\n",
       "      <td>False</td>\n",
       "      <td>NaN</td>\n",
       "      <td>False</td>\n",
       "      <td>NaN</td>\n",
       "      <td>False</td>\n",
       "      <td>NaN</td>\n",
       "    </tr>\n",
       "    <tr>\n",
       "      <th>4</th>\n",
       "      <td>92c8d9dc-2430-4b35-8fa8-63bf6913737b</td>\n",
       "      <td>1985-11-07</td>\n",
       "      <td>False</td>\n",
       "      <td>NaN</td>\n",
       "      <td>False</td>\n",
       "      <td>NaN</td>\n",
       "      <td>False</td>\n",
       "      <td>NaN</td>\n",
       "      <td>False</td>\n",
       "      <td>NaN</td>\n",
       "      <td>False</td>\n",
       "      <td>NaN</td>\n",
       "      <td>False</td>\n",
       "      <td>NaN</td>\n",
       "      <td>False</td>\n",
       "      <td>NaN</td>\n",
       "      <td>False</td>\n",
       "      <td>NaN</td>\n",
       "    </tr>\n",
       "  </tbody>\n",
       "</table>\n",
       "</div>"
      ],
      "text/plain": [
       "                                   patient   birthdate  diabetes  \\\n",
       "indx                                                               \n",
       "0     b1d50391-79c5-403c-919f-3ded66c9d77a  1959-09-01     False   \n",
       "1     e52a1bbc-7b12-4d01-82cc-1196da05e399  2016-12-29     False   \n",
       "2     88587157-4de8-4459-b6d4-fd571b847575  1980-05-31     False   \n",
       "3     18794a7c-c7fa-47d6-8387-9fc133c4e1e3  1982-06-21      True   \n",
       "4     92c8d9dc-2430-4b35-8fa8-63bf6913737b  1985-11-07     False   \n",
       "\n",
       "      diabetes_age  stroke  stroke_age  alzheimers  alzheimers_age  \\\n",
       "indx                                                                 \n",
       "0              NaN   False         NaN       False             NaN   \n",
       "1              NaN   False         NaN       False             NaN   \n",
       "2              NaN   False         NaN       False             NaN   \n",
       "3             25.0   False         NaN       False             NaN   \n",
       "4              NaN   False         NaN       False             NaN   \n",
       "\n",
       "      coronary_heart  coronary_heart_age  lung_cancer  lung_cancer_age  \\\n",
       "indx                                                                     \n",
       "0              False                 NaN        False              NaN   \n",
       "1              False                 NaN        False              NaN   \n",
       "2              False                 NaN        False              NaN   \n",
       "3              False                 NaN        False              NaN   \n",
       "4              False                 NaN        False              NaN   \n",
       "\n",
       "      breast_cancer  breast_cancer_age  rheumatoid_arthritis  \\\n",
       "indx                                                           \n",
       "0             False                NaN                 False   \n",
       "1             False                NaN                 False   \n",
       "2             False                NaN                 False   \n",
       "3             False                NaN                 False   \n",
       "4             False                NaN                 False   \n",
       "\n",
       "      rheumatoid_arthritis_age  epilepsy  epilepsy_age  \n",
       "indx                                                    \n",
       "0                          NaN     False           NaN  \n",
       "1                          NaN     False           NaN  \n",
       "2                          NaN     False           NaN  \n",
       "3                          NaN     False           NaN  \n",
       "4                          NaN     False           NaN  "
      ]
     },
     "execution_count": null,
     "metadata": {},
     "output_type": "execute_result"
    }
   ],
   "source": [
    "patients_df.head()"
   ]
  },
  {
   "cell_type": "code",
   "execution_count": null,
   "metadata": {},
   "outputs": [
    {
     "data": {
      "text/plain": [
       "array(['e52a1bbc-7b12-4d01-82cc-1196da05e399', '2016-12-29', False, nan,\n",
       "       False, nan, False, nan, False, nan, False, nan, False, nan, False,\n",
       "       nan, False, nan], dtype=object)"
      ]
     },
     "execution_count": null,
     "metadata": {},
     "output_type": "execute_result"
    }
   ],
   "source": [
    "vals = all_dfs[0].iloc[1].values\n",
    "vals"
   ]
  },
  {
   "cell_type": "code",
   "execution_count": null,
   "metadata": {},
   "outputs": [
    {
     "data": {
      "text/plain": [
       "('e52a1bbc-7b12-4d01-82cc-1196da05e399',\n",
       " '2016-12-29',\n",
       " False,\n",
       " False,\n",
       " False,\n",
       " False)"
      ]
     },
     "execution_count": null,
     "metadata": {},
     "output_type": "execute_result"
    }
   ],
   "source": [
    "vals[0], vals[1], vals[2], vals[4], vals[6], vals[8]"
   ]
  },
  {
   "cell_type": "markdown",
   "metadata": {},
   "source": [
    "**Load Vocabs**"
   ]
  },
  {
   "cell_type": "code",
   "execution_count": null,
   "metadata": {},
   "outputs": [],
   "source": [
    "vocab_list_1K = EhrVocabList.load(PATH_1K)\n",
    "obs_vocab, alg_vocab, crpl_vocab, med_vocab, img_vocab, proc_vocab, cnd_vocab, imm_vocab = vocab_list_1K.records_vocabs\n",
    "bday, bmonth, byear, marital, race, ethnicity, gender, birthplace, city, state, zipcode  = vocab_list_1K.demographics_vocabs\n",
    "age_mean, age_std = vocab_list_1K.age_mean, vocab_list_1K.age_std"
   ]
  },
  {
   "cell_type": "code",
   "execution_count": null,
   "metadata": {},
   "outputs": [],
   "source": [
    "#all emb dimensions to be passed into model to determine nh\n",
    "demographics_dims, recs_dims, demographics_dims_width, recs_dims_width = get_all_emb_dims(EhrVocabList.load(PATH_1K))"
   ]
  },
  {
   "cell_type": "code",
   "execution_count": null,
   "metadata": {},
   "outputs": [
    {
     "data": {
      "text/plain": [
       "[(33, 8),\n",
       " (14, 7),\n",
       " (124, 11),\n",
       " (5, 5),\n",
       " (7, 6),\n",
       " (4, 5),\n",
       " (4, 5),\n",
       " (243, 14),\n",
       " (208, 13),\n",
       " (3, 5),\n",
       " (181, 13)]"
      ]
     },
     "execution_count": null,
     "metadata": {},
     "output_type": "execute_result"
    }
   ],
   "source": [
    "demographics_dims"
   ]
  },
  {
   "cell_type": "code",
   "execution_count": null,
   "metadata": {},
   "outputs": [
    {
     "data": {
      "text/plain": [
       "[(536, 17),\n",
       " (26, 8),\n",
       " (50, 9),\n",
       " (226, 13),\n",
       " (11, 6),\n",
       " (137, 12),\n",
       " (184, 13),\n",
       " (20, 7)]"
      ]
     },
     "execution_count": null,
     "metadata": {},
     "output_type": "execute_result"
    }
   ],
   "source": [
    "recs_dims"
   ]
  },
  {
   "cell_type": "code",
   "execution_count": null,
   "metadata": {},
   "outputs": [
    {
     "data": {
      "text/plain": [
       "(92, 85)"
      ]
     },
     "execution_count": null,
     "metadata": {},
     "output_type": "execute_result"
    }
   ],
   "source": [
    "demographics_dims_width, recs_dims_width"
   ]
  },
  {
   "cell_type": "markdown",
   "metadata": {},
   "source": [
    "## Assemble Single Patient"
   ]
  },
  {
   "cell_type": "code",
   "execution_count": null,
   "metadata": {},
   "outputs": [],
   "source": [
    "tst_ptid='18794a7c-c7fa-47d6-8387-9fc133c4e1e3'"
   ]
  },
  {
   "cell_type": "code",
   "execution_count": null,
   "metadata": {},
   "outputs": [
    {
     "data": {
      "text/html": [
       "<div>\n",
       "<style scoped>\n",
       "    .dataframe tbody tr th:only-of-type {\n",
       "        vertical-align: middle;\n",
       "    }\n",
       "\n",
       "    .dataframe tbody tr th {\n",
       "        vertical-align: top;\n",
       "    }\n",
       "\n",
       "    .dataframe thead th {\n",
       "        text-align: right;\n",
       "    }\n",
       "</style>\n",
       "<table border=\"1\" class=\"dataframe\">\n",
       "  <thead>\n",
       "    <tr style=\"text-align: right;\">\n",
       "      <th></th>\n",
       "      <th>patient</th>\n",
       "      <th>birthdate</th>\n",
       "      <th>diabetes</th>\n",
       "      <th>diabetes_age</th>\n",
       "      <th>stroke</th>\n",
       "      <th>stroke_age</th>\n",
       "      <th>alzheimers</th>\n",
       "      <th>alzheimers_age</th>\n",
       "      <th>coronary_heart</th>\n",
       "      <th>coronary_heart_age</th>\n",
       "      <th>lung_cancer</th>\n",
       "      <th>lung_cancer_age</th>\n",
       "      <th>breast_cancer</th>\n",
       "      <th>breast_cancer_age</th>\n",
       "      <th>rheumatoid_arthritis</th>\n",
       "      <th>rheumatoid_arthritis_age</th>\n",
       "      <th>epilepsy</th>\n",
       "      <th>epilepsy_age</th>\n",
       "    </tr>\n",
       "    <tr>\n",
       "      <th>indx</th>\n",
       "      <th></th>\n",
       "      <th></th>\n",
       "      <th></th>\n",
       "      <th></th>\n",
       "      <th></th>\n",
       "      <th></th>\n",
       "      <th></th>\n",
       "      <th></th>\n",
       "      <th></th>\n",
       "      <th></th>\n",
       "      <th></th>\n",
       "      <th></th>\n",
       "      <th></th>\n",
       "      <th></th>\n",
       "      <th></th>\n",
       "      <th></th>\n",
       "      <th></th>\n",
       "      <th></th>\n",
       "    </tr>\n",
       "  </thead>\n",
       "  <tbody>\n",
       "    <tr>\n",
       "      <th>3</th>\n",
       "      <td>18794a7c-c7fa-47d6-8387-9fc133c4e1e3</td>\n",
       "      <td>1982-06-21</td>\n",
       "      <td>True</td>\n",
       "      <td>25.0</td>\n",
       "      <td>False</td>\n",
       "      <td>NaN</td>\n",
       "      <td>False</td>\n",
       "      <td>NaN</td>\n",
       "      <td>False</td>\n",
       "      <td>NaN</td>\n",
       "      <td>False</td>\n",
       "      <td>NaN</td>\n",
       "      <td>False</td>\n",
       "      <td>NaN</td>\n",
       "      <td>False</td>\n",
       "      <td>NaN</td>\n",
       "      <td>False</td>\n",
       "      <td>NaN</td>\n",
       "    </tr>\n",
       "  </tbody>\n",
       "</table>\n",
       "</div>"
      ],
      "text/plain": [
       "                                   patient   birthdate  diabetes  \\\n",
       "indx                                                               \n",
       "3     18794a7c-c7fa-47d6-8387-9fc133c4e1e3  1982-06-21      True   \n",
       "\n",
       "      diabetes_age  stroke  stroke_age  alzheimers  alzheimers_age  \\\n",
       "indx                                                                 \n",
       "3             25.0   False         NaN       False             NaN   \n",
       "\n",
       "      coronary_heart  coronary_heart_age  lung_cancer  lung_cancer_age  \\\n",
       "indx                                                                     \n",
       "3              False                 NaN        False              NaN   \n",
       "\n",
       "      breast_cancer  breast_cancer_age  rheumatoid_arthritis  \\\n",
       "indx                                                           \n",
       "3             False                NaN                 False   \n",
       "\n",
       "      rheumatoid_arthritis_age  epilepsy  epilepsy_age  \n",
       "indx                                                    \n",
       "3                          NaN     False           NaN  "
      ]
     },
     "execution_count": null,
     "metadata": {},
     "output_type": "execute_result"
    }
   ],
   "source": [
    "tst_pt = patients_df[patients_df.patient == tst_ptid]\n",
    "tst_pt"
   ]
  },
  {
   "cell_type": "code",
   "execution_count": null,
   "metadata": {},
   "outputs": [
    {
     "data": {
      "text/plain": [
       "birthdate                    1982-06-21\n",
       "marital                               M\n",
       "race                              white\n",
       "ethnicity                      hispanic\n",
       "gender                                F\n",
       "birthplace      Panama City  Panama  PA\n",
       "city                            Waltham\n",
       "state                     Massachusetts\n",
       "zip                                2472\n",
       "age_now_days                      14147\n",
       "Name: 18794a7c-c7fa-47d6-8387-9fc133c4e1e3, dtype: object"
      ]
     },
     "execution_count": null,
     "metadata": {},
     "output_type": "execute_result"
    }
   ],
   "source": [
    "demograph_vector = patient_demographics_df.loc[tst_ptid]\n",
    "demograph_vector"
   ]
  },
  {
   "cell_type": "code",
   "execution_count": null,
   "metadata": {},
   "outputs": [
    {
     "data": {
      "text/plain": [
       "'1982-06-21'"
      ]
     },
     "execution_count": null,
     "metadata": {},
     "output_type": "execute_result"
    }
   ],
   "source": [
    "tst_pt_birthdate = tst_pt.birthdate.values[0]\n",
    "tst_pt_birthdate"
   ]
  },
  {
   "cell_type": "code",
   "execution_count": null,
   "metadata": {},
   "outputs": [],
   "source": [
    "# tst_pt_diabetes, tst_pt_stroke, tst_pt_alzheimers, tst_pt_coronaryheart, tst_pt_lungcancer = \\\n",
    "#     tst_pt.diabetes.values[0], tst_pt.stroke.values[0], tst_pt.alzheimers.values[0], tst_pt.coronary_heart.values[0], tst_pt.lung_cancer.values[0]"
   ]
  },
  {
   "cell_type": "code",
   "execution_count": null,
   "metadata": {},
   "outputs": [],
   "source": [
    "# tst_pt_diabetes, tst_pt_stroke, tst_pt_alzheimers, tst_pt_coronaryheart, tst_pt_lungcancer"
   ]
  },
  {
   "cell_type": "markdown",
   "metadata": {},
   "source": [
    "#### Conditions -"
   ]
  },
  {
   "cell_type": "code",
   "execution_count": null,
   "metadata": {},
   "outputs": [
    {
     "data": {
      "text/plain": [
       "Index(['diabetes', 'diabetes_age', 'stroke', 'stroke_age', 'alzheimers',\n",
       "       'alzheimers_age', 'coronary_heart', 'coronary_heart_age', 'lung_cancer',\n",
       "       'lung_cancer_age', 'breast_cancer', 'breast_cancer_age',\n",
       "       'rheumatoid_arthritis', 'rheumatoid_arthritis_age', 'epilepsy',\n",
       "       'epilepsy_age'],\n",
       "      dtype='object')"
      ]
     },
     "execution_count": null,
     "metadata": {},
     "output_type": "execute_result"
    }
   ],
   "source": [
    "patients_df.columns[2:]"
   ]
  },
  {
   "cell_type": "code",
   "execution_count": null,
   "metadata": {},
   "outputs": [],
   "source": [
    "cnds=[]\n",
    "for col in (patients_df.columns[2:]):\n",
    "    if '_age' not in col:\n",
    "        cnds.append(col)"
   ]
  },
  {
   "cell_type": "code",
   "execution_count": null,
   "metadata": {},
   "outputs": [
    {
     "data": {
      "text/plain": [
       "['diabetes',\n",
       " 'stroke',\n",
       " 'alzheimers',\n",
       " 'coronary_heart',\n",
       " 'lung_cancer',\n",
       " 'breast_cancer',\n",
       " 'rheumatoid_arthritis',\n",
       " 'epilepsy']"
      ]
     },
     "execution_count": null,
     "metadata": {},
     "output_type": "execute_result"
    }
   ],
   "source": [
    "cnds"
   ]
  },
  {
   "cell_type": "code",
   "execution_count": null,
   "metadata": {},
   "outputs": [],
   "source": [
    "tst_pt_conditions = {}"
   ]
  },
  {
   "cell_type": "code",
   "execution_count": null,
   "metadata": {},
   "outputs": [],
   "source": [
    "for cnd in cnds:\n",
    "    tst_pt_conditions[cnd] = tst_pt[cnd].values[0]"
   ]
  },
  {
   "cell_type": "code",
   "execution_count": null,
   "metadata": {},
   "outputs": [
    {
     "data": {
      "text/plain": [
       "{'diabetes': True,\n",
       " 'stroke': False,\n",
       " 'alzheimers': False,\n",
       " 'coronary_heart': False,\n",
       " 'lung_cancer': False,\n",
       " 'breast_cancer': False,\n",
       " 'rheumatoid_arthritis': False,\n",
       " 'epilepsy': False}"
      ]
     },
     "execution_count": null,
     "metadata": {},
     "output_type": "execute_result"
    }
   ],
   "source": [
    "tst_pt_conditions"
   ]
  },
  {
   "cell_type": "markdown",
   "metadata": {},
   "source": [
    "### Collate Codes & Offsets"
   ]
  },
  {
   "cell_type": "markdown",
   "metadata": {},
   "source": [
    "- **Filter out for this patient** \n",
    " - `rec_dfs[[ptid]]` + `demographics[[ptid]]`\n",
    " - ~~df already filtered by cutoff age~~\n",
    " - This is being done in `PatientList`, this is just for testing, **i.e. this will never be called**\n",
    "- Use double `[[ptid]]` so that - even when single values are returned, we get a df"
   ]
  },
  {
   "cell_type": "code",
   "execution_count": null,
   "metadata": {},
   "outputs": [],
   "source": [
    "def get_rec_dfs(all_rec_dfs, ptid):\n",
    "    '''Get all dfs for this patient, this is being done in `PatientList` so this is for testing only'''\n",
    "    rec_dfs = []\n",
    "    for rec_df in all_rec_dfs:\n",
    "        try:\n",
    "            rec_dfs.append(rec_df.loc[[ptid]])\n",
    "        except KeyError:\n",
    "            rec_dfs.append(pd.DataFrame())\n",
    "    return rec_dfs"
   ]
  },
  {
   "cell_type": "code",
   "execution_count": null,
   "metadata": {},
   "outputs": [
    {
     "name": "stdout",
     "output_type": "stream",
     "text": [
      "CPU times: user 12.3 ms, sys: 4.07 ms, total: 16.3 ms\n",
      "Wall time: 16.3 ms\n"
     ]
    }
   ],
   "source": [
    "%time rec_dfs = get_rec_dfs(all_rec_dfs, tst_ptid)"
   ]
  },
  {
   "cell_type": "markdown",
   "metadata": {},
   "source": [
    "rec_dfs -- observations, allergies, careplans, medications, imaging_studies, procedures, conditions, immunizations\n",
    "\n",
    "The following are empty for this ptid (to check and confirm, uncomment following code snippet and run)\n",
    "- allergies - 1\n",
    "- imaging_studies - 4"
   ]
  },
  {
   "cell_type": "code",
   "execution_count": null,
   "metadata": {},
   "outputs": [],
   "source": [
    "# for rec_df, name in zip(rec_dfs, FILENAMES[1:]):\n",
    "#     print(f'{name}: {rec_df.shape}')\n",
    "#     display(rec_df.tail())"
   ]
  },
  {
   "cell_type": "code",
   "execution_count": null,
   "metadata": {},
   "outputs": [],
   "source": [
    "p_obs, p_alg, p_crpl, p_med, p_img, p_proc, p_cnd, p_immn = rec_dfs"
   ]
  },
  {
   "cell_type": "markdown",
   "metadata": {},
   "source": [
    "- For empty rec dfs like alg seen above, we have to indicate that nothing was recorded for this particular record (say allergies)\n",
    "    1. So the codes list will be `xxnone`s of length `age_span`\n",
    "        - For example for `age_start`=10 and `age_stop`=35, we will get 25 `xxnone`\n",
    "- For non-empty rec dfs\n",
    " 1. Collate codes by year or month (depending on `age_in_months` value)\n",
    " 2. Compute respective offsets\n",
    "\n",
    "For using age in days or hours (for example in case of hospitalization or ICU datasets)\n",
    "- This function will need to be modified (in addition to `insert_age()` in `preprocessing.clean`)\n",
    "- For example for age in days, `insert_age()` will insert a column in each data frame with the age in days, which then can be used by this function to filter for the right `age_span` "
   ]
  },
  {
   "cell_type": "code",
   "execution_count": null,
   "metadata": {},
   "outputs": [],
   "source": [
    "#exports\n",
    "def collate_codes_offsts(rec_df, age_start, age_stop, age_in_months=False):\n",
    "    \"\"\"Return a single patient's EmbeddingBag lookup codes and offsets for the given age span and age units\"\"\"\n",
    "    codes  = []\n",
    "    offsts = [0]\n",
    "    age_span = age_stop - age_start\n",
    "    if rec_df.empty: \n",
    "        codes = ['xxnone'] * age_span\n",
    "        offsts = list(range(age_span))\n",
    "    else:\n",
    "        for i in range(age_start, age_stop, 1):\n",
    "            if age_in_months: res = (rec_df.code[rec_df.age_months == i]).values\n",
    "            else            : res = (rec_df.code[rec_df.age == i]).values\n",
    "            if len(res) > 0: \n",
    "                codes.extend(res)      \n",
    "                if i < age_stop - 1: offsts.append(offsts[-1] + len(res))\n",
    "            else:          \n",
    "                codes.append('xxnone') \n",
    "                if i < age_stop - 1: offsts.append(offsts[-1] + 1)\n",
    "    \n",
    "    assert len(offsts) == age_span\n",
    "    return codes, offsts"
   ]
  },
  {
   "cell_type": "markdown",
   "metadata": {},
   "source": [
    "**Tests**"
   ]
  },
  {
   "cell_type": "markdown",
   "metadata": {},
   "source": [
    "Collate EHR codes for our test patient, from age 410 months to 420 months"
   ]
  },
  {
   "cell_type": "code",
   "execution_count": null,
   "metadata": {},
   "outputs": [
    {
     "name": "stdout",
     "output_type": "stream",
     "text": [
      "CPU times: user 17.3 ms, sys: 126 µs, total: 17.4 ms\n",
      "Wall time: 16.2 ms\n"
     ]
    }
   ],
   "source": [
    "%time all_codes_offsts = [collate_codes_offsts(df, age_start=410, age_stop=420, age_in_months=True) for df in rec_dfs]"
   ]
  },
  {
   "cell_type": "markdown",
   "metadata": {},
   "source": [
    "Observation codes for the above `age_span` is obtained as below ..  "
   ]
  },
  {
   "cell_type": "code",
   "execution_count": null,
   "metadata": {},
   "outputs": [
    {
     "data": {
      "text/plain": [
       "['8302-2||168.8||cm||numeric',\n",
       " '72514-3||2.0||{score}||numeric',\n",
       " '29463-7||79.8||kg||numeric',\n",
       " '39156-5||28.0||kg/m2||numeric',\n",
       " '8462-4||71.0||mm[Hg]||numeric',\n",
       " '8480-6||113.0||mm[Hg]||numeric',\n",
       " '8867-4||93.0||/min||numeric',\n",
       " '9279-1||15.0||/min||numeric',\n",
       " '2339-0||107.5||mg/dL||numeric',\n",
       " '6299-2||12.2||mg/dL||numeric',\n",
       " '38483-4||1.5||mg/dL||numeric',\n",
       " '49765-1||9.6||mg/dL||numeric',\n",
       " '2947-0||142.2||mmol/L||numeric',\n",
       " '6298-4||5.1||mmol/L||numeric',\n",
       " '2069-3||109.8||mmol/L||numeric',\n",
       " '20565-8||22.3||mmol/L||numeric',\n",
       " '2093-3||207.3||mg/dL||numeric',\n",
       " '2571-8||197.2||mg/dL||numeric',\n",
       " '18262-6||115.3||mg/dL||numeric',\n",
       " '2085-9||52.5||mg/dL||numeric',\n",
       " '14959-1||15.8||mg/g||numeric',\n",
       " '6690-2||5.3||10*3/uL||numeric',\n",
       " '789-8||4.6||10*6/uL||numeric',\n",
       " '718-7||13.5||g/dL||numeric',\n",
       " '4544-3||38.0||%||numeric',\n",
       " '787-2||80.7||fL||numeric',\n",
       " '785-6||28.4||pg||numeric',\n",
       " '786-4||33.1||g/dL||numeric',\n",
       " '21000-5||44.9||fL||numeric',\n",
       " '777-3||175.2||10*3/uL||numeric',\n",
       " '32207-3||449.8||fL||numeric',\n",
       " '32623-1||12.2||fL||numeric',\n",
       " '33914-3||67.9||mL/min/{1.73_m2}||numeric',\n",
       " '72166-2||Never smoker||xxxnan||text',\n",
       " '4548-4||7.0||%||numeric',\n",
       " 'xxnone',\n",
       " 'xxnone',\n",
       " 'xxnone',\n",
       " 'xxnone',\n",
       " 'xxnone',\n",
       " 'xxnone',\n",
       " 'xxnone',\n",
       " 'xxnone',\n",
       " 'xxnone']"
      ]
     },
     "execution_count": null,
     "metadata": {},
     "output_type": "execute_result"
    }
   ],
   "source": [
    "obs_codes = all_codes_offsts[0][0]\n",
    "obs_codes"
   ]
  },
  {
   "cell_type": "markdown",
   "metadata": {},
   "source": [
    "and the corresponding offsets (to be used for EmbeddingBag lookups) is obtained as below."
   ]
  },
  {
   "cell_type": "code",
   "execution_count": null,
   "metadata": {},
   "outputs": [
    {
     "data": {
      "text/plain": [
       "[0, 35, 36, 37, 38, 39, 40, 41, 42, 43]"
      ]
     },
     "execution_count": null,
     "metadata": {},
     "output_type": "execute_result"
    }
   ],
   "source": [
    "obs_offsts = all_codes_offsts[0][1]\n",
    "obs_offsts"
   ]
  },
  {
   "cell_type": "code",
   "execution_count": null,
   "metadata": {},
   "outputs": [
    {
     "data": {
      "text/plain": [
       "(44, 10)"
      ]
     },
     "execution_count": null,
     "metadata": {},
     "output_type": "execute_result"
    }
   ],
   "source": [
    "len(obs_codes), len(obs_offsts)"
   ]
  },
  {
   "cell_type": "markdown",
   "metadata": {},
   "source": [
    "Note that: no matter how many observations are recorded, the number of offsets will always be equal to the `age_span`"
   ]
  },
  {
   "cell_type": "markdown",
   "metadata": {},
   "source": [
    "Collate EHR codes for our test patient, from 10 to 30 years"
   ]
  },
  {
   "cell_type": "code",
   "execution_count": null,
   "metadata": {},
   "outputs": [
    {
     "name": "stdout",
     "output_type": "stream",
     "text": [
      "CPU times: user 25.1 ms, sys: 85 µs, total: 25.2 ms\n",
      "Wall time: 25.1 ms\n"
     ]
    }
   ],
   "source": [
    "%time all_codes_offsts = [collate_codes_offsts(df, age_start=10, age_stop=30) for df in rec_dfs]"
   ]
  },
  {
   "cell_type": "markdown",
   "metadata": {},
   "source": [
    "### Numericalize\n",
    "- Once we have all the codes from the vocabs, we need to numericalize them \n",
    "- Call to `vocab.numericalize()` must always be a list\n",
    "- `codes` returned from `collate_codes_offsts()` is always a list even if a single item"
   ]
  },
  {
   "cell_type": "code",
   "execution_count": null,
   "metadata": {},
   "outputs": [],
   "source": [
    "# Collated observation codes for patient\n",
    "obs_codes = all_codes_offsts[0][0]"
   ]
  },
  {
   "cell_type": "code",
   "execution_count": null,
   "metadata": {},
   "outputs": [],
   "source": [
    "obs_codes_num = obs_vocab.numericalize(all_codes_offsts[0][0]) #codes numericalized\n",
    "obs_offsts = all_codes_offsts[0][1] #offsets"
   ]
  },
  {
   "cell_type": "code",
   "execution_count": null,
   "metadata": {},
   "outputs": [
    {
     "data": {
      "text/plain": [
       "['xxnone',\n",
       " 'xxnone',\n",
       " 'xxnone',\n",
       " 'xxnone',\n",
       " 'xxnone',\n",
       " 'xxnone',\n",
       " 'xxnone',\n",
       " 'xxnone',\n",
       " '8302-2||168.8||cm||numeric',\n",
       " '72514-3||1.0||{score}||numeric']"
      ]
     },
     "execution_count": null,
     "metadata": {},
     "output_type": "execute_result"
    }
   ],
   "source": [
    "# first 10 observation codes for patient\n",
    "obs_codes[10:20]"
   ]
  },
  {
   "cell_type": "code",
   "execution_count": null,
   "metadata": {},
   "outputs": [
    {
     "data": {
      "text/plain": [
       "[0, 0, 0, 0, 0, 0, 0, 0, 5, 7]"
      ]
     },
     "execution_count": null,
     "metadata": {},
     "output_type": "execute_result"
    }
   ],
   "source": [
    "# the above observation codes numericalized\n",
    "obs_codes_num[10:20]"
   ]
  },
  {
   "cell_type": "code",
   "execution_count": null,
   "metadata": {},
   "outputs": [
    {
     "data": {
      "text/plain": [
       "(59, 59, 20)"
      ]
     },
     "execution_count": null,
     "metadata": {},
     "output_type": "execute_result"
    }
   ],
   "source": [
    "len(obs_codes), len(obs_codes_num), len(obs_offsts)"
   ]
  },
  {
   "cell_type": "code",
   "execution_count": null,
   "metadata": {},
   "outputs": [],
   "source": [
    "assert len(obs_codes) == len(obs_codes_num)"
   ]
  },
  {
   "cell_type": "code",
   "execution_count": null,
   "metadata": {},
   "outputs": [
    {
     "data": {
      "text/plain": [
       "[('xxnone', 'Nothing recorded'),\n",
       " ('xxnone', 'Nothing recorded'),\n",
       " ('xxnone', 'Nothing recorded'),\n",
       " ('xxnone', 'Nothing recorded'),\n",
       " ('xxnone', 'Nothing recorded'),\n",
       " ('xxnone', 'Nothing recorded'),\n",
       " ('xxnone', 'Nothing recorded'),\n",
       " ('xxnone', 'Nothing recorded'),\n",
       " ('8302-2||160.29999999999998||cm||numeric', 'Body Height'),\n",
       " ('72514-3||0.0||{score}||numeric',\n",
       "  'Pain severity - 0-10 verbal numeric rating [Score] - Reported')]"
      ]
     },
     "execution_count": null,
     "metadata": {},
     "output_type": "execute_result"
    }
   ],
   "source": [
    "# the above observation codes textified \n",
    "obs_vocab.textify(obs_codes_num[10:20])"
   ]
  },
  {
   "cell_type": "code",
   "execution_count": null,
   "metadata": {},
   "outputs": [],
   "source": [
    "#procedures for test patient\n",
    "proc_codes = all_codes_offsts[5][0]"
   ]
  },
  {
   "cell_type": "code",
   "execution_count": null,
   "metadata": {},
   "outputs": [],
   "source": [
    "proc_codes_num,proc_offsts = proc_vocab.numericalize(all_codes_offsts[5][0]), all_codes_offsts[5][1]"
   ]
  },
  {
   "cell_type": "code",
   "execution_count": null,
   "metadata": {},
   "outputs": [],
   "source": [
    "assert len(proc_codes) == len(proc_codes_num)"
   ]
  },
  {
   "cell_type": "code",
   "execution_count": null,
   "metadata": {},
   "outputs": [
    {
     "data": {
      "text/plain": [
       "(21, 21, 20)"
      ]
     },
     "execution_count": null,
     "metadata": {},
     "output_type": "execute_result"
    }
   ],
   "source": [
    "len(proc_codes), len(proc_codes_num), len(proc_offsts)"
   ]
  },
  {
   "cell_type": "markdown",
   "metadata": {},
   "source": [
    "**Putting all this into a function**"
   ]
  },
  {
   "cell_type": "code",
   "execution_count": null,
   "metadata": {},
   "outputs": [],
   "source": [
    "#export\n",
    "def get_codenums_offsts(rec_dfs, all_vocabs, age_start, age_stop, age_in_months):\n",
    "    '''Get numericalized record codes and offsets for a patient for a given age span'''\n",
    "    all_codes_offsts = [collate_codes_offsts(df, age_start, age_stop, age_in_months) for df in rec_dfs]\n",
    "    obs_vocab, alg_vocab, crpl_vocab, med_vocab, img_vocab, proc_vocab, cnd_vocab, imm_vocab = all_vocabs\n",
    "    \n",
    "    obs_c,  obs_o  = obs_vocab.numericalize (all_codes_offsts[0][0]), all_codes_offsts[0][1]\n",
    "    alg_c,  alg_o  = alg_vocab.numericalize (all_codes_offsts[1][0]), all_codes_offsts[1][1]\n",
    "    crpl_c, crpl_o = crpl_vocab.numericalize(all_codes_offsts[2][0]), all_codes_offsts[2][1]\n",
    "    med_c,  med_o  = med_vocab.numericalize (all_codes_offsts[3][0]), all_codes_offsts[3][1]\n",
    "    img_c,  img_o  = img_vocab.numericalize (all_codes_offsts[4][0]), all_codes_offsts[4][1]\n",
    "    proc_c, proc_o = proc_vocab.numericalize(all_codes_offsts[5][0]), all_codes_offsts[5][1]\n",
    "    cnd_c,  cnd_o  = cnd_vocab.numericalize (all_codes_offsts[6][0]), all_codes_offsts[6][1]\n",
    "    imm_c,  imm_o  = imm_vocab.numericalize (all_codes_offsts[7][0]), all_codes_offsts[7][1]\n",
    "    \n",
    "    all_codenums = [obs_c,alg_c,crpl_c,med_c,img_c,proc_c,cnd_c,imm_c]\n",
    "    all_offsts   = [obs_o,alg_o,crpl_o,med_o,img_o,proc_o,cnd_o,imm_o]\n",
    "    \n",
    "    return all_codenums, all_offsts"
   ]
  },
  {
   "cell_type": "code",
   "execution_count": null,
   "metadata": {},
   "outputs": [],
   "source": [
    "#export\n",
    "def get_demographics(demograph_vector, demographics_vocabs, age_mean, age_std):\n",
    "    '''Numericalize demographics and normalize age for a given patient'''\n",
    "    bday, bmonth, byear, marital, race, ethnicity, gender, birthplace, city, state, zipcode = demographics_vocabs\n",
    "    demograph_vector = demograph_vector.fillna('xxnone')\n",
    "    demographics = []\n",
    "    \n",
    "    birthdate = pd.Timestamp(demograph_vector[0])\n",
    "    \n",
    "    demographics.extend(bday.numericalize      ([birthdate.day]))\n",
    "    demographics.extend(bmonth.numericalize    ([birthdate.month]))\n",
    "    demographics.extend(byear.numericalize     ([birthdate.year]))\n",
    "    demographics.extend(marital.numericalize   ([demograph_vector[1]]))\n",
    "    demographics.extend(race.numericalize      ([demograph_vector[2]]))\n",
    "    demographics.extend(ethnicity.numericalize ([demograph_vector[3]]))\n",
    "    demographics.extend(gender.numericalize    ([demograph_vector[4]]))\n",
    "    demographics.extend(birthplace.numericalize([demograph_vector[5]]))\n",
    "    demographics.extend(city.numericalize      ([demograph_vector[6]]))\n",
    "    demographics.extend(state.numericalize     ([demograph_vector[7]]))\n",
    "    demographics.extend(zipcode.numericalize   ([demograph_vector[8]]))\n",
    "    age = (demograph_vector[9] - age_mean) / age_std\n",
    "    \n",
    "    return demographics, age"
   ]
  },
  {
   "cell_type": "markdown",
   "metadata": {},
   "source": [
    "**Test - Codes & Offsets**"
   ]
  },
  {
   "cell_type": "code",
   "execution_count": null,
   "metadata": {},
   "outputs": [
    {
     "name": "stdout",
     "output_type": "stream",
     "text": [
      "CPU times: user 92.2 ms, sys: 304 µs, total: 92.5 ms\n",
      "Wall time: 90.9 ms\n"
     ]
    }
   ],
   "source": [
    "%time codenums, offsts = get_codenums_offsts(rec_dfs, vocab_list_1K.records_vocabs, age_start=10, age_stop=30, age_in_months=False)"
   ]
  },
  {
   "cell_type": "code",
   "execution_count": null,
   "metadata": {},
   "outputs": [],
   "source": [
    "med_num, med_o = codenums[3],offsts[3]"
   ]
  },
  {
   "cell_type": "code",
   "execution_count": null,
   "metadata": {},
   "outputs": [],
   "source": [
    "med_codes, med_offsts = collate_codes_offsts(p_med, age_start=10, age_stop=30)"
   ]
  },
  {
   "cell_type": "code",
   "execution_count": null,
   "metadata": {},
   "outputs": [],
   "source": [
    "assert len(med_num) == len(med_codes)\n",
    "assert med_o == med_offsts"
   ]
  },
  {
   "cell_type": "code",
   "execution_count": null,
   "metadata": {},
   "outputs": [
    {
     "data": {
      "text/plain": [
       "('xxnone', 'Nothing recorded')"
      ]
     },
     "execution_count": null,
     "metadata": {},
     "output_type": "execute_result"
    }
   ],
   "source": [
    "med_vocab.textify(med_num)[2]"
   ]
  },
  {
   "cell_type": "code",
   "execution_count": null,
   "metadata": {},
   "outputs": [
    {
     "data": {
      "text/plain": [
       "['xxnone',\n",
       " 'xxnone',\n",
       " 'xxnone',\n",
       " 'xxnone',\n",
       " 'xxnone',\n",
       " 'xxnone',\n",
       " 'xxnone',\n",
       " 'xxnone',\n",
       " 'xxnone',\n",
       " 'xxnone',\n",
       " 'xxnone',\n",
       " 'xxnone',\n",
       " 'xxnone',\n",
       " 'xxnone',\n",
       " 'xxnone',\n",
       " 'xxnone',\n",
       " 'xxnone',\n",
       " '749762||START',\n",
       " '807283||START',\n",
       " '749762||STOP',\n",
       " '807283||STOP']"
      ]
     },
     "execution_count": null,
     "metadata": {},
     "output_type": "execute_result"
    }
   ],
   "source": [
    "med_codes"
   ]
  },
  {
   "cell_type": "code",
   "execution_count": null,
   "metadata": {},
   "outputs": [
    {
     "data": {
      "text/plain": [
       "([0, 1, 2, 3, 4, 5, 6, 7, 8, 9, 10, 11, 12, 13, 14, 15, 16, 17, 18, 20],\n",
       " [0, 1, 2, 3, 4, 5, 6, 7, 8, 9, 10, 11, 12, 13, 14, 15, 16, 17, 18, 20])"
      ]
     },
     "execution_count": null,
     "metadata": {},
     "output_type": "execute_result"
    }
   ],
   "source": [
    "med_offsts, med_o"
   ]
  },
  {
   "cell_type": "code",
   "execution_count": null,
   "metadata": {},
   "outputs": [
    {
     "data": {
      "text/plain": [
       "(21, 20)"
      ]
     },
     "execution_count": null,
     "metadata": {},
     "output_type": "execute_result"
    }
   ],
   "source": [
    "len(med_codes),len(med_offsts)"
   ]
  },
  {
   "cell_type": "code",
   "execution_count": null,
   "metadata": {},
   "outputs": [],
   "source": [
    "alg_codes, alg_offsts = collate_codes_offsts(p_alg, age_start=10, age_stop=30)"
   ]
  },
  {
   "cell_type": "code",
   "execution_count": null,
   "metadata": {},
   "outputs": [
    {
     "data": {
      "text/plain": [
       "['xxnone',\n",
       " 'xxnone',\n",
       " 'xxnone',\n",
       " 'xxnone',\n",
       " 'xxnone',\n",
       " 'xxnone',\n",
       " 'xxnone',\n",
       " 'xxnone',\n",
       " 'xxnone',\n",
       " 'xxnone',\n",
       " 'xxnone',\n",
       " 'xxnone',\n",
       " 'xxnone',\n",
       " 'xxnone',\n",
       " 'xxnone',\n",
       " 'xxnone',\n",
       " 'xxnone',\n",
       " 'xxnone',\n",
       " 'xxnone',\n",
       " 'xxnone']"
      ]
     },
     "execution_count": null,
     "metadata": {},
     "output_type": "execute_result"
    }
   ],
   "source": [
    "alg_codes"
   ]
  },
  {
   "cell_type": "code",
   "execution_count": null,
   "metadata": {},
   "outputs": [
    {
     "data": {
      "text/plain": [
       "[0, 1, 2, 3, 4, 5, 6, 7, 8, 9, 10, 11, 12, 13, 14, 15, 16, 17, 18, 19]"
      ]
     },
     "execution_count": null,
     "metadata": {},
     "output_type": "execute_result"
    }
   ],
   "source": [
    "alg_offsts"
   ]
  },
  {
   "cell_type": "code",
   "execution_count": null,
   "metadata": {},
   "outputs": [],
   "source": [
    "obs_num, obs_o = codenums[0],offsts[0]"
   ]
  },
  {
   "cell_type": "code",
   "execution_count": null,
   "metadata": {},
   "outputs": [],
   "source": [
    "obs_codes, obs_offsts = collate_codes_offsts(p_obs, age_start=10, age_stop=30)"
   ]
  },
  {
   "cell_type": "code",
   "execution_count": null,
   "metadata": {},
   "outputs": [
    {
     "data": {
      "text/plain": [
       "(59, 20, 59, 20)"
      ]
     },
     "execution_count": null,
     "metadata": {},
     "output_type": "execute_result"
    }
   ],
   "source": [
    "len(obs_codes), len(obs_offsts), len(obs_num), len(obs_o)"
   ]
  },
  {
   "cell_type": "code",
   "execution_count": null,
   "metadata": {},
   "outputs": [],
   "source": [
    "assert len(obs_codes) == len(obs_num)\n",
    "assert obs_o == obs_offsts"
   ]
  },
  {
   "cell_type": "code",
   "execution_count": null,
   "metadata": {},
   "outputs": [
    {
     "name": "stdout",
     "output_type": "stream",
     "text": [
      "CPU times: user 420 ms, sys: 0 ns, total: 420 ms\n",
      "Wall time: 420 ms\n"
     ]
    }
   ],
   "source": [
    "%time codenums1, offsts1 = get_codenums_offsts(rec_dfs, vocab_list_1K.records_vocabs, age_start=220, age_stop=420, age_in_months=True)"
   ]
  },
  {
   "cell_type": "code",
   "execution_count": null,
   "metadata": {},
   "outputs": [
    {
     "name": "stdout",
     "output_type": "stream",
     "text": [
      "305\n",
      "200\n",
      "200\n",
      "201\n",
      "200\n",
      "275\n",
      "202\n",
      "201\n"
     ]
    }
   ],
   "source": [
    "for codenum, offst in zip(codenums1, offsts1):\n",
    "    print(len(codenum))\n",
    "    assert len(offst) == 200"
   ]
  },
  {
   "cell_type": "markdown",
   "metadata": {},
   "source": [
    "**Test - Demographics**"
   ]
  },
  {
   "cell_type": "code",
   "execution_count": null,
   "metadata": {},
   "outputs": [
    {
     "data": {
      "text/plain": [
       "birthdate                    1982-06-21\n",
       "marital                               M\n",
       "race                              white\n",
       "ethnicity                      hispanic\n",
       "gender                                F\n",
       "birthplace      Panama City  Panama  PA\n",
       "city                            Waltham\n",
       "state                     Massachusetts\n",
       "zip                                2472\n",
       "age_now_days                      14147\n",
       "Name: 18794a7c-c7fa-47d6-8387-9fc133c4e1e3, dtype: object"
      ]
     },
     "execution_count": null,
     "metadata": {},
     "output_type": "execute_result"
    }
   ],
   "source": [
    "demograph_vector"
   ]
  },
  {
   "cell_type": "code",
   "execution_count": null,
   "metadata": {},
   "outputs": [
    {
     "data": {
      "text/plain": [
       "([22, 7, 84, 2, 3, 2, 2, 5, 5, 2, 4], -0.22388270869843924)"
      ]
     },
     "execution_count": null,
     "metadata": {},
     "output_type": "execute_result"
    }
   ],
   "source": [
    "get_demographics(demograph_vector, vocab_list_1K.demographics_vocabs, vocab_list_1K.age_mean, vocab_list_1K.age_std)"
   ]
  },
  {
   "cell_type": "code",
   "execution_count": null,
   "metadata": {},
   "outputs": [],
   "source": [
    "dem_vector = ['1988-05-16','S',None,None,'F','North Adams','Marlborough','Massachusetts',1901,11141]"
   ]
  },
  {
   "cell_type": "code",
   "execution_count": null,
   "metadata": {},
   "outputs": [
    {
     "data": {
      "text/plain": [
       "0       1988-05-16\n",
       "1                S\n",
       "2             None\n",
       "3             None\n",
       "4                F\n",
       "5      North Adams\n",
       "6      Marlborough\n",
       "7    Massachusetts\n",
       "8             1901\n",
       "9            11141\n",
       "dtype: object"
      ]
     },
     "execution_count": null,
     "metadata": {},
     "output_type": "execute_result"
    }
   ],
   "source": [
    "dem_vector = pd.Series(dem_vector)\n",
    "dem_vector"
   ]
  },
  {
   "cell_type": "code",
   "execution_count": null,
   "metadata": {},
   "outputs": [
    {
     "data": {
      "text/plain": [
       "([17, 6, 90, 4, 0, 0, 2, 1, 31, 2, 1], -0.536998027641407)"
      ]
     },
     "execution_count": null,
     "metadata": {},
     "output_type": "execute_result"
    }
   ],
   "source": [
    "get_demographics(dem_vector, vocab_list_1K.demographics_vocabs, vocab_list_1K.age_mean, vocab_list_1K.age_std)"
   ]
  },
  {
   "cell_type": "code",
   "execution_count": null,
   "metadata": {},
   "outputs": [
    {
     "data": {
      "text/plain": [
       "([19, 11, 98, 3, 3, 3, 3, 151, 3, 2, 113], -0.7689700220811906)"
      ]
     },
     "execution_count": null,
     "metadata": {},
     "output_type": "execute_result"
    }
   ],
   "source": [
    "get_demographics(patient_demographics_df.loc['f5dcd418-09fe-4a2f-baa0-3da800bd8c3a'], vocab_list_1K.demographics_vocabs, \\\n",
    "                 vocab_list_1K.age_mean, vocab_list_1K.age_std) #has null"
   ]
  },
  {
   "cell_type": "code",
   "execution_count": null,
   "metadata": {},
   "outputs": [],
   "source": [
    "# vocab_list_1K.demographics_vocabs[10].ctoi"
   ]
  },
  {
   "cell_type": "markdown",
   "metadata": {},
   "source": [
    "## `ItemBase` - Patient"
   ]
  },
  {
   "cell_type": "markdown",
   "metadata": {},
   "source": [
    "- Based on the concept of `ItemBase` as used in fastai v1.x, in our case a single patient"
   ]
  },
  {
   "cell_type": "code",
   "execution_count": null,
   "metadata": {},
   "outputs": [],
   "source": [
    "#export\n",
    "class Patient():\n",
    "    '''Class defining a patient object that holds all numericalized / transformed data for a single patient'''\n",
    "    def __init__(self, nums, offsts, demographics, age_now, birthdate, conditions, ptid):\n",
    "#     def __init__(self, nums, offsts, demographics, age_now, birthdate, conditions, diabetes, stroke, alzheimers, coronaryheart, ptid):\n",
    "        self.obs_nums  = torch.tensor(nums[0])\n",
    "        self.alg_nums  = torch.tensor(nums[1])\n",
    "        self.crpl_nums = torch.tensor(nums[2])\n",
    "        self.med_nums  = torch.tensor(nums[3])\n",
    "        self.img_nums  = torch.tensor(nums[4])\n",
    "        self.proc_nums = torch.tensor(nums[5])\n",
    "        self.cnd_nums  = torch.tensor(nums[6])\n",
    "        self.imm_nums  = torch.tensor(nums[7])\n",
    "\n",
    "        self.obs_offsts  = torch.tensor(offsts[0])\n",
    "        self.alg_offsts  = torch.tensor(offsts[1])\n",
    "        self.crpl_offsts = torch.tensor(offsts[2])\n",
    "        self.med_offsts  = torch.tensor(offsts[3])\n",
    "        self.img_offsts  = torch.tensor(offsts[4])\n",
    "        self.proc_offsts = torch.tensor(offsts[5])\n",
    "        self.cnd_offsts  = torch.tensor(offsts[6])\n",
    "        self.imm_offsts  = torch.tensor(offsts[7])\n",
    "        \n",
    "        self.demographics = torch.tensor(demographics)\n",
    "        self.age_now      = torch.tensor([age_now])\n",
    "\n",
    "        self.ptid = ptid\n",
    "        self.birthdate = birthdate\n",
    "        self.conditions = conditions\n",
    "        \n",
    "#         self.diabetes = diabetes\n",
    "#         self.stroke = stroke\n",
    "#         self.alzheimers = alzheimers\n",
    "#         self.coronaryheart = coronaryheart\n",
    "    \n",
    "    def __repr__(self):\n",
    "        return f'ptid:{self.ptid}, birthdate:{self.birthdate}, {list(self.conditions.items())[:2]}.., device:{self.alg_nums.device}'\n",
    "    \n",
    "    @classmethod\n",
    "    def create(cls, rec_dfs, demograph, vocablist, ptid, birthdate, conditions, age_start, age_stop, age_in_months):\n",
    "#     def create(cls, rec_dfs, demograph, vocablist, ptid, birthdate, conditions, diabetes, stroke, alzheimers, coronaryheart, age_start, age_stop, age_in_months):\n",
    "        '''Lookup codes, numericalize and then create patient object - given a patient id'''\n",
    "        codenums, offsts  = get_codenums_offsts(rec_dfs, vocablist.records_vocabs, age_start, age_stop, age_in_months)\n",
    "        demographics, age_now = get_demographics(demograph, vocablist.demographics_vocabs, vocablist.age_mean, vocablist.age_std)\n",
    "#         return cls(codenums, offsts, demographics, age_now, birthdate, conditions, diabetes, stroke, alzheimers, coronaryheart, ptid)\n",
    "        return cls(codenums, offsts, demographics, age_now, birthdate, conditions, ptid)\n",
    "\n",
    "    def pin_memory(self):\n",
    "        '''Call `torch.Tensor.pin_memory` for (all tensors of) this patient object'''\n",
    "        if not self.obs_nums.is_pinned():\n",
    "            self.obs_nums  = self.obs_nums.pin_memory()\n",
    "            self.alg_nums  = self.alg_nums.pin_memory()\n",
    "            self.crpl_nums = self.crpl_nums.pin_memory()\n",
    "            self.med_nums  = self.med_nums.pin_memory()\n",
    "            self.img_nums  = self.img_nums.pin_memory()\n",
    "            self.proc_nums = self.proc_nums.pin_memory()\n",
    "            self.cnd_nums  = self.cnd_nums.pin_memory()\n",
    "            self.imm_nums  = self.imm_nums.pin_memory()\n",
    "\n",
    "            self.obs_offsts  = self.obs_offsts.pin_memory()\n",
    "            self.alg_offsts  = self.alg_offsts.pin_memory()\n",
    "            self.crpl_offsts = self.crpl_offsts.pin_memory()\n",
    "            self.med_offsts  = self.med_offsts.pin_memory()\n",
    "            self.img_offsts  = self.img_offsts.pin_memory()\n",
    "            self.proc_offsts = self.proc_offsts.pin_memory()\n",
    "            self.cnd_offsts  = self.cnd_offsts.pin_memory()\n",
    "            self.imm_offsts  = self.imm_offsts.pin_memory()\n",
    "\n",
    "            self.demographics = self.demographics.pin_memory()\n",
    "            self.age_now      = self.age_now.pin_memory()\n",
    "\n",
    "        return self\n",
    "    \n",
    "    def to_gpu(self, non_block=False):\n",
    "        '''Puts (all tensors of) this patient object on GPU'''\n",
    "        self.obs_nums  = self.obs_nums.to(DEVICE, non_blocking=non_block)\n",
    "        self.alg_nums  = self.alg_nums.to(DEVICE, non_blocking=non_block)\n",
    "        self.crpl_nums = self.crpl_nums.to(DEVICE, non_blocking=non_block)\n",
    "        self.med_nums  = self.med_nums.to(DEVICE, non_blocking=non_block)\n",
    "        self.img_nums  = self.img_nums.to(DEVICE, non_blocking=non_block)\n",
    "        self.proc_nums = self.proc_nums.to(DEVICE, non_blocking=non_block)\n",
    "        self.cnd_nums  = self.cnd_nums.to(DEVICE, non_blocking=non_block)\n",
    "        self.imm_nums  = self.imm_nums.to(DEVICE, non_blocking=non_block)\n",
    "\n",
    "        self.obs_offsts  = self.obs_offsts.to(DEVICE, non_blocking=non_block)\n",
    "        self.alg_offsts  = self.alg_offsts.to(DEVICE, non_blocking=non_block)\n",
    "        self.crpl_offsts = self.crpl_offsts.to(DEVICE, non_blocking=non_block)\n",
    "        self.med_offsts  = self.med_offsts.to(DEVICE, non_blocking=non_block)\n",
    "        self.img_offsts  = self.img_offsts.to(DEVICE, non_blocking=non_block)\n",
    "        self.proc_offsts = self.proc_offsts.to(DEVICE, non_blocking=non_block)\n",
    "        self.cnd_offsts  = self.cnd_offsts.to(DEVICE, non_blocking=non_block)\n",
    "        self.imm_offsts  = self.imm_offsts.to(DEVICE, non_blocking=non_block)\n",
    "        \n",
    "        self.demographics = self.demographics.to(DEVICE, non_blocking=non_block)\n",
    "        self.age_now      = self.age_now.to(DEVICE, non_blocking=non_block)\n",
    "        \n",
    "        return self"
   ]
  },
  {
   "cell_type": "code",
   "execution_count": null,
   "metadata": {},
   "outputs": [
    {
     "data": {
      "text/markdown": [
       "<h3 id=\"Patient\" class=\"doc_header\"><code>class</code> <code>Patient</code><a href=\"\" class=\"source_link\" style=\"float:right\">[source]</a></h3>\n",
       "\n",
       "> <code>Patient</code>(**`nums`**, **`offsts`**, **`demographics`**, **`age_now`**, **`birthdate`**, **`conditions`**, **`ptid`**)\n",
       "\n",
       "Class defining a patient object that holds all numericalized / transformed data for a single patient"
      ],
      "text/plain": [
       "<IPython.core.display.Markdown object>"
      ]
     },
     "metadata": {},
     "output_type": "display_data"
    }
   ],
   "source": [
    "show_doc(Patient, title_level=3)"
   ]
  },
  {
   "cell_type": "code",
   "execution_count": null,
   "metadata": {},
   "outputs": [
    {
     "data": {
      "text/markdown": [
       "<h4 id=\"Patient.create\" class=\"doc_header\"><code>Patient.create</code><a href=\"__main__.py#L39\" class=\"source_link\" style=\"float:right\">[source]</a></h4>\n",
       "\n",
       "> <code>Patient.create</code>(**`rec_dfs`**, **`demograph`**, **`vocablist`**, **`ptid`**, **`birthdate`**, **`conditions`**, **`age_start`**, **`age_stop`**, **`age_in_months`**)\n",
       "\n",
       "Lookup codes, numericalize and then create patient object - given a patient id"
      ],
      "text/plain": [
       "<IPython.core.display.Markdown object>"
      ]
     },
     "metadata": {},
     "output_type": "display_data"
    }
   ],
   "source": [
    "show_doc(Patient.create)"
   ]
  },
  {
   "cell_type": "code",
   "execution_count": null,
   "metadata": {},
   "outputs": [
    {
     "data": {
      "text/markdown": [
       "<h4 id=\"Patient.pin_memory\" class=\"doc_header\"><code>Patient.pin_memory</code><a href=\"__main__.py#L48\" class=\"source_link\" style=\"float:right\">[source]</a></h4>\n",
       "\n",
       "> <code>Patient.pin_memory</code>()\n",
       "\n",
       "Call `torch.Tensor.pin_memory` for (all tensors of) this patient object"
      ],
      "text/plain": [
       "<IPython.core.display.Markdown object>"
      ]
     },
     "metadata": {},
     "output_type": "display_data"
    }
   ],
   "source": [
    "show_doc(Patient.pin_memory)"
   ]
  },
  {
   "cell_type": "code",
   "execution_count": null,
   "metadata": {},
   "outputs": [
    {
     "data": {
      "text/markdown": [
       "<h4 id=\"Patient.to_gpu\" class=\"doc_header\"><code>Patient.to_gpu</code><a href=\"__main__.py#L74\" class=\"source_link\" style=\"float:right\">[source]</a></h4>\n",
       "\n",
       "> <code>Patient.to_gpu</code>(**`non_block`**=*`False`*)\n",
       "\n",
       "Puts (all tensors of) this patient object on GPU"
      ],
      "text/plain": [
       "<IPython.core.display.Markdown object>"
      ]
     },
     "metadata": {},
     "output_type": "display_data"
    }
   ],
   "source": [
    "show_doc(Patient.to_gpu)"
   ]
  },
  {
   "cell_type": "markdown",
   "metadata": {},
   "source": [
    "**Tests**"
   ]
  },
  {
   "cell_type": "code",
   "execution_count": null,
   "metadata": {},
   "outputs": [
    {
     "name": "stdout",
     "output_type": "stream",
     "text": [
      "CPU times: user 85.6 ms, sys: 250 µs, total: 85.8 ms\n",
      "Wall time: 84.5 ms\n"
     ]
    }
   ],
   "source": [
    "%time p1 = Patient.create(rec_dfs, demograph_vector, vocab_list_1K, tst_ptid, tst_pt_birthdate, tst_pt_conditions, age_start=10, age_stop=30, age_in_months=False)"
   ]
  },
  {
   "cell_type": "code",
   "execution_count": null,
   "metadata": {},
   "outputs": [
    {
     "data": {
      "text/plain": [
       "59"
      ]
     },
     "execution_count": null,
     "metadata": {},
     "output_type": "execute_result"
    }
   ],
   "source": [
    "len(p1.obs_nums)"
   ]
  },
  {
   "cell_type": "code",
   "execution_count": null,
   "metadata": {},
   "outputs": [],
   "source": [
    "assert len(p1.obs_nums) == len(obs_codes)"
   ]
  },
  {
   "cell_type": "code",
   "execution_count": null,
   "metadata": {},
   "outputs": [
    {
     "data": {
      "text/plain": [
       "tensor([ 0,  1,  2,  3,  4,  5,  6,  7,  8,  9, 10, 11, 12, 13, 14, 15, 16, 17,\n",
       "        18, 56])"
      ]
     },
     "execution_count": null,
     "metadata": {},
     "output_type": "execute_result"
    }
   ],
   "source": [
    "p1.obs_offsts"
   ]
  },
  {
   "cell_type": "code",
   "execution_count": null,
   "metadata": {},
   "outputs": [
    {
     "data": {
      "text/plain": [
       "(True, '18794a7c-c7fa-47d6-8387-9fc133c4e1e3', '1982-06-21')"
      ]
     },
     "execution_count": null,
     "metadata": {},
     "output_type": "execute_result"
    }
   ],
   "source": [
    "p1.conditions['diabetes'], p1.ptid, p1.birthdate"
   ]
  },
  {
   "cell_type": "code",
   "execution_count": null,
   "metadata": {},
   "outputs": [
    {
     "data": {
      "text/plain": [
       "ptid:18794a7c-c7fa-47d6-8387-9fc133c4e1e3, birthdate:1982-06-21, [('diabetes', True), ('stroke', False)].., device:cpu"
      ]
     },
     "execution_count": null,
     "metadata": {},
     "output_type": "execute_result"
    }
   ],
   "source": [
    "p1"
   ]
  },
  {
   "cell_type": "code",
   "execution_count": null,
   "metadata": {},
   "outputs": [
    {
     "data": {
      "text/plain": [
       "tensor([22,  7, 84,  2,  3,  2,  2,  5,  5,  2,  4])"
      ]
     },
     "execution_count": null,
     "metadata": {},
     "output_type": "execute_result"
    }
   ],
   "source": [
    "p1.demographics"
   ]
  },
  {
   "cell_type": "code",
   "execution_count": null,
   "metadata": {},
   "outputs": [
    {
     "data": {
      "text/plain": [
       "tensor([-0.2239], dtype=torch.float64)"
      ]
     },
     "execution_count": null,
     "metadata": {},
     "output_type": "execute_result"
    }
   ],
   "source": [
    "p1.age_now"
   ]
  },
  {
   "cell_type": "code",
   "execution_count": null,
   "metadata": {},
   "outputs": [
    {
     "data": {
      "text/plain": [
       "(torch.Size([11]), torch.Size([1]))"
      ]
     },
     "execution_count": null,
     "metadata": {},
     "output_type": "execute_result"
    }
   ],
   "source": [
    "p1.demographics.shape, p1.age_now.shape"
   ]
  },
  {
   "cell_type": "code",
   "execution_count": null,
   "metadata": {},
   "outputs": [
    {
     "data": {
      "text/plain": [
       "tensor([22,  7, 84,  2,  3,  2,  2,  5,  5,  2,  4,  0])"
      ]
     },
     "execution_count": null,
     "metadata": {},
     "output_type": "execute_result"
    }
   ],
   "source": [
    "torch.cat((p1.demographics, p1.age_now.type(torch.LongTensor)), dim=0)"
   ]
  },
  {
   "cell_type": "code",
   "execution_count": null,
   "metadata": {},
   "outputs": [
    {
     "data": {
      "text/plain": [
       "ptid:18794a7c-c7fa-47d6-8387-9fc133c4e1e3, birthdate:1982-06-21, conditions:[('diabetes', True), ('stroke', False)].., device:cuda:0"
      ]
     },
     "execution_count": null,
     "metadata": {},
     "output_type": "execute_result"
    }
   ],
   "source": [
    "p1.to_gpu()"
   ]
  },
  {
   "cell_type": "code",
   "execution_count": null,
   "metadata": {},
   "outputs": [
    {
     "data": {
      "text/plain": [
       "{'diabetes': True,\n",
       " 'stroke': False,\n",
       " 'alzheimers': False,\n",
       " 'coronary_heart': False,\n",
       " 'lung_cancer': False,\n",
       " 'breast_cancer': False,\n",
       " 'rheumatoid_arthritis': False,\n",
       " 'epilepsy': False}"
      ]
     },
     "execution_count": null,
     "metadata": {},
     "output_type": "execute_result"
    }
   ],
   "source": [
    "p1.conditions"
   ]
  },
  {
   "cell_type": "code",
   "execution_count": null,
   "metadata": {},
   "outputs": [
    {
     "data": {
      "text/plain": [
       "(tensor([22,  7, 84,  2,  3,  2,  2,  5,  5,  2,  4], device='cuda:0'),\n",
       " tensor([-0.2239], device='cuda:0', dtype=torch.float64))"
      ]
     },
     "execution_count": null,
     "metadata": {},
     "output_type": "execute_result"
    }
   ],
   "source": [
    "p1.demographics, p1.age_now"
   ]
  },
  {
   "cell_type": "markdown",
   "metadata": {},
   "source": [
    "## `ItemList` - PatientList"
   ]
  },
  {
   "cell_type": "markdown",
   "metadata": {},
   "source": [
    "- Based on the concept of `ItemList` as used in fastai v1.x, which is a list of `ItemBase` objects\n",
    "- In our case `PatientList` is a list of `Patient` objects"
   ]
  },
  {
   "cell_type": "markdown",
   "metadata": {},
   "source": [
    "**Multiprocessing Implementation**"
   ]
  },
  {
   "cell_type": "markdown",
   "metadata": {},
   "source": [
    "- Chunk total number of patients based on number of cores available on machine\n",
    "- Send each chunk of patients into a core\n",
    "    - Let the parallelized sub proc in each core load all data and do the heavy lifting\n",
    "    - The main proc just sends a list of indxs (patients) to work on"
   ]
  },
  {
   "cell_type": "code",
   "execution_count": null,
   "metadata": {},
   "outputs": [],
   "source": [
    "#exports\n",
    "def get_pckl_dir(path, split, age_start, age_stop, age_in_months):\n",
    "    '''Util function to construct pickle dir name - for persisting transformed `PatientList`s'''\n",
    "    dir_name = ''\n",
    "    dir_name += 'months' if age_in_months else 'years'\n",
    "    dir_name += f'_{age_start}_to_{age_stop}'\n",
    "    pckl_dir = Path(f'{path}/processed/{dir_name}/{split}')\n",
    "    return pckl_dir"
   ]
  },
  {
   "cell_type": "code",
   "execution_count": null,
   "metadata": {},
   "outputs": [],
   "source": [
    "#export \n",
    "multiprocessing.set_sharing_strategy('file_system')\n",
    "cpu_cnt = int(multiprocessing.cpu_count())\n",
    "\n",
    "class PatientList():\n",
    "    '''A class to hold a list of `Patient` objects'''\n",
    "    def __init__(self, pts, path, split, age_start, age_stop, age_in_months):\n",
    "        self.items     = pts\n",
    "        self.base_path = path\n",
    "        self.split     = split \n",
    "        self.age_start = age_start\n",
    "        self.age_stop  = age_stop\n",
    "        self.age_type  = 'months' if age_in_months else 'years'\n",
    "\n",
    "    def __len__(self): return len(self.items)\n",
    "    def __iter__(self): return iter(self.items)\n",
    "    def __getitem__(self, idx):\n",
    "        if isinstance(idx, (int,slice)): return self.items[idx]\n",
    "        if isinstance(idx[0],bool):\n",
    "            assert len(idx)==len(self) # bool mask\n",
    "            return [o for m,o in zip(idx,self.items) if m]\n",
    "        return [self.items[i] for i in idx]\n",
    "    def __repr__(self):\n",
    "        res  = f'{self.__class__.__name__} ({len(self)} items)\\n'\n",
    "        res += f'base path:{self.base_path}; split:{self.split}; age span:{self.age_stop - self.age_start} {self.age_type}\\n'\n",
    "        res += f'age_start:{self.age_start}; age_stop:{self.age_stop}; age_type:{self.age_type}\\n'\n",
    "        for item in self.items[:10]:\n",
    "            res += f'{item.__repr__()}\\n'\n",
    "        if len(self)>10: res = res[:-1]+ '...]'\n",
    "        return res\n",
    "\n",
    "    def _create_pts_chunk(indx_chnk, all_dfs, vocablist, cnds, pckl_dir, age_start, age_stop, age_in_months, verbose):\n",
    "        '''Parallelized function to run on one core and transform a single chunk of patients and save'''        \n",
    "        \n",
    "        pts = []\n",
    "        for indx in indx_chnk:\n",
    "            thispt = all_dfs[0].iloc[indx]\n",
    "            ptid, birthdate = thispt['patient'], thispt['birthdate']\n",
    "#             diabetes, stroke, alzheimers, coronaryheart = thispt['diabetes'], thispt['stroke'], thispt['alzheimers'], thispt['coronary_heart']\n",
    "            conditions = {}\n",
    "            for cnd in cnds:\n",
    "                conditions[cnd] = thispt[cnd]\n",
    "            \n",
    "            rec_dfs = []\n",
    "            for rec_df in all_dfs[2:]:\n",
    "                try:\n",
    "                    rec_dfs.append(rec_df.loc[[ptid]])\n",
    "                except KeyError:\n",
    "                    rec_dfs.append(pd.DataFrame())\n",
    "            \n",
    "            demograph = all_dfs[1].loc[ptid]\n",
    "#             pts.append(Patient.create(rec_dfs, demograph, vocablist, ptid, birthdate, conditions, diabetes, stroke, alzheimers, coronaryheart, age_start, age_stop, age_in_months))\n",
    "            pts.append(Patient.create(rec_dfs, demograph, vocablist, ptid, birthdate, conditions, age_start, age_stop, age_in_months))\n",
    "        \n",
    "        with open(f'{pckl_dir}/patients_{indx_chnk[0]}_{indx_chnk[-1]}.ptlist', 'wb') as pckl_f:\n",
    "            pickle.dump(pts,pckl_f)\n",
    "\n",
    "        if verbose: print(f'{multiprocessing.current_process().name}-- completed {len(indx_chnk)} patients')\n",
    "        return len(pts)\n",
    "\n",
    "    @classmethod\n",
    "    def create_save(cls, all_dfs, vocablist, pckl_dir, age_start, age_stop, age_in_months, verbose=False):\n",
    "        '''Function to parellelize (based on available CPU cores), transformation for all patients in given dataset and save `PatientList` object'''\n",
    "        pckl_dir.mkdir(parents=True, exist_ok=True)\n",
    "        indx_chnks = []\n",
    "        \n",
    "        patients_df = all_dfs[0]\n",
    "        cnds=[]\n",
    "        for col in (patients_df.columns[2:]):\n",
    "            if '_age' not in col:\n",
    "                cnds.append(col)\n",
    "        \n",
    "        total_pts = len(patients_df)\n",
    "        all_indxs = np.arange(total_pts)\n",
    "        chnk_sz = total_pts // (cpu_cnt-1)\n",
    "        for i in range(0, total_pts, chnk_sz):\n",
    "            indx_chnks.append(list(all_indxs[i:i+chnk_sz]))\n",
    "        \n",
    "        pool = multiprocessing.Pool(processes=cpu_cnt)\n",
    "        parallelize = partial(cls._create_pts_chunk, all_dfs=all_dfs, vocablist=vocablist, cnds=cnds, pckl_dir=pckl_dir, age_start=age_start, age_stop=age_stop, age_in_months=age_in_months, verbose=verbose)\n",
    "        all_chunks = pool.map(parallelize, indx_chnks)\n",
    "        pool.close()\n",
    "        \n",
    "        print(f'{sum(all_chunks)} total patients completed, saved patient list to {pckl_dir}')\n",
    "\n",
    "    @classmethod\n",
    "    def load(cls, path, split, age_start, age_stop, age_in_months):\n",
    "        '''Load previously created `PatientList` object'''\n",
    "        pckl_dir = get_pckl_dir(path, split, age_start, age_stop, age_in_months)\n",
    "        if not pckl_dir.exists(): raise Exception(f'\"{pckl_dir}\" does not exist, run pre-processing to create that dataset first.')\n",
    "        ptlist = []\n",
    "        for file in Path(pckl_dir).glob(\"*.ptlist\"):\n",
    "            with open(file, 'rb') as infile:\n",
    "                ptlist.extend(pickle.load(infile))\n",
    "                \n",
    "        return(cls(ptlist, path, split, age_start, age_stop, age_in_months))"
   ]
  },
  {
   "cell_type": "code",
   "execution_count": null,
   "metadata": {},
   "outputs": [
    {
     "data": {
      "text/markdown": [
       "<h3 id=\"PatientList\" class=\"doc_header\"><code>class</code> <code>PatientList</code><a href=\"\" class=\"source_link\" style=\"float:right\">[source]</a></h3>\n",
       "\n",
       "> <code>PatientList</code>(**`pts`**, **`path`**, **`split`**, **`age_start`**, **`age_stop`**, **`age_in_months`**)\n",
       "\n",
       "A class to hold a list of [`Patient`](/lemonpie/preprocessing_transform.html#Patient) objects"
      ],
      "text/plain": [
       "<IPython.core.display.Markdown object>"
      ]
     },
     "metadata": {},
     "output_type": "display_data"
    }
   ],
   "source": [
    "show_doc(PatientList, title_level=3)"
   ]
  },
  {
   "cell_type": "code",
   "execution_count": null,
   "metadata": {},
   "outputs": [
    {
     "data": {
      "text/markdown": [
       "<h4 id=\"PatientList.create_save\" class=\"doc_header\"><code>PatientList.create_save</code><a href=\"__main__.py#L61\" class=\"source_link\" style=\"float:right\">[source]</a></h4>\n",
       "\n",
       "> <code>PatientList.create_save</code>(**`all_dfs`**, **`vocablist`**, **`pckl_dir`**, **`age_start`**, **`age_stop`**, **`age_in_months`**, **`verbose`**=*`False`*)\n",
       "\n",
       "Function to parellelize (based on available CPU cores), transformation for all patients in given dataset and save [`PatientList`](/lemonpie/preprocessing_transform.html#PatientList) object"
      ],
      "text/plain": [
       "<IPython.core.display.Markdown object>"
      ]
     },
     "metadata": {},
     "output_type": "display_data"
    }
   ],
   "source": [
    "show_doc(PatientList.create_save)"
   ]
  },
  {
   "cell_type": "code",
   "execution_count": null,
   "metadata": {},
   "outputs": [
    {
     "data": {
      "text/markdown": [
       "<h4 id=\"PatientList._create_pts_chunk\" class=\"doc_header\"><code>PatientList._create_pts_chunk</code><a href=\"__main__.py#L32\" class=\"source_link\" style=\"float:right\">[source]</a></h4>\n",
       "\n",
       "> <code>PatientList._create_pts_chunk</code>(**`indx_chnk`**, **`all_dfs`**, **`vocablist`**, **`cnds`**, **`pckl_dir`**, **`age_start`**, **`age_stop`**, **`age_in_months`**, **`verbose`**)\n",
       "\n",
       "Parallelized function to run on one core and transform a single chunk of patients and save"
      ],
      "text/plain": [
       "<IPython.core.display.Markdown object>"
      ]
     },
     "metadata": {},
     "output_type": "display_data"
    }
   ],
   "source": [
    "show_doc(PatientList._create_pts_chunk)"
   ]
  },
  {
   "cell_type": "code",
   "execution_count": null,
   "metadata": {},
   "outputs": [
    {
     "data": {
      "text/markdown": [
       "<h4 id=\"PatientList.load\" class=\"doc_header\"><code>PatientList.load</code><a href=\"__main__.py#L86\" class=\"source_link\" style=\"float:right\">[source]</a></h4>\n",
       "\n",
       "> <code>PatientList.load</code>(**`path`**, **`split`**, **`age_start`**, **`age_stop`**, **`age_in_months`**)\n",
       "\n",
       "Load previously created [`PatientList`](/lemonpie/preprocessing_transform.html#PatientList) object"
      ],
      "text/plain": [
       "<IPython.core.display.Markdown object>"
      ]
     },
     "metadata": {},
     "output_type": "display_data"
    }
   ],
   "source": [
    "show_doc(PatientList.load)"
   ]
  },
  {
   "cell_type": "markdown",
   "metadata": {},
   "source": [
    "**Tests**"
   ]
  },
  {
   "cell_type": "code",
   "execution_count": null,
   "metadata": {},
   "outputs": [],
   "source": [
    "tst_pckl_dir = get_pckl_dir(PATH_1K, split='train', age_start=10, age_stop=30, age_in_months=False)"
   ]
  },
  {
   "cell_type": "code",
   "execution_count": null,
   "metadata": {},
   "outputs": [
    {
     "data": {
      "text/plain": [
       "Path('/home/vinod/.lemonpie/datasets/synthea/1K/processed/years_10_to_30/train')"
      ]
     },
     "execution_count": null,
     "metadata": {},
     "output_type": "execute_result"
    }
   ],
   "source": [
    "tst_pckl_dir"
   ]
  },
  {
   "cell_type": "code",
   "execution_count": null,
   "metadata": {},
   "outputs": [
    {
     "name": "stdout",
     "output_type": "stream",
     "text": [
      "702 total patients completed, saved patient list to /home/vinod/.lemonpie/datasets/synthea/1K/processed/years_10_to_30/train\n",
      "CPU times: user 745 ms, sys: 597 ms, total: 1.34 s\n",
      "Wall time: 5.9 s\n"
     ]
    }
   ],
   "source": [
    "%time PatientList.create_save(all_dfs, vocab_list_1K, tst_pckl_dir, age_start=10, age_stop=30, age_in_months=False)"
   ]
  },
  {
   "cell_type": "code",
   "execution_count": null,
   "metadata": {},
   "outputs": [],
   "source": [
    "#export\n",
    "def create_all_ptlists(path:Path, age_start:int, age_stop:int, age_in_months:bool, vocab_path:Path=None, verbose:bool=False, delete_existing:bool=True):\n",
    "    '''Create and save `PatientList`s for train, valid and test given dataset path'''\n",
    "    if vocab_path is None: vocab_path = path\n",
    "    all_dfs_splits = load_cleaned_ehrdata(path) #train_dfs, valid_dfs, test_dfs\n",
    "    splits = ['train', 'valid', 'test']\n",
    "    vocablist = EhrVocabList.load(vocab_path)\n",
    "    \n",
    "    for all_dfs, split in zip(all_dfs_splits, splits):\n",
    "        pckl_dir = get_pckl_dir(path, split, age_start, age_stop, age_in_months)\n",
    "        if delete_existing:\n",
    "            for file in Path(pckl_dir).glob(\"*.ptlist\"):\n",
    "                file.unlink()\n",
    "        PatientList.create_save(all_dfs, vocablist, pckl_dir, age_start, age_stop, age_in_months, verbose)"
   ]
  },
  {
   "cell_type": "markdown",
   "metadata": {},
   "source": [
    "**Tests**"
   ]
  },
  {
   "cell_type": "code",
   "execution_count": null,
   "metadata": {},
   "outputs": [
    {
     "name": "stdout",
     "output_type": "stream",
     "text": [
      "702 total patients completed, saved patient list to /home/vinod/.lemonpie/datasets/synthea/1K/processed/months_240_to_360/train\n",
      "234 total patients completed, saved patient list to /home/vinod/.lemonpie/datasets/synthea/1K/processed/months_240_to_360/valid\n",
      "235 total patients completed, saved patient list to /home/vinod/.lemonpie/datasets/synthea/1K/processed/months_240_to_360/test\n",
      "CPU times: user 1.65 s, sys: 1.72 s, total: 3.37 s\n",
      "Wall time: 20 s\n"
     ]
    }
   ],
   "source": [
    "%time create_all_ptlists(PATH_1K, age_start=240, age_stop=360, age_in_months=True) #20 to 30 yrs in mos (seq_len = 120)"
   ]
  },
  {
   "cell_type": "markdown",
   "metadata": {},
   "source": [
    "**Other examples**\n",
    "\n",
    "```python\n",
    "%time create_all_ptlists(PATH_1K, age_start=0, age_stop=20, age_in_months=False, verbose=False)\n",
    "```\n",
    "```\n",
    "664 total patients completed, saved patient list to datasets/synthea/1K/processed/years_0_to_20/train\n",
    "222 total patients completed, saved patient list to datasets/synthea/1K/processed/years_0_to_20/valid\n",
    "222 total patients completed, saved patient list to datasets/synthea/1K/processed/years_0_to_20/test\n",
    "CPU times: user 3.66 s, sys: 1.98 s, total: 5.64 s\n",
    "Wall time: 32.4 s\n",
    "```\n",
    "```python\n",
    "%time create_all_ptlists(PATH_1K, age_start=0, age_stop=35, age_in_months=False, verbose=False)\n",
    "```\n",
    "```\n",
    "664 total patients completed, saved patient list to datasets/synthea/1K/processed/years_0_to_35/train\n",
    "222 total patients completed, saved patient list to datasets/synthea/1K/processed/years_0_to_35/valid\n",
    "222 total patients completed, saved patient list to datasets/synthea/1K/processed/years_0_to_35/test\n",
    "CPU times: user 3.66 s, sys: 1.93 s, total: 5.59 s\n",
    "Wall time: 40.2 s\n",
    "```\n",
    "```python\n",
    "%time create_all_ptlists(PATH_1K, age_start=120, age_stop=360, age_in_months=True) #10 to 30 yrs in mos (seq_len = 240)\n",
    "```\n",
    "```\n",
    "664 total patients completed, saved patient list to datasets/synthea/1K/processed/months_120_to_360/train\n",
    "222 total patients completed, saved patient list to datasets/synthea/1K/processed/months_120_to_360/valid\n",
    "222 total patients completed, saved patient list to datasets/synthea/1K/processed/months_120_to_360/test\n",
    "CPU times: user 3.84 s, sys: 1.98 s, total: 5.82 s\n",
    "Wall time: 46.8 s\n",
    "```"
   ]
  },
  {
   "cell_type": "code",
   "execution_count": null,
   "metadata": {},
   "outputs": [],
   "source": [
    "ptlist_train = PatientList.load(PATH_1K, 'train', age_start=240, age_stop=360, age_in_months=True)\n",
    "ptlist_valid = PatientList.load(PATH_1K, 'valid', age_start=240, age_stop=360, age_in_months=True)\n",
    "ptlist_test  = PatientList.load(PATH_1K, 'test',  age_start=240, age_stop=360, age_in_months=True)"
   ]
  },
  {
   "cell_type": "code",
   "execution_count": null,
   "metadata": {},
   "outputs": [
    {
     "data": {
      "text/plain": [
       "(702, 234, 235)"
      ]
     },
     "execution_count": null,
     "metadata": {},
     "output_type": "execute_result"
    }
   ],
   "source": [
    "len(ptlist_train), len(ptlist_valid), len(ptlist_test)"
   ]
  },
  {
   "cell_type": "code",
   "execution_count": null,
   "metadata": {},
   "outputs": [
    {
     "data": {
      "text/plain": [
       "PatientList (702 items)\n",
       "base path:/home/vinod/.lemonpie/datasets/synthea/1K; split:train; age span:120 months\n",
       "age_start:240; age_stop:360; age_type:months\n",
       "ptid:0ace3e15-8aa4-41c5-8b90-2408285ebcfe, birthdate:1986-04-02, [('diabetes', False), ('stroke', False)].., device:cpu\n",
       "ptid:af1495be-5077-4087-98b1-9ff624c7582c, birthdate:2008-07-17, [('diabetes', False), ('stroke', False)].., device:cpu\n",
       "ptid:f23e12d9-2ec6-4006-b041-ea78d374e9c9, birthdate:2014-09-06, [('diabetes', False), ('stroke', False)].., device:cpu\n",
       "ptid:1968aa31-5fce-461a-9486-6e385a7b75e7, birthdate:1986-04-11, [('diabetes', False), ('stroke', False)].., device:cpu\n",
       "ptid:1211c8ff-ab73-49f3-b2ab-87b7a03f6167, birthdate:1972-03-24, [('diabetes', False), ('stroke', False)].., device:cpu\n",
       "ptid:27a8b7b6-007d-4036-82a7-80a9ab670dcb, birthdate:2005-04-13, [('diabetes', False), ('stroke', False)].., device:cpu\n",
       "ptid:532696f2-0b76-4eb0-9aea-a74e2fb1bed2, birthdate:1967-05-18, [('diabetes', False), ('stroke', False)].., device:cpu\n",
       "ptid:8641e13a-c832-4d97-811a-b735d0abb45e, birthdate:1982-10-06, [('diabetes', False), ('stroke', False)].., device:cpu\n",
       "ptid:7f874045-4062-405d-8c23-abb12d0af23e, birthdate:1972-05-20, [('diabetes', False), ('stroke', False)].., device:cpu\n",
       "ptid:0b6a83ae-fcb1-4b75-9ffa-d52898167d66, birthdate:1989-08-05, [('diabetes', False), ('stroke', False)].., device:cpu...]"
      ]
     },
     "execution_count": null,
     "metadata": {},
     "output_type": "execute_result"
    }
   ],
   "source": [
    "ptlist_train"
   ]
  },
  {
   "cell_type": "code",
   "execution_count": null,
   "metadata": {},
   "outputs": [
    {
     "data": {
      "text/plain": [
       "PatientList (235 items)\n",
       "base path:/home/vinod/.lemonpie/datasets/synthea/1K; split:test; age span:120 months\n",
       "age_start:240; age_stop:360; age_type:months\n",
       "ptid:b6e2e2fd-9584-4938-8b64-b61758009f72, birthdate:2014-04-11, [('diabetes', False), ('stroke', False)].., device:cpu\n",
       "ptid:9043026f-7d60-4b65-9c54-8ae48769ea00, birthdate:1962-09-11, [('diabetes', False), ('stroke', False)].., device:cpu\n",
       "ptid:cb1be644-93a5-4208-8776-f5feece6967a, birthdate:1954-02-03, [('diabetes', False), ('stroke', False)].., device:cpu\n",
       "ptid:817d7365-56fc-43f6-845e-ea9f5623d1aa, birthdate:1982-11-04, [('diabetes', False), ('stroke', False)].., device:cpu\n",
       "ptid:8b119fdd-0fea-46dd-9106-b5c7813e7260, birthdate:2000-07-25, [('diabetes', False), ('stroke', False)].., device:cpu\n",
       "ptid:6a8faf4c-5577-4f9b-964d-6dc253b3b0c1, birthdate:1949-03-16, [('diabetes', False), ('stroke', False)].., device:cpu\n",
       "ptid:6cf93841-acdc-45c5-aca5-7c3efefd7494, birthdate:1984-06-12, [('diabetes', False), ('stroke', False)].., device:cpu\n",
       "ptid:8db0d104-4c3f-40d3-bcf5-f5eb81b7308f, birthdate:2002-03-02, [('diabetes', False), ('stroke', False)].., device:cpu\n",
       "ptid:1a7e8f38-95df-4c27-8897-21ed04c3b98b, birthdate:1942-05-23, [('diabetes', False), ('stroke', False)].., device:cpu\n",
       "ptid:04db6603-0017-4cc6-a46d-6df577b0a10d, birthdate:1972-09-04, [('diabetes', False), ('stroke', False)].., device:cpu...]"
      ]
     },
     "execution_count": null,
     "metadata": {},
     "output_type": "execute_result"
    }
   ],
   "source": [
    "ptlist_test"
   ]
  },
  {
   "cell_type": "code",
   "execution_count": null,
   "metadata": {},
   "outputs": [
    {
     "data": {
      "text/plain": [
       "(145, 120)"
      ]
     },
     "execution_count": null,
     "metadata": {},
     "output_type": "execute_result"
    }
   ],
   "source": [
    "len(ptlist_train.items[300].obs_nums), len(ptlist_valid.items[200].obs_nums)"
   ]
  },
  {
   "cell_type": "markdown",
   "metadata": {},
   "source": [
    "Offsets length must be same as age_span (in this case 120)"
   ]
  },
  {
   "cell_type": "code",
   "execution_count": null,
   "metadata": {},
   "outputs": [
    {
     "data": {
      "text/plain": [
       "(120, 120)"
      ]
     },
     "execution_count": null,
     "metadata": {},
     "output_type": "execute_result"
    }
   ],
   "source": [
    "len(ptlist_train.items[300].obs_offsts), len(ptlist_valid.items[200].obs_offsts)"
   ]
  },
  {
   "cell_type": "code",
   "execution_count": null,
   "metadata": {},
   "outputs": [
    {
     "data": {
      "text/plain": [
       "tensor([108, 112, 121,   0,   0,   0,   0,   0,   0,   0,   0,   0,   0,   0,\n",
       "        108, 112, 121,   0,   0,   0,   0,   0,   0,   0,   0,   0,   0,   0,\n",
       "        108, 112, 121,   0,   5,   7,  15,  19,  27,  33,  39,  43,  54,  60,\n",
       "         64,  71,  73,  79,  84,  87,  95,  97, 102, 468,   0,   0,   0,   0,\n",
       "          0,   0,   0,   0,   0,   0,   0,   0,   0,   0,   0,   0,   0,   0,\n",
       "          0,   0,   0,   0,   0,   0,   0,   0,   0,   0,   0,   0,   0,   0,\n",
       "          0,   0,   0,   0,   0,   0,   0,   0,   0,   0,   0,   0,   0,   0,\n",
       "          0,   0,   0,   0,   0,   0,   0,   0,   0,   0,   0,   0,   0,   0,\n",
       "          0,   0,   0,   0,   0,   0,   0,   0,   0,   0,   0,   0,   0,   0,\n",
       "          0,   0,   0,   0,   0,   0,   0,   0,   0,   0,   0,   0,   0,   0,\n",
       "          0,   0,   0,   0,   0])"
      ]
     },
     "execution_count": null,
     "metadata": {},
     "output_type": "execute_result"
    }
   ],
   "source": [
    "ptlist_train.items[300].obs_nums"
   ]
  },
  {
   "cell_type": "code",
   "execution_count": null,
   "metadata": {},
   "outputs": [
    {
     "data": {
      "text/plain": [
       "tensor([0, 0, 0, 0, 0, 0, 0, 0, 0, 0, 0, 0, 0, 0, 0, 0, 0, 0, 0, 0, 0, 0, 0, 0,\n",
       "        0, 0, 2, 0, 0, 0, 0, 0, 0, 0, 0, 0, 0, 0, 0, 0, 0, 0, 0, 0, 0, 0, 0, 0,\n",
       "        0, 0, 0, 0, 0, 0, 0, 0, 0, 0, 0, 0, 0, 0, 0, 0, 0, 0, 0, 0, 0, 0, 0, 0,\n",
       "        0, 0, 0, 0, 0, 0, 0, 0, 0, 0, 0, 0, 0, 0, 0, 0, 0, 0, 0, 0, 0, 0, 0, 0,\n",
       "        0, 0, 0, 0, 0, 0, 0, 0, 0, 0, 0, 0, 0, 0, 0, 0, 0, 0, 0, 0, 0, 0, 0, 0])"
      ]
     },
     "execution_count": null,
     "metadata": {},
     "output_type": "execute_result"
    }
   ],
   "source": [
    "ptlist_train[300].proc_nums"
   ]
  },
  {
   "cell_type": "code",
   "execution_count": null,
   "metadata": {},
   "outputs": [
    {
     "data": {
      "text/plain": [
       "{'diabetes': False,\n",
       " 'stroke': False,\n",
       " 'alzheimers': False,\n",
       " 'coronary_heart': False,\n",
       " 'lung_cancer': False,\n",
       " 'breast_cancer': False,\n",
       " 'rheumatoid_arthritis': False,\n",
       " 'epilepsy': False}"
      ]
     },
     "execution_count": null,
     "metadata": {},
     "output_type": "execute_result"
    }
   ],
   "source": [
    "ptlist_train[300].conditions"
   ]
  },
  {
   "cell_type": "code",
   "execution_count": null,
   "metadata": {},
   "outputs": [
    {
     "data": {
      "text/plain": [
       "['diabetes',\n",
       " 'stroke',\n",
       " 'alzheimers',\n",
       " 'coronary_heart',\n",
       " 'lung_cancer',\n",
       " 'breast_cancer',\n",
       " 'rheumatoid_arthritis',\n",
       " 'epilepsy']"
      ]
     },
     "execution_count": null,
     "metadata": {},
     "output_type": "execute_result"
    }
   ],
   "source": [
    "cnds"
   ]
  },
  {
   "cell_type": "code",
   "execution_count": null,
   "metadata": {},
   "outputs": [],
   "source": [
    "counts = []\n",
    "for cnd in cnds:\n",
    "    train_count = [ptlist_train[i].conditions[cnd] == 1 for i in range(len(ptlist_train))].count(True)\n",
    "    valid_count = [ptlist_valid[i].conditions[cnd] == 1 for i in range(len(ptlist_valid))].count(True)\n",
    "    test_count  = [ptlist_test[i].conditions[cnd] == 1 for i in range(len(ptlist_test))].count(True)\n",
    "    total_count = train_count+valid_count+test_count\n",
    "    counts.append([train_count, valid_count, test_count, total_count])\n",
    "    \n",
    "counts_df = pd.DataFrame(counts, index=cnds, columns=['train','valid','test','total'])"
   ]
  },
  {
   "cell_type": "code",
   "execution_count": null,
   "metadata": {},
   "outputs": [
    {
     "data": {
      "text/html": [
       "<div>\n",
       "<style scoped>\n",
       "    .dataframe tbody tr th:only-of-type {\n",
       "        vertical-align: middle;\n",
       "    }\n",
       "\n",
       "    .dataframe tbody tr th {\n",
       "        vertical-align: top;\n",
       "    }\n",
       "\n",
       "    .dataframe thead th {\n",
       "        text-align: right;\n",
       "    }\n",
       "</style>\n",
       "<table border=\"1\" class=\"dataframe\">\n",
       "  <thead>\n",
       "    <tr style=\"text-align: right;\">\n",
       "      <th></th>\n",
       "      <th>train</th>\n",
       "      <th>valid</th>\n",
       "      <th>test</th>\n",
       "      <th>total</th>\n",
       "    </tr>\n",
       "  </thead>\n",
       "  <tbody>\n",
       "    <tr>\n",
       "      <th>diabetes</th>\n",
       "      <td>43</td>\n",
       "      <td>14</td>\n",
       "      <td>19</td>\n",
       "      <td>76</td>\n",
       "    </tr>\n",
       "    <tr>\n",
       "      <th>stroke</th>\n",
       "      <td>30</td>\n",
       "      <td>7</td>\n",
       "      <td>11</td>\n",
       "      <td>48</td>\n",
       "    </tr>\n",
       "    <tr>\n",
       "      <th>alzheimers</th>\n",
       "      <td>12</td>\n",
       "      <td>7</td>\n",
       "      <td>6</td>\n",
       "      <td>25</td>\n",
       "    </tr>\n",
       "    <tr>\n",
       "      <th>coronary_heart</th>\n",
       "      <td>39</td>\n",
       "      <td>11</td>\n",
       "      <td>11</td>\n",
       "      <td>61</td>\n",
       "    </tr>\n",
       "    <tr>\n",
       "      <th>lung_cancer</th>\n",
       "      <td>12</td>\n",
       "      <td>0</td>\n",
       "      <td>2</td>\n",
       "      <td>14</td>\n",
       "    </tr>\n",
       "    <tr>\n",
       "      <th>breast_cancer</th>\n",
       "      <td>11</td>\n",
       "      <td>8</td>\n",
       "      <td>2</td>\n",
       "      <td>21</td>\n",
       "    </tr>\n",
       "    <tr>\n",
       "      <th>rheumatoid_arthritis</th>\n",
       "      <td>2</td>\n",
       "      <td>0</td>\n",
       "      <td>0</td>\n",
       "      <td>2</td>\n",
       "    </tr>\n",
       "    <tr>\n",
       "      <th>epilepsy</th>\n",
       "      <td>15</td>\n",
       "      <td>5</td>\n",
       "      <td>2</td>\n",
       "      <td>22</td>\n",
       "    </tr>\n",
       "  </tbody>\n",
       "</table>\n",
       "</div>"
      ],
      "text/plain": [
       "                      train  valid  test  total\n",
       "diabetes                 43     14    19     76\n",
       "stroke                   30      7    11     48\n",
       "alzheimers               12      7     6     25\n",
       "coronary_heart           39     11    11     61\n",
       "lung_cancer              12      0     2     14\n",
       "breast_cancer            11      8     2     21\n",
       "rheumatoid_arthritis      2      0     0      2\n",
       "epilepsy                 15      5     2     22"
      ]
     },
     "execution_count": null,
     "metadata": {},
     "output_type": "execute_result"
    }
   ],
   "source": [
    "counts_df"
   ]
  },
  {
   "cell_type": "markdown",
   "metadata": {},
   "source": [
    "## Do All Preprocessing"
   ]
  },
  {
   "cell_type": "code",
   "execution_count": null,
   "metadata": {},
   "outputs": [],
   "source": [
    "#export\n",
    "def preprocess_ehr_dataset(path, today, conditions_dict, valid_pct=0.2, test_pct=0.2, obs_vocab_buckets=5,\n",
    "                           age_start=0, age_stop=20, age_in_months=False, vocab_path=None, from_raw_data=False):\n",
    "    '''Util function to do all preprocessing - split & clean raw dataset, create vocab lists and create patient lists'''\n",
    "    if from_raw_data:\n",
    "        print('------------------- Splitting and cleaning raw dataset -------------------')\n",
    "        clean_raw_ehrdata(path, valid_pct, test_pct, conditions_dict, today)\n",
    "        print('------------------- Creating vocab lists -------------------')\n",
    "        EhrVocabList.create(path, num_buckets=obs_vocab_buckets).save()\n",
    "    else:\n",
    "        print('Since data is pre-cleaned, skipping Cleaning, Splitting and Vocab-creation')\n",
    " \n",
    "    print('------------------- Creating patient lists -------------------')\n",
    "    create_all_ptlists(path, age_start, age_stop, age_in_months, vocab_path)"
   ]
  },
  {
   "cell_type": "code",
   "execution_count": null,
   "metadata": {},
   "outputs": [
    {
     "data": {
      "text/plain": [
       "{'diabetes': '44054006',\n",
       " 'stroke': '230690007',\n",
       " 'alzheimers': '26929004',\n",
       " 'coronary_heart': '53741008',\n",
       " 'lung_cancer': '254637007',\n",
       " 'breast_cancer': '254837009',\n",
       " 'rheumatoid_arthritis': '69896004',\n",
       " 'epilepsy': '84757009'}"
      ]
     },
     "execution_count": null,
     "metadata": {},
     "output_type": "execute_result"
    }
   ],
   "source": [
    "CONDITIONS"
   ]
  },
  {
   "cell_type": "code",
   "execution_count": null,
   "metadata": {},
   "outputs": [
    {
     "name": "stdout",
     "output_type": "stream",
     "text": [
      "------------------- Splitting and cleaning raw dataset -------------------\n",
      "Splits:: train: 0.6, valid: 0.2, test: 0.2\n",
      "Split patients into:: Train: 702, Valid: 234, Test: 235 -- Total before split: 1171\n",
      "Saved train data to /home/vinod/.lemonpie/datasets/synthea/1K/raw_split/train\n",
      "Saved valid data to /home/vinod/.lemonpie/datasets/synthea/1K/raw_split/valid\n",
      "Saved test data to /home/vinod/.lemonpie/datasets/synthea/1K/raw_split/test\n",
      "Saved cleaned \"train\" data to /home/vinod/.lemonpie/datasets/synthea/1K/cleaned/train\n",
      "Saved vocab code tables to /home/vinod/.lemonpie/datasets/synthea/1K/cleaned/train/codes\n",
      "Saved cleaned \"valid\" data to /home/vinod/.lemonpie/datasets/synthea/1K/cleaned/valid\n",
      "Saved cleaned \"test\" data to /home/vinod/.lemonpie/datasets/synthea/1K/cleaned/test\n",
      "------------------- Creating vocab lists -------------------\n",
      "Saved vocab lists to /home/vinod/.lemonpie/datasets/synthea/1K/processed\n",
      "------------------- Creating patient lists -------------------\n",
      "702 total patients completed, saved patient list to /home/vinod/.lemonpie/datasets/synthea/1K/processed/years_0_to_20/train\n",
      "234 total patients completed, saved patient list to /home/vinod/.lemonpie/datasets/synthea/1K/processed/years_0_to_20/valid\n",
      "235 total patients completed, saved patient list to /home/vinod/.lemonpie/datasets/synthea/1K/processed/years_0_to_20/test\n"
     ]
    }
   ],
   "source": [
    "preprocess_ehr_dataset(PATH_1K, SYNTHEA_DATAGEN_DATES['1K'], CONDITIONS, from_raw_data=True)"
   ]
  },
  {
   "cell_type": "markdown",
   "metadata": {},
   "source": [
    "## Export -"
   ]
  },
  {
   "cell_type": "code",
   "execution_count": null,
   "metadata": {},
   "outputs": [
    {
     "name": "stdout",
     "output_type": "stream",
     "text": [
      "Converted 00_basics.ipynb.\n",
      "Converted 01_preprocessing_clean.ipynb.\n",
      "Converted 02_preprocessing_vocab.ipynb.\n",
      "Converted 03_preprocessing_transform.ipynb.\n",
      "Converted 04_data.ipynb.\n",
      "Converted 05_metrics.ipynb.\n",
      "Converted 06_learn.ipynb.\n",
      "Converted 07_models.ipynb.\n",
      "Converted 08_experiment.ipynb.\n",
      "Converted 99_quick_walkthru.ipynb.\n",
      "Converted 99_running_exps.ipynb.\n",
      "Converted index.ipynb.\n"
     ]
    }
   ],
   "source": [
    "#hide\n",
    "from nbdev.export import *\n",
    "notebook2script()"
   ]
  },
  {
   "cell_type": "code",
   "execution_count": null,
   "metadata": {},
   "outputs": [],
   "source": []
  }
 ],
 "metadata": {
  "kernelspec": {
   "display_name": "Python 3",
   "language": "python",
   "name": "python3"
  }
 },
 "nbformat": 4,
 "nbformat_minor": 2
}
