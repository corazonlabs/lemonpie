{
 "cells": [
  {
   "cell_type": "markdown",
   "id": "fiscal-money",
   "metadata": {},
   "source": [
    "# Automatic Mixed Precision"
   ]
  },
  {
   "cell_type": "markdown",
   "id": "8474ceed-a0bf-45a0-b757-14283133db25",
   "metadata": {},
   "source": [
    "## Notes"
   ]
  },
  {
   "cell_type": "markdown",
   "id": "705dff1b-7854-4933-8815-4daa45f9b6b1",
   "metadata": {},
   "source": [
    "- NVIDIA - [Training With Mixed Precision](https://docs.nvidia.com/deeplearning/performance/mixed-precision-training/index.html)\n",
    "- [A developer-friendly guide to mixed precision training with PyTorch](https://spell.ml/blog/mixed-precision-training-with-pytorch-Xuk7YBEAACAASJam)\n",
    "- Pytorch docs\n",
    "    - [Recipe implemented below](https://pytorch.org/tutorials/recipes/recipes/amp_recipe.html)\n",
    "    - [Examples](https://pytorch.org/docs/stable/notes/amp_examples.html)\n",
    "    - [docs](https://pytorch.org/docs/stable/amp.html#)\n",
    "- fastai\n",
    "    - [docs](https://docs.fast.ai/text.data.html#Numericalizing)\n",
    "    - [code for multiple of 8](https://github.com/fastai/fastai/tree/master/fastai/text/data.py#L15)\n",
    "        - `return vocab + [f'xxfake' for i in range(0, 8-len(vocab)%8)]`"
   ]
  },
  {
   "cell_type": "markdown",
   "id": "manual-medicaid",
   "metadata": {},
   "source": [
    "## Recipe from Pytorch Docs"
   ]
  },
  {
   "cell_type": "code",
   "execution_count": null,
   "id": "constant-stability",
   "metadata": {},
   "outputs": [],
   "source": [
    "import torch, time, gc\n",
    "\n",
    "# Timing utilities\n",
    "start_time = None\n",
    "\n",
    "def start_timer():\n",
    "    global start_time\n",
    "    gc.collect()\n",
    "    torch.cuda.empty_cache()\n",
    "    torch.cuda.reset_max_memory_allocated()\n",
    "    torch.cuda.synchronize()\n",
    "    start_time = time.time()\n",
    "\n",
    "def end_timer_and_print(local_msg):\n",
    "    torch.cuda.synchronize()\n",
    "    end_time = time.time()\n",
    "    print(\"\\n\" + local_msg)\n",
    "    print(\"Total execution time = {:.3f} sec\".format(end_time - start_time))\n",
    "    print(\"Max memory used by tensors = {} bytes\".format(torch.cuda.max_memory_allocated()))"
   ]
  },
  {
   "cell_type": "code",
   "execution_count": null,
   "id": "worthy-still",
   "metadata": {},
   "outputs": [],
   "source": [
    "def make_model(in_size, out_size, num_layers):\n",
    "    layers = []\n",
    "    for _ in range(num_layers - 1):\n",
    "        layers.append(torch.nn.Linear(in_size, in_size))\n",
    "        layers.append(torch.nn.ReLU())\n",
    "    layers.append(torch.nn.Linear(in_size, out_size))\n",
    "    return torch.nn.Sequential(*tuple(layers)).cuda()"
   ]
  },
  {
   "cell_type": "code",
   "execution_count": null,
   "id": "continent-abortion",
   "metadata": {},
   "outputs": [],
   "source": [
    "batch_size = 512 # Try, for example, 128, 256, 513.\n",
    "in_size = 4096\n",
    "out_size = 4096\n",
    "num_layers = 3\n",
    "num_batches = 50\n",
    "epochs = 3\n",
    "\n",
    "# Creates data in default precision.\n",
    "# The same data is used for both default and mixed precision trials below.\n",
    "# You don't need to manually change inputs' dtype when enabling mixed precision.\n",
    "data = [torch.randn(batch_size, in_size, device=\"cuda\") for _ in range(num_batches)]\n",
    "targets = [torch.randn(batch_size, out_size, device=\"cuda\") for _ in range(num_batches)]\n",
    "\n",
    "loss_fn = torch.nn.MSELoss().cuda()"
   ]
  },
  {
   "cell_type": "markdown",
   "id": "6b76161c-12f3-435d-be59-4861326f0ec1",
   "metadata": {},
   "source": [
    "### Analysis"
   ]
  },
  {
   "cell_type": "code",
   "execution_count": null,
   "id": "fb160c90-fc33-4005-82c0-456490f67f2f",
   "metadata": {},
   "outputs": [
    {
     "data": {
      "text/plain": [
       "Sequential(\n",
       "  (0): Linear(in_features=4096, out_features=4096, bias=True)\n",
       "  (1): ReLU()\n",
       "  (2): Linear(in_features=4096, out_features=4096, bias=True)\n",
       "  (3): ReLU()\n",
       "  (4): Linear(in_features=4096, out_features=4096, bias=True)\n",
       ")"
      ]
     },
     "execution_count": null,
     "metadata": {},
     "output_type": "execute_result"
    }
   ],
   "source": [
    "net = make_model(in_size, out_size, num_layers)\n",
    "net"
   ]
  },
  {
   "cell_type": "code",
   "execution_count": null,
   "id": "582ab92a-755c-477d-a9de-2f6b4f4a4645",
   "metadata": {},
   "outputs": [
    {
     "name": "stdout",
     "output_type": "stream",
     "text": [
      "total: 50,343,936, trainable: 50,343,936, non_trainable: 0\n"
     ]
    },
    {
     "data": {
      "text/plain": [
       "(50343936, 50343936, 0)"
      ]
     },
     "execution_count": null,
     "metadata": {},
     "output_type": "execute_result"
    }
   ],
   "source": [
    "count_parameters(net)"
   ]
  },
  {
   "cell_type": "code",
   "execution_count": null,
   "id": "b47efe4b-a95a-444f-aa0e-29e50b84bd60",
   "metadata": {},
   "outputs": [
    {
     "data": {
      "text/plain": [
       "torch.Size([512, 4096])"
      ]
     },
     "execution_count": null,
     "metadata": {},
     "output_type": "execute_result"
    }
   ],
   "source": [
    "data[49].shape"
   ]
  },
  {
   "cell_type": "code",
   "execution_count": null,
   "id": "d61adeb2-d05d-4bd1-bd05-9abe38e8d05b",
   "metadata": {},
   "outputs": [
    {
     "name": "stdout",
     "output_type": "stream",
     "text": [
      "104,857,600\n"
     ]
    }
   ],
   "source": [
    "print(f'{50*512*4096:,}')"
   ]
  },
  {
   "cell_type": "markdown",
   "id": "cd758f84-e5d8-4f0e-986b-76778299f33b",
   "metadata": {},
   "source": [
    "pts * { (lstm input * age span) + demog addition to linear layers)\n",
    "pts * { (rec_dim * age_span) + demog_dim }"
   ]
  },
  {
   "cell_type": "code",
   "execution_count": null,
   "id": "ebda3d23-927c-4734-93ec-25bae410aa8c",
   "metadata": {},
   "outputs": [
    {
     "name": "stdout",
     "output_type": "stream",
     "text": [
      "70,968,600\n"
     ]
    }
   ],
   "source": [
    "print(f'{6645 * ((88 * 120) + 120):,}')  #10K pts"
   ]
  },
  {
   "cell_type": "code",
   "execution_count": null,
   "id": "94431f31-9a94-406d-a8a6-a1db3ef5c96b",
   "metadata": {},
   "outputs": [
    {
     "name": "stdout",
     "output_type": "stream",
     "text": [
      "142,225,560\n"
     ]
    }
   ],
   "source": [
    "print(f'{13317 * ((88 * 120) + 120):,}')  #20K pts"
   ]
  },
  {
   "cell_type": "code",
   "execution_count": null,
   "id": "0e62fa22-7ab7-41bd-a83e-ee8f10412507",
   "metadata": {},
   "outputs": [],
   "source": []
  },
  {
   "cell_type": "markdown",
   "id": "alert-johns",
   "metadata": {},
   "source": [
    "### Default Precision"
   ]
  },
  {
   "cell_type": "code",
   "execution_count": null,
   "id": "laughing-airline",
   "metadata": {},
   "outputs": [
    {
     "name": "stdout",
     "output_type": "stream",
     "text": [
      "\n",
      "Default precision:\n",
      "Total execution time = 2.076 sec\n",
      "Max memory used by tensors = 2138153984 bytes\n"
     ]
    }
   ],
   "source": [
    "net = make_model(in_size, out_size, num_layers)\n",
    "opt = torch.optim.SGD(net.parameters(), lr=0.001)\n",
    "\n",
    "start_timer()\n",
    "for epoch in range(epochs):\n",
    "    for input, target in zip(data, targets):\n",
    "        output = net(input)\n",
    "        loss = loss_fn(output, target)\n",
    "        loss.backward()\n",
    "        opt.step()\n",
    "        opt.zero_grad() # set_to_none=True here can modestly improve performance\n",
    "end_timer_and_print(\"Default precision:\")"
   ]
  },
  {
   "cell_type": "markdown",
   "id": "scheduled-ethics",
   "metadata": {},
   "source": [
    "### AMP\n",
    "1. Forward pass under autocast\n",
    "2. Exit autocast before backward\n",
    "3. Use GradScaler to scale loss, then call backward() on that to create **scaled gradients**\n",
    "    - Same GradScaler instance should be used for the entire convergence run \n",
    "        - same GradScaler instance for a single experiment\n",
    "        - a dedicated fresh GradScaler instance for each new experiment (convergence run)"
   ]
  },
  {
   "cell_type": "code",
   "execution_count": null,
   "id": "assigned-bradford",
   "metadata": {},
   "outputs": [
    {
     "name": "stdout",
     "output_type": "stream",
     "text": [
      "\n",
      "Mixed precision:\n",
      "Total execution time = 1.141 sec\n",
      "Max memory used by tensors = 2230453248 bytes\n"
     ]
    }
   ],
   "source": [
    "use_amp = True\n",
    "\n",
    "net = make_model(in_size, out_size, num_layers)\n",
    "opt = torch.optim.SGD(net.parameters(), lr=0.001)\n",
    "scaler = torch.cuda.amp.GradScaler(enabled=use_amp)\n",
    "\n",
    "start_timer()\n",
    "for epoch in range(epochs):\n",
    "    for input, target in zip(data, targets):\n",
    "        with torch.cuda.amp.autocast(enabled=use_amp):\n",
    "            output = net(input)\n",
    "            loss = loss_fn(output, target)\n",
    "        scaler.scale(loss).backward()\n",
    "        scaler.step(opt)\n",
    "        scaler.update()\n",
    "        opt.zero_grad() # set_to_none=True here can modestly improve performance\n",
    "end_timer_and_print(\"Mixed precision:\")"
   ]
  },
  {
   "cell_type": "markdown",
   "id": "872bed43-edbb-41ea-a81b-c3cb1bc7910d",
   "metadata": {},
   "source": [
    "# `lemonpie` AMP Testing"
   ]
  },
  {
   "cell_type": "code",
   "execution_count": null,
   "id": "6dbfba93-8ed2-4b6e-9ccc-0f860bc8fda2",
   "metadata": {},
   "outputs": [],
   "source": [
    "from lemonpie.basics import * \n",
    "from lemonpie.preprocessing.vocab import * #for loading vocabs\n",
    "from lemonpie.preprocessing.transform import * #for loading ptlist thru EHRData\n",
    "from lemonpie.data import * #for EHRData\n",
    "from lemonpie.learn import * #for fit/predict stuff\n",
    "from lemonpie.metrics import * #for auroc_score\n",
    "from lemonpie.models import * #for models \n",
    "from fastai.imports import *"
   ]
  },
  {
   "cell_type": "markdown",
   "id": "0a074623-958d-4746-afe6-de6fa40c83d8",
   "metadata": {},
   "source": [
    "## Preprocess - Do Once"
   ]
  },
  {
   "cell_type": "code",
   "execution_count": null,
   "id": "4e925993-03df-45e1-8b06-778eb47cb932",
   "metadata": {},
   "outputs": [
    {
     "name": "stdout",
     "output_type": "stream",
     "text": [
      "Since data is pre-cleaned, skipping Cleaning, Splitting and Vocab-creation\n",
      "------------------- Creating patient lists -------------------\n",
      "6645 total patients completed, saved patient list to /home/vinod/.lemonpie/datasets/synthea/10K/processed/months_240_to_360/train\n",
      "2215 total patients completed, saved patient list to /home/vinod/.lemonpie/datasets/synthea/10K/processed/months_240_to_360/valid\n",
      "2216 total patients completed, saved patient list to /home/vinod/.lemonpie/datasets/synthea/10K/processed/months_240_to_360/test\n"
     ]
    }
   ],
   "source": [
    "preprocess_ehr_dataset(PATH_10K, SYNTHEA_DATAGEN_DATES['10K'], conditions_dict=CONDITIONS, age_start=240, age_stop=360, age_in_months=True)"
   ]
  },
  {
   "cell_type": "markdown",
   "id": "9bcb72eb-2287-4d52-8484-24a899922605",
   "metadata": {},
   "source": [
    "## Tests"
   ]
  },
  {
   "cell_type": "markdown",
   "id": "35ef0e45-6045-44ea-b486-c1a04456d0d8",
   "metadata": {},
   "source": [
    "### 1K"
   ]
  },
  {
   "cell_type": "code",
   "execution_count": null,
   "id": "6cf702de-f751-45dc-93c8-61dc5e6ad297",
   "metadata": {},
   "outputs": [],
   "source": [
    "labels = ['diabetes', 'stroke', 'alzheimers', 'coronary_heart', 'breast_cancer', 'epilepsy']"
   ]
  },
  {
   "cell_type": "code",
   "execution_count": null,
   "id": "518ae1be-20ce-4e57-99b3-44dada24b413",
   "metadata": {},
   "outputs": [],
   "source": [
    "ehr_1K_data = EHRData(PATH_1K, labels, age_start=240, age_stop=360, age_in_months=True, lazy_load_gpu=False)\n",
    "demograph_dims, rec_dims, demograph_dims_wd, rec_dims_wd = get_all_emb_dims(EhrVocabList.load(PATH_1K))\n",
    "train_dl, valid_dl, train_pos_wts, valid_pos_wts = ehr_1K_data.get_data(bs=1024)"
   ]
  },
  {
   "cell_type": "markdown",
   "id": "647b954a",
   "metadata": {},
   "source": [
    "#### `EHR_LSTM`"
   ]
  },
  {
   "cell_type": "code",
   "execution_count": null,
   "id": "fe59926c-f0e1-4b29-9fe8-b4cd484fc4fe",
   "metadata": {},
   "outputs": [],
   "source": [
    "model = EHR_LSTM(demograph_dims, rec_dims, demograph_dims_wd, rec_dims_wd, num_labels=len(labels)).to(DEVICE)\n",
    "train_loss_fn, valid_loss_fn = get_loss_fn(train_pos_wts), get_loss_fn(valid_pos_wts)\n",
    "optimizer = torch.optim.Adagrad(model.parameters())"
   ]
  },
  {
   "cell_type": "code",
   "execution_count": null,
   "id": "cf88739f-f5e9-421f-a43c-e6181a5af592",
   "metadata": {},
   "outputs": [
    {
     "data": {
      "text/plain": [
       "(1, 1)"
      ]
     },
     "execution_count": null,
     "metadata": {},
     "output_type": "execute_result"
    }
   ],
   "source": [
    "len(train_dl), len(valid_dl)"
   ]
  },
  {
   "cell_type": "code",
   "execution_count": null,
   "id": "0557fd29-491f-438d-b72e-778ba513901e",
   "metadata": {},
   "outputs": [
    {
     "data": {
      "text/plain": [
       "EHR_LSTM(\n",
       "  (embs): ModuleList(\n",
       "    (0): Embedding(40, 8)\n",
       "    (1): Embedding(16, 8)\n",
       "    (2): Embedding(128, 8)\n",
       "    (3): Embedding(8, 8)\n",
       "    (4): Embedding(8, 8)\n",
       "    (5): Embedding(8, 8)\n",
       "    (6): Embedding(8, 8)\n",
       "    (7): Embedding(248, 16)\n",
       "    (8): Embedding(208, 16)\n",
       "    (9): Embedding(8, 8)\n",
       "    (10): Embedding(184, 16)\n",
       "  )\n",
       "  (embgs): ModuleList(\n",
       "    (0): EmbeddingBag(536, 16, mode=mean)\n",
       "    (1): EmbeddingBag(32, 8, mode=mean)\n",
       "    (2): EmbeddingBag(56, 8, mode=mean)\n",
       "    (3): EmbeddingBag(232, 16, mode=mean)\n",
       "    (4): EmbeddingBag(16, 8, mode=mean)\n",
       "    (5): EmbeddingBag(144, 8, mode=mean)\n",
       "    (6): EmbeddingBag(184, 16, mode=mean)\n",
       "    (7): EmbeddingBag(24, 8, mode=mean)\n",
       "  )\n",
       "  (input_dp): InputDropout()\n",
       "  (lstm): LSTM(88, 88, num_layers=4, batch_first=True, dropout=0.3)\n",
       "  (lin): Sequential(\n",
       "    (0): Linear(in_features=208, out_features=416, bias=True)\n",
       "    (1): ReLU(inplace=True)\n",
       "    (2): Dropout(p=0.3, inplace=False)\n",
       "    (3): Linear(in_features=416, out_features=832, bias=True)\n",
       "    (4): ReLU(inplace=True)\n",
       "    (5): Dropout(p=0.3, inplace=False)\n",
       "    (6): Linear(in_features=832, out_features=1664, bias=True)\n",
       "    (7): ReLU(inplace=True)\n",
       "    (8): Dropout(p=0.3, inplace=False)\n",
       "    (9): Linear(in_features=1664, out_features=3328, bias=True)\n",
       "    (10): ReLU(inplace=True)\n",
       "    (11): Dropout(p=0.3, inplace=False)\n",
       "  )\n",
       "  (lin_o): Linear(in_features=3328, out_features=6, bias=True)\n",
       ")"
      ]
     },
     "execution_count": null,
     "metadata": {},
     "output_type": "execute_result"
    }
   ],
   "source": [
    "model"
   ]
  },
  {
   "cell_type": "code",
   "execution_count": null,
   "id": "832ae35a-4048-44c0-b3f4-a80a76f9e849",
   "metadata": {},
   "outputs": [],
   "source": [
    "h_1K = RunHistory(labels)"
   ]
  },
  {
   "cell_type": "markdown",
   "id": "561167cc",
   "metadata": {},
   "source": [
    "`use_amp=False`"
   ]
  },
  {
   "cell_type": "code",
   "execution_count": null,
   "id": "d366ef25-b363-4944-adef-682f68fb3e1a",
   "metadata": {},
   "outputs": [
    {
     "name": "stdout",
     "output_type": "stream",
     "text": [
      "epoch |     train loss |     train aurocs                  valid loss |     valid aurocs    \n",
      "----------------------------------------------------------------------------------------------------\n",
      "    0 |          1.401 | [0.520 0.368 0.570 0.498]             24.931 | [0.613 0.733 0.975 0.814]\n",
      "    1 |         27.871 | [0.537 0.838 0.925 0.729]              6.179 | [0.449 0.637 0.760 0.731]\n",
      "    2 |          7.961 | [0.466 0.678 0.718 0.666]              1.321 | [0.648 0.575 0.406 0.644]\n",
      "    3 |          1.366 | [0.723 0.511 0.626 0.552]              1.261 | [0.654 0.707 0.977 0.837]\n",
      "    4 |          1.258 | [0.752 0.764 0.909 0.719]              1.167 | [0.661 0.688 0.982 0.840]\n",
      "    5 |          1.144 | [0.754 0.871 0.924 0.713]              1.084 | [0.654 0.704 0.979 0.836]\n",
      "    6 |          1.044 | [0.747 0.865 0.920 0.732]              1.356 | [0.661 0.699 0.980 0.830]\n",
      "    7 |          1.285 | [0.756 0.868 0.921 0.741]              1.776 | [0.679 0.722 0.982 0.838]\n",
      "    8 |          1.730 | [0.771 0.865 0.938 0.752]              1.234 | [0.687 0.694 0.983 0.819]\n",
      "    9 |          1.216 | [0.747 0.859 0.938 0.734]              1.173 | [0.692 0.716 0.986 0.828]\n",
      "Checkpointed to \"/home/vinod/.lemonpie/models/checkpoint.tar\"\n",
      "CPU times: user 22.6 s, sys: 130 ms, total: 22.7 s\n",
      "Wall time: 22.7 s\n"
     ]
    }
   ],
   "source": [
    "%time h_1K = fit(10, h_1K, model, train_loss_fn, valid_loss_fn, optimizer, auroc_score, \\\n",
    "              train_dl, valid_dl, to_chkpt_path=MODEL_STORE, lazy=False, from_chkpt_path=None, verbosity=1, use_amp=False)"
   ]
  },
  {
   "cell_type": "markdown",
   "id": "b1dd5d13",
   "metadata": {},
   "source": [
    "`use_amp=True`"
   ]
  },
  {
   "cell_type": "code",
   "execution_count": null,
   "id": "b7a39ab4-be1d-40d0-afb2-3b6cb144ff40",
   "metadata": {},
   "outputs": [
    {
     "name": "stdout",
     "output_type": "stream",
     "text": [
      "epoch |     train loss |     train aurocs                  valid loss |     valid aurocs    \n",
      "----------------------------------------------------------------------------------------------------\n",
      "    0 |          1.140 | [0.774 0.877 0.937 0.737]              1.113 | [0.692 0.717 0.986 0.836]\n",
      "    1 |          1.073 | [0.777 0.878 0.931 0.737]              1.070 | [0.694 0.720 0.986 0.841]\n",
      "    2 |          0.989 | [0.788 0.884 0.968 0.762]              1.049 | [0.698 0.712 0.987 0.843]\n",
      "    3 |          0.937 | [0.785 0.907 0.957 0.779]              1.031 | [0.705 0.716 0.987 0.841]\n",
      "    4 |          0.924 | [0.783 0.894 0.953 0.771]              1.033 | [0.699 0.714 0.989 0.841]\n",
      "    5 |          0.873 | [0.771 0.914 0.954 0.775]              1.169 | [0.695 0.710 0.990 0.840]\n",
      "    6 |          0.884 | [0.810 0.899 0.954 0.792]              1.122 | [0.701 0.725 0.992 0.845]\n",
      "    7 |          1.016 | [0.814 0.911 0.954 0.774]              1.074 | [0.695 0.718 0.992 0.845]\n",
      "    8 |          0.874 | [0.808 0.917 0.963 0.789]              1.036 | [0.691 0.705 0.994 0.845]\n",
      "    9 |          0.734 | [0.822 0.923 0.968 0.812]              1.223 | [0.682 0.692 0.989 0.841]\n",
      "Checkpointed to \"/home/vinod/.lemonpie/models/checkpoint.tar\"\n",
      "CPU times: user 22.3 s, sys: 172 ms, total: 22.5 s\n",
      "Wall time: 22.5 s\n"
     ]
    }
   ],
   "source": [
    "%time h_1K = fit(10, h_1K, model, train_loss_fn, valid_loss_fn, optimizer, auroc_score, \\\n",
    "              train_dl, valid_dl, to_chkpt_path=MODEL_STORE, lazy=False, from_chkpt_path=None, verbosity=1, use_amp=True)"
   ]
  },
  {
   "cell_type": "markdown",
   "id": "8ffa1ecc",
   "metadata": {},
   "source": [
    "#### `EHR_CNN`"
   ]
  },
  {
   "cell_type": "code",
   "execution_count": null,
   "id": "fe59926c-f0e1-4b29-9fe8-b4cd484fc4fe",
   "metadata": {},
   "outputs": [],
   "source": [
    "model = EHR_CNN(demograph_dims, rec_dims, demograph_dims_wd, rec_dims_wd, num_labels=len(labels)).to(DEVICE)\n",
    "train_loss_fn, valid_loss_fn = get_loss_fn(train_pos_wts), get_loss_fn(valid_pos_wts)\n",
    "optimizer = torch.optim.Adagrad(model.parameters())"
   ]
  },
  {
   "cell_type": "code",
   "execution_count": null,
   "id": "0557fd29-491f-438d-b72e-778ba513901e",
   "metadata": {},
   "outputs": [
    {
     "data": {
      "text/plain": [
       "EHR_CNN(\n",
       "  (embs): ModuleList(\n",
       "    (0): Embedding(40, 8)\n",
       "    (1): Embedding(16, 8)\n",
       "    (2): Embedding(128, 8)\n",
       "    (3): Embedding(8, 8)\n",
       "    (4): Embedding(8, 8)\n",
       "    (5): Embedding(8, 8)\n",
       "    (6): Embedding(8, 8)\n",
       "    (7): Embedding(248, 16)\n",
       "    (8): Embedding(208, 16)\n",
       "    (9): Embedding(8, 8)\n",
       "    (10): Embedding(184, 16)\n",
       "  )\n",
       "  (embgs): ModuleList(\n",
       "    (0): EmbeddingBag(536, 16, mode=mean)\n",
       "    (1): EmbeddingBag(32, 8, mode=mean)\n",
       "    (2): EmbeddingBag(56, 8, mode=mean)\n",
       "    (3): EmbeddingBag(232, 16, mode=mean)\n",
       "    (4): EmbeddingBag(16, 8, mode=mean)\n",
       "    (5): EmbeddingBag(144, 8, mode=mean)\n",
       "    (6): EmbeddingBag(184, 16, mode=mean)\n",
       "    (7): EmbeddingBag(24, 8, mode=mean)\n",
       "  )\n",
       "  (input_dp): InputDropout()\n",
       "  (lin): Sequential(\n",
       "    (0): Linear(in_features=632, out_features=1264, bias=True)\n",
       "    (1): ReLU(inplace=True)\n",
       "    (2): Dropout(p=0.3, inplace=False)\n",
       "    (3): Linear(in_features=1264, out_features=2528, bias=True)\n",
       "    (4): ReLU(inplace=True)\n",
       "    (5): Dropout(p=0.3, inplace=False)\n",
       "    (6): Linear(in_features=2528, out_features=5056, bias=True)\n",
       "    (7): ReLU(inplace=True)\n",
       "    (8): Dropout(p=0.3, inplace=False)\n",
       "    (9): Linear(in_features=5056, out_features=10112, bias=True)\n",
       "    (10): ReLU(inplace=True)\n",
       "    (11): Dropout(p=0.3, inplace=False)\n",
       "  )\n",
       "  (lin_o): Linear(in_features=10112, out_features=6, bias=True)\n",
       "  (cnn): Sequential(\n",
       "    (0): Conv2d(1, 2, kernel_size=(5, 5), stride=(1, 1), padding=(2, 2))\n",
       "    (1): ReLU(inplace=True)\n",
       "    (2): Conv2d(2, 4, kernel_size=(3, 3), stride=(1, 1), padding=(1, 1))\n",
       "    (3): ReLU(inplace=True)\n",
       "    (4): Conv2d(4, 8, kernel_size=(3, 3), stride=(2, 2), padding=(1, 1))\n",
       "    (5): ReLU(inplace=True)\n",
       "    (6): Conv2d(8, 16, kernel_size=(3, 3), stride=(2, 2), padding=(1, 1))\n",
       "    (7): ReLU(inplace=True)\n",
       "    (8): Conv2d(16, 32, kernel_size=(3, 3), stride=(2, 2), padding=(1, 1))\n",
       "    (9): ReLU(inplace=True)\n",
       "    (10): AdaptiveMaxPool2d(output_size=(4, 4))\n",
       "    (11): Flatten(start_dim=1, end_dim=-1)\n",
       "  )\n",
       ")"
      ]
     },
     "execution_count": null,
     "metadata": {},
     "output_type": "execute_result"
    }
   ],
   "source": [
    "model"
   ]
  },
  {
   "cell_type": "code",
   "execution_count": null,
   "id": "832ae35a-4048-44c0-b3f4-a80a76f9e849",
   "metadata": {},
   "outputs": [],
   "source": [
    "h_cnn_1K = RunHistory(labels)"
   ]
  },
  {
   "cell_type": "markdown",
   "id": "561167cc",
   "metadata": {},
   "source": [
    "`use_amp=False`"
   ]
  },
  {
   "cell_type": "code",
   "execution_count": null,
   "id": "d366ef25-b363-4944-adef-682f68fb3e1a",
   "metadata": {},
   "outputs": [
    {
     "name": "stdout",
     "output_type": "stream",
     "text": [
      "epoch |     train loss |     train aurocs                  valid loss |     valid aurocs    \n",
      "----------------------------------------------------------------------------------------------------\n",
      "    0 |          1.379 | [0.461 0.568 0.404 0.516]           1325.173 | [0.355 0.666 0.272 0.362]\n",
      "    1 |       1548.317 | [0.430 0.668 0.451 0.421]              1.954 | [0.584 0.641 0.974 0.837]\n",
      "    2 |          2.631 | [0.627 0.467 0.758 0.576]              1.285 | [0.703 0.737 0.971 0.713]\n",
      "    3 |          1.308 | [0.744 0.872 0.870 0.701]              1.396 | [0.690 0.728 0.980 0.799]\n",
      "    4 |          1.504 | [0.764 0.880 0.914 0.719]              1.529 | [0.688 0.730 0.979 0.842]\n",
      "    5 |          1.585 | [0.740 0.885 0.947 0.761]              1.241 | [0.697 0.765 0.986 0.815]\n",
      "    6 |          1.227 | [0.775 0.836 0.913 0.747]              1.157 | [0.694 0.737 0.986 0.825]\n",
      "    7 |          1.099 | [0.781 0.889 0.943 0.754]              1.234 | [0.688 0.739 0.984 0.809]\n",
      "    8 |          1.177 | [0.738 0.878 0.934 0.749]              1.191 | [0.696 0.720 0.982 0.839]\n",
      "    9 |          1.161 | [0.760 0.885 0.925 0.784]              1.106 | [0.696 0.736 0.982 0.843]\n",
      "Checkpointed to \"/home/vinod/.lemonpie/models/checkpoint.tar\"\n",
      "CPU times: user 22.5 s, sys: 708 ms, total: 23.2 s\n",
      "Wall time: 23.9 s\n"
     ]
    }
   ],
   "source": [
    "%time h_cnn_1K = fit(10, h_cnn_1K, model, train_loss_fn, valid_loss_fn, optimizer, auroc_score, \\\n",
    "              train_dl, valid_dl, to_chkpt_path=MODEL_STORE, lazy=False, from_chkpt_path=None, verbosity=1, use_amp=False)"
   ]
  },
  {
   "cell_type": "markdown",
   "id": "b1dd5d13",
   "metadata": {},
   "source": [
    "`use_amp=True`"
   ]
  },
  {
   "cell_type": "code",
   "execution_count": null,
   "id": "b7a39ab4-be1d-40d0-afb2-3b6cb144ff40",
   "metadata": {},
   "outputs": [
    {
     "name": "stdout",
     "output_type": "stream",
     "text": [
      "epoch |     train loss |     train aurocs                  valid loss |     valid aurocs    \n",
      "----------------------------------------------------------------------------------------------------\n",
      "    0 |          1.010 | [0.786 0.880 0.958 0.791]              1.079 | [0.691 0.728 0.982 0.823]\n",
      "    1 |          1.030 | [0.773 0.912 0.959 0.787]              1.099 | [0.691 0.728 0.981 0.822]\n",
      "    2 |          0.922 | [0.788 0.921 0.960 0.772]              1.050 | [0.695 0.726 0.979 0.824]\n",
      "    3 |          0.885 | [0.796 0.927 0.971 0.786]              1.191 | [0.693 0.719 0.972 0.800]\n",
      "    4 |          0.812 | [0.787 0.939 0.968 0.793]              1.124 | [0.683 0.711 0.975 0.793]\n",
      "    5 |          0.787 | [0.836 0.935 0.982 0.821]              3.587 | [0.659 0.674 0.962 0.732]\n",
      "    6 |          1.960 | [0.827 0.897 0.960 0.799]              3.587 | [0.659 0.674 0.962 0.732]\n",
      "    7 |          2.126 | [0.818 0.898 0.939 0.786]              3.587 | [0.659 0.674 0.962 0.732]\n",
      "    8 |          2.118 | [0.794 0.882 0.978 0.815]              3.587 | [0.659 0.674 0.962 0.732]\n",
      "    9 |          1.881 | [0.812 0.902 0.944 0.816]              2.409 | [0.651 0.737 0.970 0.869]\n",
      "Checkpointed to \"/home/vinod/.lemonpie/models/checkpoint.tar\"\n",
      "CPU times: user 23.1 s, sys: 683 ms, total: 23.8 s\n",
      "Wall time: 24.8 s\n"
     ]
    }
   ],
   "source": [
    "%time h_cnn_1K = fit(10, h_cnn_1K, model, train_loss_fn, valid_loss_fn, optimizer, auroc_score, \\\n",
    "              train_dl, valid_dl, to_chkpt_path=MODEL_STORE, lazy=False, from_chkpt_path=None, verbosity=1, use_amp=True)"
   ]
  },
  {
   "cell_type": "markdown",
   "id": "f84a694f-d3ae-40e7-a687-0af92ae4776e",
   "metadata": {},
   "source": [
    "### 10K"
   ]
  },
  {
   "cell_type": "code",
   "execution_count": null,
   "id": "d235bb7e-2f52-47f5-9702-a0530ff1f004",
   "metadata": {},
   "outputs": [],
   "source": [
    "labels = ['diabetes', 'stroke', 'alzheimers', 'coronary_heart', 'lung_cancer', 'epilepsy']"
   ]
  },
  {
   "cell_type": "code",
   "execution_count": null,
   "id": "44ed0d7b-7567-4e23-b3b6-7676a811e8e0",
   "metadata": {},
   "outputs": [],
   "source": [
    "ehr_10K_data = EHRData(PATH_10K, labels, age_start=240, age_stop=360, age_in_months=True, lazy_load_gpu=False)\n",
    "demograph_dims, rec_dims, demograph_dims_wd, rec_dims_wd = get_all_emb_dims(EhrVocabList.load(PATH_10K), αd=5)\n",
    "train_dl, valid_dl, train_pos_wts, valid_pos_wts = ehr_10K_data.get_data(bs=512)"
   ]
  },
  {
   "cell_type": "code",
   "execution_count": null,
   "id": "bc6fe2af-6a0f-4e89-9664-15f70f7805c6",
   "metadata": {},
   "outputs": [
    {
     "data": {
      "text/plain": [
       "(13, 3)"
      ]
     },
     "execution_count": null,
     "metadata": {},
     "output_type": "execute_result"
    }
   ],
   "source": [
    "len(train_dl), len(valid_dl)"
   ]
  },
  {
   "cell_type": "code",
   "execution_count": null,
   "id": "31418821-662f-41cc-9ae4-a19fff6e81cf",
   "metadata": {},
   "outputs": [
    {
     "data": {
      "text/plain": [
       "PatientList (6645 items)\n",
       "base path:/home/vinod/.lemonpie/datasets/synthea/10K; split:train; age span:120 months\n",
       "age_start:240; age_stop:360; age_type:months\n",
       "ptid:891ff39a-15fe-4214-998b-4c1633307855, birthdate:1973-06-27, [('diabetes', False), ('stroke', False)].., device:cuda:0\n",
       "ptid:b24eb6c6-3c0a-4034-b322-4dc961f9ea37, birthdate:1962-03-05, [('diabetes', False), ('stroke', False)].., device:cuda:0\n",
       "ptid:14166659-9295-42a9-b1d5-aed8e974eece, birthdate:2018-08-23, [('diabetes', False), ('stroke', False)].., device:cuda:0\n",
       "ptid:1bd6b4a0-2f31-40fe-9d1f-a43a4d26d9db, birthdate:1954-08-02, [('diabetes', True), ('stroke', False)].., device:cuda:0\n",
       "ptid:dd40e4ec-56ea-4a7b-8be2-6d287236df1c, birthdate:1964-01-27, [('diabetes', False), ('stroke', False)].., device:cuda:0\n",
       "ptid:b46bf715-0c95-4688-992d-448d3295067a, birthdate:1964-10-28, [('diabetes', False), ('stroke', False)].., device:cuda:0\n",
       "ptid:3ae3378b-e29f-420e-9eaf-2bee003e1a75, birthdate:2008-10-27, [('diabetes', False), ('stroke', False)].., device:cuda:0\n",
       "ptid:d2e1ceae-c99c-493c-b60f-1e83e310d5fb, birthdate:2007-04-28, [('diabetes', False), ('stroke', False)].., device:cuda:0\n",
       "ptid:914aa3f6-e7d5-458d-81a4-b4042653dece, birthdate:1961-10-09, [('diabetes', True), ('stroke', False)].., device:cuda:0\n",
       "ptid:3986b71b-6a37-434e-8d1f-39fa81812062, birthdate:1953-03-23, [('diabetes', False), ('stroke', False)].., device:cuda:0...]"
      ]
     },
     "execution_count": null,
     "metadata": {},
     "output_type": "execute_result"
    }
   ],
   "source": [
    "ehr_10K_data.splits.train"
   ]
  },
  {
   "cell_type": "code",
   "execution_count": null,
   "id": "4d13367b-7422-42c1-8d1d-1c2de254b9f4",
   "metadata": {},
   "outputs": [
    {
     "data": {
      "text/plain": [
       "(848, 752)"
      ]
     },
     "execution_count": null,
     "metadata": {},
     "output_type": "execute_result"
    }
   ],
   "source": [
    "demograph_dims_wd, rec_dims_wd"
   ]
  },
  {
   "cell_type": "markdown",
   "id": "52102e2b",
   "metadata": {},
   "source": [
    "#### `EHR_LSTM`"
   ]
  },
  {
   "cell_type": "code",
   "execution_count": null,
   "id": "75200a97-c733-47c2-a875-80752221006e",
   "metadata": {},
   "outputs": [],
   "source": [
    "model = EHR_LSTM(demograph_dims, rec_dims, demograph_dims_wd, rec_dims_wd, num_labels=len(labels), linear_layers=2).to(DEVICE)\n",
    "train_loss_fn, valid_loss_fn = get_loss_fn(train_pos_wts), get_loss_fn(valid_pos_wts)\n",
    "optimizer = torch.optim.Adagrad(model.parameters())"
   ]
  },
  {
   "cell_type": "code",
   "execution_count": null,
   "id": "be381523-cf64-4524-ba99-bb19ac0c431d",
   "metadata": {},
   "outputs": [
    {
     "name": "stdout",
     "output_type": "stream",
     "text": [
      "total: 44,343,094, trainable: 44,343,094, non_trainable: 0\n"
     ]
    },
    {
     "data": {
      "text/plain": [
       "(44343094, 44343094, 0)"
      ]
     },
     "execution_count": null,
     "metadata": {},
     "output_type": "execute_result"
    }
   ],
   "source": [
    "count_parameters(model)"
   ]
  },
  {
   "cell_type": "code",
   "execution_count": null,
   "id": "ac1f4851",
   "metadata": {},
   "outputs": [
    {
     "data": {
      "text/plain": [
       "EHR_LSTM(\n",
       "  (embs): ModuleList(\n",
       "    (0): Embedding(33, 72)\n",
       "    (1): Embedding(14, 56)\n",
       "    (2): Embedding(124, 96)\n",
       "    (3): Embedding(5, 48)\n",
       "    (4): Embedding(8, 48)\n",
       "    (5): Embedding(26, 64)\n",
       "    (6): Embedding(4, 40)\n",
       "    (7): Embedding(328, 128)\n",
       "    (8): Embedding(332, 128)\n",
       "    (9): Embedding(3, 40)\n",
       "    (10): Embedding(306, 128)\n",
       "  )\n",
       "  (embgs): ModuleList(\n",
       "    (0): EmbeddingBag(658, 152, mode=mean)\n",
       "    (1): EmbeddingBag(27, 64, mode=mean)\n",
       "    (2): EmbeddingBag(55, 80, mode=mean)\n",
       "    (3): EmbeddingBag(247, 120, mode=mean)\n",
       "    (4): EmbeddingBag(11, 56, mode=mean)\n",
       "    (5): EmbeddingBag(144, 104, mode=mean)\n",
       "    (6): EmbeddingBag(215, 112, mode=mean)\n",
       "    (7): EmbeddingBag(20, 64, mode=mean)\n",
       "  )\n",
       "  (input_dp): InputDropout()\n",
       "  (lstm): LSTM(752, 752, num_layers=4, batch_first=True, dropout=0.3)\n",
       "  (lin): Sequential(\n",
       "    (0): Linear(in_features=1608, out_features=3216, bias=True)\n",
       "    (1): ReLU(inplace=True)\n",
       "    (2): Dropout(p=0.3, inplace=False)\n",
       "    (3): Linear(in_features=3216, out_features=6432, bias=True)\n",
       "    (4): ReLU(inplace=True)\n",
       "    (5): Dropout(p=0.3, inplace=False)\n",
       "  )\n",
       "  (lin_o): Linear(in_features=6432, out_features=6, bias=True)\n",
       ")"
      ]
     },
     "execution_count": null,
     "metadata": {},
     "output_type": "execute_result"
    }
   ],
   "source": [
    "model"
   ]
  },
  {
   "cell_type": "markdown",
   "id": "91b0d16c-77b1-4fe7-a810-951dca9e5cd5",
   "metadata": {},
   "source": [
    "##### `use_amp=False`"
   ]
  },
  {
   "cell_type": "code",
   "execution_count": null,
   "id": "376fdfa6-1599-447b-9613-f9b95e9d4653",
   "metadata": {},
   "outputs": [],
   "source": [
    "gc.collect()\n",
    "torch.cuda.empty_cache()\n",
    "torch.cuda.reset_max_memory_allocated()\n",
    "torch.cuda.synchronize()"
   ]
  },
  {
   "cell_type": "code",
   "execution_count": null,
   "id": "f30aa392-064c-46f7-a570-f0818320dcb9",
   "metadata": {},
   "outputs": [],
   "source": [
    "h_10K = RunHistory(labels)"
   ]
  },
  {
   "cell_type": "code",
   "execution_count": null,
   "id": "399b847c-2a5d-40dc-a473-c1fc4e65d99c",
   "metadata": {},
   "outputs": [
    {
     "name": "stdout",
     "output_type": "stream",
     "text": [
      "epoch |     train loss |     train aurocs                  valid loss |     valid aurocs    \n",
      "----------------------------------------------------------------------------------------------------\n",
      "    0 |         23.472 | [0.512 0.525 0.587 0.508]              1.300 | [0.740 0.821 0.897 0.734]\n",
      "    1 |          1.170 | [0.653 0.758 0.779 0.696]              1.465 | [0.749 0.836 0.927 0.761]\n",
      "    2 |          1.140 | [0.653 0.787 0.826 0.700]              1.179 | [0.760 0.836 0.934 0.767]\n",
      "    3 |          0.961 | [0.743 0.843 0.920 0.772]              1.080 | [0.760 0.839 0.948 0.782]\n",
      "    4 |          0.896 | [0.759 0.872 0.947 0.792]              1.075 | [0.739 0.837 0.949 0.784]\n",
      "Checkpointed to \"/home/vinod/.lemonpie/models/checkpoint.tar\"\n",
      "CPU times: user 3min 6s, sys: 1.7 s, total: 3min 8s\n",
      "Wall time: 2min 45s\n"
     ]
    }
   ],
   "source": [
    "%time h_10K = fit(5, h_10K, model, train_loss_fn, valid_loss_fn, optimizer, auroc_score, \\\n",
    "              train_dl, valid_dl, to_chkpt_path=MODEL_STORE, lazy=False, from_chkpt_path=None, verbosity=1, use_amp=False)"
   ]
  },
  {
   "cell_type": "code",
   "execution_count": null,
   "id": "fa2a49dd-22db-4ded-8c5a-3a192a1d13cb",
   "metadata": {},
   "outputs": [
    {
     "name": "stdout",
     "output_type": "stream",
     "text": [
      "6,551,656,960\n"
     ]
    }
   ],
   "source": [
    "print(f'{torch.cuda.max_memory_allocated():,}')"
   ]
  },
  {
   "cell_type": "markdown",
   "id": "52bf3f53",
   "metadata": {},
   "source": [
    "##### `use_amp=True`"
   ]
  },
  {
   "cell_type": "code",
   "execution_count": null,
   "id": "376fdfa6-1599-447b-9613-f9b95e9d4653",
   "metadata": {},
   "outputs": [],
   "source": [
    "gc.collect()\n",
    "torch.cuda.empty_cache()\n",
    "torch.cuda.reset_max_memory_allocated()\n",
    "torch.cuda.synchronize()"
   ]
  },
  {
   "cell_type": "code",
   "execution_count": null,
   "id": "bb3d513f-c8cb-455d-a293-bf0bda829528",
   "metadata": {},
   "outputs": [
    {
     "name": "stdout",
     "output_type": "stream",
     "text": [
      "epoch |     train loss |     train aurocs                  valid loss |     valid aurocs    \n",
      "----------------------------------------------------------------------------------------------------\n",
      "    0 |          0.579 | [0.848 0.924 0.978 0.889]              1.328 | [0.715 0.825 0.945 0.760]\n",
      "    1 |          0.538 | [0.843 0.924 0.982 0.889]              1.839 | [0.740 0.827 0.942 0.758]\n",
      "    2 |          0.500 | [0.865 0.933 0.983 0.900]              2.029 | [0.748 0.828 0.941 0.757]\n",
      "    3 |          0.492 | [0.861 0.934 0.983 0.903]              2.426 | [0.734 0.826 0.940 0.760]\n",
      "    4 |          0.457 | [0.847 0.942 0.987 0.919]              1.795 | [0.732 0.825 0.941 0.757]\n",
      "Checkpointed to \"/home/vinod/.lemonpie/models/checkpoint.tar\"\n",
      "CPU times: user 2min 39s, sys: 1.48 s, total: 2min 40s\n",
      "Wall time: 2min 18s\n"
     ]
    }
   ],
   "source": [
    "%time h_10K = fit(5, h_10K, model, train_loss_fn, valid_loss_fn, optimizer, auroc_score, \\\n",
    "              train_dl, valid_dl, to_chkpt_path=MODEL_STORE, lazy=False, from_chkpt_path=None, verbosity=1, use_amp=True)"
   ]
  },
  {
   "cell_type": "code",
   "execution_count": null,
   "id": "e39faa6a-b216-49c0-b842-a2a46e537e0e",
   "metadata": {},
   "outputs": [
    {
     "name": "stdout",
     "output_type": "stream",
     "text": [
      "3,736,733,696\n"
     ]
    }
   ],
   "source": [
    "print(f'{torch.cuda.max_memory_allocated():,}')"
   ]
  },
  {
   "cell_type": "markdown",
   "id": "4353a5b2-7308-4e64-9e18-fcbe1765e0b5",
   "metadata": {},
   "source": [
    "#### `EHR_CNN`"
   ]
  },
  {
   "cell_type": "code",
   "execution_count": null,
   "id": "75200a97-c733-47c2-a875-80752221006e",
   "metadata": {},
   "outputs": [],
   "source": [
    "model = EHR_CNN(demograph_dims, rec_dims, demograph_dims_wd, rec_dims_wd, num_labels=len(labels), linear_layers=2).to(DEVICE)\n",
    "train_loss_fn, valid_loss_fn = get_loss_fn(train_pos_wts), get_loss_fn(valid_pos_wts)\n",
    "optimizer = torch.optim.Adagrad(model.parameters())"
   ]
  },
  {
   "cell_type": "code",
   "execution_count": null,
   "id": "be381523-cf64-4524-ba99-bb19ac0c431d",
   "metadata": {},
   "outputs": [
    {
     "name": "stdout",
     "output_type": "stream",
     "text": [
      "total: 19,079,534, trainable: 19,079,534, non_trainable: 0\n"
     ]
    },
    {
     "data": {
      "text/plain": [
       "(19079534, 19079534, 0)"
      ]
     },
     "execution_count": null,
     "metadata": {},
     "output_type": "execute_result"
    }
   ],
   "source": [
    "count_parameters(model)"
   ]
  },
  {
   "cell_type": "code",
   "execution_count": null,
   "id": "ac1f4851",
   "metadata": {},
   "outputs": [
    {
     "data": {
      "text/plain": [
       "EHR_CNN(\n",
       "  (embs): ModuleList(\n",
       "    (0): Embedding(33, 72)\n",
       "    (1): Embedding(14, 56)\n",
       "    (2): Embedding(124, 96)\n",
       "    (3): Embedding(5, 48)\n",
       "    (4): Embedding(8, 48)\n",
       "    (5): Embedding(26, 64)\n",
       "    (6): Embedding(4, 40)\n",
       "    (7): Embedding(328, 128)\n",
       "    (8): Embedding(332, 128)\n",
       "    (9): Embedding(3, 40)\n",
       "    (10): Embedding(306, 128)\n",
       "  )\n",
       "  (embgs): ModuleList(\n",
       "    (0): EmbeddingBag(658, 152, mode=mean)\n",
       "    (1): EmbeddingBag(27, 64, mode=mean)\n",
       "    (2): EmbeddingBag(55, 80, mode=mean)\n",
       "    (3): EmbeddingBag(247, 120, mode=mean)\n",
       "    (4): EmbeddingBag(11, 56, mode=mean)\n",
       "    (5): EmbeddingBag(144, 104, mode=mean)\n",
       "    (6): EmbeddingBag(215, 112, mode=mean)\n",
       "    (7): EmbeddingBag(20, 64, mode=mean)\n",
       "  )\n",
       "  (input_dp): InputDropout()\n",
       "  (lin): Sequential(\n",
       "    (0): Linear(in_features=1368, out_features=2736, bias=True)\n",
       "    (1): ReLU(inplace=True)\n",
       "    (2): Dropout(p=0.3, inplace=False)\n",
       "    (3): Linear(in_features=2736, out_features=5472, bias=True)\n",
       "    (4): ReLU(inplace=True)\n",
       "    (5): Dropout(p=0.3, inplace=False)\n",
       "  )\n",
       "  (lin_o): Linear(in_features=5472, out_features=6, bias=True)\n",
       "  (cnn): Sequential(\n",
       "    (0): Conv2d(1, 2, kernel_size=(5, 5), stride=(1, 1), padding=(2, 2))\n",
       "    (1): ReLU(inplace=True)\n",
       "    (2): Conv2d(2, 4, kernel_size=(3, 3), stride=(1, 1), padding=(1, 1))\n",
       "    (3): ReLU(inplace=True)\n",
       "    (4): Conv2d(4, 8, kernel_size=(3, 3), stride=(2, 2), padding=(1, 1))\n",
       "    (5): ReLU(inplace=True)\n",
       "    (6): Conv2d(8, 16, kernel_size=(3, 3), stride=(2, 2), padding=(1, 1))\n",
       "    (7): ReLU(inplace=True)\n",
       "    (8): Conv2d(16, 32, kernel_size=(3, 3), stride=(2, 2), padding=(1, 1))\n",
       "    (9): ReLU(inplace=True)\n",
       "    (10): AdaptiveMaxPool2d(output_size=(4, 4))\n",
       "    (11): Flatten(start_dim=1, end_dim=-1)\n",
       "  )\n",
       ")"
      ]
     },
     "execution_count": null,
     "metadata": {},
     "output_type": "execute_result"
    }
   ],
   "source": [
    "model"
   ]
  },
  {
   "cell_type": "markdown",
   "id": "91b0d16c-77b1-4fe7-a810-951dca9e5cd5",
   "metadata": {},
   "source": [
    "##### `use_amp=False`"
   ]
  },
  {
   "cell_type": "code",
   "execution_count": null,
   "id": "376fdfa6-1599-447b-9613-f9b95e9d4653",
   "metadata": {},
   "outputs": [
    {
     "name": "stderr",
     "output_type": "stream",
     "text": [
      "/home/vinod/anaconda3/envs/lemonpie/lib/python3.8/site-packages/torch/cuda/memory.py:260: FutureWarning: torch.cuda.reset_max_memory_allocated now calls torch.cuda.reset_peak_memory_stats, which resets /all/ peak memory stats.\n",
      "  warnings.warn(\n"
     ]
    }
   ],
   "source": [
    "gc.collect()\n",
    "torch.cuda.empty_cache()\n",
    "torch.cuda.reset_max_memory_allocated()\n",
    "torch.cuda.synchronize()"
   ]
  },
  {
   "cell_type": "code",
   "execution_count": null,
   "id": "f30aa392-064c-46f7-a570-f0818320dcb9",
   "metadata": {},
   "outputs": [],
   "source": [
    "h_cnn_10K = RunHistory(labels)"
   ]
  },
  {
   "cell_type": "code",
   "execution_count": null,
   "id": "399b847c-2a5d-40dc-a473-c1fc4e65d99c",
   "metadata": {},
   "outputs": [
    {
     "name": "stdout",
     "output_type": "stream",
     "text": [
      "epoch |     train loss |     train aurocs                  valid loss |     valid aurocs    \n",
      "----------------------------------------------------------------------------------------------------\n",
      "    0 |         16.057 | [0.616 0.655 0.661 0.608]              1.182 | [0.761 0.836 0.940 0.788]\n",
      "    1 |          0.928 | [0.736 0.870 0.940 0.817]              1.054 | [0.772 0.838 0.951 0.797]\n",
      "    2 |          0.754 | [0.795 0.899 0.968 0.838]              1.227 | [0.763 0.832 0.951 0.781]\n",
      "    3 |          0.624 | [0.827 0.927 0.976 0.888]              1.492 | [0.763 0.829 0.947 0.780]\n",
      "    4 |          0.481 | [0.868 0.946 0.989 0.911]              1.776 | [0.756 0.830 0.946 0.772]\n",
      "Checkpointed to \"/home/vinod/.lemonpie/models/checkpoint.tar\"\n",
      "CPU times: user 2min 34s, sys: 1.45 s, total: 2min 36s\n",
      "Wall time: 2min 17s\n"
     ]
    }
   ],
   "source": [
    "%time h_cnn_10K = fit(5, h_cnn_10K, model, train_loss_fn, valid_loss_fn, optimizer, auroc_score, \\\n",
    "              train_dl, valid_dl, to_chkpt_path=MODEL_STORE, lazy=False, from_chkpt_path=None, verbosity=1, use_amp=False)"
   ]
  },
  {
   "cell_type": "code",
   "execution_count": null,
   "id": "fa2a49dd-22db-4ded-8c5a-3a192a1d13cb",
   "metadata": {},
   "outputs": [
    {
     "name": "stdout",
     "output_type": "stream",
     "text": [
      "5,898,519,040\n"
     ]
    }
   ],
   "source": [
    "print(f'{torch.cuda.max_memory_allocated():,}')"
   ]
  },
  {
   "cell_type": "markdown",
   "id": "52bf3f53",
   "metadata": {},
   "source": [
    "##### `use_amp=True`"
   ]
  },
  {
   "cell_type": "code",
   "execution_count": null,
   "id": "376fdfa6-1599-447b-9613-f9b95e9d4653",
   "metadata": {},
   "outputs": [
    {
     "name": "stderr",
     "output_type": "stream",
     "text": [
      "/home/vinod/anaconda3/envs/lemonpie/lib/python3.8/site-packages/torch/cuda/memory.py:260: FutureWarning: torch.cuda.reset_max_memory_allocated now calls torch.cuda.reset_peak_memory_stats, which resets /all/ peak memory stats.\n",
      "  warnings.warn(\n"
     ]
    }
   ],
   "source": [
    "gc.collect()\n",
    "torch.cuda.empty_cache()\n",
    "torch.cuda.reset_max_memory_allocated()\n",
    "torch.cuda.synchronize()"
   ]
  },
  {
   "cell_type": "code",
   "execution_count": null,
   "id": "bb3d513f-c8cb-455d-a293-bf0bda829528",
   "metadata": {},
   "outputs": [
    {
     "name": "stdout",
     "output_type": "stream",
     "text": [
      "epoch |     train loss |     train aurocs                  valid loss |     valid aurocs    \n",
      "----------------------------------------------------------------------------------------------------\n",
      "    0 |          0.384 | [0.890 0.959 0.991 0.954]              2.337 | [0.758 0.829 0.946 0.763]\n",
      "    1 |          0.306 | [0.925 0.975 0.995 0.968]              2.684 | [0.743 0.828 0.945 0.759]\n",
      "    2 |          0.247 | [0.948 0.983 0.996 0.981]              3.107 | [0.727 0.822 0.943 0.757]\n",
      "    3 |          0.205 | [0.957 0.991 0.997 0.988]              3.592 | [0.745 0.823 0.941 0.750]\n",
      "    4 |          0.161 | [0.985 0.993 0.998 0.990]              4.492 | [0.735 0.824 0.941 0.742]\n",
      "Checkpointed to \"/home/vinod/.lemonpie/models/checkpoint.tar\"\n",
      "CPU times: user 2min 37s, sys: 1.39 s, total: 2min 39s\n",
      "Wall time: 2min 25s\n"
     ]
    }
   ],
   "source": [
    "%time h_cnn_10K = fit(5, h_cnn_10K, model, train_loss_fn, valid_loss_fn, optimizer, auroc_score, \\\n",
    "              train_dl, valid_dl, to_chkpt_path=MODEL_STORE, lazy=False, from_chkpt_path=None, verbosity=1, use_amp=True)"
   ]
  },
  {
   "cell_type": "code",
   "execution_count": null,
   "id": "e39faa6a-b216-49c0-b842-a2a46e537e0e",
   "metadata": {},
   "outputs": [
    {
     "name": "stdout",
     "output_type": "stream",
     "text": [
      "6,260,646,912\n"
     ]
    }
   ],
   "source": [
    "print(f'{torch.cuda.max_memory_allocated():,}')"
   ]
  },
  {
   "cell_type": "markdown",
   "id": "further-sight",
   "metadata": {},
   "source": [
    "#### Predict"
   ]
  },
  {
   "cell_type": "code",
   "execution_count": null,
   "id": "d0c781c3",
   "metadata": {},
   "outputs": [],
   "source": [
    "test_dl, test_pos_wts = ehr_10K_data.get_test_data()"
   ]
  },
  {
   "cell_type": "code",
   "execution_count": null,
   "id": "656bd2b9",
   "metadata": {},
   "outputs": [
    {
     "data": {
      "text/plain": [
       "(18, tensor([ 13.,  17.,  34.,  15., 147.,  53.]))"
      ]
     },
     "execution_count": null,
     "metadata": {},
     "output_type": "execute_result"
    }
   ],
   "source": [
    "len(test_dl), test_pos_wts"
   ]
  },
  {
   "cell_type": "code",
   "execution_count": null,
   "id": "b0d83699",
   "metadata": {},
   "outputs": [],
   "source": [
    "test_loss_fn = get_loss_fn(test_pos_wts)"
   ]
  },
  {
   "cell_type": "code",
   "execution_count": null,
   "id": "c74d0015",
   "metadata": {},
   "outputs": [
    {
     "name": "stdout",
     "output_type": "stream",
     "text": [
      "From \"/home/vinod/.lemonpie/models/checkpoint.tar\", loading model ...\n",
      "test loss = 4.048989103900062\n",
      "test aurocs = [0.712495 0.830429 0.917362 0.753938 0.81881  0.525422]\n"
     ]
    }
   ],
   "source": [
    "h_cnn_10K = predict(h_cnn_10K, model, test_loss_fn, auroc_score, test_dl, chkpt_path=MODEL_STORE)"
   ]
  },
  {
   "cell_type": "code",
   "execution_count": null,
   "id": "a6da713b",
   "metadata": {},
   "outputs": [],
   "source": []
  }
 ],
 "metadata": {
  "kernelspec": {
   "display_name": "Python 3.8.8 ('lemonpie')",
   "language": "python",
   "name": "python3"
  }
 },
 "nbformat": 4,
 "nbformat_minor": 5
}
