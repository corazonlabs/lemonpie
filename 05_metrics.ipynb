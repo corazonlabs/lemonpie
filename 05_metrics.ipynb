{
 "cells": [
  {
   "cell_type": "code",
   "execution_count": null,
   "metadata": {},
   "outputs": [],
   "source": [
    "# default_exp metrics"
   ]
  },
  {
   "cell_type": "markdown",
   "metadata": {},
   "source": [
    "# metrics\n",
    "> Classes and functions for calculating and plotting metrics."
   ]
  },
  {
   "cell_type": "code",
   "execution_count": null,
   "metadata": {},
   "outputs": [],
   "source": [
    "#hide\n",
    "%reload_ext autoreload\n",
    "%autoreload 2\n",
    "%matplotlib inline"
   ]
  },
  {
   "cell_type": "code",
   "execution_count": null,
   "metadata": {},
   "outputs": [
    {
     "data": {
      "text/html": [
       "<style>.container { width:85% !important; }</style>"
      ],
      "text/plain": [
       "<IPython.core.display.HTML object>"
      ]
     },
     "metadata": {},
     "output_type": "display_data"
    }
   ],
   "source": [
    "#hide\n",
    "from IPython.core.display import display, HTML\n",
    "display(HTML(\"<style>.container { width:85% !important; }</style>\"))"
   ]
  },
  {
   "cell_type": "code",
   "execution_count": null,
   "metadata": {},
   "outputs": [],
   "source": [
    "#export\n",
    "from lemonade.preprocessing.clean import * #for GVs\n",
    "# from lemonade.preprocessing.transform import *\n",
    "from fastai.imports import *\n",
    "from sklearn import metrics as skl_metrics, preprocessing as skl_preproc"
   ]
  },
  {
   "cell_type": "code",
   "execution_count": null,
   "metadata": {},
   "outputs": [],
   "source": [
    "#hide\n",
    "from nbdev.showdoc import *"
   ]
  },
  {
   "cell_type": "markdown",
   "metadata": {},
   "source": [
    "**First defining some test data**"
   ]
  },
  {
   "cell_type": "code",
   "execution_count": null,
   "metadata": {},
   "outputs": [],
   "source": [
    "y = torch.tensor((0,1,0,1,0)).unsqueeze(1)\n",
    "yhat = torch.tensor((.1,.8,.49,.53,.6)).unsqueeze(1)"
   ]
  },
  {
   "cell_type": "markdown",
   "metadata": {},
   "source": [
    "And some multi-label (multi-task) test data"
   ]
  },
  {
   "cell_type": "code",
   "execution_count": null,
   "metadata": {},
   "outputs": [
    {
     "data": {
      "text/plain": [
       "tensor([[0.6214, 0.3785, 0.4694, 0.9761],\n",
       "        [0.4551, 0.5479, 0.0986, 0.4358],\n",
       "        [0.0946, 0.5378, 0.0150, 0.5272],\n",
       "        [0.1441, 0.4652, 0.9465, 0.8706],\n",
       "        [0.4027, 0.6575, 0.2184, 0.6978],\n",
       "        [0.1012, 0.1558, 0.2668, 0.5782],\n",
       "        [0.1984, 0.9065, 0.6113, 0.1269],\n",
       "        [0.0358, 0.3520, 0.4205, 0.7488],\n",
       "        [0.3451, 0.5414, 0.5276, 0.8653],\n",
       "        [0.2433, 0.4868, 0.6466, 0.1830]])"
      ]
     },
     "execution_count": null,
     "metadata": {},
     "output_type": "execute_result"
    }
   ],
   "source": [
    "yhat_mt = torch.rand(10,4)\n",
    "yhat_mt"
   ]
  },
  {
   "cell_type": "code",
   "execution_count": null,
   "metadata": {},
   "outputs": [
    {
     "data": {
      "text/plain": [
       "tensor([[0, 0, 0, 0],\n",
       "        [1, 0, 0, 0],\n",
       "        [1, 1, 1, 1],\n",
       "        [0, 0, 0, 1],\n",
       "        [1, 0, 1, 1],\n",
       "        [0, 0, 0, 0],\n",
       "        [0, 1, 1, 1],\n",
       "        [1, 0, 1, 0],\n",
       "        [0, 0, 1, 0],\n",
       "        [0, 0, 0, 0]])"
      ]
     },
     "execution_count": null,
     "metadata": {},
     "output_type": "execute_result"
    }
   ],
   "source": [
    "y_mt = torch.randint(2, yhat_mt.shape)\n",
    "y_mt"
   ]
  },
  {
   "cell_type": "markdown",
   "metadata": {},
   "source": [
    "## Simple Accuracies"
   ]
  },
  {
   "cell_type": "code",
   "execution_count": null,
   "metadata": {},
   "outputs": [],
   "source": [
    "#export\n",
    "def accuracy(y:'y_true', yhat:'yhat_prob', threshold:float=0.5) -> float:\n",
    "    '''Accuracy (percentage of correct predictions) for binary classification'''\n",
    "    return ((yhat>threshold) == y).float().mean()"
   ]
  },
  {
   "cell_type": "code",
   "execution_count": null,
   "metadata": {},
   "outputs": [],
   "source": [
    "#export\n",
    "def null_accuracy(y:'y_true') -> float:\n",
    "    '''Null accuracy for binary classification: accuracy that could be achieved by always predicting the most frequent class'''\n",
    "    null_mean = y.float().mean()\n",
    "    return max(null_mean, 1-null_mean)"
   ]
  },
  {
   "cell_type": "code",
   "execution_count": null,
   "metadata": {},
   "outputs": [
    {
     "data": {
      "text/plain": [
       "(tensor(0.8000), tensor(0.6000))"
      ]
     },
     "execution_count": null,
     "metadata": {},
     "output_type": "execute_result"
    }
   ],
   "source": [
    "accuracy(y, yhat), null_accuracy(y)"
   ]
  },
  {
   "cell_type": "code",
   "execution_count": null,
   "metadata": {},
   "outputs": [
    {
     "data": {
      "text/plain": [
       "(tensor(0.5500), tensor(0.6250))"
      ]
     },
     "execution_count": null,
     "metadata": {},
     "output_type": "execute_result"
    }
   ],
   "source": [
    "accuracy(y_mt, yhat_mt), null_accuracy(y_mt)"
   ]
  },
  {
   "cell_type": "markdown",
   "metadata": {},
   "source": [
    "## ROC Curve & Optimal Threshold"
   ]
  },
  {
   "cell_type": "code",
   "execution_count": null,
   "metadata": {},
   "outputs": [
    {
     "data": {
      "text/plain": [
       "(torch.Size([5, 1]),\n",
       " torch.Size([5, 1]),\n",
       " torch.Size([10, 4]),\n",
       " torch.Size([10, 4]))"
      ]
     },
     "execution_count": null,
     "metadata": {},
     "output_type": "execute_result"
    }
   ],
   "source": [
    "y.shape, yhat.shape, y_mt.shape, yhat_mt.shape"
   ]
  },
  {
   "cell_type": "markdown",
   "metadata": {},
   "source": [
    "### Class `ROC` + Optimal Threshold -"
   ]
  },
  {
   "cell_type": "markdown",
   "metadata": {},
   "source": [
    "- To use @ inference time for cutoff of yhat\n",
    "- [From these explanations](https://stackoverflow.com/questions/28719067/roc-curve-and-cut-off-point-python)\n",
    "- Not implementing Youden's J-Score, but thats another option too - also in the above link"
   ]
  },
  {
   "cell_type": "code",
   "execution_count": null,
   "metadata": {},
   "outputs": [],
   "source": [
    "#export\n",
    "class ROC:\n",
    "    '''Class to hold Receiver Operating Characteristic (ROC) and AUROC (area under ROC curve) score for a single class'''\n",
    "    def __init__(self, y, yhat):\n",
    "        self.fpr, self.tpr, self.thresholds = skl_metrics.roc_curve(y, yhat)\n",
    "        self.auroc = skl_metrics.roc_auc_score(y, yhat)\n",
    "    \n",
    "    def optimal_thresh(self):\n",
    "        '''Calculate optimal threshold (on ROC curve) for a single class'''\n",
    "        opt_idx = np.argmin(np.sqrt(np.square(1-self.tpr) + np.square(self.fpr)))\n",
    "        return self.thresholds[opt_idx]\n",
    "    \n",
    "    def plot(self, label, title):\n",
    "        '''Plot ROC curve for a single class'''\n",
    "        plot_rocs([self], labels=[label], title=title)"
   ]
  },
  {
   "cell_type": "code",
   "execution_count": null,
   "metadata": {},
   "outputs": [
    {
     "data": {
      "text/markdown": [
       "<h3 id=\"ROC\" class=\"doc_header\"><code>class</code> <code>ROC</code><a href=\"\" class=\"source_link\" style=\"float:right\">[source]</a></h3>\n",
       "\n",
       "> <code>ROC</code>(**`y`**, **`yhat`**)\n",
       "\n",
       "Class to hold Receiver Operating Characteristic (ROC) and AUROC (area under ROC curve) score for a single class"
      ],
      "text/plain": [
       "<IPython.core.display.Markdown object>"
      ]
     },
     "metadata": {},
     "output_type": "display_data"
    }
   ],
   "source": [
    "show_doc(ROC, title_level=3)"
   ]
  },
  {
   "cell_type": "code",
   "execution_count": null,
   "metadata": {},
   "outputs": [
    {
     "data": {
      "text/markdown": [
       "<h4 id=\"ROC.optimal_thresh\" class=\"doc_header\"><code>ROC.optimal_thresh</code><a href=\"__main__.py#L8\" class=\"source_link\" style=\"float:right\">[source]</a></h4>\n",
       "\n",
       "> <code>ROC.optimal_thresh</code>()\n",
       "\n",
       "Calculate optimal threshold (on ROC curve) for a single class"
      ],
      "text/plain": [
       "<IPython.core.display.Markdown object>"
      ]
     },
     "metadata": {},
     "output_type": "display_data"
    }
   ],
   "source": [
    "show_doc(ROC.optimal_thresh)"
   ]
  },
  {
   "cell_type": "code",
   "execution_count": null,
   "metadata": {},
   "outputs": [
    {
     "data": {
      "text/markdown": [
       "<h4 id=\"ROC.plot\" class=\"doc_header\"><code>ROC.plot</code><a href=\"__main__.py#L13\" class=\"source_link\" style=\"float:right\">[source]</a></h4>\n",
       "\n",
       "> <code>ROC.plot</code>(**`label`**, **`title`**)\n",
       "\n",
       "Plot ROC curve for a single class"
      ],
      "text/plain": [
       "<IPython.core.display.Markdown object>"
      ]
     },
     "metadata": {},
     "output_type": "display_data"
    }
   ],
   "source": [
    "show_doc(ROC.plot)"
   ]
  },
  {
   "cell_type": "markdown",
   "metadata": {},
   "source": [
    "**Test**"
   ]
  },
  {
   "cell_type": "code",
   "execution_count": null,
   "metadata": {},
   "outputs": [],
   "source": [
    "test_roc = ROC(y, yhat)"
   ]
  },
  {
   "cell_type": "code",
   "execution_count": null,
   "metadata": {},
   "outputs": [
    {
     "data": {
      "text/plain": [
       "(array([0.        , 0.        , 0.33333333, 0.33333333, 1.        ]),\n",
       " array([0. , 0.5, 0.5, 1. , 1. ]),\n",
       " array([1.8 , 0.8 , 0.6 , 0.53, 0.1 ], dtype=float32),\n",
       " 0.53,\n",
       " 0.8333333333333334)"
      ]
     },
     "execution_count": null,
     "metadata": {},
     "output_type": "execute_result"
    }
   ],
   "source": [
    "test_roc.fpr, test_roc.tpr, test_roc.thresholds, test_roc.optimal_thresh(), test_roc.auroc"
   ]
  },
  {
   "cell_type": "markdown",
   "metadata": {},
   "source": [
    "### Class `MultiLabelROC` - "
   ]
  },
  {
   "cell_type": "code",
   "execution_count": null,
   "metadata": {},
   "outputs": [],
   "source": [
    "#export\n",
    "class MultiLabelROC:\n",
    "    '''Class that holds `ROC` objects for multiple classes'''\n",
    "    def __init__(self, y, yhat, labels):\n",
    "        self.labels = labels\n",
    "        self.ROCs = dict()\n",
    "        for i in range(len(labels)):\n",
    "            self.ROCs[labels[i]] = ROC(y[:, i], yhat[:, i])\n",
    "            \n",
    "    def plot(self, title):\n",
    "        '''Plot multiple ROC curves in a single plot'''\n",
    "        plot_rocs(self.ROCs, labels=self.labels, title=title, multilabel=True)"
   ]
  },
  {
   "cell_type": "code",
   "execution_count": null,
   "metadata": {},
   "outputs": [
    {
     "data": {
      "text/markdown": [
       "<h3 id=\"MultiLabelROC\" class=\"doc_header\"><code>class</code> <code>MultiLabelROC</code><a href=\"\" class=\"source_link\" style=\"float:right\">[source]</a></h3>\n",
       "\n",
       "> <code>MultiLabelROC</code>(**`y`**, **`yhat`**, **`labels`**)\n",
       "\n",
       "Class that holds [`ROC`](/lemonade/metrics#ROC) objects for multiple classes"
      ],
      "text/plain": [
       "<IPython.core.display.Markdown object>"
      ]
     },
     "metadata": {},
     "output_type": "display_data"
    }
   ],
   "source": [
    "show_doc(MultiLabelROC, title_level=3)"
   ]
  },
  {
   "cell_type": "code",
   "execution_count": null,
   "metadata": {},
   "outputs": [
    {
     "data": {
      "text/markdown": [
       "<h4 id=\"MultiLabelROC.plot\" class=\"doc_header\"><code>MultiLabelROC.plot</code><a href=\"__main__.py#L10\" class=\"source_link\" style=\"float:right\">[source]</a></h4>\n",
       "\n",
       "> <code>MultiLabelROC.plot</code>(**`title`**)\n",
       "\n",
       "Plot multiple ROC curves in a single plot"
      ],
      "text/plain": [
       "<IPython.core.display.Markdown object>"
      ]
     },
     "metadata": {},
     "output_type": "display_data"
    }
   ],
   "source": [
    "show_doc(MultiLabelROC.plot)"
   ]
  },
  {
   "cell_type": "markdown",
   "metadata": {},
   "source": [
    "**Test**"
   ]
  },
  {
   "cell_type": "code",
   "execution_count": null,
   "metadata": {},
   "outputs": [
    {
     "data": {
      "text/plain": [
       "['diabetes', 'stroke', 'alzheimers', 'coronaryheart']"
      ]
     },
     "execution_count": null,
     "metadata": {},
     "output_type": "execute_result"
    }
   ],
   "source": [
    "LABELS"
   ]
  },
  {
   "cell_type": "code",
   "execution_count": null,
   "metadata": {},
   "outputs": [
    {
     "data": {
      "text/plain": [
       "(torch.Size([10, 4]), torch.Size([10, 4]))"
      ]
     },
     "execution_count": null,
     "metadata": {},
     "output_type": "execute_result"
    }
   ],
   "source": [
    "y_mt.shape, yhat_mt.shape"
   ]
  },
  {
   "cell_type": "code",
   "execution_count": null,
   "metadata": {},
   "outputs": [],
   "source": [
    "mt_rocs = MultiLabelROC(y_mt, yhat_mt, LABELS)"
   ]
  },
  {
   "cell_type": "code",
   "execution_count": null,
   "metadata": {},
   "outputs": [
    {
     "data": {
      "text/plain": [
       "(array([0.        , 0.16666667, 0.16666667, 1.        , 1.        ]),\n",
       " array([0. , 0. , 0.5, 0.5, 1. ]),\n",
       " array([1.6213903 , 0.6213904 , 0.40271777, 0.10116935, 0.03583378],\n",
       "       dtype=float32),\n",
       " 0.40271777,\n",
       " 0.4166666666666667)"
      ]
     },
     "execution_count": null,
     "metadata": {},
     "output_type": "execute_result"
    }
   ],
   "source": [
    "mt_rocs.ROCs['diabetes'].fpr, mt_rocs.ROCs['diabetes'].tpr, mt_rocs.ROCs['diabetes'].thresholds, \\\n",
    "mt_rocs.ROCs['diabetes'].optimal_thresh(), mt_rocs.ROCs['diabetes'].auroc"
   ]
  },
  {
   "cell_type": "code",
   "execution_count": null,
   "metadata": {},
   "outputs": [
    {
     "data": {
      "text/plain": [
       "(array([0.   , 0.   , 0.375, 0.375, 1.   ]),\n",
       " array([0. , 0.5, 0.5, 1. , 1. ]),\n",
       " array([1.9065466 , 0.90654665, 0.5414234 , 0.5378021 , 0.15577942],\n",
       "       dtype=float32),\n",
       " 0.5378021,\n",
       " 0.8125)"
      ]
     },
     "execution_count": null,
     "metadata": {},
     "output_type": "execute_result"
    }
   ],
   "source": [
    "mt_rocs.ROCs['stroke'].fpr, mt_rocs.ROCs['stroke'].tpr, mt_rocs.ROCs['stroke'].thresholds, \\\n",
    "mt_rocs.ROCs['stroke'].optimal_thresh(), mt_rocs.ROCs['stroke'].auroc"
   ]
  },
  {
   "cell_type": "markdown",
   "metadata": {},
   "source": [
    "## Plot"
   ]
  },
  {
   "cell_type": "code",
   "execution_count": null,
   "metadata": {},
   "outputs": [],
   "source": [
    "#export\n",
    "def plot_rocs(ROCs, labels, title='ROC curve', multilabel=False, axis=None):\n",
    "    '''Plot one (single-label) or multiple (multi-label) ROC curves'''\n",
    "    if axis == None:\n",
    "        fig = plt.figure(figsize=(8,5))\n",
    "        axis = fig.add_axes([0,0,1,1])\n",
    "    for i in range(len(ROCs)):\n",
    "        if multilabel: axis.plot(ROCs[labels[i]].fpr, ROCs[labels[i]].tpr, label=f'{labels[i]} - {ROCs[labels[i]].auroc:0.3f}')\n",
    "        else: axis.plot(ROCs[i].fpr, ROCs[i].tpr, label=f'{labels[i]} - {ROCs[i].auroc:0.3f}')\n",
    "    axis.set_xlim([0.0, 1.0])\n",
    "    axis.set_ylim([0.0, 1.0])\n",
    "    axis.set_title(title)\n",
    "    axis.set_xlabel('False Positive Rate (1 - Specificity)')\n",
    "    axis.set_ylabel('True Positive Rate (Sensitivity)')\n",
    "    axis.legend(loc=\"lower right\")\n",
    "    axis.grid(True)"
   ]
  },
  {
   "cell_type": "code",
   "execution_count": null,
   "metadata": {},
   "outputs": [],
   "source": [
    "#export\n",
    "def plot_train_valid_rocs(train_ROC, valid_ROC, labels, multilabel=False):\n",
    "    '''Convenience fn to plot train and valid ROC curves side by side'''\n",
    "    if multilabel:\n",
    "        fig, axes = plt.subplots(1,2, figsize=(15,5))\n",
    "        plt.tight_layout()\n",
    "        plot_rocs(train_ROC, labels, title='Train ROC curves', multilabel=True, axis=axes[0])\n",
    "        plot_rocs(valid_ROC, labels, title='Valid ROC curves', multilabel=True, axis=axes[1])\n",
    "    else:\n",
    "        plot_rocs([train_ROC, valid_ROC], ['train', 'valid'], title='Train & Valid ROC Curves')"
   ]
  },
  {
   "cell_type": "markdown",
   "metadata": {},
   "source": [
    "**Test**"
   ]
  },
  {
   "cell_type": "code",
   "execution_count": null,
   "metadata": {},
   "outputs": [],
   "source": [
    "yhat_train=torch.rand(64,1)\n",
    "yhat_valid=torch.rand(64,1)\n",
    "y_train = torch.randint(2, yhat_train.shape)\n",
    "y_valid = torch.randint(2, yhat_valid.shape)"
   ]
  },
  {
   "cell_type": "code",
   "execution_count": null,
   "metadata": {},
   "outputs": [],
   "source": [
    "yhat_train_mt = torch.rand(64,4)\n",
    "yhat_valid_mt = torch.rand(64,4)\n",
    "y_train_mt = torch.randint(2, yhat_train_mt.shape)\n",
    "y_valid_mt = torch.randint(2, yhat_valid_mt.shape)"
   ]
  },
  {
   "cell_type": "code",
   "execution_count": null,
   "metadata": {},
   "outputs": [],
   "source": [
    "train_mt_rocs = MultiLabelROC(y_train_mt, yhat_train_mt, LABELS)\n",
    "valid_mt_rocs = MultiLabelROC(y_valid_mt, yhat_valid_mt, LABELS)"
   ]
  },
  {
   "cell_type": "code",
   "execution_count": null,
   "metadata": {},
   "outputs": [],
   "source": [
    "train_roc = ROC(y_train, yhat_train)\n",
    "valid_roc = ROC(y_valid, yhat_valid)"
   ]
  },
  {
   "cell_type": "code",
   "execution_count": null,
   "metadata": {},
   "outputs": [
    {
     "data": {
      "image/png": "[encoded data removed]",
      "text/plain": [
       "<Figure size 1080x360 with 2 Axes>"
      ]
     },
     "metadata": {
      "needs_background": "light"
     },
     "output_type": "display_data"
    }
   ],
   "source": [
    "plot_train_valid_rocs(train_mt_rocs.ROCs, valid_mt_rocs.ROCs, LABELS, multilabel=True)"
   ]
  },
  {
   "cell_type": "code",
   "execution_count": null,
   "metadata": {},
   "outputs": [
    {
     "data": {
      "image/png": "[encoded data removed]",
      "text/plain": [
       "<Figure size 576x360 with 1 Axes>"
      ]
     },
     "metadata": {
      "needs_background": "light"
     },
     "output_type": "display_data"
    }
   ],
   "source": [
    "plot_train_valid_rocs(train_roc, valid_roc, LABELS, multilabel=False) #LABELS ignored"
   ]
  },
  {
   "cell_type": "code",
   "execution_count": null,
   "metadata": {},
   "outputs": [
    {
     "data": {
      "image/png": "[encoded data removed]",
      "text/plain": [
       "<Figure size 576x360 with 1 Axes>"
      ]
     },
     "metadata": {
      "needs_background": "light"
     },
     "output_type": "display_data"
    }
   ],
   "source": [
    "plot_rocs(train_mt_rocs.ROCs, LABELS, title='Train Multi-task', multilabel=True)"
   ]
  },
  {
   "cell_type": "code",
   "execution_count": null,
   "metadata": {},
   "outputs": [
    {
     "data": {
      "image/png": "[encoded data removed]",
      "text/plain": [
       "<Figure size 576x360 with 1 Axes>"
      ]
     },
     "metadata": {
      "needs_background": "light"
     },
     "output_type": "display_data"
    }
   ],
   "source": [
    "plot_rocs([train_roc, valid_roc], ['train','valid'], title='Train, Valid - Single Task')"
   ]
  },
  {
   "cell_type": "code",
   "execution_count": null,
   "metadata": {},
   "outputs": [
    {
     "data": {
      "image/png": "[encoded data removed]",
      "text/plain": [
       "<Figure size 576x360 with 1 Axes>"
      ]
     },
     "metadata": {
      "needs_background": "light"
     },
     "output_type": "display_data"
    }
   ],
   "source": [
    "plot_rocs([train_roc], ['train'], title='Train - Single Task')"
   ]
  },
  {
   "cell_type": "code",
   "execution_count": null,
   "metadata": {},
   "outputs": [
    {
     "data": {
      "image/png": "[encoded data removed]",
      "text/plain": [
       "<Figure size 576x360 with 1 Axes>"
      ]
     },
     "metadata": {
      "needs_background": "light"
     },
     "output_type": "display_data"
    }
   ],
   "source": [
    "train_roc.plot('Train - single Task', 'testing call from class')"
   ]
  },
  {
   "cell_type": "code",
   "execution_count": null,
   "metadata": {},
   "outputs": [
    {
     "data": {
      "image/png": "[encoded data removed]",
      "text/plain": [
       "<Figure size 576x360 with 1 Axes>"
      ]
     },
     "metadata": {
      "needs_background": "light"
     },
     "output_type": "display_data"
    }
   ],
   "source": [
    "train_mt_rocs.plot('Train - MultiLabel from class')"
   ]
  },
  {
   "cell_type": "markdown",
   "metadata": {},
   "source": [
    "## AUROC Score & Confidence Interval"
   ]
  },
  {
   "cell_type": "markdown",
   "metadata": {},
   "source": [
    "### AUROC Score"
   ]
  },
  {
   "cell_type": "code",
   "execution_count": null,
   "metadata": {},
   "outputs": [],
   "source": [
    "#export\n",
    "def auroc_score(y, yhat, average=None):\n",
    "    '''Return scikit_learn auroc score'''\n",
    "    return skl_metrics.roc_auc_score(y, yhat, average=average)"
   ]
  },
  {
   "cell_type": "code",
   "execution_count": null,
   "metadata": {},
   "outputs": [],
   "source": [
    "yhat_mt = torch.rand(64,4)\n",
    "y_mt = torch.randint(2,size=(64,4))\n",
    "# y_mt, yhat_mt"
   ]
  },
  {
   "cell_type": "code",
   "execution_count": null,
   "metadata": {},
   "outputs": [
    {
     "name": "stdout",
     "output_type": "stream",
     "text": [
      "average=weighted:  0.5307114769682827\n",
      "average=macro:  0.5298527129062832\n",
      "average=micro:  0.5230759826395256\n",
      "average=none:  [0.50686275 0.47070312 0.55859375 0.58325123]\n",
      "acc:  tensor(0.4922)\n",
      "null acc:  tensor(0.5195)\n"
     ]
    }
   ],
   "source": [
    "print(\"average=weighted: \",skl_metrics.roc_auc_score(y_mt, yhat_mt, average='weighted'))\n",
    "print(\"average=macro: \",skl_metrics.roc_auc_score(y_mt, yhat_mt))\n",
    "print(\"average=micro: \",skl_metrics.roc_auc_score(y_mt, yhat_mt, average='micro'))\n",
    "print(\"average=none: \",skl_metrics.roc_auc_score(y_mt, yhat_mt, average=None))\n",
    "print(\"acc: \", accuracy(y_mt, yhat_mt))\n",
    "print(\"null acc: \", null_accuracy(y_mt))"
   ]
  },
  {
   "cell_type": "code",
   "execution_count": null,
   "metadata": {},
   "outputs": [
    {
     "name": "stdout",
     "output_type": "stream",
     "text": [
      "aurocs:  [0.5068627450980392, 0.470703125, 0.55859375, 0.5832512315270937]\n",
      "np.mean of aurocs:  0.5298527129062832\n"
     ]
    }
   ],
   "source": [
    "aurocs = []\n",
    "for label in range (y_mt.shape[1]):\n",
    "    aurocs.append(skl_metrics.roc_auc_score(y_mt[:,label], yhat_mt[:,label]))\n",
    "print(\"aurocs: \", aurocs)\n",
    "print(\"np.mean of aurocs: \", np.mean(aurocs))"
   ]
  },
  {
   "cell_type": "markdown",
   "metadata": {},
   "source": [
    "So ...\n",
    "- **`average=None` ==> calling individually**\n",
    "- **`average=macro` ==> mean of individual calls**"
   ]
  },
  {
   "cell_type": "code",
   "execution_count": null,
   "metadata": {},
   "outputs": [
    {
     "data": {
      "text/plain": [
       "True"
      ]
     },
     "execution_count": null,
     "metadata": {},
     "output_type": "execute_result"
    }
   ],
   "source": [
    "skl_metrics.roc_auc_score(y_mt, yhat_mt, average=None) == aurocs # None\n",
    "skl_metrics.roc_auc_score(y_mt, yhat_mt) == np.mean(aurocs) #macro"
   ]
  },
  {
   "cell_type": "markdown",
   "metadata": {},
   "source": [
    "### Confidence Interval\n",
    "- Based on [this explanation](https://stackoverflow.com/questions/19124239/scikit-learn-roc-curve-with-confidence-intervals)\n",
    "- This is the bootstrapping method not the DeLong method"
   ]
  },
  {
   "cell_type": "code",
   "execution_count": null,
   "metadata": {},
   "outputs": [],
   "source": [
    "#export\n",
    "def auroc_ci(y, yhat):\n",
    "    '''Returns 95% confidence interval for auroc'''\n",
    "    n_bootstraps = 1000\n",
    "    rng_seed = 42  # control reproducibility\n",
    "    bootstrapped_scores = []\n",
    "\n",
    "    rng = np.random.RandomState(rng_seed)\n",
    "    for i in range(n_bootstraps):\n",
    "        # bootstrap by sampling with replacement on the prediction indices\n",
    "        indices = rng.randint(0, len(y), len(y))\n",
    "        if len(np.unique(y[indices])) < 2: continue   # reject this sample\n",
    "        score = skl_metrics.roc_auc_score(y[indices], yhat[indices])\n",
    "        bootstrapped_scores.append(score)\n",
    "\n",
    "    sorted_scores = np.array(bootstrapped_scores)\n",
    "    sorted_scores.sort()\n",
    "\n",
    "    confidence_lower = sorted_scores[int(0.025 * len(sorted_scores))]\n",
    "    confidence_upper = sorted_scores[int(0.975 * len(sorted_scores))]\n",
    "    return round(confidence_lower,3), round(confidence_upper,3)"
   ]
  },
  {
   "cell_type": "code",
   "execution_count": null,
   "metadata": {},
   "outputs": [],
   "source": [
    "y_pred = np.array([0.21, 0.32, 0.63, 0.35, 0.92, 0.79, 0.82, 0.99, 0.04])\n",
    "y_true = np.array([0,    1,    0,    0,    1,    1,    0,    1,    0   ])"
   ]
  },
  {
   "cell_type": "code",
   "execution_count": null,
   "metadata": {},
   "outputs": [
    {
     "data": {
      "text/plain": [
       "(0.8, (0.389, 1.0))"
      ]
     },
     "execution_count": null,
     "metadata": {},
     "output_type": "execute_result"
    }
   ],
   "source": [
    "auroc_score(y_true, y_pred), auroc_ci(y_true, y_pred)"
   ]
  },
  {
   "cell_type": "code",
   "execution_count": null,
   "metadata": {},
   "outputs": [
    {
     "data": {
      "text/plain": [
       "array([0.50686275, 0.47070312, 0.55859375, 0.58325123])"
      ]
     },
     "execution_count": null,
     "metadata": {},
     "output_type": "execute_result"
    }
   ],
   "source": [
    "auroc_score(y_mt, yhat_mt)"
   ]
  },
  {
   "cell_type": "markdown",
   "metadata": {},
   "source": [
    "## Wrapper -"
   ]
  },
  {
   "cell_type": "code",
   "execution_count": null,
   "metadata": {},
   "outputs": [],
   "source": [
    "#hide\n",
    "def ehr_accuracies(yb, yhat):\n",
    "    '''Returns classification accuracy and auroc score for binary classification'''\n",
    "    return accuracy(yb, yhat), auroc_score(yb, yhat, average=None)"
   ]
  },
  {
   "cell_type": "code",
   "execution_count": null,
   "metadata": {},
   "outputs": [
    {
     "data": {
      "text/plain": [
       "(tensor([[0.],\n",
       "         [1.],\n",
       "         [0.],\n",
       "         [1.],\n",
       "         [1.]]),\n",
       " tensor([[0],\n",
       "         [1],\n",
       "         [0],\n",
       "         [1],\n",
       "         [0]]))"
      ]
     },
     "execution_count": null,
     "metadata": {},
     "output_type": "execute_result"
    }
   ],
   "source": [
    "#hide\n",
    "(yhat>.5).float(), y"
   ]
  },
  {
   "cell_type": "code",
   "execution_count": null,
   "metadata": {},
   "outputs": [
    {
     "data": {
      "text/plain": [
       "(tensor(0.8000), 0.8333333333333334)"
      ]
     },
     "execution_count": null,
     "metadata": {},
     "output_type": "execute_result"
    }
   ],
   "source": [
    "#hide\n",
    "ehr_accuracies(y, yhat)"
   ]
  },
  {
   "cell_type": "code",
   "execution_count": null,
   "metadata": {},
   "outputs": [
    {
     "data": {
      "text/plain": [
       "(torch.Size([64, 4]), torch.Size([64, 4]))"
      ]
     },
     "execution_count": null,
     "metadata": {},
     "output_type": "execute_result"
    }
   ],
   "source": [
    "#hide\n",
    "y_mt.shape, yhat_mt.shape"
   ]
  },
  {
   "cell_type": "code",
   "execution_count": null,
   "metadata": {},
   "outputs": [
    {
     "data": {
      "text/plain": [
       "(tensor(0.4922), array([0.50686275, 0.47070312, 0.55859375, 0.58325123]))"
      ]
     },
     "execution_count": null,
     "metadata": {},
     "output_type": "execute_result"
    }
   ],
   "source": [
    "#hide\n",
    "ehr_accuracies(y_mt, yhat_mt)"
   ]
  },
  {
   "cell_type": "markdown",
   "metadata": {},
   "source": [
    "## Export -"
   ]
  },
  {
   "cell_type": "code",
   "execution_count": null,
   "metadata": {},
   "outputs": [
    {
     "name": "stdout",
     "output_type": "stream",
     "text": [
      "Converted 01_preprocessing_clean.ipynb.\n",
      "Converted 02_preprocessing_vocab.ipynb.\n",
      "Converted 03_preprocessing_transform.ipynb.\n",
      "Converted 04_data.ipynb.\n",
      "Converted 05_metrics.ipynb.\n",
      "Converted index.ipynb.\n"
     ]
    }
   ],
   "source": [
    "#hide\n",
    "from nbdev.export import *\n",
    "notebook2script()"
   ]
  },
  {
   "cell_type": "code",
   "execution_count": null,
   "metadata": {},
   "outputs": [],
   "source": []
  }
 ],
 "metadata": {
  "kernelspec": {
   "display_name": "Python 3",
   "language": "python",
   "name": "python3"
  }
 },
 "nbformat": 4,
 "nbformat_minor": 4
}
