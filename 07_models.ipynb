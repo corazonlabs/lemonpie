{
 "cells": [
  {
   "cell_type": "markdown",
   "metadata": {},
   "source": [
    "<h1>Table of Contents<span class=\"tocSkip\"></span></h1>\n",
    "<div class=\"toc\"><ul class=\"toc-item\"><li><span><a href=\"#models\" data-toc-modified-id=\"models-1\"><span class=\"toc-item-num\">1&nbsp;&nbsp;</span>models</a></span><ul class=\"toc-item\"><li><span><a href=\"#Tuning-Recipes\" data-toc-modified-id=\"Tuning-Recipes-1.1\"><span class=\"toc-item-num\">1.1&nbsp;&nbsp;</span>Tuning Recipes</a></span><ul class=\"toc-item\"><li><span><a href=\"#Andrew-Ng's---Basic-Recipe\" data-toc-modified-id=\"Andrew-Ng's---Basic-Recipe-1.1.1\"><span class=\"toc-item-num\">1.1.1&nbsp;&nbsp;</span>Andrew Ng's - Basic Recipe</a></span></li><li><span><a href=\"#Jeremy-Howard's\" data-toc-modified-id=\"Jeremy-Howard's-1.1.2\"><span class=\"toc-item-num\">1.1.2&nbsp;&nbsp;</span>Jeremy Howard's</a></span></li><li><span><a href=\"#My-List\" data-toc-modified-id=\"My-List-1.1.3\"><span class=\"toc-item-num\">1.1.3&nbsp;&nbsp;</span>My List</a></span><ul class=\"toc-item\"><li><span><a href=\"#More-things-to-consider\" data-toc-modified-id=\"More-things-to-consider-1.1.3.1\"><span class=\"toc-item-num\">1.1.3.1&nbsp;&nbsp;</span>More things to consider</a></span></li></ul></li><li><span><a href=\"#Deep-Double-Descent\" data-toc-modified-id=\"Deep-Double-Descent-1.1.4\"><span class=\"toc-item-num\">1.1.4&nbsp;&nbsp;</span>Deep Double Descent</a></span></li></ul></li><li><span><a href=\"#Dropouts\" data-toc-modified-id=\"Dropouts-1.2\"><span class=\"toc-item-num\">1.2&nbsp;&nbsp;</span>Dropouts</a></span></li><li><span><a href=\"#Linear-Layers\" data-toc-modified-id=\"Linear-Layers-1.3\"><span class=\"toc-item-num\">1.3&nbsp;&nbsp;</span>Linear Layers</a></span></li><li><span><a href=\"#EHR_LSTM\" data-toc-modified-id=\"EHR_LSTM-1.4\"><span class=\"toc-item-num\">1.4&nbsp;&nbsp;</span><code>EHR_LSTM</code></a></span><ul class=\"toc-item\"><li><ul class=\"toc-item\"><li><span><a href=\"#Inspect-Data\" data-toc-modified-id=\"Inspect-Data-1.4.0.1\"><span class=\"toc-item-num\">1.4.0.1&nbsp;&nbsp;</span>Inspect Data</a></span></li></ul></li><li><span><a href=\"#Test-fit()\" data-toc-modified-id=\"Test-fit()-1.4.1\"><span class=\"toc-item-num\">1.4.1&nbsp;&nbsp;</span>Test <code>fit()</code></a></span></li><li><span><a href=\"#Test-predict()\" data-toc-modified-id=\"Test-predict()-1.4.2\"><span class=\"toc-item-num\">1.4.2&nbsp;&nbsp;</span>Test <code>predict()</code></a></span></li><li><span><a href=\"#Test-plotting-+-results\" data-toc-modified-id=\"Test-plotting-+-results-1.4.3\"><span class=\"toc-item-num\">1.4.3&nbsp;&nbsp;</span>Test plotting + results</a></span></li></ul></li><li><span><a href=\"#EHR_CNN\" data-toc-modified-id=\"EHR_CNN-1.5\"><span class=\"toc-item-num\">1.5&nbsp;&nbsp;</span><code>EHR_CNN</code></a></span></li><li><span><a href=\"#Model\" data-toc-modified-id=\"Model-1.6\"><span class=\"toc-item-num\">1.6&nbsp;&nbsp;</span>Model</a></span><ul class=\"toc-item\"><li><span><a href=\"#Test-fit()\" data-toc-modified-id=\"Test-fit()-1.6.1\"><span class=\"toc-item-num\">1.6.1&nbsp;&nbsp;</span>Test <code>fit()</code></a></span></li><li><span><a href=\"#Test-predict()\" data-toc-modified-id=\"Test-predict()-1.6.2\"><span class=\"toc-item-num\">1.6.2&nbsp;&nbsp;</span>Test <code>predict()</code></a></span></li><li><span><a href=\"#Test-plotting-+-results\" data-toc-modified-id=\"Test-plotting-+-results-1.6.3\"><span class=\"toc-item-num\">1.6.3&nbsp;&nbsp;</span>Test plotting + results</a></span></li></ul></li><li><span><a href=\"#Export--\" data-toc-modified-id=\"Export---1.7\"><span class=\"toc-item-num\">1.7&nbsp;&nbsp;</span>Export -</a></span></li></ul></li></ul></div>"
   ]
  },
  {
   "cell_type": "code",
   "execution_count": null,
   "metadata": {},
   "outputs": [],
   "source": [
    "# default_exp models"
   ]
  },
  {
   "cell_type": "markdown",
   "metadata": {},
   "source": [
    "# models\n",
    "> Classes and helper functions for all Deep Learning models used in this library."
   ]
  },
  {
   "cell_type": "code",
   "execution_count": null,
   "metadata": {},
   "outputs": [],
   "source": [
    "#hide\n",
    "%reload_ext autoreload\n",
    "%autoreload 2\n",
    "%matplotlib inline"
   ]
  },
  {
   "cell_type": "code",
   "execution_count": null,
   "metadata": {},
   "outputs": [
    {
     "data": {
      "text/html": [
       "<style>.container { width:85% !important; }</style>"
      ],
      "text/plain": [
       "<IPython.core.display.HTML object>"
      ]
     },
     "metadata": {},
     "output_type": "display_data"
    }
   ],
   "source": [
    "#hide\n",
    "from IPython.core.display import display, HTML\n",
    "display(HTML(\"<style>.container { width:85% !important; }</style>\"))"
   ]
  },
  {
   "cell_type": "code",
   "execution_count": null,
   "metadata": {},
   "outputs": [],
   "source": [
    "#export\n",
    "from lemonade.preprocessing.clean import * #for GVs\n",
    "from lemonade.preprocessing.vocab import * #for loading vocabs\n",
    "from lemonade.preprocessing.transform import * #for loading ptlist thru EHRData\n",
    "from lemonade.data import * #for EHRData\n",
    "from lemonade.learn import * #for fit/predict stuff\n",
    "from lemonade.metrics import * #for auroc_score\n",
    "from fastai.imports import *"
   ]
  },
  {
   "cell_type": "code",
   "execution_count": null,
   "metadata": {},
   "outputs": [],
   "source": [
    "#hide\n",
    "from nbdev.showdoc import *"
   ]
  },
  {
   "cell_type": "markdown",
   "metadata": {},
   "source": [
    "## Tuning Recipes"
   ]
  },
  {
   "cell_type": "markdown",
   "metadata": {},
   "source": [
    "### Andrew Ng's - Basic Recipe"
   ]
  },
  {
   "cell_type": "markdown",
   "metadata": {},
   "source": [
    "**<span class=\"burk\">Priority Of Hyperparameters</span>**\n",
    "- Learning Rate → The most important to tune\n",
    "- Momentum Parameter → 0.9 is a good default, but 2nd priority for tuning\n",
    "- Number of Hidden Units / Hidden Neurons→ 2nd most important \n",
    "- Mini-batch Size → 2nd most important \n",
    "- Number of Layers→ 3rd most important\n",
    "- Learning Rate Decay→ 3rd most important\n",
    "- β1, β2, ϵ → Adam Params - Almost never - default values of 0.9, 0.999, 10-8 works mostly\n",
    "\n",
    "**<span class=\"burk\">Basic Recipe</span>**\n",
    "1. First focus on reducing Bias (if its high) - Training set performance (Jeremy's overfit)\n",
    "    1. Bigger Network - more neurons, deeper network\n",
    "        1. Never hurts as long as regularization is taken care of\n",
    "        2. Only costs are compute cost + time\n",
    "    2. Train longer\n",
    "    3. Explore different NN architectures \n",
    "    4. More data generally will not help\n",
    "2. Once Bias is solved, focus on variance - Dev set performance (Jeremy's reduce overfitting)\n",
    "    1. More data\n",
    "    2. Regularization\n",
    "    3. Explore different NN architectures "
   ]
  },
  {
   "cell_type": "markdown",
   "metadata": {},
   "source": [
    "### Jeremy Howard's"
   ]
  },
  {
   "cell_type": "markdown",
   "metadata": {},
   "source": [
    "**<span class=\"burk\">3 steps to training a really good model</span>**\n",
    "1. **Overfit** - Create something with way more capacity than needed, no regularization\n",
    " 1. Overfit does not mean training loss < validation loss\n",
    " 2. That should always be the case on a well-fit model\n",
    " 3. Overfit means you can personally see / verify that the validation loss is getting worse\n",
    "2. **Reduce overfitting**\n",
    "3. Thats it - maybe visualize / plot, etc.\n",
    "\n",
    "**<span class=\"burk\">5 steps to reduce overfitting - in this order</span>**\n",
    "1. More data\n",
    "2. Data augmentation\n",
    "3. Generalizable architectures\n",
    " 1. Normalization: Batch Norm layers\n",
    " 2. Dense Nets (Densely Connected Convolutional Networks)\n",
    "4. Regularization (but reduces effective capacity of the model, so worse option than top 3)\n",
    " 1. Dropout\n",
    " 2. Weight decay\n",
    "5. Reduce architecture complexity (less layers or less activations)\n",
    " 1. Most beginners start with this, but this should be the last thing to try"
   ]
  },
  {
   "cell_type": "markdown",
   "metadata": {},
   "source": [
    "### My List"
   ]
  },
  {
   "cell_type": "markdown",
   "metadata": {},
   "source": [
    "**Base Model**\n",
    "- Weight Initialization -- ✅\n",
    "    - EmbeddingBags + Embeddings wt init -- ✅\n",
    "    - LSTM and Linear layers wt init -- ✅\n",
    "- Pt Demographics concated to LSTM output -- ✅\n",
    "\n",
    "- Pipeline? 😁"
   ]
  },
  {
   "cell_type": "markdown",
   "metadata": {},
   "source": [
    "**Tuning**\n",
    "1. Data\n",
    "    1. Use 10K vocab, split into train, valid, test -- ✅\n",
    "2. More data - use 20K instead of these 2\n",
    "    1. Split train further in half - use first half for overfitting\n",
    "    2. Use remaining half for reducing overfitting (**More data / augmentation**)\n",
    "2. Large model (way more capacity), more neurons, deeper net -- ✅ \n",
    "    1. 4-layer LSTM, more? -- ✅\n",
    "    2. 3 linear layers -- ✅ \n",
    "        1. (LSTM out + demographics tensor) --> linear(2x of that) --> linear(same sz) --> output(4 neurons)\n",
    "    3. No dropout, no L2\n",
    "3. Double the epochs (verify that validation loss is getting worse)\n",
    "4. Generalizable archs \n",
    "    1. Batch Norm\n",
    "5. Regularization\n",
    "    1. Dropout\n",
    "        1. Embedding Dropout\n",
    "        2. Weight (Hidden) Dropout\n",
    "        3. RNN Dropout\n",
    "        4. Variational RNN Dropout (ip, op, rnn, vocab)\n",
    "        5. Zoneout\n",
    "    2. Weight Decay\n",
    "        1. L2 \n",
    "4. Reduce arch complexity if needed"
   ]
  },
  {
   "cell_type": "markdown",
   "metadata": {},
   "source": [
    "#### More things to consider"
   ]
  },
  {
   "cell_type": "markdown",
   "metadata": {},
   "source": [
    "- `cutoff_age = 20`\n",
    "    - Base Model = Batch Norm + Wt Init + Adagrad + L2 (EHR_LSTM_1)\n",
    "    - 10K\n",
    "        - Dropout (Default Pytorch LSTM dp)\n",
    "        - Add Input dropout \n",
    "        - Remove BN\n",
    "        - Schedule lr\n",
    "            - [OneCycleLR](https://pytorch.org/docs/stable/optim.html#torch.optim.lr_scheduler.OneCycleLR)\n",
    "            - [CyclicLR](https://pytorch.org/docs/stable/optim.html#torch.optim.lr_scheduler.CyclicLR)\n",
    "            - [ReduceLROnPlateau](https://pytorch.org/docs/stable/optim.html#torch.optim.lr_scheduler.ReduceLROnPlateau)\n",
    "            - [CosineAnnealingLR](https://pytorch.org/docs/stable/optim.html#torch.optim.lr_scheduler.CosineAnnealingLR)\n",
    "            - [CosineAnnealingWarmRestarts](https://pytorch.org/docs/stable/optim.html#torch.optim.lr_scheduler.CosineAnnealingWarmRestarts)\n",
    "    - Repeat promising ones on 100K\n",
    "- `cutoff_age = 30`"
   ]
  },
  {
   "cell_type": "markdown",
   "metadata": {},
   "source": [
    "### Deep Double Descent"
   ]
  },
  {
   "cell_type": "markdown",
   "metadata": {},
   "source": [
    "- [Ilya describing it on Lex's podcast](https://www.youtube.com/watch?v=13CZPWmke6A&t=2164s)\n",
    "- [Summary on OpenAI blog](https://openai.com/blog/deep-double-descent/)\n",
    "- [Paper on arxiv](https://arxiv.org/abs/1912.02292)\n",
    "- [Reviewer comments on OpenReview](https://openreview.net/forum?id=B1g5sA4twr)\n",
    "- [A summary by Evan Hubinger](https://www.alignmentforum.org/posts/FRv7ryoqtvSuqBxuT/understanding-deep-double-descent)"
   ]
  },
  {
   "cell_type": "markdown",
   "metadata": {},
   "source": [
    "## Dropouts "
   ]
  },
  {
   "cell_type": "markdown",
   "metadata": {},
   "source": [
    "This is the `RNNDropout` from fast.ai renamed as `InputDropout`\n",
    "- [docs](https://docs.fast.ai/text.models.awdlstm.html) \n",
    "- [source](https://github.com/fastai/fastai/blob/master/fastai/text/models/awdlstm.py)"
   ]
  },
  {
   "cell_type": "code",
   "execution_count": null,
   "metadata": {},
   "outputs": [],
   "source": [
    "#export\n",
    "def dropout_mask(x, sz, p):\n",
    "    '''Dropout mask as described in fast.ai'''\n",
    "    return x.new(*sz).bernoulli_(1-p).div_(1-p)\n",
    "\n",
    "class InputDropout(nn.Module):\n",
    "    '''InputDropout - same as RNNDropout described in fast.ai'''\n",
    "    def __init__(self, p=0.5):\n",
    "        super().__init__()\n",
    "        self.p=p\n",
    "\n",
    "    def forward(self, x):\n",
    "        if not self.training or self.p == 0.: return x\n",
    "        m = dropout_mask(x.data, (x.size(0), 1, x.size(2)), self.p)\n",
    "        return x * m"
   ]
  },
  {
   "cell_type": "code",
   "execution_count": null,
   "metadata": {},
   "outputs": [
    {
     "data": {
      "text/plain": [
       "(tensor([[[ 0.8005, -0.6808,  0.5728, -0.0489, -2.0461],\n",
       "          [ 1.4889,  0.5118,  0.9236, -0.4840,  0.4726],\n",
       "          [ 0.0923,  0.5709, -1.0910, -1.5284,  0.7210]],\n",
       " \n",
       "         [[-1.3420, -1.4965, -1.5638, -1.3729,  0.0822],\n",
       "          [ 0.5713,  0.4985, -0.3452, -1.2931, -0.5356],\n",
       "          [-0.7201,  0.9961, -1.0101, -0.8653,  0.4332]]]),\n",
       " tensor([[[4., 0., 0., 0., 0.]],\n",
       " \n",
       "         [[0., 4., 0., 0., 4.]]]),\n",
       " tensor([[[ 3.2019, -0.0000,  0.0000, -0.0000, -0.0000],\n",
       "          [ 5.9556,  0.0000,  0.0000, -0.0000,  0.0000],\n",
       "          [ 0.3691,  0.0000, -0.0000, -0.0000,  0.0000]],\n",
       " \n",
       "         [[-0.0000, -5.9859, -0.0000, -0.0000,  0.3287],\n",
       "          [ 0.0000,  1.9941, -0.0000, -0.0000, -2.1424],\n",
       "          [-0.0000,  3.9843, -0.0000, -0.0000,  1.7327]]]))"
      ]
     },
     "execution_count": null,
     "metadata": {},
     "output_type": "execute_result"
    }
   ],
   "source": [
    "x = torch.randn(2,3,5) #bs=2, seq_len(bptt)=3, x(emb width)=5\n",
    "mask = dropout_mask(x, (2,1,5), 0.75)\n",
    "x, mask, x*mask"
   ]
  },
  {
   "cell_type": "code",
   "execution_count": null,
   "metadata": {},
   "outputs": [
    {
     "data": {
      "text/plain": [
       "(tensor(1.9322), tensor(1.9143), tensor(0.9527))"
      ]
     },
     "execution_count": null,
     "metadata": {},
     "output_type": "execute_result"
    }
   ],
   "source": [
    "mask.std(), (x*mask).std(), x.std()"
   ]
  },
  {
   "cell_type": "code",
   "execution_count": null,
   "metadata": {},
   "outputs": [
    {
     "data": {
      "text/plain": [
       "(tensor(1.2000), tensor(0.3146), tensor(-0.2563))"
      ]
     },
     "execution_count": null,
     "metadata": {},
     "output_type": "execute_result"
    }
   ],
   "source": [
    "mask.mean(), (x*mask).mean(), x.mean()"
   ]
  },
  {
   "cell_type": "code",
   "execution_count": null,
   "metadata": {},
   "outputs": [
    {
     "data": {
      "text/plain": [
       "(tensor([[[ 1.0829,  1.0275, -0.6060, -1.6154, -2.0248],\n",
       "          [ 0.0423, -1.4470, -0.5759,  1.5845, -0.2758],\n",
       "          [ 0.9025,  0.9372, -1.6969, -0.6338,  0.4588]],\n",
       " \n",
       "         [[ 0.4600, -0.0404,  0.6107, -1.0217,  1.0759],\n",
       "          [ 1.1695, -0.7869, -1.3520,  1.2922, -3.2642],\n",
       "          [ 0.3137, -0.7916, -0.3799,  0.4877, -0.3759]]]),\n",
       " tensor([[[ 1.5471,  1.4679, -0.8657, -2.3077, -2.8926],\n",
       "          [ 0.0605, -2.0671, -0.8228,  2.2636, -0.3940],\n",
       "          [ 1.2893,  1.3389, -2.4241, -0.9054,  0.6554]],\n",
       " \n",
       "         [[ 0.0000, -0.0000,  0.8725, -1.4595,  0.0000],\n",
       "          [ 0.0000, -0.0000, -1.9314,  1.8460, -0.0000],\n",
       "          [ 0.0000, -0.0000, -0.5427,  0.6967, -0.0000]]]))"
      ]
     },
     "execution_count": null,
     "metadata": {},
     "output_type": "execute_result"
    }
   ],
   "source": [
    "dp = InputDropout(0.3)\n",
    "tst_input = torch.randn(2,3,5)\n",
    "tst_input, dp(tst_input)"
   ]
  },
  {
   "cell_type": "code",
   "execution_count": null,
   "metadata": {},
   "outputs": [
    {
     "data": {
      "text/plain": [
       "(tensor(1.1551), tensor(1.5663))"
      ]
     },
     "execution_count": null,
     "metadata": {},
     "output_type": "execute_result"
    }
   ],
   "source": [
    "tst_input.std(), dp(tst_input).std()"
   ]
  },
  {
   "cell_type": "markdown",
   "metadata": {},
   "source": [
    "## Linear Layers"
   ]
  },
  {
   "cell_type": "code",
   "execution_count": null,
   "metadata": {},
   "outputs": [],
   "source": [
    "#export\n",
    "def linear_layer(in_features, out_features, bn=False, dropout_p=0.0):\n",
    "    '''Create a single linear layer'''\n",
    "    layer = [nn.Linear(in_features, out_features)]\n",
    "    if bn: layer.append(nn.BatchNorm1d(out_features))\n",
    "    layer.append(nn.ReLU(inplace=True))\n",
    "    layer.append(nn.Dropout(dropout_p))\n",
    "    return layer\n",
    "\n",
    "def create_linear_layers(in_features_start, num_layers, bn=False, dropout_p=0.0):\n",
    "    '''Create linear layers'''\n",
    "    layers = []\n",
    "    \n",
    "    for l in range(num_layers):    \n",
    "        in_features = in_features_start if l==0 else out_features\n",
    "        out_features = in_features * 2\n",
    "        layers.extend(linear_layer(in_features, out_features, bn, dropout_p))\n",
    "\n",
    "    return out_features, nn.Sequential(*layers)"
   ]
  },
  {
   "cell_type": "code",
   "execution_count": null,
   "metadata": {},
   "outputs": [],
   "source": [
    "out, m = create_linear_layers(100, 4, bn=True)"
   ]
  },
  {
   "cell_type": "code",
   "execution_count": null,
   "metadata": {},
   "outputs": [
    {
     "data": {
      "text/plain": [
       "(Sequential(\n",
       "   (0): Linear(in_features=100, out_features=200, bias=True)\n",
       "   (1): BatchNorm1d(200, eps=1e-05, momentum=0.1, affine=True, track_running_stats=True)\n",
       "   (2): ReLU(inplace=True)\n",
       "   (3): Dropout(p=0.0, inplace=False)\n",
       "   (4): Linear(in_features=200, out_features=400, bias=True)\n",
       "   (5): BatchNorm1d(400, eps=1e-05, momentum=0.1, affine=True, track_running_stats=True)\n",
       "   (6): ReLU(inplace=True)\n",
       "   (7): Dropout(p=0.0, inplace=False)\n",
       "   (8): Linear(in_features=400, out_features=800, bias=True)\n",
       "   (9): BatchNorm1d(800, eps=1e-05, momentum=0.1, affine=True, track_running_stats=True)\n",
       "   (10): ReLU(inplace=True)\n",
       "   (11): Dropout(p=0.0, inplace=False)\n",
       "   (12): Linear(in_features=800, out_features=1600, bias=True)\n",
       "   (13): BatchNorm1d(1600, eps=1e-05, momentum=0.1, affine=True, track_running_stats=True)\n",
       "   (14): ReLU(inplace=True)\n",
       "   (15): Dropout(p=0.0, inplace=False)\n",
       " ),\n",
       " 1600)"
      ]
     },
     "execution_count": null,
     "metadata": {},
     "output_type": "execute_result"
    }
   ],
   "source": [
    "m, out"
   ]
  },
  {
   "cell_type": "markdown",
   "metadata": {},
   "source": [
    "## `EHR_LSTM`"
   ]
  },
  {
   "cell_type": "markdown",
   "metadata": {},
   "source": [
    "Based on this paper<br>\n",
    "[Rajkomar, A., Oren, E., Chen, K. et al. Scalable and accurate deep learning with electronic health records. npj Digital Med 1, 18 (2018)](https://doi.org/10.1038/s41746-018-0029-1)"
   ]
  },
  {
   "cell_type": "code",
   "execution_count": null,
   "metadata": {},
   "outputs": [],
   "source": [
    "#export\n",
    "def init_lstm(m, initrange, zero_bn=False):\n",
    "    '''Initialize LSTM'''\n",
    "    if isinstance(m, (nn.Embedding, nn.EmbeddingBag)): m.weight.data.uniform_(-initrange, initrange)\n",
    "    if isinstance(m, (nn.LSTM, nn.Linear)): \n",
    "        for name, param in m.named_parameters():\n",
    "                if 'bias' in name:     \n",
    "                    nn.init.constant_(param, 0.0)\n",
    "                elif 'weight' in name: \n",
    "                    nn.init.kaiming_normal_(param)\n",
    "    if isinstance(m, (nn.BatchNorm1d)): nn.init.constant_(m.weight, 0. if zero_bn else 1.)\n",
    "    for l in m.children(): init_lstm(l, initrange, zero_bn)"
   ]
  },
  {
   "cell_type": "code",
   "execution_count": null,
   "metadata": {},
   "outputs": [],
   "source": [
    "#export\n",
    "from fastai.layers import BatchNorm1dFlat\n",
    "class EHR_LSTM(nn.Module):\n",
    "    '''Based on LSTM described in this paper - https://arxiv.org/abs/1801.07860''' \n",
    "                         \n",
    "    def __init__(self, demograph_dims, rec_dims, demograph_wd, rec_wd, lstm_layers=4, linear_layers=4, \n",
    "                 initrange=0.3, bn=False, input_drp=0.3, lstm_drp=0.3, linear_drp=0.3, zero_bn=False):\n",
    "        \n",
    "        super().__init__()\n",
    "        \n",
    "        self.embs  = nn.ModuleList([nn.Embedding(*dim) for dim in demograph_dims])\n",
    "        self.embgs = nn.ModuleList([nn.EmbeddingBag(*dim) for dim in rec_dims])\n",
    "        \n",
    "        self.rec_wd        = rec_wd      \n",
    "        self.demograph_wd  = demograph_wd\n",
    "        self.nh            = rec_wd    \n",
    "        self.lstm_layers   = lstm_layers\n",
    "        self.bn            = bn\n",
    "        lin_features_start = (demograph_wd + 1) + rec_wd #adding 1 for age_now\n",
    "\n",
    "        \n",
    "        self.input_dp = InputDropout(input_drp)\n",
    "        self.lstm     = nn.LSTM(input_size=self.nh, hidden_size=self.nh, num_layers=lstm_layers, batch_first=True, dropout=lstm_drp)\n",
    "        if bn: self.lstm_bn = BatchNorm1dFlat(self.nh) #fastai - `nn.BatchNorm1d`, but first flattens leading dimensions\n",
    "        out, self.lin = create_linear_layers(lin_features_start, linear_layers, bn, linear_drp)\n",
    "        self.lin_o    = nn.Linear(out, 4)     \n",
    "\n",
    "        init_lstm(self, initrange, zero_bn)\n",
    "\n",
    "            \n",
    "    def get_embs(self, ptbatch_recs, ptbatch_demogs, x):\n",
    "        for p in range(len(x)): #for the batch of pts\n",
    "            ptbatch_recs[p] = torch.cat((self.embgs[0](x[p].obs_nums,x[p].obs_offsts), \n",
    "                                         self.embgs[1](x[p].alg_nums,x[p].alg_offsts),\n",
    "                                         self.embgs[2](x[p].crpl_nums,x[p].crpl_offsts),\n",
    "                                         self.embgs[3](x[p].med_nums,x[p].med_offsts),\n",
    "                                         self.embgs[4](x[p].img_nums,x[p].img_offsts),\n",
    "                                         self.embgs[5](x[p].proc_nums,x[p].proc_offsts),\n",
    "                                         self.embgs[6](x[p].cnd_nums,x[p].cnd_offsts),\n",
    "                                         self.embgs[7](x[p].imm_nums,x[p].imm_offsts)),\n",
    "                                        dim=1) #for the entire age span, example all 20 yrs\n",
    "            ptbatch_demogs[p] = torch.cat((self.embs[0](x[p].demographics[0]), \n",
    "                                           self.embs[1](x[p].demographics[1]),\n",
    "                                           self.embs[2](x[p].demographics[2]),\n",
    "                                           self.embs[3](x[p].demographics[3]),\n",
    "                                           self.embs[4](x[p].demographics[4]),\n",
    "                                           self.embs[5](x[p].demographics[5]),\n",
    "                                           self.embs[6](x[p].demographics[6]),\n",
    "                                           self.embs[7](x[p].demographics[7]),\n",
    "                                           self.embs[8](x[p].demographics[8]),\n",
    "                                           self.embs[9](x[p].demographics[9]),\n",
    "                                           self.embs[10](x[p].demographics[10]),\n",
    "                                           x[p].age_now)) \n",
    "\n",
    "        return ptbatch_recs, ptbatch_demogs\n",
    "    \n",
    "    def forward(self, x):\n",
    "        \n",
    "        bs   = len(x)\n",
    "        bptt = len(x[0].obs_offsts)\n",
    "        h    = torch.zeros(self.lstm_layers,bs,self.nh).cuda()\n",
    "        \n",
    "        ptbatch_recs   = torch.empty(bs,bptt,self.rec_wd).cuda()\n",
    "        ptbatch_demogs = torch.empty(bs,self.demograph_wd+1).cuda()\n",
    "        ptbatch_recs, ptbatch_demogs = self.get_embs(ptbatch_recs, ptbatch_demogs, x)\n",
    "        \n",
    "        ptbatch_recs = self.input_dp(ptbatch_recs)                                     #apply input dropout\n",
    "        \n",
    "        res,_ = self.lstm(ptbatch_recs, (h,h))\n",
    "        res   = self.lstm_bn(res[:,-1]) if self.bn else res[:,-1]                      #lstm output\n",
    "        res   = self.lin(torch.cat((res, ptbatch_demogs), dim=1))                      #concat demographics + send thru linear lyrs\n",
    "        out   = self.lin_o(res)\n",
    "\n",
    "        return out"
   ]
  },
  {
   "cell_type": "markdown",
   "metadata": {},
   "source": [
    "**Load Data**"
   ]
  },
  {
   "cell_type": "code",
   "execution_count": null,
   "metadata": {},
   "outputs": [],
   "source": [
    "ehr_1K_data = EHRData(PATH_1K, LABELS, age_start=240, age_stop=360, age_in_months=True)"
   ]
  },
  {
   "cell_type": "code",
   "execution_count": null,
   "metadata": {},
   "outputs": [],
   "source": [
    "demograph_dims, rec_dims, demograph_dims_wd, rec_dims_wd = get_all_emb_dims(EhrVocabList.load(PATH_1K))"
   ]
  },
  {
   "cell_type": "code",
   "execution_count": null,
   "metadata": {},
   "outputs": [],
   "source": [
    "train_dl, valid_dl, train_pos_wts, valid_pos_wts = ehr_1K_data.get_data()"
   ]
  },
  {
   "cell_type": "markdown",
   "metadata": {},
   "source": [
    "#### Inspect Data"
   ]
  },
  {
   "cell_type": "code",
   "execution_count": null,
   "metadata": {},
   "outputs": [
    {
     "data": {
      "text/plain": [
       "PatientList (664 items)\n",
       "base path:./datasets/synthea/1K; split:train; age span:120 months\n",
       "age_start:240; age_stop:360; age_type:months\n",
       "ptid:12b42348-29bb-4cf4-b878-d419a4c8f067, birthdate:1951-09-04, diabetes:False, device:cpu\n",
       "ptid:4c59df3b-042b-42c2-901a-3783d6d77919, birthdate:1979-09-18, diabetes:False, device:cpu\n",
       "ptid:8f07e577-7ab4-4e89-ae98-6d394b3929a9, birthdate:1967-01-13, diabetes:False, device:cpu\n",
       "ptid:653753d9-a52f-4ef3-b285-bdc3c671293c, birthdate:1971-12-26, diabetes:False, device:cpu\n",
       "ptid:1b801001-0bf9-4ad9-b175-9de9bc2d905f, birthdate:1979-11-26, diabetes:False, device:cpu\n",
       "ptid:da6203bc-bb24-4628-9aed-2b851571ee36, birthdate:1999-03-14, diabetes:False, device:cpu\n",
       "ptid:b02cd0ff-e891-4caa-b69b-2da7cb267578, birthdate:1957-09-12, diabetes:True, device:cpu\n",
       "ptid:49a859d3-318a-4212-864e-cf7d17f5032c, birthdate:2006-04-24, diabetes:False, device:cpu\n",
       "ptid:cb9293c4-243f-427e-ba70-6834c5872be6, birthdate:1952-10-21, diabetes:True, device:cpu\n",
       "ptid:cf82e51b-5c34-4010-b904-1583b009ebc2, birthdate:2010-08-22, diabetes:False, device:cpu...]"
      ]
     },
     "execution_count": null,
     "metadata": {},
     "output_type": "execute_result"
    }
   ],
   "source": [
    "ehr_1K_data.splits.train"
   ]
  },
  {
   "cell_type": "markdown",
   "metadata": {},
   "source": [
    "Inspect a single patient"
   ]
  },
  {
   "cell_type": "code",
   "execution_count": null,
   "metadata": {},
   "outputs": [],
   "source": [
    "pt = ehr_1K_data.splits.train[3] "
   ]
  },
  {
   "cell_type": "code",
   "execution_count": null,
   "metadata": {},
   "outputs": [
    {
     "data": {
      "text/plain": [
       "(tensor([  0,   0,   0,   0,   0,   0,   0,   0,   0,   0,   0,   0,   0,   0,\n",
       "           0,   0,   0,   0,   0,   0,   0,   0,   0,   0,   0,   0,   5,   8,\n",
       "          14,  89,  76,  80,  20,  23,  31,  34,  38,  43,  47,  53,  61,  64,\n",
       "          69,  94, 497,   0,   0,   0,   0,   0,   0,   0,   0,   0,   0,   0,\n",
       "           0,   0,   0,   0,   0,   0,   0,   0,   0,   0,   0,   0,   0,   0,\n",
       "           0,   0,   0,   0,   0,   0,   0,   0,   0,   0,   5,   8,  14,  89,\n",
       "          75,  81,  96, 497,   0,   0,   0,   0,   0,   0,   0,   0,   0,   0,\n",
       "           0,   0,   0,   0,   0,   0,   0,   0,   0,   0,   0,   0,   0,   0,\n",
       "           0,   0,   0,   0,   0,   0,   0,   0,   0,   0,   0,   5,   7,  14,\n",
       "          89,  75,  81,  18,  25,  30,  35,  40,  43,  50,  53,  61,  63,  69,\n",
       "          94, 497,   0,   0,   0,   0,   0,   0,   0,   0,   0,   0,   0,   0,\n",
       "           0,   0,   0,   0,   0,   0,   0,   0,   5,   8,  14,  89,  74,  81,\n",
       "          94, 497]),\n",
       " tensor([  0,   1,   2,   3,   4,   5,   6,   7,   8,   9,  10,  11,  12,  13,\n",
       "          14,  15,  16,  17,  18,  19,  20,  21,  22,  23,  24,  25,  26,  45,\n",
       "          46,  47,  48,  49,  50,  51,  52,  53,  54,  55,  56,  57,  58,  59,\n",
       "          60,  61,  62,  63,  64,  65,  66,  67,  68,  69,  70,  71,  72,  73,\n",
       "          74,  75,  76,  77,  78,  79,  80,  88,  89,  90,  91,  92,  93,  94,\n",
       "          95,  96,  97,  98,  99, 100, 101, 102, 103, 104, 105, 106, 107, 108,\n",
       "         109, 110, 111, 112, 113, 114, 115, 116, 117, 118, 119, 120, 121, 122,\n",
       "         123, 142, 143, 144, 145, 146, 147, 148, 149, 150, 151, 152, 153, 154,\n",
       "         155, 156, 157, 158, 159, 160, 161, 162]))"
      ]
     },
     "execution_count": null,
     "metadata": {},
     "output_type": "execute_result"
    }
   ],
   "source": [
    "pt.obs_nums, pt.obs_offsts"
   ]
  },
  {
   "cell_type": "code",
   "execution_count": null,
   "metadata": {},
   "outputs": [
    {
     "data": {
      "text/plain": [
       "(120, 120)"
      ]
     },
     "execution_count": null,
     "metadata": {},
     "output_type": "execute_result"
    }
   ],
   "source": [
    "len(pt.img_nums), len(pt.img_offsts)"
   ]
  },
  {
   "cell_type": "code",
   "execution_count": null,
   "metadata": {},
   "outputs": [
    {
     "data": {
      "text/plain": [
       "(170, 120)"
      ]
     },
     "execution_count": null,
     "metadata": {},
     "output_type": "execute_result"
    }
   ],
   "source": [
    "len(pt.obs_nums), len(pt.obs_offsts)"
   ]
  },
  {
   "cell_type": "code",
   "execution_count": null,
   "metadata": {},
   "outputs": [
    {
     "data": {
      "text/plain": [
       "ptid:653753d9-a52f-4ef3-b285-bdc3c671293c, birthdate:1971-12-26, diabetes:False, device:cpu"
      ]
     },
     "execution_count": null,
     "metadata": {},
     "output_type": "execute_result"
    }
   ],
   "source": [
    "pt"
   ]
  },
  {
   "cell_type": "code",
   "execution_count": null,
   "metadata": {},
   "outputs": [
    {
     "data": {
      "text/plain": [
       "(11, 2)"
      ]
     },
     "execution_count": null,
     "metadata": {},
     "output_type": "execute_result"
    }
   ],
   "source": [
    "len(train_dl), len(valid_dl)"
   ]
  },
  {
   "cell_type": "code",
   "execution_count": null,
   "metadata": {},
   "outputs": [
    {
     "data": {
      "text/plain": [
       "(tensor([17., 15., 36., 19.]), tensor([21., 15., 73., 18.]))"
      ]
     },
     "execution_count": null,
     "metadata": {},
     "output_type": "execute_result"
    }
   ],
   "source": [
    "train_pos_wts, valid_pos_wts"
   ]
  },
  {
   "cell_type": "code",
   "execution_count": null,
   "metadata": {},
   "outputs": [
    {
     "data": {
      "text/plain": [
       "([(33, 8),\n",
       "  (14, 7),\n",
       "  (124, 11),\n",
       "  (5, 5),\n",
       "  (7, 6),\n",
       "  (25, 8),\n",
       "  (4, 5),\n",
       "  (205, 13),\n",
       "  (211, 13),\n",
       "  (3, 5),\n",
       "  (200, 13)],\n",
       " 94)"
      ]
     },
     "execution_count": null,
     "metadata": {},
     "output_type": "execute_result"
    }
   ],
   "source": [
    "demograph_dims, demograph_dims_wd"
   ]
  },
  {
   "cell_type": "code",
   "execution_count": null,
   "metadata": {},
   "outputs": [
    {
     "data": {
      "text/plain": [
       "([(550, 17),\n",
       "  (27, 8),\n",
       "  (54, 9),\n",
       "  (224, 13),\n",
       "  (11, 6),\n",
       "  (128, 12),\n",
       "  (201, 13),\n",
       "  (20, 7)],\n",
       " 85)"
      ]
     },
     "execution_count": null,
     "metadata": {},
     "output_type": "execute_result"
    }
   ],
   "source": [
    "rec_dims, rec_dims_wd"
   ]
  },
  {
   "cell_type": "markdown",
   "metadata": {},
   "source": [
    "**Inspect Model**"
   ]
  },
  {
   "cell_type": "code",
   "execution_count": null,
   "metadata": {},
   "outputs": [],
   "source": [
    "model = EHR_LSTM(demograph_dims, rec_dims, demograph_dims_wd, rec_dims_wd)"
   ]
  },
  {
   "cell_type": "code",
   "execution_count": null,
   "metadata": {},
   "outputs": [
    {
     "data": {
      "text/plain": [
       "EHR_LSTM(\n",
       "  (embs): ModuleList(\n",
       "    (0): Embedding(33, 8)\n",
       "    (1): Embedding(14, 7)\n",
       "    (2): Embedding(124, 11)\n",
       "    (3): Embedding(5, 5)\n",
       "    (4): Embedding(7, 6)\n",
       "    (5): Embedding(25, 8)\n",
       "    (6): Embedding(4, 5)\n",
       "    (7): Embedding(205, 13)\n",
       "    (8): Embedding(211, 13)\n",
       "    (9): Embedding(3, 5)\n",
       "    (10): Embedding(200, 13)\n",
       "  )\n",
       "  (embgs): ModuleList(\n",
       "    (0): EmbeddingBag(550, 17, mode=mean)\n",
       "    (1): EmbeddingBag(27, 8, mode=mean)\n",
       "    (2): EmbeddingBag(54, 9, mode=mean)\n",
       "    (3): EmbeddingBag(224, 13, mode=mean)\n",
       "    (4): EmbeddingBag(11, 6, mode=mean)\n",
       "    (5): EmbeddingBag(128, 12, mode=mean)\n",
       "    (6): EmbeddingBag(201, 13, mode=mean)\n",
       "    (7): EmbeddingBag(20, 7, mode=mean)\n",
       "  )\n",
       "  (input_dp): InputDropout()\n",
       "  (lstm): LSTM(85, 85, num_layers=4, batch_first=True, dropout=0.3)\n",
       "  (lin): Sequential(\n",
       "    (0): Linear(in_features=180, out_features=360, bias=True)\n",
       "    (1): ReLU(inplace=True)\n",
       "    (2): Dropout(p=0.3, inplace=False)\n",
       "    (3): Linear(in_features=360, out_features=720, bias=True)\n",
       "    (4): ReLU(inplace=True)\n",
       "    (5): Dropout(p=0.3, inplace=False)\n",
       "    (6): Linear(in_features=720, out_features=1440, bias=True)\n",
       "    (7): ReLU(inplace=True)\n",
       "    (8): Dropout(p=0.3, inplace=False)\n",
       "    (9): Linear(in_features=1440, out_features=2880, bias=True)\n",
       "    (10): ReLU(inplace=True)\n",
       "    (11): Dropout(p=0.3, inplace=False)\n",
       "  )\n",
       "  (lin_o): Linear(in_features=2880, out_features=4, bias=True)\n",
       ")"
      ]
     },
     "execution_count": null,
     "metadata": {},
     "output_type": "execute_result"
    }
   ],
   "source": [
    "model"
   ]
  },
  {
   "cell_type": "code",
   "execution_count": null,
   "metadata": {},
   "outputs": [],
   "source": [
    "# for name, param in model.named_parameters():\n",
    "#     print(f'{name}::\\n{param}')"
   ]
  },
  {
   "cell_type": "markdown",
   "metadata": {},
   "source": [
    "### Test `fit()`"
   ]
  },
  {
   "cell_type": "code",
   "execution_count": null,
   "metadata": {},
   "outputs": [],
   "source": [
    "train_loss_fn, valid_loss_fn = get_loss_fn(train_pos_wts), get_loss_fn(valid_pos_wts)"
   ]
  },
  {
   "cell_type": "code",
   "execution_count": null,
   "metadata": {},
   "outputs": [],
   "source": [
    "model = EHR_LSTM(demograph_dims, rec_dims, demograph_dims_wd, rec_dims_wd).cuda() #.cuda() to be called before optim"
   ]
  },
  {
   "cell_type": "code",
   "execution_count": null,
   "metadata": {},
   "outputs": [],
   "source": [
    "optimizer = torch.optim.Adagrad(model.parameters())"
   ]
  },
  {
   "cell_type": "code",
   "execution_count": null,
   "metadata": {},
   "outputs": [],
   "source": [
    "h = RunHistory(LABELS)"
   ]
  },
  {
   "cell_type": "code",
   "execution_count": null,
   "metadata": {},
   "outputs": [
    {
     "name": "stdout",
     "output_type": "stream",
     "text": [
      "epoch |     train loss |     train aurocs                  valid loss |     valid aurocs    \n",
      "----------------------------------------------------------------------------------------------------\n",
      "    0 |          0.546 | [0.914 0.911 0.986 0.930]              1.068 | [0.700 0.831 0.967 0.816]\n",
      "    1 |          0.501 | [0.934 0.931 0.979 0.944]              1.310 | [0.745 0.840 0.974 0.829]\n",
      "Checkpointed to \"./models/checkpoint.tar\"\n",
      "CPU times: user 10.4 s, sys: 253 ms, total: 10.7 s\n",
      "Wall time: 6.63 s\n"
     ]
    }
   ],
   "source": [
    "%time h = fit(2, h, model, train_loss_fn, valid_loss_fn, optimizer, auroc_score, \\\n",
    "              train_dl, valid_dl, to_chkpt_path='./models', from_chkpt_path=None, verbosity=1)"
   ]
  },
  {
   "cell_type": "code",
   "execution_count": null,
   "metadata": {},
   "outputs": [
    {
     "name": "stdout",
     "output_type": "stream",
     "text": [
      "From \"./models/checkpoint.tar\", loading model ...\n",
      "loading optimizer and epoch_index ...\n",
      "epoch |     train loss |     train aurocs                  valid loss |     valid aurocs    \n",
      "----------------------------------------------------------------------------------------------------\n",
      "    2 |          0.436 | [0.945 0.939 0.986 0.956]              1.361 | [0.728 0.825 0.986 0.810]\n",
      "    3 |          0.413 | [0.951 0.946 0.977 0.973]              1.952 | [0.704 0.810 0.971 0.818]\n",
      "    4 |          0.403 | [0.956 0.943 0.991 0.969]              1.663 | [0.690 0.818 0.967 0.806]\n",
      "Checkpointed to \"./models/checkpoint.tar\"\n",
      "CPU times: user 15.2 s, sys: 346 ms, total: 15.6 s\n",
      "Wall time: 9.53 s\n"
     ]
    }
   ],
   "source": [
    "%time h = fit(3, h, model, train_loss_fn, valid_loss_fn, optimizer, auroc_score, \\\n",
    "              train_dl, valid_dl, to_chkpt_path='./models', from_chkpt_path='./models', verbosity=1)"
   ]
  },
  {
   "cell_type": "markdown",
   "metadata": {},
   "source": [
    "### Test `predict()`"
   ]
  },
  {
   "cell_type": "code",
   "execution_count": null,
   "metadata": {},
   "outputs": [],
   "source": [
    "test_dl, test_pos_wts = ehr_1K_data.get_test_data()"
   ]
  },
  {
   "cell_type": "code",
   "execution_count": null,
   "metadata": {},
   "outputs": [
    {
     "data": {
      "text/plain": [
       "(2, tensor([15., 15., 43., 24.]))"
      ]
     },
     "execution_count": null,
     "metadata": {},
     "output_type": "execute_result"
    }
   ],
   "source": [
    "len(test_dl), test_pos_wts"
   ]
  },
  {
   "cell_type": "code",
   "execution_count": null,
   "metadata": {},
   "outputs": [],
   "source": [
    "test_loss_fn = get_loss_fn(test_pos_wts)"
   ]
  },
  {
   "cell_type": "code",
   "execution_count": null,
   "metadata": {},
   "outputs": [
    {
     "name": "stdout",
     "output_type": "stream",
     "text": [
      "From \"./models/checkpoint.tar\", loading model ...\n",
      "test loss = 2.712734341621399\n",
      "test aurocs = [0.725962 0.826236 0.943779 0.675535]\n"
     ]
    }
   ],
   "source": [
    "h = predict(h, model, test_loss_fn, auroc_score, test_dl, chkpt_path='./models')"
   ]
  },
  {
   "cell_type": "markdown",
   "metadata": {},
   "source": [
    "### Test plotting + results"
   ]
  },
  {
   "cell_type": "code",
   "execution_count": null,
   "metadata": {},
   "outputs": [
    {
     "data": {
      "image/png": "[encoded data removed]",
      "text/plain": [
       "<Figure size 1080x360 with 2 Axes>"
      ]
     },
     "metadata": {
      "needs_background": "light"
     },
     "output_type": "display_data"
    },
    {
     "data": {
      "image/png": "[encoded data removed]",
      "text/plain": [
       "<Figure size 1080x360 with 2 Axes>"
      ]
     },
     "metadata": {
      "needs_background": "light"
     },
     "output_type": "display_data"
    },
    {
     "data": {
      "image/png": "[encoded data removed]",
      "text/plain": [
       "<Figure size 1080x360 with 2 Axes>"
      ]
     },
     "metadata": {
      "needs_background": "light"
     },
     "output_type": "display_data"
    }
   ],
   "source": [
    "plot_fit_results(h, LABELS)"
   ]
  },
  {
   "cell_type": "code",
   "execution_count": null,
   "metadata": {},
   "outputs": [
    {
     "name": "stdout",
     "output_type": "stream",
     "text": [
      "\n",
      "Prediction Summary ...\n",
      "               auroc_score  optimal_threshold     auroc_95_ci\n",
      "diabetes          0.725962           0.195344  (0.611, 0.828)\n",
      "stroke            0.826236           0.626417   (0.713, 0.92)\n",
      "alzheimers        0.943779           0.369231     (0.9, 0.98)\n",
      "coronaryheart     0.675535           0.314065  (0.426, 0.875)\n"
     ]
    },
    {
     "data": {
      "image/png": "[encoded data removed]",
      "text/plain": [
       "<Figure size 576x360 with 1 Axes>"
      ]
     },
     "metadata": {
      "needs_background": "light"
     },
     "output_type": "display_data"
    }
   ],
   "source": [
    "h = summarize_prediction(h, LABELS)"
   ]
  },
  {
   "cell_type": "code",
   "execution_count": null,
   "metadata": {},
   "outputs": [
    {
     "data": {
      "text/html": [
       "<div>\n",
       "<style scoped>\n",
       "    .dataframe tbody tr th:only-of-type {\n",
       "        vertical-align: middle;\n",
       "    }\n",
       "\n",
       "    .dataframe tbody tr th {\n",
       "        vertical-align: top;\n",
       "    }\n",
       "\n",
       "    .dataframe thead th {\n",
       "        text-align: right;\n",
       "    }\n",
       "</style>\n",
       "<table border=\"1\" class=\"dataframe\">\n",
       "  <thead>\n",
       "    <tr style=\"text-align: right;\">\n",
       "      <th></th>\n",
       "      <th>auroc_score</th>\n",
       "      <th>optimal_threshold</th>\n",
       "      <th>auroc_95_ci</th>\n",
       "    </tr>\n",
       "  </thead>\n",
       "  <tbody>\n",
       "    <tr>\n",
       "      <th>diabetes</th>\n",
       "      <td>0.725962</td>\n",
       "      <td>0.195344</td>\n",
       "      <td>(0.611, 0.828)</td>\n",
       "    </tr>\n",
       "    <tr>\n",
       "      <th>stroke</th>\n",
       "      <td>0.826236</td>\n",
       "      <td>0.626417</td>\n",
       "      <td>(0.713, 0.92)</td>\n",
       "    </tr>\n",
       "    <tr>\n",
       "      <th>alzheimers</th>\n",
       "      <td>0.943779</td>\n",
       "      <td>0.369231</td>\n",
       "      <td>(0.9, 0.98)</td>\n",
       "    </tr>\n",
       "    <tr>\n",
       "      <th>coronaryheart</th>\n",
       "      <td>0.675535</td>\n",
       "      <td>0.314065</td>\n",
       "      <td>(0.426, 0.875)</td>\n",
       "    </tr>\n",
       "  </tbody>\n",
       "</table>\n",
       "</div>"
      ],
      "text/plain": [
       "               auroc_score  optimal_threshold     auroc_95_ci\n",
       "diabetes          0.725962           0.195344  (0.611, 0.828)\n",
       "stroke            0.826236           0.626417   (0.713, 0.92)\n",
       "alzheimers        0.943779           0.369231     (0.9, 0.98)\n",
       "coronaryheart     0.675535           0.314065  (0.426, 0.875)"
      ]
     },
     "execution_count": null,
     "metadata": {},
     "output_type": "execute_result"
    }
   ],
   "source": [
    "h.prediction_summary"
   ]
  },
  {
   "cell_type": "markdown",
   "metadata": {},
   "source": [
    "## `EHR_CNN`"
   ]
  },
  {
   "cell_type": "markdown",
   "metadata": {},
   "source": [
    "Based on the Deepr paper<br>\n",
    "[Nguyen. et al. Deepr: A Convolutional Net for Medical Records](https://arxiv.org/abs/1607.07519)"
   ]
  },
  {
   "cell_type": "markdown",
   "metadata": {},
   "source": [
    "**Sizes (+ Conv Arithmetic)**"
   ]
  },
  {
   "cell_type": "markdown",
   "metadata": {},
   "source": [
    "- https://arxiv.org/pdf/1603.07285.pdf\n",
    "- conv arithmetic - https://github.com/vdumoulin/conv_arithmetic/blob/master/README.md"
   ]
  },
  {
   "cell_type": "code",
   "execution_count": null,
   "metadata": {},
   "outputs": [],
   "source": [
    "bs = 64 #batch size # of patients\n",
    "wd = 85 #rec_emb_width (concat of 1 yr of records)\n",
    "ht = 240 #num of years of pt data (seq_len or bptt in lstm)"
   ]
  },
  {
   "cell_type": "markdown",
   "metadata": {},
   "source": [
    "**Each pt is a 20 by 85 matrix**\n",
    "- 20 years on axis 0 (height)\n",
    "- 85 codes on axis 1 (width)"
   ]
  },
  {
   "cell_type": "code",
   "execution_count": null,
   "metadata": {},
   "outputs": [],
   "source": [
    "tst_pts = torch.randn(bs,ht,wd)"
   ]
  },
  {
   "cell_type": "code",
   "execution_count": null,
   "metadata": {},
   "outputs": [
    {
     "data": {
      "text/plain": [
       "torch.Size([64, 240, 85])"
      ]
     },
     "execution_count": null,
     "metadata": {},
     "output_type": "execute_result"
    }
   ],
   "source": [
    "tst_pts.shape"
   ]
  },
  {
   "cell_type": "markdown",
   "metadata": {},
   "source": [
    "But ...\n",
    "- **Input ::** $(N, C_{in}, H_{in}, W_{in})$\n",
    "- **Output::** $(N, C_{out}, H_{out}, W_{out})$\n",
    "\n",
    "So need to reshape to insert $C_{in}$ (which is 1 in this case) after bs"
   ]
  },
  {
   "cell_type": "code",
   "execution_count": null,
   "metadata": {},
   "outputs": [
    {
     "data": {
      "text/plain": [
       "torch.Size([64, 1, 240, 85])"
      ]
     },
     "execution_count": null,
     "metadata": {},
     "output_type": "execute_result"
    }
   ],
   "source": [
    "tst_pts = tst_pts.reshape(bs,1,ht,wd)\n",
    "tst_pts.shape"
   ]
  },
  {
   "cell_type": "code",
   "execution_count": null,
   "metadata": {},
   "outputs": [],
   "source": [
    "m = nn.Sequential(\n",
    "    nn.Conv2d(in_channels=1, out_channels=2, kernel_size=(5,5), padding=2), nn.ReLU(),\n",
    "    nn.Conv2d(2,4,kernel_size=(3,3), padding=1), nn.ReLU(),\n",
    "    nn.Conv2d(4,8,kernel_size=(3,3), stride=2, padding=1), nn.ReLU(),\n",
    "    nn.Conv2d(8,16,kernel_size=(3,3), stride=2, padding=1), nn.ReLU(),\n",
    "    nn.Conv2d(16,32,kernel_size=(3,3), stride=2, padding=1), nn.ReLU(),\n",
    "    nn.AdaptiveMaxPool2d((4,4)),\n",
    "    nn.Flatten()\n",
    ")"
   ]
  },
  {
   "cell_type": "code",
   "execution_count": null,
   "metadata": {},
   "outputs": [],
   "source": [
    "out = m(tst_pts)"
   ]
  },
  {
   "cell_type": "code",
   "execution_count": null,
   "metadata": {},
   "outputs": [
    {
     "data": {
      "text/plain": [
       "torch.Size([64, 512])"
      ]
     },
     "execution_count": null,
     "metadata": {},
     "output_type": "execute_result"
    }
   ],
   "source": [
    "out.shape"
   ]
  },
  {
   "cell_type": "markdown",
   "metadata": {},
   "source": [
    "- AdaptivePool ensures output before Flatten is bs x 16 x 5 x 5\n",
    "- And thus Flatten will always flatten it to bs x 400\n",
    "- **So can use 400 safely** - no matter the size of the input (which will change based on vocab dims)"
   ]
  },
  {
   "cell_type": "code",
   "execution_count": null,
   "metadata": {},
   "outputs": [
    {
     "name": "stdout",
     "output_type": "stream",
     "text": [
      "0.weight\n",
      "0.bias\n",
      "2.weight\n",
      "2.bias\n",
      "4.weight\n",
      "4.bias\n",
      "6.weight\n",
      "6.bias\n",
      "8.weight\n",
      "8.bias\n"
     ]
    }
   ],
   "source": [
    "for name, param in m.named_parameters():\n",
    "    print(name)"
   ]
  },
  {
   "cell_type": "markdown",
   "metadata": {},
   "source": [
    "## Model"
   ]
  },
  {
   "cell_type": "markdown",
   "metadata": {},
   "source": [
    "- Weight Init\n",
    "    - Embedding weights = `uniform` with initrange\n",
    "    - layer weights = `kaiming_normal`\n",
    "- Conv \n",
    "    - kernel sizes = 3,5 then 5,7\n",
    "    - filters = 2,4,8,16\n",
    "- Linear layers = 3\n",
    "- Optim = Adagrad with L2(weight decay)\n",
    "- BatchNorm\n",
    "- Dropout\n",
    "    - ~~CNN dropout~~\n",
    "    - Input dropput (fastai RNN dropout)\n",
    "    - Linear dropout"
   ]
  },
  {
   "cell_type": "code",
   "execution_count": null,
   "metadata": {},
   "outputs": [],
   "source": [
    "bn = True"
   ]
  },
  {
   "cell_type": "code",
   "execution_count": null,
   "metadata": {},
   "outputs": [
    {
     "data": {
      "text/plain": [
       "False"
      ]
     },
     "execution_count": null,
     "metadata": {},
     "output_type": "execute_result"
    }
   ],
   "source": [
    "not bn"
   ]
  },
  {
   "cell_type": "code",
   "execution_count": null,
   "metadata": {},
   "outputs": [],
   "source": []
  },
  {
   "cell_type": "code",
   "execution_count": null,
   "metadata": {},
   "outputs": [],
   "source": [
    "#export\n",
    "def init_cnn(m, initrange, zero_bn=False):\n",
    "    '''Initialize CNN as described in fast.ai'''\n",
    "    if getattr(m, 'bias', None) is not None: nn.init.constant_(m.bias, 0)\n",
    "    if isinstance(m, (nn.Embedding, nn.EmbeddingBag)): m.weight.data.uniform_(-initrange, initrange)\n",
    "    if isinstance(m, (nn.Conv2d, nn.Linear)): nn.init.kaiming_normal_(m.weight)\n",
    "    if isinstance(m, (nn.BatchNorm1d, nn.BatchNorm2d)): nn.init.constant_(m.weight, 0. if zero_bn else 1.)\n",
    "    for l in m.children(): init_cnn(l, initrange, zero_bn)\n",
    "\n",
    "def conv_layer(in_channels, out_channels, kernel_size, stride=1, padding=1, bn=False):\n",
    "    '''Create a single conv layer - as described in fast.ai'''\n",
    "    layer = [nn.Conv2d(in_channels, out_channels, kernel_size, stride, padding, bias=not bn)]\n",
    "    if bn: layer.append(nn.BatchNorm2d(out_channels))\n",
    "    layer.append(nn.ReLU(inplace=True))\n",
    "    return layer"
   ]
  },
  {
   "cell_type": "markdown",
   "metadata": {},
   "source": [
    "Based on perf tuning recommendation.. \n",
    "- [Disabling bias for convolutions if directly followed by a batch norm](https://pytorch.org/tutorials/recipes/recipes/tuning_guide.html#disable-bias-for-convolutions-directly-followed-by-a-batch-norm)"
   ]
  },
  {
   "cell_type": "code",
   "execution_count": null,
   "metadata": {},
   "outputs": [],
   "source": [
    "#export\n",
    "class EHR_CNN(nn.Module):\n",
    "    '''Based on the model described in the Deepr paper - https://arxiv.org/abs/1607.07519'''\n",
    "    def __init__(self, demograph_dims, rec_dims, demograph_wd, rec_wd, linear_layers=4, \n",
    "                 initrange=0.3, bn=False, input_drp=0.3, linear_drp=0.3, zero_bn=False):\n",
    "        \n",
    "        super().__init__()\n",
    "        \n",
    "        self.embs  = nn.ModuleList([nn.Embedding(*dim) for dim in demograph_dims])\n",
    "        self.embgs = nn.ModuleList([nn.EmbeddingBag(*dim) for dim in rec_dims])\n",
    "        \n",
    "        self.rec_wd        = rec_wd      \n",
    "        self.demograph_wd  = demograph_wd \n",
    "        self.bn            = bn\n",
    "        lin_features_start = (demograph_wd + 1) + 512 #adding 1 for 'age_now', 512 = cnn output\n",
    "\n",
    "        \n",
    "        self.input_dp = InputDropout(input_drp)\n",
    "\n",
    "        out, self.lin = create_linear_layers(lin_features_start, linear_layers, bn, linear_drp)\n",
    "        self.lin_o    = nn.Linear(out, 4)     \n",
    "\n",
    "        self.cnn = nn.Sequential(\n",
    "        *conv_layer(in_channels=1, out_channels=2, kernel_size=(5,5), padding=2, bn=self.bn),\n",
    "        *conv_layer(2,4,kernel_size=(3,3), padding=1, bn=self.bn),\n",
    "        *conv_layer(4,8,kernel_size=3, stride=2, padding=1, bn=self.bn),\n",
    "        *conv_layer(8,16,kernel_size=3, stride=2, padding=1, bn=self.bn),\n",
    "        *conv_layer(16,32,kernel_size=3, stride=2, padding=1, bn=self.bn),\n",
    "        nn.AdaptiveMaxPool2d((4,4)),\n",
    "        nn.Flatten()\n",
    "        )\n",
    "        \n",
    "        init_cnn(self, initrange, zero_bn)\n",
    "\n",
    "\n",
    "    def get_embs(self, ptbatch_recs, ptbatch_demogs, x):\n",
    "        for p in range(len(x)): #for the batch of pts\n",
    "            ptbatch_recs[p] = torch.cat((self.embgs[0](x[p].obs_nums,x[p].obs_offsts), \n",
    "                                         self.embgs[1](x[p].alg_nums,x[p].alg_offsts),\n",
    "                                         self.embgs[2](x[p].crpl_nums,x[p].crpl_offsts),\n",
    "                                         self.embgs[3](x[p].med_nums,x[p].med_offsts),\n",
    "                                         self.embgs[4](x[p].img_nums,x[p].img_offsts),\n",
    "                                         self.embgs[5](x[p].proc_nums,x[p].proc_offsts),\n",
    "                                         self.embgs[6](x[p].cnd_nums,x[p].cnd_offsts),\n",
    "                                         self.embgs[7](x[p].imm_nums,x[p].imm_offsts)),\n",
    "                                        dim=1) #for the entire age span, example all 20 yrs\n",
    "            ptbatch_demogs[p] = torch.cat((self.embs[0](x[p].demographics[0]), \n",
    "                                           self.embs[1](x[p].demographics[1]),\n",
    "                                           self.embs[2](x[p].demographics[2]),\n",
    "                                           self.embs[3](x[p].demographics[3]),\n",
    "                                           self.embs[4](x[p].demographics[4]),\n",
    "                                           self.embs[5](x[p].demographics[5]),\n",
    "                                           self.embs[6](x[p].demographics[6]),\n",
    "                                           self.embs[7](x[p].demographics[7]),\n",
    "                                           self.embs[8](x[p].demographics[8]),\n",
    "                                           self.embs[9](x[p].demographics[9]),\n",
    "                                           self.embs[10](x[p].demographics[10]),\n",
    "                                           x[p].age_now)) \n",
    "\n",
    "        return ptbatch_recs, ptbatch_demogs\n",
    "    \n",
    "    def forward(self, x):\n",
    "        \n",
    "        bs     = len(x)\n",
    "        height = len(x[0].obs_offsts)\n",
    "        width  = self.rec_wd\n",
    "\n",
    "        ptbatch_recs   = torch.empty(bs,height,width, device=DEVICE)\n",
    "        ptbatch_demogs = torch.empty(bs,self.demograph_wd+1, device=DEVICE)\n",
    "        \n",
    "        ptbatch_recs, ptbatch_demogs = self.get_embs(ptbatch_recs, ptbatch_demogs, x)\n",
    "        ptbatch_recs = self.input_dp(ptbatch_recs)                                    #apply input dropout\n",
    "        \n",
    "        res = self.cnn(ptbatch_recs.reshape(bs,1,height,width))                       #cnn output\n",
    "        res   = self.lin(torch.cat((res, ptbatch_demogs), dim=1))                     #concat demographics + send thru linear lyrs\n",
    "        out   = self.lin_o(res)\n",
    "        \n",
    "        return out"
   ]
  },
  {
   "cell_type": "markdown",
   "metadata": {},
   "source": [
    "**Load Data + Inspect**"
   ]
  },
  {
   "cell_type": "code",
   "execution_count": null,
   "metadata": {},
   "outputs": [],
   "source": [
    "ehr_1K_data = EHRData(PATH_1K, LABELS, age_start=240, age_stop=360, age_in_months=True, lazy_load_gpu=False) #entire dataset on GPU"
   ]
  },
  {
   "cell_type": "code",
   "execution_count": null,
   "metadata": {},
   "outputs": [],
   "source": [
    "demograph_dims, rec_dims, demograph_dims_wd, rec_dims_wd = get_all_emb_dims(EhrVocabList.load(PATH_1K))"
   ]
  },
  {
   "cell_type": "code",
   "execution_count": null,
   "metadata": {},
   "outputs": [],
   "source": [
    "train_dl, valid_dl, train_pos_wts, valid_pos_wts = ehr_1K_data.get_data()"
   ]
  },
  {
   "cell_type": "markdown",
   "metadata": {},
   "source": [
    "**Inspect Model**"
   ]
  },
  {
   "cell_type": "code",
   "execution_count": null,
   "metadata": {},
   "outputs": [],
   "source": [
    "model = EHR_CNN(demograph_dims, rec_dims, demograph_dims_wd, rec_dims_wd)"
   ]
  },
  {
   "cell_type": "code",
   "execution_count": null,
   "metadata": {},
   "outputs": [
    {
     "data": {
      "text/plain": [
       "EHR_CNN(\n",
       "  (embs): ModuleList(\n",
       "    (0): Embedding(33, 8)\n",
       "    (1): Embedding(14, 7)\n",
       "    (2): Embedding(124, 11)\n",
       "    (3): Embedding(5, 5)\n",
       "    (4): Embedding(7, 6)\n",
       "    (5): Embedding(25, 8)\n",
       "    (6): Embedding(4, 5)\n",
       "    (7): Embedding(205, 13)\n",
       "    (8): Embedding(211, 13)\n",
       "    (9): Embedding(3, 5)\n",
       "    (10): Embedding(200, 13)\n",
       "  )\n",
       "  (embgs): ModuleList(\n",
       "    (0): EmbeddingBag(550, 17, mode=mean)\n",
       "    (1): EmbeddingBag(27, 8, mode=mean)\n",
       "    (2): EmbeddingBag(54, 9, mode=mean)\n",
       "    (3): EmbeddingBag(224, 13, mode=mean)\n",
       "    (4): EmbeddingBag(11, 6, mode=mean)\n",
       "    (5): EmbeddingBag(128, 12, mode=mean)\n",
       "    (6): EmbeddingBag(201, 13, mode=mean)\n",
       "    (7): EmbeddingBag(20, 7, mode=mean)\n",
       "  )\n",
       "  (input_dp): InputDropout()\n",
       "  (lin): Sequential(\n",
       "    (0): Linear(in_features=607, out_features=1214, bias=True)\n",
       "    (1): ReLU(inplace=True)\n",
       "    (2): Dropout(p=0.3, inplace=False)\n",
       "    (3): Linear(in_features=1214, out_features=2428, bias=True)\n",
       "    (4): ReLU(inplace=True)\n",
       "    (5): Dropout(p=0.3, inplace=False)\n",
       "    (6): Linear(in_features=2428, out_features=4856, bias=True)\n",
       "    (7): ReLU(inplace=True)\n",
       "    (8): Dropout(p=0.3, inplace=False)\n",
       "    (9): Linear(in_features=4856, out_features=9712, bias=True)\n",
       "    (10): ReLU(inplace=True)\n",
       "    (11): Dropout(p=0.3, inplace=False)\n",
       "  )\n",
       "  (lin_o): Linear(in_features=9712, out_features=4, bias=True)\n",
       "  (cnn): Sequential(\n",
       "    (0): Conv2d(1, 2, kernel_size=(5, 5), stride=(1, 1), padding=(2, 2))\n",
       "    (1): ReLU(inplace=True)\n",
       "    (2): Conv2d(2, 4, kernel_size=(3, 3), stride=(1, 1), padding=(1, 1))\n",
       "    (3): ReLU(inplace=True)\n",
       "    (4): Conv2d(4, 8, kernel_size=(3, 3), stride=(2, 2), padding=(1, 1))\n",
       "    (5): ReLU(inplace=True)\n",
       "    (6): Conv2d(8, 16, kernel_size=(3, 3), stride=(2, 2), padding=(1, 1))\n",
       "    (7): ReLU(inplace=True)\n",
       "    (8): Conv2d(16, 32, kernel_size=(3, 3), stride=(2, 2), padding=(1, 1))\n",
       "    (9): ReLU(inplace=True)\n",
       "    (10): AdaptiveMaxPool2d(output_size=(4, 4))\n",
       "    (11): Flatten(start_dim=1, end_dim=-1)\n",
       "  )\n",
       ")"
      ]
     },
     "execution_count": null,
     "metadata": {},
     "output_type": "execute_result"
    }
   ],
   "source": [
    "model"
   ]
  },
  {
   "cell_type": "code",
   "execution_count": null,
   "metadata": {},
   "outputs": [],
   "source": [
    "# for name, param in model.named_parameters():\n",
    "#     print(f'{name}::\\n{param}')"
   ]
  },
  {
   "cell_type": "markdown",
   "metadata": {},
   "source": [
    "### Test `fit()`"
   ]
  },
  {
   "cell_type": "code",
   "execution_count": null,
   "metadata": {},
   "outputs": [],
   "source": [
    "train_loss_fn, valid_loss_fn = get_loss_fn(train_pos_wts), get_loss_fn(valid_pos_wts)"
   ]
  },
  {
   "cell_type": "code",
   "execution_count": null,
   "metadata": {},
   "outputs": [],
   "source": [
    "model = EHR_CNN(demograph_dims, rec_dims, demograph_dims_wd, rec_dims_wd).cuda() #.cuda() to be called before optim"
   ]
  },
  {
   "cell_type": "code",
   "execution_count": null,
   "metadata": {},
   "outputs": [],
   "source": [
    "optimizer = torch.optim.Adagrad(model.parameters())"
   ]
  },
  {
   "cell_type": "code",
   "execution_count": null,
   "metadata": {},
   "outputs": [],
   "source": [
    "h = RunHistory(LABELS)"
   ]
  },
  {
   "cell_type": "code",
   "execution_count": null,
   "metadata": {},
   "outputs": [
    {
     "name": "stdout",
     "output_type": "stream",
     "text": [
      "epoch |     train loss |     train aurocs                  valid loss |     valid aurocs    \n",
      "----------------------------------------------------------------------------------------------------\n",
      "    0 |        239.016 | [0.535 0.651 0.669 0.592]              1.407 | [0.708 0.827 0.982 0.759]\n",
      "    1 |          1.479 | [0.572 0.726 0.855 0.616]              1.059 | [0.679 0.837 0.994 0.792]\n",
      "    2 |          1.060 | [0.721 0.843 0.929 0.714]              1.121 | [0.665 0.832 0.989 0.798]\n",
      "Checkpointed to \"./models/checkpoint.tar\"\n",
      "CPU times: user 7.37 s, sys: 701 ms, total: 8.07 s\n",
      "Wall time: 8.25 s\n"
     ]
    }
   ],
   "source": [
    "%time h = fit(3, h, model, train_loss_fn, valid_loss_fn, optimizer, auroc_score, \\\n",
    "              train_dl, valid_dl, to_chkpt_path='./models', from_chkpt_path=None, verbosity=1)"
   ]
  },
  {
   "cell_type": "code",
   "execution_count": null,
   "metadata": {},
   "outputs": [
    {
     "name": "stdout",
     "output_type": "stream",
     "text": [
      "From \"./models/checkpoint.tar\", loading model ...\n",
      "loading optimizer and epoch_index ...\n",
      "epoch |     train loss |     train aurocs                  valid loss |     valid aurocs    \n",
      "----------------------------------------------------------------------------------------------------\n",
      "    3 |          1.018 | [0.695 0.801 0.948 0.766]              1.046 | [0.671 0.846 0.988 0.799]\n",
      "    4 |          1.013 | [0.729 0.850 0.955 0.732]              0.911 | [0.671 0.828 0.986 0.795]\n",
      "Checkpointed to \"./models/checkpoint.tar\"\n",
      "CPU times: user 5.22 s, sys: 935 ms, total: 6.15 s\n",
      "Wall time: 6.31 s\n"
     ]
    }
   ],
   "source": [
    "%time h = fit(2, h, model, train_loss_fn, valid_loss_fn, optimizer, auroc_score, \\\n",
    "              train_dl, valid_dl, to_chkpt_path='./models', from_chkpt_path='./models', verbosity=1)"
   ]
  },
  {
   "cell_type": "markdown",
   "metadata": {},
   "source": [
    "### Test `predict()`"
   ]
  },
  {
   "cell_type": "code",
   "execution_count": null,
   "metadata": {},
   "outputs": [],
   "source": [
    "test_dl, test_pos_wts = ehr_1K_data.get_test_data()"
   ]
  },
  {
   "cell_type": "code",
   "execution_count": null,
   "metadata": {},
   "outputs": [
    {
     "data": {
      "text/plain": [
       "(2, tensor([15., 15., 43., 24.]))"
      ]
     },
     "execution_count": null,
     "metadata": {},
     "output_type": "execute_result"
    }
   ],
   "source": [
    "len(test_dl), test_pos_wts"
   ]
  },
  {
   "cell_type": "code",
   "execution_count": null,
   "metadata": {},
   "outputs": [],
   "source": [
    "test_loss_fn = get_loss_fn(test_pos_wts)"
   ]
  },
  {
   "cell_type": "code",
   "execution_count": null,
   "metadata": {},
   "outputs": [
    {
     "name": "stdout",
     "output_type": "stream",
     "text": [
      "From \"./models/checkpoint.tar\", loading model ...\n",
      "test loss = 0.9240354597568512\n",
      "test aurocs = [0.70364  0.893887 0.935484 0.81951 ]\n"
     ]
    }
   ],
   "source": [
    "h = predict(h, model, test_loss_fn, auroc_score, test_dl, chkpt_path='./models')"
   ]
  },
  {
   "cell_type": "markdown",
   "metadata": {},
   "source": [
    "### Test plotting + results"
   ]
  },
  {
   "cell_type": "code",
   "execution_count": null,
   "metadata": {},
   "outputs": [
    {
     "data": {
      "image/png": "[encoded data removed]",
      "text/plain": [
       "<Figure size 1080x360 with 2 Axes>"
      ]
     },
     "metadata": {
      "needs_background": "light"
     },
     "output_type": "display_data"
    },
    {
     "data": {
      "image/png": "[encoded data removed]",
      "text/plain": [
       "<Figure size 1080x360 with 2 Axes>"
      ]
     },
     "metadata": {
      "needs_background": "light"
     },
     "output_type": "display_data"
    },
    {
     "data": {
      "image/png": "[encoded data removed]",
      "text/plain": [
       "<Figure size 1080x360 with 2 Axes>"
      ]
     },
     "metadata": {
      "needs_background": "light"
     },
     "output_type": "display_data"
    }
   ],
   "source": [
    "plot_fit_results(h, LABELS)"
   ]
  },
  {
   "cell_type": "code",
   "execution_count": null,
   "metadata": {},
   "outputs": [
    {
     "name": "stdout",
     "output_type": "stream",
     "text": [
      "\n",
      "Prediction Summary ...\n",
      "               auroc_score  optimal_threshold     auroc_95_ci\n",
      "diabetes          0.703640           0.610398   (0.583, 0.82)\n",
      "stroke            0.893887           0.578268  (0.815, 0.955)\n",
      "alzheimers        0.935484           0.549111  (0.893, 0.973)\n",
      "coronaryheart     0.819510           0.537623    (0.6, 0.961)\n"
     ]
    },
    {
     "data": {
      "image/png": "[encoded data removed]",
      "text/plain": [
       "<Figure size 576x360 with 1 Axes>"
      ]
     },
     "metadata": {
      "needs_background": "light"
     },
     "output_type": "display_data"
    }
   ],
   "source": [
    "h = summarize_prediction(h, LABELS)"
   ]
  },
  {
   "cell_type": "code",
   "execution_count": null,
   "metadata": {},
   "outputs": [
    {
     "data": {
      "text/html": [
       "<div>\n",
       "<style scoped>\n",
       "    .dataframe tbody tr th:only-of-type {\n",
       "        vertical-align: middle;\n",
       "    }\n",
       "\n",
       "    .dataframe tbody tr th {\n",
       "        vertical-align: top;\n",
       "    }\n",
       "\n",
       "    .dataframe thead th {\n",
       "        text-align: right;\n",
       "    }\n",
       "</style>\n",
       "<table border=\"1\" class=\"dataframe\">\n",
       "  <thead>\n",
       "    <tr style=\"text-align: right;\">\n",
       "      <th></th>\n",
       "      <th>auroc_score</th>\n",
       "      <th>optimal_threshold</th>\n",
       "      <th>auroc_95_ci</th>\n",
       "    </tr>\n",
       "  </thead>\n",
       "  <tbody>\n",
       "    <tr>\n",
       "      <th>diabetes</th>\n",
       "      <td>0.703640</td>\n",
       "      <td>0.610398</td>\n",
       "      <td>(0.583, 0.82)</td>\n",
       "    </tr>\n",
       "    <tr>\n",
       "      <th>stroke</th>\n",
       "      <td>0.893887</td>\n",
       "      <td>0.578268</td>\n",
       "      <td>(0.815, 0.955)</td>\n",
       "    </tr>\n",
       "    <tr>\n",
       "      <th>alzheimers</th>\n",
       "      <td>0.935484</td>\n",
       "      <td>0.549111</td>\n",
       "      <td>(0.893, 0.973)</td>\n",
       "    </tr>\n",
       "    <tr>\n",
       "      <th>coronaryheart</th>\n",
       "      <td>0.819510</td>\n",
       "      <td>0.537623</td>\n",
       "      <td>(0.6, 0.961)</td>\n",
       "    </tr>\n",
       "  </tbody>\n",
       "</table>\n",
       "</div>"
      ],
      "text/plain": [
       "               auroc_score  optimal_threshold     auroc_95_ci\n",
       "diabetes          0.703640           0.610398   (0.583, 0.82)\n",
       "stroke            0.893887           0.578268  (0.815, 0.955)\n",
       "alzheimers        0.935484           0.549111  (0.893, 0.973)\n",
       "coronaryheart     0.819510           0.537623    (0.6, 0.961)"
      ]
     },
     "execution_count": null,
     "metadata": {},
     "output_type": "execute_result"
    }
   ],
   "source": [
    "h.prediction_summary"
   ]
  },
  {
   "cell_type": "markdown",
   "metadata": {},
   "source": [
    "## Export -"
   ]
  },
  {
   "cell_type": "code",
   "execution_count": null,
   "metadata": {},
   "outputs": [
    {
     "name": "stdout",
     "output_type": "stream",
     "text": [
      "Converted 01_preprocessing_clean.ipynb.\n",
      "Converted 02_preprocessing_vocab.ipynb.\n",
      "Converted 03_preprocessing_transform.ipynb.\n",
      "Converted 04_data.ipynb.\n",
      "Converted 05_metrics.ipynb.\n",
      "Converted 06_learn.ipynb.\n",
      "Converted 07_models.ipynb.\n",
      "Converted 08_experiment.ipynb.\n",
      "Converted index.ipynb.\n"
     ]
    }
   ],
   "source": [
    "#hide\n",
    "from nbdev.export import *\n",
    "notebook2script()"
   ]
  },
  {
   "cell_type": "code",
   "execution_count": null,
   "metadata": {},
   "outputs": [],
   "source": []
  }
 ],
 "metadata": {
  "kernelspec": {
   "display_name": "Python 3",
   "language": "python",
   "name": "python3"
  }
 },
 "nbformat": 4,
 "nbformat_minor": 4
}
